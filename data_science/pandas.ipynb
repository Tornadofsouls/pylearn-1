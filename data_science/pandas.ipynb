{
 "cells": [
  {
   "cell_type": "code",
   "execution_count": 1,
   "id": "553461bc-0f12-4e13-b438-a6f0b223db18",
   "metadata": {
    "ExecuteTime": {
     "end_time": "2022-05-06T14:03:33.208194Z",
     "start_time": "2022-05-06T14:03:32.598773Z"
    },
    "scrolled": true
   },
   "outputs": [],
   "source": [
    "import pandas as pd\n",
    "import numpy as np\n",
    "import yaml\n",
    "pd.__version__\n",
    "\n",
    "data = pd.read_csv('uk-500.csv')"
   ]
  },
  {
   "cell_type": "code",
   "execution_count": 2,
   "id": "8d03429d-8145-4ae3-81cd-36377c2b50fe",
   "metadata": {},
   "outputs": [
    {
     "name": "stdout",
     "output_type": "stream",
     "text": [
      "tensor([1., 2., 3., 4.]) torch.Size([4])\n",
      "tensor(1.) torch.Size([])\n",
      "tensor(1.) torch.Size([1])\n"
     ]
    }
   ],
   "source": [
    "import torch\n",
    "a = torch.Tensor([1, 2, 3, 4])\n",
    "print(a.squeeze(), a.squeeze().size())\n",
    "\n",
    "a = torch.Tensor([1])\n",
    "print(a.squeeze(), a.squeeze().size())\n",
    "torch.squeeze\n",
    "\n",
    "a = torch.Tensor([[1]])\n",
    "print(a.squeeze(), a.squeeze(dim=-1).size())"
   ]
  },
  {
   "cell_type": "code",
   "execution_count": 3,
   "id": "45862853-79b3-4453-8d59-b91c92ba9721",
   "metadata": {},
   "outputs": [
    {
     "name": "stdout",
     "output_type": "stream",
     "text": [
      "[LabPathApp] WARNING | Config option `kernel_spec_manager_class` not recognized by `LabPathApp`.\n",
      "Application directory:   /home/jeffye/anaconda3/envs/py38/share/jupyter/lab\n",
      "User Settings directory: /home/jeffye/.jupyter/lab/user-settings\n",
      "Workspaces directory: /home/jeffye/.jupyter/lab/workspaces\n"
     ]
    }
   ],
   "source": [
    "!jupyter lab paths"
   ]
  },
  {
   "attachments": {},
   "cell_type": "markdown",
   "id": "ca89e78d-9c5a-4089-b144-cab79904d42b",
   "metadata": {
    "tags": []
   },
   "source": [
    "# create dataframe\n"
   ]
  },
  {
   "attachments": {},
   "cell_type": "markdown",
   "id": "b88f8107-b147-49a0-b22f-2c01e8ccf81f",
   "metadata": {},
   "source": [
    "## create dataframe with different ways\n"
   ]
  },
  {
   "cell_type": "code",
   "execution_count": 4,
   "id": "e15251ae-698e-40fb-96aa-4c78b2b87fb6",
   "metadata": {
    "ExecuteTime": {
     "end_time": "2022-05-06T14:03:36.805113Z",
     "start_time": "2022-05-06T14:03:36.790619Z"
    }
   },
   "outputs": [
    {
     "data": {
      "text/html": [
       "<div>\n",
       "<style scoped>\n",
       "    .dataframe tbody tr th:only-of-type {\n",
       "        vertical-align: middle;\n",
       "    }\n",
       "\n",
       "    .dataframe tbody tr th {\n",
       "        vertical-align: top;\n",
       "    }\n",
       "\n",
       "    .dataframe thead th {\n",
       "        text-align: right;\n",
       "    }\n",
       "</style>\n",
       "<table border=\"1\" class=\"dataframe\">\n",
       "  <thead>\n",
       "    <tr style=\"text-align: right;\">\n",
       "      <th></th>\n",
       "      <th>Name</th>\n",
       "      <th>Age</th>\n",
       "    </tr>\n",
       "  </thead>\n",
       "  <tbody>\n",
       "    <tr>\n",
       "      <th>0</th>\n",
       "      <td>tom</td>\n",
       "      <td>10</td>\n",
       "    </tr>\n",
       "    <tr>\n",
       "      <th>1</th>\n",
       "      <td>nick</td>\n",
       "      <td>15</td>\n",
       "    </tr>\n",
       "    <tr>\n",
       "      <th>2</th>\n",
       "      <td>juli</td>\n",
       "      <td>14</td>\n",
       "    </tr>\n",
       "  </tbody>\n",
       "</table>\n",
       "</div>"
      ],
      "text/plain": [
       "   Name  Age\n",
       "0   tom   10\n",
       "1  nick   15\n",
       "2  juli   14"
      ]
     },
     "execution_count": 4,
     "metadata": {},
     "output_type": "execute_result"
    }
   ],
   "source": [
    "# initialize list of lists\n",
    "data = [['tom', 10], ['nick', 15], ['juli', 14]]\n",
    "# Create the pandas DataFrame\n",
    "df = pd.DataFrame(data, columns=['Name', 'Age'])\n",
    "\n",
    "# print dataframe.\n",
    "df.loc"
   ]
  },
  {
   "attachments": {},
   "cell_type": "markdown",
   "id": "ce06e05a-ab18-42c3-a1ad-ab5c577ea6a0",
   "metadata": {
    "jp-MarkdownHeadingCollapsed": true
   },
   "source": [
    "## Creating DataFrame from dict of narray/lists\n"
   ]
  },
  {
   "cell_type": "code",
   "execution_count": 7,
   "id": "e0e627ff-78b3-4fa2-b9c3-38d044299169",
   "metadata": {},
   "outputs": [
    {
     "data": {
      "text/html": [
       "<div>\n",
       "<style scoped>\n",
       "    .dataframe tbody tr th:only-of-type {\n",
       "        vertical-align: middle;\n",
       "    }\n",
       "\n",
       "    .dataframe tbody tr th {\n",
       "        vertical-align: top;\n",
       "    }\n",
       "\n",
       "    .dataframe thead th {\n",
       "        text-align: right;\n",
       "    }\n",
       "</style>\n",
       "<table border=\"1\" class=\"dataframe\">\n",
       "  <thead>\n",
       "    <tr style=\"text-align: right;\">\n",
       "      <th></th>\n",
       "      <th>Name</th>\n",
       "      <th>Age</th>\n",
       "    </tr>\n",
       "  </thead>\n",
       "  <tbody>\n",
       "    <tr>\n",
       "      <th>0</th>\n",
       "      <td>Tom</td>\n",
       "      <td>20</td>\n",
       "    </tr>\n",
       "    <tr>\n",
       "      <th>1</th>\n",
       "      <td>nick</td>\n",
       "      <td>21</td>\n",
       "    </tr>\n",
       "    <tr>\n",
       "      <th>2</th>\n",
       "      <td>krish</td>\n",
       "      <td>19</td>\n",
       "    </tr>\n",
       "    <tr>\n",
       "      <th>3</th>\n",
       "      <td>jack</td>\n",
       "      <td>18</td>\n",
       "    </tr>\n",
       "  </tbody>\n",
       "</table>\n",
       "</div>"
      ],
      "text/plain": [
       "    Name  Age\n",
       "0    Tom   20\n",
       "1   nick   21\n",
       "2  krish   19\n",
       "3   jack   18"
      ]
     },
     "execution_count": 7,
     "metadata": {},
     "output_type": "execute_result"
    }
   ],
   "source": [
    "# initialize data of lists. dict key is column\n",
    "data = {'Name': ['Tom', 'nick', 'krish', 'jack'],\n",
    "        'Age': [20, 21, 19, 18]}\n",
    "\n",
    "# Create DataFrame\n",
    "df = pd.DataFrame(data)\n",
    "# Print the output.\n",
    "df.head()"
   ]
  },
  {
   "attachments": {},
   "cell_type": "markdown",
   "id": "c0ddc22b-f32b-42f5-bc9f-0ccf27edb33d",
   "metadata": {},
   "source": [
    "## Creates a indexes DataFrame using arrays.\n"
   ]
  },
  {
   "cell_type": "code",
   "execution_count": 8,
   "id": "c01e9c93-a778-4fac-8766-6629b471cb22",
   "metadata": {},
   "outputs": [
    {
     "data": {
      "text/html": [
       "<div>\n",
       "<style scoped>\n",
       "    .dataframe tbody tr th:only-of-type {\n",
       "        vertical-align: middle;\n",
       "    }\n",
       "\n",
       "    .dataframe tbody tr th {\n",
       "        vertical-align: top;\n",
       "    }\n",
       "\n",
       "    .dataframe thead th {\n",
       "        text-align: right;\n",
       "    }\n",
       "</style>\n",
       "<table border=\"1\" class=\"dataframe\">\n",
       "  <thead>\n",
       "    <tr style=\"text-align: right;\">\n",
       "      <th></th>\n",
       "      <th>Name</th>\n",
       "      <th>marks</th>\n",
       "    </tr>\n",
       "  </thead>\n",
       "  <tbody>\n",
       "    <tr>\n",
       "      <th>rank1</th>\n",
       "      <td>Tom</td>\n",
       "      <td>99</td>\n",
       "    </tr>\n",
       "    <tr>\n",
       "      <th>rank2</th>\n",
       "      <td>Jack</td>\n",
       "      <td>98</td>\n",
       "    </tr>\n",
       "    <tr>\n",
       "      <th>rank3</th>\n",
       "      <td>nick</td>\n",
       "      <td>95</td>\n",
       "    </tr>\n",
       "    <tr>\n",
       "      <th>rank4</th>\n",
       "      <td>juli</td>\n",
       "      <td>90</td>\n",
       "    </tr>\n",
       "  </tbody>\n",
       "</table>\n",
       "</div>"
      ],
      "text/plain": [
       "       Name  marks\n",
       "rank1   Tom     99\n",
       "rank2  Jack     98\n",
       "rank3  nick     95\n",
       "rank4  juli     90"
      ]
     },
     "execution_count": 8,
     "metadata": {},
     "output_type": "execute_result"
    }
   ],
   "source": [
    "# initialize data of lists.\n",
    "data = {'Name':['Tom', 'Jack', 'nick', 'juli'],\n",
    "        'marks':[99, 98, 95, 90]}\n",
    " \n",
    "# Creates pandas DataFrame.\n",
    "df = pd.DataFrame(data, index =['rank1',\n",
    "                                'rank2',\n",
    "                                'rank3',\n",
    "                                'rank4'])\n",
    " \n",
    "# print the data\n",
    "df.tail(4)"
   ]
  },
  {
   "attachments": {},
   "cell_type": "markdown",
   "id": "56b52a53-c0ce-4c29-95ff-b6dad8b9813f",
   "metadata": {},
   "source": [
    "## Creating Dataframe from list of dicts\n"
   ]
  },
  {
   "cell_type": "code",
   "execution_count": 3,
   "id": "4be075a3-3f66-4a1a-aa0e-74f6eb4fdae2",
   "metadata": {},
   "outputs": [
    {
     "data": {
      "text/html": [
       "<div>\n",
       "<style scoped>\n",
       "    .dataframe tbody tr th:only-of-type {\n",
       "        vertical-align: middle;\n",
       "    }\n",
       "\n",
       "    .dataframe tbody tr th {\n",
       "        vertical-align: top;\n",
       "    }\n",
       "\n",
       "    .dataframe thead th {\n",
       "        text-align: right;\n",
       "    }\n",
       "</style>\n",
       "<table border=\"1\" class=\"dataframe\">\n",
       "  <thead>\n",
       "    <tr style=\"text-align: right;\">\n",
       "      <th></th>\n",
       "      <th>a</th>\n",
       "      <th>b</th>\n",
       "      <th>c</th>\n",
       "      <th>d</th>\n",
       "    </tr>\n",
       "  </thead>\n",
       "  <tbody>\n",
       "    <tr>\n",
       "      <th>0</th>\n",
       "      <td>1</td>\n",
       "      <td>2</td>\n",
       "      <td>3</td>\n",
       "      <td>8.0</td>\n",
       "    </tr>\n",
       "    <tr>\n",
       "      <th>1</th>\n",
       "      <td>10</td>\n",
       "      <td>20</td>\n",
       "      <td>30</td>\n",
       "      <td>NaN</td>\n",
       "    </tr>\n",
       "  </tbody>\n",
       "</table>\n",
       "</div>"
      ],
      "text/plain": [
       "    a   b   c    d\n",
       "0   1   2   3  8.0\n",
       "1  10  20  30  NaN"
      ]
     },
     "execution_count": 3,
     "metadata": {},
     "output_type": "execute_result"
    }
   ],
   "source": [
    "# Initialize data to lists. \"NaN\" will be added automatically if having missing values\n",
    "data = [{'a': 1, 'b': 2, 'c':3, 'd': 8},\n",
    "        {'a':10, 'b': 20, 'c': 30}]\n",
    " \n",
    "# Creates DataFrame.\n",
    "df = pd.DataFrame(data)\n",
    " \n",
    "# Print the data\n",
    "df"
   ]
  },
  {
   "attachments": {},
   "cell_type": "markdown",
   "id": "2443f0a6-363b-47fa-a544-861dde8228b1",
   "metadata": {},
   "source": [
    "## Creating DataFrame using zip() function.\n"
   ]
  },
  {
   "cell_type": "code",
   "execution_count": 14,
   "id": "7b794aea-e4a9-45f6-a918-ce8ee3f6662b",
   "metadata": {},
   "outputs": [
    {
     "data": {
      "text/html": [
       "<div>\n",
       "<style scoped>\n",
       "    .dataframe tbody tr th:only-of-type {\n",
       "        vertical-align: middle;\n",
       "    }\n",
       "\n",
       "    .dataframe tbody tr th {\n",
       "        vertical-align: top;\n",
       "    }\n",
       "\n",
       "    .dataframe thead th {\n",
       "        text-align: right;\n",
       "    }\n",
       "</style>\n",
       "<table border=\"1\" class=\"dataframe\">\n",
       "  <thead>\n",
       "    <tr style=\"text-align: right;\">\n",
       "      <th></th>\n",
       "      <th>Name</th>\n",
       "      <th>Age</th>\n",
       "    </tr>\n",
       "  </thead>\n",
       "  <tbody>\n",
       "    <tr>\n",
       "      <th>0</th>\n",
       "      <td>tom</td>\n",
       "      <td>25</td>\n",
       "    </tr>\n",
       "    <tr>\n",
       "      <th>1</th>\n",
       "      <td>krish</td>\n",
       "      <td>30</td>\n",
       "    </tr>\n",
       "    <tr>\n",
       "      <th>2</th>\n",
       "      <td>nick</td>\n",
       "      <td>26</td>\n",
       "    </tr>\n",
       "    <tr>\n",
       "      <th>3</th>\n",
       "      <td>juli</td>\n",
       "      <td>22</td>\n",
       "    </tr>\n",
       "  </tbody>\n",
       "</table>\n",
       "</div>"
      ],
      "text/plain": [
       "    Name  Age\n",
       "0    tom   25\n",
       "1  krish   30\n",
       "2   nick   26\n",
       "3   juli   22"
      ]
     },
     "execution_count": 14,
     "metadata": {},
     "output_type": "execute_result"
    }
   ],
   "source": [
    "# List1\n",
    "Name = ['tom', 'krish', 'nick', 'juli']\n",
    "   \n",
    "# List2\n",
    "Age = [25, 30, 26, 22]\n",
    "   \n",
    "# get the list of tuples from two lists.\n",
    "# and merge them by using zip().\n",
    "list_of_tuples = list(zip(Name, Age))\n",
    "   \n",
    "# Assign data to tuples.\n",
    "list_of_tuples \n",
    " \n",
    "# Converting lists of tuples into\n",
    "# pandas Dataframe.\n",
    "df = pd.DataFrame(list_of_tuples,\n",
    "                  columns = ['Name', 'Age'])\n",
    "    \n",
    "# Print data.\n",
    "df"
   ]
  },
  {
   "attachments": {},
   "cell_type": "markdown",
   "id": "be355b68-5a9e-4d5f-b7cd-d3da676b9d26",
   "metadata": {},
   "source": [
    "## Creating DataFrame from Dicts of series.\n"
   ]
  },
  {
   "cell_type": "code",
   "execution_count": 16,
   "id": "677b9be2-6811-4d37-87f7-d148f69104a0",
   "metadata": {},
   "outputs": [
    {
     "data": {
      "text/html": [
       "<div>\n",
       "<style scoped>\n",
       "    .dataframe tbody tr th:only-of-type {\n",
       "        vertical-align: middle;\n",
       "    }\n",
       "\n",
       "    .dataframe tbody tr th {\n",
       "        vertical-align: top;\n",
       "    }\n",
       "\n",
       "    .dataframe thead th {\n",
       "        text-align: right;\n",
       "    }\n",
       "</style>\n",
       "<table border=\"1\" class=\"dataframe\">\n",
       "  <thead>\n",
       "    <tr style=\"text-align: right;\">\n",
       "      <th></th>\n",
       "      <th>one</th>\n",
       "      <th>two</th>\n",
       "    </tr>\n",
       "  </thead>\n",
       "  <tbody>\n",
       "    <tr>\n",
       "      <th>a</th>\n",
       "      <td>10</td>\n",
       "      <td>10</td>\n",
       "    </tr>\n",
       "    <tr>\n",
       "      <th>b</th>\n",
       "      <td>20</td>\n",
       "      <td>20</td>\n",
       "    </tr>\n",
       "    <tr>\n",
       "      <th>c</th>\n",
       "      <td>30</td>\n",
       "      <td>30</td>\n",
       "    </tr>\n",
       "    <tr>\n",
       "      <th>d</th>\n",
       "      <td>40</td>\n",
       "      <td>40</td>\n",
       "    </tr>\n",
       "  </tbody>\n",
       "</table>\n",
       "</div>"
      ],
      "text/plain": [
       "   one  two\n",
       "a   10   10\n",
       "b   20   20\n",
       "c   30   30\n",
       "d   40   40"
      ]
     },
     "execution_count": 16,
     "metadata": {},
     "output_type": "execute_result"
    }
   ],
   "source": [
    "# Initialize data to Dicts of series.\n",
    "d = {'one' : pd.Series([10, 20, 30, 40],\n",
    "                       index =['a', 'b', 'c', 'd']),\n",
    "      'two' : pd.Series([10, 20, 30, 40],\n",
    "                        index =['a', 'b', 'c', 'd'])}\n",
    " \n",
    "# creates Dataframe.\n",
    "df = pd.DataFrame(d)\n",
    " \n",
    "# print the data.\n",
    "df"
   ]
  },
  {
   "attachments": {},
   "cell_type": "markdown",
   "id": "b40ef28f-a0b9-4fd4-9f27-c59d0bebbde6",
   "metadata": {},
   "source": [
    "## create Series\n"
   ]
  },
  {
   "cell_type": "code",
   "execution_count": 5,
   "id": "e6c5a23c-33b2-42a4-8de6-71422992d3e1",
   "metadata": {},
   "outputs": [
    {
     "data": {
      "text/plain": [
       "0    1.0\n",
       "1    3.0\n",
       "2    5.0\n",
       "3    NaN\n",
       "4    6.0\n",
       "5    8.0\n",
       "dtype: float64"
      ]
     },
     "execution_count": 5,
     "metadata": {},
     "output_type": "execute_result"
    }
   ],
   "source": [
    "s = pd.Series([1, 3, 5, np.nan, 6, 8])\n",
    "s"
   ]
  },
  {
   "attachments": {},
   "cell_type": "markdown",
   "id": "852a41af-d25c-40ea-89ea-a05900fb3123",
   "metadata": {},
   "source": [
    "# check nan of row and columns\n"
   ]
  },
  {
   "cell_type": "code",
   "execution_count": 31,
   "id": "c12cf5f1-4a8d-4b42-aa62-7b9c3a9834cb",
   "metadata": {},
   "outputs": [
    {
     "name": "stdout",
     "output_type": "stream",
     "text": [
      "    set_of_numbers  column2\n",
      "0              1.0      1.0\n",
      "1              2.0      2.0\n",
      "2              3.0      3.0\n",
      "3              4.0      4.0\n",
      "4              5.0      5.0\n",
      "5              NaN      NaN\n",
      "6              6.0      6.0\n",
      "7              7.0      7.0\n",
      "8              NaN      NaN\n",
      "9              8.0      8.0\n",
      "10             9.0      9.0\n",
      "11            10.0     10.0\n",
      "12             NaN      NaN\n"
     ]
    }
   ],
   "source": [
    "data = {'set_of_numbers': [1,2,3,4,5,np.nan,6,7,np.nan,8,9,10,np.nan], \n",
    "       'column2': [1,2,3,4,5,np.nan,6,7,np.nan,8,9,10,np.nan]}\n",
    "df = pd.DataFrame(data)\n",
    "print (df)"
   ]
  },
  {
   "attachments": {},
   "cell_type": "markdown",
   "id": "0e90b4f0-7e83-4f50-9cfb-2cc7d644fcac",
   "metadata": {},
   "source": [
    "## Check for NaN under a single DataFrame column:\n"
   ]
  },
  {
   "cell_type": "code",
   "execution_count": 24,
   "id": "8bf39768-61dd-4582-8fc8-3bc0294cabea",
   "metadata": {},
   "outputs": [
    {
     "data": {
      "text/plain": [
       "True"
      ]
     },
     "execution_count": 24,
     "metadata": {},
     "output_type": "execute_result"
    }
   ],
   "source": [
    "df['set_of_numbers'].isnull().values.any()"
   ]
  },
  {
   "cell_type": "code",
   "execution_count": 28,
   "id": "7f4fb74e-d1fb-4a00-9ea3-e3dd3665841e",
   "metadata": {},
   "outputs": [
    {
     "data": {
      "text/plain": [
       "3"
      ]
     },
     "execution_count": 28,
     "metadata": {},
     "output_type": "execute_result"
    }
   ],
   "source": [
    "df['set_of_numbers'].isnull().sum()"
   ]
  },
  {
   "cell_type": "code",
   "execution_count": 35,
   "id": "9f5c0335-ce3d-469a-a84f-16dc3775a6eb",
   "metadata": {},
   "outputs": [
    {
     "data": {
      "text/html": [
       "<div>\n",
       "<style scoped>\n",
       "    .dataframe tbody tr th:only-of-type {\n",
       "        vertical-align: middle;\n",
       "    }\n",
       "\n",
       "    .dataframe tbody tr th {\n",
       "        vertical-align: top;\n",
       "    }\n",
       "\n",
       "    .dataframe thead th {\n",
       "        text-align: right;\n",
       "    }\n",
       "</style>\n",
       "<table border=\"1\" class=\"dataframe\">\n",
       "  <thead>\n",
       "    <tr style=\"text-align: right;\">\n",
       "      <th></th>\n",
       "      <th>set_of_numbers</th>\n",
       "      <th>column2</th>\n",
       "    </tr>\n",
       "  </thead>\n",
       "  <tbody>\n",
       "    <tr>\n",
       "      <th>0</th>\n",
       "      <td>False</td>\n",
       "      <td>False</td>\n",
       "    </tr>\n",
       "    <tr>\n",
       "      <th>1</th>\n",
       "      <td>False</td>\n",
       "      <td>False</td>\n",
       "    </tr>\n",
       "    <tr>\n",
       "      <th>2</th>\n",
       "      <td>False</td>\n",
       "      <td>False</td>\n",
       "    </tr>\n",
       "    <tr>\n",
       "      <th>3</th>\n",
       "      <td>False</td>\n",
       "      <td>False</td>\n",
       "    </tr>\n",
       "    <tr>\n",
       "      <th>4</th>\n",
       "      <td>False</td>\n",
       "      <td>False</td>\n",
       "    </tr>\n",
       "  </tbody>\n",
       "</table>\n",
       "</div>"
      ],
      "text/plain": [
       "   set_of_numbers  column2\n",
       "0           False    False\n",
       "1           False    False\n",
       "2           False    False\n",
       "3           False    False\n",
       "4           False    False"
      ]
     },
     "execution_count": 35,
     "metadata": {},
     "output_type": "execute_result"
    }
   ],
   "source": [
    "df.isnull().head()"
   ]
  },
  {
   "attachments": {},
   "cell_type": "markdown",
   "id": "806b9262-c293-452e-8493-872adb352e26",
   "metadata": {},
   "source": [
    "## ways of fill nan\n",
    "\n",
    "- https://vimsky.com/zh-tw/examples/usage/python-pandas.DataFrame.fillna.html\n"
   ]
  },
  {
   "attachments": {},
   "cell_type": "markdown",
   "id": "635e301a",
   "metadata": {},
   "source": [
    "## dropna\n"
   ]
  },
  {
   "cell_type": "code",
   "execution_count": 13,
   "id": "4965cdf7",
   "metadata": {},
   "outputs": [
    {
     "name": "stdout",
     "output_type": "stream",
     "text": [
      "   Courses      Fee Duration\n",
      "0    Spark  22000.0   30days\n",
      "1  PySpark  25000.0      NaN\n",
      "2    Spark      NaN   30days\n",
      "3   Python      NaN      N/A\n",
      "4  PySpark      NaN      NaN\n",
      "5     Java      NaN      NaN\n"
     ]
    }
   ],
   "source": [
    "# Create a pandas DataFrame.\n",
    "import pandas as pd\n",
    "import numpy as np\n",
    "technologies= {\n",
    "    'Courses':[\"Spark\",\"PySpark\",\"Spark\",\"Python\",\"PySpark\",\"Java\"],\n",
    "    'Fee' :[22000,25000,np.nan,np.nan,np.nan,np.nan],\n",
    "    'Duration':['30days',np.nan,'30days','N/A', np.nan,np.nan]\n",
    "          }\n",
    "df = pd.DataFrame(technologies)\n",
    "print(df)"
   ]
  },
  {
   "cell_type": "code",
   "execution_count": 14,
   "id": "2748296b",
   "metadata": {},
   "outputs": [
    {
     "name": "stdout",
     "output_type": "stream",
     "text": [
      "  Courses      Fee Duration\n",
      "0   Spark  22000.0   30days\n"
     ]
    }
   ],
   "source": [
    "# Using DataFrame.dropna() method drop all rows that have NAN/none.\n",
    "df2=df.dropna()\n",
    "print(df2)"
   ]
  },
  {
   "cell_type": "code",
   "execution_count": null,
   "id": "656f2cfd",
   "metadata": {},
   "outputs": [],
   "source": []
  },
  {
   "attachments": {},
   "cell_type": "markdown",
   "id": "e9d5fada-9568-4c2e-8523-9591fde565fa",
   "metadata": {},
   "source": [
    "# add a column\n"
   ]
  },
  {
   "attachments": {},
   "cell_type": "markdown",
   "id": "e07729bb-6fad-46d0-a9fc-57458838e427",
   "metadata": {},
   "source": [
    "## change value of particular row and column\n"
   ]
  },
  {
   "cell_type": "code",
   "execution_count": 20,
   "id": "96dbc8ae-f4f0-49e2-a706-0075e68e0542",
   "metadata": {},
   "outputs": [
    {
     "data": {
      "text/html": [
       "<div>\n",
       "<style scoped>\n",
       "    .dataframe tbody tr th:only-of-type {\n",
       "        vertical-align: middle;\n",
       "    }\n",
       "\n",
       "    .dataframe tbody tr th {\n",
       "        vertical-align: top;\n",
       "    }\n",
       "\n",
       "    .dataframe thead th {\n",
       "        text-align: right;\n",
       "    }\n",
       "</style>\n",
       "<table border=\"1\" class=\"dataframe\">\n",
       "  <thead>\n",
       "    <tr style=\"text-align: right;\">\n",
       "      <th></th>\n",
       "      <th>column1</th>\n",
       "      <th>column2</th>\n",
       "    </tr>\n",
       "  </thead>\n",
       "  <tbody>\n",
       "    <tr>\n",
       "      <th>0</th>\n",
       "      <td>1.0</td>\n",
       "      <td>1.0</td>\n",
       "    </tr>\n",
       "    <tr>\n",
       "      <th>1</th>\n",
       "      <td>2.0</td>\n",
       "      <td>2.0</td>\n",
       "    </tr>\n",
       "    <tr>\n",
       "      <th>2</th>\n",
       "      <td>3.0</td>\n",
       "      <td>3.0</td>\n",
       "    </tr>\n",
       "    <tr>\n",
       "      <th>3</th>\n",
       "      <td>4.0</td>\n",
       "      <td>4.0</td>\n",
       "    </tr>\n",
       "    <tr>\n",
       "      <th>4</th>\n",
       "      <td>5.0</td>\n",
       "      <td>5.0</td>\n",
       "    </tr>\n",
       "    <tr>\n",
       "      <th>5</th>\n",
       "      <td>NaN</td>\n",
       "      <td>NaN</td>\n",
       "    </tr>\n",
       "    <tr>\n",
       "      <th>6</th>\n",
       "      <td>6.0</td>\n",
       "      <td>6.0</td>\n",
       "    </tr>\n",
       "    <tr>\n",
       "      <th>7</th>\n",
       "      <td>7.0</td>\n",
       "      <td>7.0</td>\n",
       "    </tr>\n",
       "    <tr>\n",
       "      <th>8</th>\n",
       "      <td>NaN</td>\n",
       "      <td>NaN</td>\n",
       "    </tr>\n",
       "    <tr>\n",
       "      <th>9</th>\n",
       "      <td>8.0</td>\n",
       "      <td>8.0</td>\n",
       "    </tr>\n",
       "    <tr>\n",
       "      <th>10</th>\n",
       "      <td>9.0</td>\n",
       "      <td>9.0</td>\n",
       "    </tr>\n",
       "    <tr>\n",
       "      <th>11</th>\n",
       "      <td>10.0</td>\n",
       "      <td>10.0</td>\n",
       "    </tr>\n",
       "    <tr>\n",
       "      <th>12</th>\n",
       "      <td>NaN</td>\n",
       "      <td>NaN</td>\n",
       "    </tr>\n",
       "  </tbody>\n",
       "</table>\n",
       "</div>"
      ],
      "text/plain": [
       "    column1  column2\n",
       "0       1.0      1.0\n",
       "1       2.0      2.0\n",
       "2       3.0      3.0\n",
       "3       4.0      4.0\n",
       "4       5.0      5.0\n",
       "5       NaN      NaN\n",
       "6       6.0      6.0\n",
       "7       7.0      7.0\n",
       "8       NaN      NaN\n",
       "9       8.0      8.0\n",
       "10      9.0      9.0\n",
       "11     10.0     10.0\n",
       "12      NaN      NaN"
      ]
     },
     "execution_count": 20,
     "metadata": {},
     "output_type": "execute_result"
    }
   ],
   "source": [
    "data = {'column1': [1,2,3,4,5,np.nan,6,7,np.nan,8,9,10,np.nan], \n",
    "       'column2': [1,2,3,4,5,np.nan,6,7,np.nan,8,9,10,np.nan]}\n",
    "df = pd.DataFrame(data)\n",
    "# df['column3'] = list(range(len(data['column1'])))\n",
    "df['column3'] = 0\n",
    "\n",
    "\n",
    "df.loc[[11, 12], 'column3'] = [1, 3]\n",
    "df.drop(['column3'], axis=1, inplace=True)\n",
    "df"
   ]
  },
  {
   "cell_type": "code",
   "execution_count": 18,
   "id": "98d17415-fe85-49f9-894e-aed95f9bed8e",
   "metadata": {},
   "outputs": [
    {
     "data": {
      "text/plain": [
       "2"
      ]
     },
     "execution_count": 18,
     "metadata": {},
     "output_type": "execute_result"
    }
   ],
   "source": [
    "df.index[2]"
   ]
  },
  {
   "attachments": {},
   "cell_type": "markdown",
   "id": "6b641b80-a55d-445a-ae78-e4df36ab56d3",
   "metadata": {},
   "source": [
    "# copy\n",
    "\n",
    "## copy columns and also keep index\n"
   ]
  },
  {
   "cell_type": "code",
   "execution_count": 8,
   "id": "acfef98f-bea1-4982-bd46-83d94b626603",
   "metadata": {},
   "outputs": [
    {
     "name": "stdout",
     "output_type": "stream",
     "text": [
      "       col1  col2  col3\n",
      "rank1     1     4     7\n",
      "rank2     2     5     8\n",
      "rank3     3     6     9\n"
     ]
    }
   ],
   "source": [
    "data = {\"col1\": [1, 2, 3], \"col2\": [4, 5, 6], \"col3\": [7, 8, 9]}\n",
    "df = pd.DataFrame(data, index=['rank1', 'rank2', 'rank3'])\n",
    "print(df.head())\n",
    "selected_columns = df[[\"col1\", \"col2\"]]"
   ]
  },
  {
   "cell_type": "code",
   "execution_count": 9,
   "id": "5d9a594d-69ef-4187-a5dc-63f47948c142",
   "metadata": {},
   "outputs": [
    {
     "data": {
      "text/html": [
       "<div>\n",
       "<style scoped>\n",
       "    .dataframe tbody tr th:only-of-type {\n",
       "        vertical-align: middle;\n",
       "    }\n",
       "\n",
       "    .dataframe tbody tr th {\n",
       "        vertical-align: top;\n",
       "    }\n",
       "\n",
       "    .dataframe thead th {\n",
       "        text-align: right;\n",
       "    }\n",
       "</style>\n",
       "<table border=\"1\" class=\"dataframe\">\n",
       "  <thead>\n",
       "    <tr style=\"text-align: right;\">\n",
       "      <th></th>\n",
       "      <th>col1</th>\n",
       "      <th>col2</th>\n",
       "    </tr>\n",
       "  </thead>\n",
       "  <tbody>\n",
       "    <tr>\n",
       "      <th>rank1</th>\n",
       "      <td>1</td>\n",
       "      <td>4</td>\n",
       "    </tr>\n",
       "    <tr>\n",
       "      <th>rank2</th>\n",
       "      <td>2</td>\n",
       "      <td>5</td>\n",
       "    </tr>\n",
       "    <tr>\n",
       "      <th>rank3</th>\n",
       "      <td>3</td>\n",
       "      <td>6</td>\n",
       "    </tr>\n",
       "  </tbody>\n",
       "</table>\n",
       "</div>"
      ],
      "text/plain": [
       "       col1  col2\n",
       "rank1     1     4\n",
       "rank2     2     5\n",
       "rank3     3     6"
      ]
     },
     "execution_count": 9,
     "metadata": {},
     "output_type": "execute_result"
    }
   ],
   "source": [
    "selected_columns"
   ]
  },
  {
   "attachments": {},
   "cell_type": "markdown",
   "id": "97afc394-ea40-4db7-8112-c3450c483f9f",
   "metadata": {},
   "source": [
    "## copy by merging multiple indices (tolist first)\n"
   ]
  },
  {
   "cell_type": "code",
   "execution_count": 40,
   "id": "73a51cc7-d15b-4246-b1b0-4b31de8a275e",
   "metadata": {
    "tags": []
   },
   "outputs": [
    {
     "data": {
      "text/html": [
       "<div>\n",
       "<style scoped>\n",
       "    .dataframe tbody tr th:only-of-type {\n",
       "        vertical-align: middle;\n",
       "    }\n",
       "\n",
       "    .dataframe tbody tr th {\n",
       "        vertical-align: top;\n",
       "    }\n",
       "\n",
       "    .dataframe thead th {\n",
       "        text-align: right;\n",
       "    }\n",
       "</style>\n",
       "<table border=\"1\" class=\"dataframe\">\n",
       "  <thead>\n",
       "    <tr style=\"text-align: right;\">\n",
       "      <th></th>\n",
       "      <th>col1</th>\n",
       "      <th>col2</th>\n",
       "      <th>col3</th>\n",
       "    </tr>\n",
       "  </thead>\n",
       "  <tbody>\n",
       "    <tr>\n",
       "      <th>rank1</th>\n",
       "      <td>1</td>\n",
       "      <td>4</td>\n",
       "      <td>9</td>\n",
       "    </tr>\n",
       "    <tr>\n",
       "      <th>rank2</th>\n",
       "      <td>2</td>\n",
       "      <td>5</td>\n",
       "      <td>9</td>\n",
       "    </tr>\n",
       "    <tr>\n",
       "      <th>rank1</th>\n",
       "      <td>1</td>\n",
       "      <td>4</td>\n",
       "      <td>9</td>\n",
       "    </tr>\n",
       "    <tr>\n",
       "      <th>rank2</th>\n",
       "      <td>2</td>\n",
       "      <td>5</td>\n",
       "      <td>9</td>\n",
       "    </tr>\n",
       "  </tbody>\n",
       "</table>\n",
       "</div>"
      ],
      "text/plain": [
       "       col1  col2  col3\n",
       "rank1     1     4     9\n",
       "rank2     2     5     9\n",
       "rank1     1     4     9\n",
       "rank2     2     5     9"
      ]
     },
     "execution_count": 40,
     "metadata": {},
     "output_type": "execute_result"
    }
   ],
   "source": [
    "new_df = df.loc[selected_columns.index[:2].tolist() + selected_columns.index[:2].tolist()]\n",
    "new_df['col3'] = 9\n",
    "new_df"
   ]
  },
  {
   "attachments": {},
   "cell_type": "markdown",
   "id": "e72f1567-a736-4e31-887f-9f77121206fc",
   "metadata": {},
   "source": [
    "# index\n"
   ]
  },
  {
   "attachments": {},
   "cell_type": "markdown",
   "id": "01055405",
   "metadata": {},
   "source": [
    "## reindex\n"
   ]
  },
  {
   "cell_type": "code",
   "execution_count": null,
   "id": "7459a655",
   "metadata": {},
   "outputs": [],
   "source": []
  },
  {
   "attachments": {},
   "cell_type": "markdown",
   "id": "23f4f610-a89e-4d44-9212-d3614f4b4ce5",
   "metadata": {},
   "source": [
    "## set a column as index\n"
   ]
  },
  {
   "cell_type": "code",
   "execution_count": 25,
   "id": "a220f0c6-fa6d-46d0-b348-edb217dea8f9",
   "metadata": {},
   "outputs": [
    {
     "data": {
      "text/html": [
       "<div>\n",
       "<style scoped>\n",
       "    .dataframe tbody tr th:only-of-type {\n",
       "        vertical-align: middle;\n",
       "    }\n",
       "\n",
       "    .dataframe tbody tr th {\n",
       "        vertical-align: top;\n",
       "    }\n",
       "\n",
       "    .dataframe thead th {\n",
       "        text-align: right;\n",
       "    }\n",
       "</style>\n",
       "<table border=\"1\" class=\"dataframe\">\n",
       "  <thead>\n",
       "    <tr style=\"text-align: right;\">\n",
       "      <th></th>\n",
       "      <th>first_name</th>\n",
       "      <th>last_name</th>\n",
       "      <th>company_name</th>\n",
       "      <th>address</th>\n",
       "      <th>city</th>\n",
       "      <th>county</th>\n",
       "      <th>postal</th>\n",
       "      <th>phone1</th>\n",
       "      <th>phone2</th>\n",
       "      <th>email</th>\n",
       "      <th>web</th>\n",
       "    </tr>\n",
       "  </thead>\n",
       "  <tbody>\n",
       "    <tr>\n",
       "      <th>0</th>\n",
       "      <td>Aleshia</td>\n",
       "      <td>Tomkiewicz</td>\n",
       "      <td>Alan D Rosenburg Cpa Pc</td>\n",
       "      <td>14 Taylor St</td>\n",
       "      <td>St. Stephens Ward</td>\n",
       "      <td>Kent</td>\n",
       "      <td>CT2 7PP</td>\n",
       "      <td>01835-703597</td>\n",
       "      <td>01944-369967</td>\n",
       "      <td>atomkiewicz@hotmail.com</td>\n",
       "      <td>http://www.alandrosenburgcpapc.co.uk</td>\n",
       "    </tr>\n",
       "    <tr>\n",
       "      <th>1</th>\n",
       "      <td>Evan</td>\n",
       "      <td>Zigomalas</td>\n",
       "      <td>Cap Gemini America</td>\n",
       "      <td>5 Binney St</td>\n",
       "      <td>Abbey Ward</td>\n",
       "      <td>Buckinghamshire</td>\n",
       "      <td>HP11 2AX</td>\n",
       "      <td>01937-864715</td>\n",
       "      <td>01714-737668</td>\n",
       "      <td>evan.zigomalas@gmail.com</td>\n",
       "      <td>http://www.capgeminiamerica.co.uk</td>\n",
       "    </tr>\n",
       "    <tr>\n",
       "      <th>2</th>\n",
       "      <td>France</td>\n",
       "      <td>Andrade</td>\n",
       "      <td>Elliott, John W Esq</td>\n",
       "      <td>8 Moor Place</td>\n",
       "      <td>East Southbourne and Tuckton W</td>\n",
       "      <td>Bournemouth</td>\n",
       "      <td>BH6 3BE</td>\n",
       "      <td>01347-368222</td>\n",
       "      <td>01935-821636</td>\n",
       "      <td>france.andrade@hotmail.com</td>\n",
       "      <td>http://www.elliottjohnwesq.co.uk</td>\n",
       "    </tr>\n",
       "    <tr>\n",
       "      <th>3</th>\n",
       "      <td>Ulysses</td>\n",
       "      <td>Mcwalters</td>\n",
       "      <td>Mcmahan, Ben L</td>\n",
       "      <td>505 Exeter Rd</td>\n",
       "      <td>Hawerby cum Beesby</td>\n",
       "      <td>Lincolnshire</td>\n",
       "      <td>DN36 5RP</td>\n",
       "      <td>01912-771311</td>\n",
       "      <td>01302-601380</td>\n",
       "      <td>ulysses@hotmail.com</td>\n",
       "      <td>http://www.mcmahanbenl.co.uk</td>\n",
       "    </tr>\n",
       "    <tr>\n",
       "      <th>4</th>\n",
       "      <td>Tyisha</td>\n",
       "      <td>Veness</td>\n",
       "      <td>Champagne Room</td>\n",
       "      <td>5396 Forth Street</td>\n",
       "      <td>Greets Green and Lyng Ward</td>\n",
       "      <td>West Midlands</td>\n",
       "      <td>B70 9DT</td>\n",
       "      <td>01547-429341</td>\n",
       "      <td>01290-367248</td>\n",
       "      <td>tyisha.veness@hotmail.com</td>\n",
       "      <td>http://www.champagneroom.co.uk</td>\n",
       "    </tr>\n",
       "  </tbody>\n",
       "</table>\n",
       "</div>"
      ],
      "text/plain": [
       "  first_name   last_name             company_name            address  \\\n",
       "0    Aleshia  Tomkiewicz  Alan D Rosenburg Cpa Pc       14 Taylor St   \n",
       "1       Evan   Zigomalas       Cap Gemini America        5 Binney St   \n",
       "2     France     Andrade      Elliott, John W Esq       8 Moor Place   \n",
       "3    Ulysses   Mcwalters           Mcmahan, Ben L      505 Exeter Rd   \n",
       "4     Tyisha      Veness           Champagne Room  5396 Forth Street   \n",
       "\n",
       "                             city           county    postal        phone1  \\\n",
       "0               St. Stephens Ward             Kent   CT2 7PP  01835-703597   \n",
       "1                      Abbey Ward  Buckinghamshire  HP11 2AX  01937-864715   \n",
       "2  East Southbourne and Tuckton W      Bournemouth   BH6 3BE  01347-368222   \n",
       "3              Hawerby cum Beesby     Lincolnshire  DN36 5RP  01912-771311   \n",
       "4      Greets Green and Lyng Ward    West Midlands   B70 9DT  01547-429341   \n",
       "\n",
       "         phone2                       email  \\\n",
       "0  01944-369967     atomkiewicz@hotmail.com   \n",
       "1  01714-737668    evan.zigomalas@gmail.com   \n",
       "2  01935-821636  france.andrade@hotmail.com   \n",
       "3  01302-601380         ulysses@hotmail.com   \n",
       "4  01290-367248   tyisha.veness@hotmail.com   \n",
       "\n",
       "                                    web  \n",
       "0  http://www.alandrosenburgcpapc.co.uk  \n",
       "1     http://www.capgeminiamerica.co.uk  \n",
       "2      http://www.elliottjohnwesq.co.uk  \n",
       "3          http://www.mcmahanbenl.co.uk  \n",
       "4        http://www.champagneroom.co.uk  "
      ]
     },
     "execution_count": 25,
     "metadata": {},
     "output_type": "execute_result"
    }
   ],
   "source": [
    "data.head()"
   ]
  },
  {
   "cell_type": "code",
   "execution_count": 26,
   "id": "f3ee87ab-cca2-4361-9404-a13cc7b93c1b",
   "metadata": {},
   "outputs": [
    {
     "data": {
      "text/html": [
       "<div>\n",
       "<style scoped>\n",
       "    .dataframe tbody tr th:only-of-type {\n",
       "        vertical-align: middle;\n",
       "    }\n",
       "\n",
       "    .dataframe tbody tr th {\n",
       "        vertical-align: top;\n",
       "    }\n",
       "\n",
       "    .dataframe thead th {\n",
       "        text-align: right;\n",
       "    }\n",
       "</style>\n",
       "<table border=\"1\" class=\"dataframe\">\n",
       "  <thead>\n",
       "    <tr style=\"text-align: right;\">\n",
       "      <th></th>\n",
       "      <th>first_name</th>\n",
       "      <th>company_name</th>\n",
       "      <th>address</th>\n",
       "      <th>city</th>\n",
       "      <th>county</th>\n",
       "      <th>postal</th>\n",
       "      <th>phone1</th>\n",
       "      <th>phone2</th>\n",
       "      <th>email</th>\n",
       "      <th>web</th>\n",
       "    </tr>\n",
       "    <tr>\n",
       "      <th>last_name</th>\n",
       "      <th></th>\n",
       "      <th></th>\n",
       "      <th></th>\n",
       "      <th></th>\n",
       "      <th></th>\n",
       "      <th></th>\n",
       "      <th></th>\n",
       "      <th></th>\n",
       "      <th></th>\n",
       "      <th></th>\n",
       "    </tr>\n",
       "  </thead>\n",
       "  <tbody>\n",
       "    <tr>\n",
       "      <th>Tomkiewicz</th>\n",
       "      <td>Aleshia</td>\n",
       "      <td>Alan D Rosenburg Cpa Pc</td>\n",
       "      <td>14 Taylor St</td>\n",
       "      <td>St. Stephens Ward</td>\n",
       "      <td>Kent</td>\n",
       "      <td>CT2 7PP</td>\n",
       "      <td>01835-703597</td>\n",
       "      <td>01944-369967</td>\n",
       "      <td>atomkiewicz@hotmail.com</td>\n",
       "      <td>http://www.alandrosenburgcpapc.co.uk</td>\n",
       "    </tr>\n",
       "    <tr>\n",
       "      <th>Zigomalas</th>\n",
       "      <td>Evan</td>\n",
       "      <td>Cap Gemini America</td>\n",
       "      <td>5 Binney St</td>\n",
       "      <td>Abbey Ward</td>\n",
       "      <td>Buckinghamshire</td>\n",
       "      <td>HP11 2AX</td>\n",
       "      <td>01937-864715</td>\n",
       "      <td>01714-737668</td>\n",
       "      <td>evan.zigomalas@gmail.com</td>\n",
       "      <td>http://www.capgeminiamerica.co.uk</td>\n",
       "    </tr>\n",
       "    <tr>\n",
       "      <th>Andrade</th>\n",
       "      <td>France</td>\n",
       "      <td>Elliott, John W Esq</td>\n",
       "      <td>8 Moor Place</td>\n",
       "      <td>East Southbourne and Tuckton W</td>\n",
       "      <td>Bournemouth</td>\n",
       "      <td>BH6 3BE</td>\n",
       "      <td>01347-368222</td>\n",
       "      <td>01935-821636</td>\n",
       "      <td>france.andrade@hotmail.com</td>\n",
       "      <td>http://www.elliottjohnwesq.co.uk</td>\n",
       "    </tr>\n",
       "    <tr>\n",
       "      <th>Mcwalters</th>\n",
       "      <td>Ulysses</td>\n",
       "      <td>Mcmahan, Ben L</td>\n",
       "      <td>505 Exeter Rd</td>\n",
       "      <td>Hawerby cum Beesby</td>\n",
       "      <td>Lincolnshire</td>\n",
       "      <td>DN36 5RP</td>\n",
       "      <td>01912-771311</td>\n",
       "      <td>01302-601380</td>\n",
       "      <td>ulysses@hotmail.com</td>\n",
       "      <td>http://www.mcmahanbenl.co.uk</td>\n",
       "    </tr>\n",
       "    <tr>\n",
       "      <th>Veness</th>\n",
       "      <td>Tyisha</td>\n",
       "      <td>Champagne Room</td>\n",
       "      <td>5396 Forth Street</td>\n",
       "      <td>Greets Green and Lyng Ward</td>\n",
       "      <td>West Midlands</td>\n",
       "      <td>B70 9DT</td>\n",
       "      <td>01547-429341</td>\n",
       "      <td>01290-367248</td>\n",
       "      <td>tyisha.veness@hotmail.com</td>\n",
       "      <td>http://www.champagneroom.co.uk</td>\n",
       "    </tr>\n",
       "  </tbody>\n",
       "</table>\n",
       "</div>"
      ],
      "text/plain": [
       "           first_name             company_name            address  \\\n",
       "last_name                                                           \n",
       "Tomkiewicz    Aleshia  Alan D Rosenburg Cpa Pc       14 Taylor St   \n",
       "Zigomalas        Evan       Cap Gemini America        5 Binney St   \n",
       "Andrade        France      Elliott, John W Esq       8 Moor Place   \n",
       "Mcwalters     Ulysses           Mcmahan, Ben L      505 Exeter Rd   \n",
       "Veness         Tyisha           Champagne Room  5396 Forth Street   \n",
       "\n",
       "                                      city           county    postal  \\\n",
       "last_name                                                               \n",
       "Tomkiewicz               St. Stephens Ward             Kent   CT2 7PP   \n",
       "Zigomalas                       Abbey Ward  Buckinghamshire  HP11 2AX   \n",
       "Andrade     East Southbourne and Tuckton W      Bournemouth   BH6 3BE   \n",
       "Mcwalters               Hawerby cum Beesby     Lincolnshire  DN36 5RP   \n",
       "Veness          Greets Green and Lyng Ward    West Midlands   B70 9DT   \n",
       "\n",
       "                  phone1        phone2                       email  \\\n",
       "last_name                                                            \n",
       "Tomkiewicz  01835-703597  01944-369967     atomkiewicz@hotmail.com   \n",
       "Zigomalas   01937-864715  01714-737668    evan.zigomalas@gmail.com   \n",
       "Andrade     01347-368222  01935-821636  france.andrade@hotmail.com   \n",
       "Mcwalters   01912-771311  01302-601380         ulysses@hotmail.com   \n",
       "Veness      01547-429341  01290-367248   tyisha.veness@hotmail.com   \n",
       "\n",
       "                                             web  \n",
       "last_name                                         \n",
       "Tomkiewicz  http://www.alandrosenburgcpapc.co.uk  \n",
       "Zigomalas      http://www.capgeminiamerica.co.uk  \n",
       "Andrade         http://www.elliottjohnwesq.co.uk  \n",
       "Mcwalters           http://www.mcmahanbenl.co.uk  \n",
       "Veness            http://www.champagneroom.co.uk  "
      ]
     },
     "execution_count": 26,
     "metadata": {},
     "output_type": "execute_result"
    }
   ],
   "source": [
    "data.set_index(\"last_name\", inplace=True)\n",
    "data.head()"
   ]
  },
  {
   "cell_type": "code",
   "execution_count": 32,
   "id": "c6e23c5d-ce80-46f5-b5db-78c4bed6291d",
   "metadata": {},
   "outputs": [
    {
     "data": {
      "text/plain": [
       "first_name                              Tyisha\n",
       "company_name                    Champagne Room\n",
       "address                      5396 Forth Street\n",
       "city                Greets Green and Lyng Ward\n",
       "county                           West Midlands\n",
       "postal                                 B70 9DT\n",
       "phone1                            01547-429341\n",
       "phone2                            01290-367248\n",
       "email                tyisha.veness@hotmail.com\n",
       "web             http://www.champagneroom.co.uk\n",
       "Name: Veness, dtype: object"
      ]
     },
     "execution_count": 32,
     "metadata": {},
     "output_type": "execute_result"
    }
   ],
   "source": [
    "data.loc['Veness']"
   ]
  },
  {
   "cell_type": "code",
   "execution_count": 36,
   "id": "7ddd1f83-92b1-43f9-a41c-58b7096781d7",
   "metadata": {},
   "outputs": [
    {
     "data": {
      "text/plain": [
       "500"
      ]
     },
     "execution_count": 36,
     "metadata": {},
     "output_type": "execute_result"
    }
   ],
   "source": [
    "len(data.index)"
   ]
  },
  {
   "attachments": {},
   "cell_type": "markdown",
   "id": "dcc9222b-0368-466f-aafa-1fccf5674db7",
   "metadata": {},
   "source": [
    "# merge\n"
   ]
  },
  {
   "attachments": {},
   "cell_type": "markdown",
   "id": "905a25cc-a5c0-48f7-b715-a0822ec5c223",
   "metadata": {},
   "source": [
    "# join\n"
   ]
  },
  {
   "cell_type": "code",
   "execution_count": null,
   "id": "720676fb-5ae2-4189-bd4c-10bfa3d15723",
   "metadata": {},
   "outputs": [],
   "source": []
  },
  {
   "attachments": {},
   "cell_type": "markdown",
   "id": "cbe0f232",
   "metadata": {},
   "source": [
    "# locate, slice\n"
   ]
  },
  {
   "cell_type": "code",
   "execution_count": 6,
   "id": "593c8448",
   "metadata": {},
   "outputs": [
    {
     "name": "stdout",
     "output_type": "stream",
     "text": [
      "a    3\n",
      "d    6\n",
      "dtype: int64\n"
     ]
    }
   ],
   "source": [
    "# Access multiple elements by providing label of index\n",
    "import pandas as pd  \n",
    "import numpy as np \n",
    "    \n",
    "ser = pd.Series(np.arange(3, 9), index =['a', 'b', 'c', 'd', 'e', 'f']) \n",
    "    \n",
    "print(ser[['a', 'd']])"
   ]
  },
  {
   "cell_type": "code",
   "execution_count": null,
   "id": "03f9e06b",
   "metadata": {},
   "outputs": [],
   "source": [
    "# Access multiple elements by using multi-index\n",
    "# _a.loc[:, ['CLOSE0', 'OPEN0', 'LOW0', 'VOLUME0', 'HIGH0']]"
   ]
  },
  {
   "cell_type": "code",
   "execution_count": 4,
   "id": "97768932",
   "metadata": {},
   "outputs": [
    {
     "data": {
      "text/plain": [
       "1    2\n",
       "2    3\n",
       "dtype: int64"
      ]
     },
     "execution_count": 4,
     "metadata": {},
     "output_type": "execute_result"
    }
   ],
   "source": [
    "# <!-- sa = pd.Series([1, 2, 3], index=list('abc'))\n",
    "import pandas as pd\n",
    "sa = pd.Series([1, 2, 3])\n",
    "sa.loc[[1, 2]]"
   ]
  },
  {
   "attachments": {},
   "cell_type": "markdown",
   "id": "8ad6efe0",
   "metadata": {},
   "source": [
    "# apply\n",
    "\n",
    "## 改变一列的值\n",
    "\n",
    "```python\n",
    "df1['trades'] = df1['trades'].apply(lambda x: x[0].direction if x else \"N\")\n",
    "```\n"
   ]
  },
  {
   "attachments": {},
   "cell_type": "markdown",
   "id": "8453cb2f",
   "metadata": {},
   "source": [
    "# iterate rows\n",
    "\n",
    "## iterrows()\n",
    "\n",
    "```python\n",
    "for idx, row in major_stock_contract.iterrows():\n",
    "    if row['vt_symbol'][0:3] not in ['600', '601', '603', '605', '000']:\n",
    "        # print(row['name'], row['vt_symbol'])\n",
    "        others_set.add(row['vt_symbol'][0:3])\n",
    "```\n"
   ]
  },
  {
   "attachments": {},
   "cell_type": "markdown",
   "id": "acac07c3",
   "metadata": {},
   "source": [
    "# multi-index\n"
   ]
  },
  {
   "attachments": {},
   "cell_type": "markdown",
   "id": "98aaa2d2",
   "metadata": {},
   "source": [
    "## set multi index, and loc by both axis0 index and column names\n"
   ]
  },
  {
   "cell_type": "code",
   "execution_count": 16,
   "id": "c37d0cd7",
   "metadata": {},
   "outputs": [
    {
     "name": "stdout",
     "output_type": "stream",
     "text": [
      "                                  series  Ratings  Date\n",
      "  series         Ratings                               \n",
      "0 Peaky blinders 4.5      Peaky blinders      4.5  2013\n",
      "1 Sherlock       5.0            Sherlock      5.0  2010\n",
      "2 The crown      3.9           The crown      3.9  2016\n",
      "3 Queens Gambit  4.2       Queens Gambit      4.2  2020\n",
      "4 Friends        5.0             Friends      5.0  1994\n"
     ]
    }
   ],
   "source": [
    "import pandas as pd\n",
    " \n",
    "# making data for dataframing\n",
    "data = {\n",
    "    'series': ['Peaky blinders', 'Sherlock', 'The crown',\n",
    "               'Queens Gambit', 'Friends'],\n",
    "     \n",
    "    'Ratings': [4.5, 5, 3.9, 4.2, 5],\n",
    "     \n",
    "    'Date': [2013, 2010, 2016, 2020, 1994]\n",
    "}\n",
    " \n",
    "# Dataframing the whole data created\n",
    "df = pd.DataFrame(data)\n",
    " \n",
    "# setting first and the second name\n",
    "# as index column\n",
    "df.set_index([\"series\", \"Ratings\"], inplace=True, append=True, drop=False)\n",
    "# display the dataframe\n",
    "print(df)"
   ]
  },
  {
   "cell_type": "code",
   "execution_count": 17,
   "id": "27f12a88",
   "metadata": {},
   "outputs": [
    {
     "name": "stdout",
     "output_type": "stream",
     "text": [
      "MultiIndex([(0, 'Peaky blinders', 4.5),\n",
      "            (1,       'Sherlock', 5.0),\n",
      "            (2,      'The crown', 3.9),\n",
      "            (3,  'Queens Gambit', 4.2),\n",
      "            (4,        'Friends', 5.0)],\n",
      "           names=[None, 'series', 'Ratings'])\n"
     ]
    }
   ],
   "source": [
    "print(df.index)"
   ]
  },
  {
   "cell_type": "code",
   "execution_count": 18,
   "id": "a8363656",
   "metadata": {},
   "outputs": [
    {
     "data": {
      "text/html": [
       "<div>\n",
       "<style scoped>\n",
       "    .dataframe tbody tr th:only-of-type {\n",
       "        vertical-align: middle;\n",
       "    }\n",
       "\n",
       "    .dataframe tbody tr th {\n",
       "        vertical-align: top;\n",
       "    }\n",
       "\n",
       "    .dataframe thead th {\n",
       "        text-align: right;\n",
       "    }\n",
       "</style>\n",
       "<table border=\"1\" class=\"dataframe\">\n",
       "  <thead>\n",
       "    <tr style=\"text-align: right;\">\n",
       "      <th></th>\n",
       "      <th></th>\n",
       "      <th></th>\n",
       "      <th>series</th>\n",
       "      <th>Ratings</th>\n",
       "    </tr>\n",
       "    <tr>\n",
       "      <th></th>\n",
       "      <th>series</th>\n",
       "      <th>Ratings</th>\n",
       "      <th></th>\n",
       "      <th></th>\n",
       "    </tr>\n",
       "  </thead>\n",
       "  <tbody>\n",
       "    <tr>\n",
       "      <th>0</th>\n",
       "      <th>Peaky blinders</th>\n",
       "      <th>4.5</th>\n",
       "      <td>Peaky blinders</td>\n",
       "      <td>4.5</td>\n",
       "    </tr>\n",
       "    <tr>\n",
       "      <th>1</th>\n",
       "      <th>Sherlock</th>\n",
       "      <th>5.0</th>\n",
       "      <td>Sherlock</td>\n",
       "      <td>5.0</td>\n",
       "    </tr>\n",
       "    <tr>\n",
       "      <th>2</th>\n",
       "      <th>The crown</th>\n",
       "      <th>3.9</th>\n",
       "      <td>The crown</td>\n",
       "      <td>3.9</td>\n",
       "    </tr>\n",
       "    <tr>\n",
       "      <th>3</th>\n",
       "      <th>Queens Gambit</th>\n",
       "      <th>4.2</th>\n",
       "      <td>Queens Gambit</td>\n",
       "      <td>4.2</td>\n",
       "    </tr>\n",
       "    <tr>\n",
       "      <th>4</th>\n",
       "      <th>Friends</th>\n",
       "      <th>5.0</th>\n",
       "      <td>Friends</td>\n",
       "      <td>5.0</td>\n",
       "    </tr>\n",
       "  </tbody>\n",
       "</table>\n",
       "</div>"
      ],
      "text/plain": [
       "                                  series  Ratings\n",
       "  series         Ratings                         \n",
       "0 Peaky blinders 4.5      Peaky blinders      4.5\n",
       "1 Sherlock       5.0            Sherlock      5.0\n",
       "2 The crown      3.9           The crown      3.9\n",
       "3 Queens Gambit  4.2       Queens Gambit      4.2\n",
       "4 Friends        5.0             Friends      5.0"
      ]
     },
     "execution_count": 18,
     "metadata": {},
     "output_type": "execute_result"
    }
   ],
   "source": [
    "df.loc[:, ['series', 'Ratings']]"
   ]
  },
  {
   "attachments": {},
   "cell_type": "markdown",
   "id": "3ee99e9d",
   "metadata": {},
   "source": [
    "## locate multi-index index (row)\n"
   ]
  },
  {
   "cell_type": "code",
   "execution_count": 19,
   "id": "f14b14bb",
   "metadata": {},
   "outputs": [
    {
     "data": {
      "text/html": [
       "<div>\n",
       "<style scoped>\n",
       "    .dataframe tbody tr th:only-of-type {\n",
       "        vertical-align: middle;\n",
       "    }\n",
       "\n",
       "    .dataframe tbody tr th {\n",
       "        vertical-align: top;\n",
       "    }\n",
       "\n",
       "    .dataframe thead th {\n",
       "        text-align: right;\n",
       "    }\n",
       "</style>\n",
       "<table border=\"1\" class=\"dataframe\">\n",
       "  <thead>\n",
       "    <tr style=\"text-align: right;\">\n",
       "      <th></th>\n",
       "      <th></th>\n",
       "      <th>0</th>\n",
       "      <th>1</th>\n",
       "      <th>2</th>\n",
       "      <th>3</th>\n",
       "    </tr>\n",
       "  </thead>\n",
       "  <tbody>\n",
       "    <tr>\n",
       "      <th rowspan=\"2\" valign=\"top\">bar</th>\n",
       "      <th>one</th>\n",
       "      <td>0.725010</td>\n",
       "      <td>-1.015735</td>\n",
       "      <td>-1.172710</td>\n",
       "      <td>-0.367887</td>\n",
       "    </tr>\n",
       "    <tr>\n",
       "      <th>two</th>\n",
       "      <td>1.254657</td>\n",
       "      <td>0.961418</td>\n",
       "      <td>0.276529</td>\n",
       "      <td>1.311037</td>\n",
       "    </tr>\n",
       "    <tr>\n",
       "      <th rowspan=\"2\" valign=\"top\">baz</th>\n",
       "      <th>one</th>\n",
       "      <td>1.568128</td>\n",
       "      <td>-0.215245</td>\n",
       "      <td>-0.051744</td>\n",
       "      <td>-1.550783</td>\n",
       "    </tr>\n",
       "    <tr>\n",
       "      <th>two</th>\n",
       "      <td>-0.539466</td>\n",
       "      <td>0.217325</td>\n",
       "      <td>-0.869516</td>\n",
       "      <td>0.227311</td>\n",
       "    </tr>\n",
       "    <tr>\n",
       "      <th rowspan=\"2\" valign=\"top\">foo</th>\n",
       "      <th>one</th>\n",
       "      <td>0.416601</td>\n",
       "      <td>-0.117201</td>\n",
       "      <td>0.454117</td>\n",
       "      <td>-1.017816</td>\n",
       "    </tr>\n",
       "    <tr>\n",
       "      <th>two</th>\n",
       "      <td>-0.619394</td>\n",
       "      <td>1.752729</td>\n",
       "      <td>-0.540516</td>\n",
       "      <td>1.722148</td>\n",
       "    </tr>\n",
       "    <tr>\n",
       "      <th rowspan=\"2\" valign=\"top\">qux</th>\n",
       "      <th>one</th>\n",
       "      <td>1.925168</td>\n",
       "      <td>-0.048767</td>\n",
       "      <td>-0.391424</td>\n",
       "      <td>0.956501</td>\n",
       "    </tr>\n",
       "    <tr>\n",
       "      <th>two</th>\n",
       "      <td>0.299726</td>\n",
       "      <td>1.497214</td>\n",
       "      <td>-1.041282</td>\n",
       "      <td>-1.049099</td>\n",
       "    </tr>\n",
       "  </tbody>\n",
       "</table>\n",
       "</div>"
      ],
      "text/plain": [
       "                0         1         2         3\n",
       "bar one  0.725010 -1.015735 -1.172710 -0.367887\n",
       "    two  1.254657  0.961418  0.276529  1.311037\n",
       "baz one  1.568128 -0.215245 -0.051744 -1.550783\n",
       "    two -0.539466  0.217325 -0.869516  0.227311\n",
       "foo one  0.416601 -0.117201  0.454117 -1.017816\n",
       "    two -0.619394  1.752729 -0.540516  1.722148\n",
       "qux one  1.925168 -0.048767 -0.391424  0.956501\n",
       "    two  0.299726  1.497214 -1.041282 -1.049099"
      ]
     },
     "execution_count": 19,
     "metadata": {},
     "output_type": "execute_result"
    }
   ],
   "source": [
    "import pandas as pd\n",
    "import numpy as np\n",
    "\n",
    "arrays = [\n",
    "    np.array([\"bar\", \"bar\", \"baz\", \"baz\", \"foo\", \"foo\", \"qux\", \"qux\"]),\n",
    "    np.array([\"one\", \"two\", \"one\", \"two\", \"one\", \"two\", \"one\", \"two\"]),\n",
    "]\n",
    "df = pd.DataFrame(np.random.randn(8, 4), index=arrays)\n",
    "df"
   ]
  },
  {
   "cell_type": "code",
   "execution_count": 20,
   "id": "77125a6f",
   "metadata": {},
   "outputs": [
    {
     "name": "stdout",
     "output_type": "stream",
     "text": [
      "                0         1         2         3\n",
      "bar one  0.725010 -1.015735 -1.172710 -0.367887\n",
      "baz one  1.568128 -0.215245 -0.051744 -1.550783\n",
      "foo one  0.416601 -0.117201  0.454117 -1.017816\n",
      "qux one  1.925168 -0.048767 -0.391424  0.956501\n"
     ]
    },
    {
     "data": {
      "text/html": [
       "<div>\n",
       "<style scoped>\n",
       "    .dataframe tbody tr th:only-of-type {\n",
       "        vertical-align: middle;\n",
       "    }\n",
       "\n",
       "    .dataframe tbody tr th {\n",
       "        vertical-align: top;\n",
       "    }\n",
       "\n",
       "    .dataframe thead th {\n",
       "        text-align: right;\n",
       "    }\n",
       "</style>\n",
       "<table border=\"1\" class=\"dataframe\">\n",
       "  <thead>\n",
       "    <tr style=\"text-align: right;\">\n",
       "      <th></th>\n",
       "      <th>0</th>\n",
       "      <th>1</th>\n",
       "      <th>2</th>\n",
       "      <th>3</th>\n",
       "    </tr>\n",
       "  </thead>\n",
       "  <tbody>\n",
       "    <tr>\n",
       "      <th>one</th>\n",
       "      <td>0.725010</td>\n",
       "      <td>-1.015735</td>\n",
       "      <td>-1.172710</td>\n",
       "      <td>-0.367887</td>\n",
       "    </tr>\n",
       "    <tr>\n",
       "      <th>two</th>\n",
       "      <td>1.254657</td>\n",
       "      <td>0.961418</td>\n",
       "      <td>0.276529</td>\n",
       "      <td>1.311037</td>\n",
       "    </tr>\n",
       "  </tbody>\n",
       "</table>\n",
       "</div>"
      ],
      "text/plain": [
       "            0         1         2         3\n",
       "one  0.725010 -1.015735 -1.172710 -0.367887\n",
       "two  1.254657  0.961418  0.276529  1.311037"
      ]
     },
     "execution_count": 20,
     "metadata": {},
     "output_type": "execute_result"
    }
   ],
   "source": [
    "# only one index value, use xs()\n",
    "print(df.xs('one', level=1, axis=0, drop_level=False))\n",
    "df.loc['bar']\n",
    "# df.index"
   ]
  },
  {
   "cell_type": "code",
   "execution_count": 21,
   "id": "689f0e66",
   "metadata": {},
   "outputs": [
    {
     "data": {
      "text/plain": [
       "0    0.725010\n",
       "1   -1.015735\n",
       "2   -1.172710\n",
       "3   -0.367887\n",
       "Name: (bar, one), dtype: float64"
      ]
     },
     "execution_count": 21,
     "metadata": {},
     "output_type": "execute_result"
    }
   ],
   "source": [
    "# with two indices, not 2 different values for one level\n",
    "df.loc[('bar', 'one')]"
   ]
  },
  {
   "cell_type": "code",
   "execution_count": 25,
   "id": "37a9c827",
   "metadata": {},
   "outputs": [
    {
     "data": {
      "text/html": [
       "<div>\n",
       "<style scoped>\n",
       "    .dataframe tbody tr th:only-of-type {\n",
       "        vertical-align: middle;\n",
       "    }\n",
       "\n",
       "    .dataframe tbody tr th {\n",
       "        vertical-align: top;\n",
       "    }\n",
       "\n",
       "    .dataframe thead th {\n",
       "        text-align: right;\n",
       "    }\n",
       "</style>\n",
       "<table border=\"1\" class=\"dataframe\">\n",
       "  <thead>\n",
       "    <tr style=\"text-align: right;\">\n",
       "      <th></th>\n",
       "      <th></th>\n",
       "      <th>0</th>\n",
       "      <th>1</th>\n",
       "      <th>2</th>\n",
       "      <th>3</th>\n",
       "    </tr>\n",
       "  </thead>\n",
       "  <tbody>\n",
       "    <tr>\n",
       "      <th rowspan=\"2\" valign=\"top\">bar</th>\n",
       "      <th>one</th>\n",
       "      <td>0.725010</td>\n",
       "      <td>-1.015735</td>\n",
       "      <td>-1.172710</td>\n",
       "      <td>-0.367887</td>\n",
       "    </tr>\n",
       "    <tr>\n",
       "      <th>two</th>\n",
       "      <td>1.254657</td>\n",
       "      <td>0.961418</td>\n",
       "      <td>0.276529</td>\n",
       "      <td>1.311037</td>\n",
       "    </tr>\n",
       "    <tr>\n",
       "      <th rowspan=\"2\" valign=\"top\">baz</th>\n",
       "      <th>one</th>\n",
       "      <td>1.568128</td>\n",
       "      <td>-0.215245</td>\n",
       "      <td>-0.051744</td>\n",
       "      <td>-1.550783</td>\n",
       "    </tr>\n",
       "    <tr>\n",
       "      <th>two</th>\n",
       "      <td>-0.539466</td>\n",
       "      <td>0.217325</td>\n",
       "      <td>-0.869516</td>\n",
       "      <td>0.227311</td>\n",
       "    </tr>\n",
       "    <tr>\n",
       "      <th rowspan=\"2\" valign=\"top\">foo</th>\n",
       "      <th>one</th>\n",
       "      <td>0.416601</td>\n",
       "      <td>-0.117201</td>\n",
       "      <td>0.454117</td>\n",
       "      <td>-1.017816</td>\n",
       "    </tr>\n",
       "    <tr>\n",
       "      <th>two</th>\n",
       "      <td>-0.619394</td>\n",
       "      <td>1.752729</td>\n",
       "      <td>-0.540516</td>\n",
       "      <td>1.722148</td>\n",
       "    </tr>\n",
       "    <tr>\n",
       "      <th rowspan=\"2\" valign=\"top\">qux</th>\n",
       "      <th>one</th>\n",
       "      <td>1.925168</td>\n",
       "      <td>-0.048767</td>\n",
       "      <td>-0.391424</td>\n",
       "      <td>0.956501</td>\n",
       "    </tr>\n",
       "    <tr>\n",
       "      <th>two</th>\n",
       "      <td>0.299726</td>\n",
       "      <td>1.497214</td>\n",
       "      <td>-1.041282</td>\n",
       "      <td>-1.049099</td>\n",
       "    </tr>\n",
       "  </tbody>\n",
       "</table>\n",
       "</div>"
      ],
      "text/plain": [
       "                0         1         2         3\n",
       "bar one  0.725010 -1.015735 -1.172710 -0.367887\n",
       "    two  1.254657  0.961418  0.276529  1.311037\n",
       "baz one  1.568128 -0.215245 -0.051744 -1.550783\n",
       "    two -0.539466  0.217325 -0.869516  0.227311\n",
       "foo one  0.416601 -0.117201  0.454117 -1.017816\n",
       "    two -0.619394  1.752729 -0.540516  1.722148\n",
       "qux one  1.925168 -0.048767 -0.391424  0.956501\n",
       "    two  0.299726  1.497214 -1.041282 -1.049099"
      ]
     },
     "execution_count": 25,
     "metadata": {},
     "output_type": "execute_result"
    }
   ],
   "source": [
    "# select by multiple values of a single level of index\n",
    "\n",
    "df.loc[(slice(None), ['one', 'two']), :]\n",
    "df.loc[pd.IndexSlice[:, ['one', 'two']], :]  # more readable"
   ]
  },
  {
   "attachments": {},
   "cell_type": "markdown",
   "id": "c9a97027",
   "metadata": {},
   "source": [
    "## loc mulit-index columns (columns can be mulit-index)\n"
   ]
  },
  {
   "cell_type": "code",
   "execution_count": 25,
   "id": "4e3d0f1a",
   "metadata": {},
   "outputs": [
    {
     "name": "stdout",
     "output_type": "stream",
     "text": [
      "MultiIndex([('one', 'a'),\n",
      "            ('one', 'b'),\n",
      "            ('one', 'c'),\n",
      "            ('two', 'a'),\n",
      "            ('two', 'b'),\n",
      "            ('two', 'c')],\n",
      "           )\n"
     ]
    },
    {
     "data": {
      "text/html": [
       "<div>\n",
       "<style scoped>\n",
       "    .dataframe tbody tr th:only-of-type {\n",
       "        vertical-align: middle;\n",
       "    }\n",
       "\n",
       "    .dataframe tbody tr th {\n",
       "        vertical-align: top;\n",
       "    }\n",
       "\n",
       "    .dataframe thead tr th {\n",
       "        text-align: left;\n",
       "    }\n",
       "</style>\n",
       "<table border=\"1\" class=\"dataframe\">\n",
       "  <thead>\n",
       "    <tr>\n",
       "      <th></th>\n",
       "      <th colspan=\"3\" halign=\"left\">one</th>\n",
       "      <th colspan=\"3\" halign=\"left\">two</th>\n",
       "    </tr>\n",
       "    <tr>\n",
       "      <th></th>\n",
       "      <th>a</th>\n",
       "      <th>b</th>\n",
       "      <th>c</th>\n",
       "      <th>a</th>\n",
       "      <th>b</th>\n",
       "      <th>c</th>\n",
       "    </tr>\n",
       "  </thead>\n",
       "  <tbody>\n",
       "    <tr>\n",
       "      <th>0</th>\n",
       "      <td>-0.657913</td>\n",
       "      <td>0.400925</td>\n",
       "      <td>0.760172</td>\n",
       "      <td>0.725475</td>\n",
       "      <td>-0.558508</td>\n",
       "      <td>1.532651</td>\n",
       "    </tr>\n",
       "    <tr>\n",
       "      <th>1</th>\n",
       "      <td>-0.333657</td>\n",
       "      <td>-1.302942</td>\n",
       "      <td>-0.063007</td>\n",
       "      <td>2.693031</td>\n",
       "      <td>-1.640149</td>\n",
       "      <td>1.826936</td>\n",
       "    </tr>\n",
       "    <tr>\n",
       "      <th>2</th>\n",
       "      <td>0.992687</td>\n",
       "      <td>0.453391</td>\n",
       "      <td>-0.273192</td>\n",
       "      <td>-0.179452</td>\n",
       "      <td>-0.860489</td>\n",
       "      <td>-1.918615</td>\n",
       "    </tr>\n",
       "    <tr>\n",
       "      <th>3</th>\n",
       "      <td>-2.486774</td>\n",
       "      <td>-0.165280</td>\n",
       "      <td>-0.778476</td>\n",
       "      <td>-0.242463</td>\n",
       "      <td>0.832359</td>\n",
       "      <td>1.771344</td>\n",
       "    </tr>\n",
       "  </tbody>\n",
       "</table>\n",
       "</div>"
      ],
      "text/plain": [
       "        one                           two                    \n",
       "          a         b         c         a         b         c\n",
       "0 -0.657913  0.400925  0.760172  0.725475 -0.558508  1.532651\n",
       "1 -0.333657 -1.302942 -0.063007  2.693031 -1.640149  1.826936\n",
       "2  0.992687  0.453391 -0.273192 -0.179452 -0.860489 -1.918615\n",
       "3 -2.486774 -0.165280 -0.778476 -0.242463  0.832359  1.771344"
      ]
     },
     "execution_count": 25,
     "metadata": {},
     "output_type": "execute_result"
    }
   ],
   "source": [
    "# sample data\n",
    "col = pd.MultiIndex.from_arrays([['one', 'one', 'one', 'two', 'two', 'two'],\n",
    "                                ['a', 'b', 'c', 'a', 'b', 'c']])\n",
    "data = pd.DataFrame(np.random.randn(4, 6), columns=col)\n",
    "print(data.columns)\n",
    "data"
   ]
  },
  {
   "cell_type": "code",
   "execution_count": 24,
   "id": "b48d12a8",
   "metadata": {},
   "outputs": [
    {
     "name": "stdout",
     "output_type": "stream",
     "text": [
      "        one          \n",
      "          a         b\n",
      "0  0.463550 -0.130793\n",
      "1 -0.079601  0.099634\n",
      "2 -0.894837  0.776635\n",
      "3 -0.415633 -0.352887\n"
     ]
    },
    {
     "data": {
      "text/html": [
       "<div>\n",
       "<style scoped>\n",
       "    .dataframe tbody tr th:only-of-type {\n",
       "        vertical-align: middle;\n",
       "    }\n",
       "\n",
       "    .dataframe tbody tr th {\n",
       "        vertical-align: top;\n",
       "    }\n",
       "\n",
       "    .dataframe thead tr th {\n",
       "        text-align: left;\n",
       "    }\n",
       "</style>\n",
       "<table border=\"1\" class=\"dataframe\">\n",
       "  <thead>\n",
       "    <tr>\n",
       "      <th></th>\n",
       "      <th colspan=\"2\" halign=\"left\">one</th>\n",
       "      <th colspan=\"2\" halign=\"left\">two</th>\n",
       "    </tr>\n",
       "    <tr>\n",
       "      <th></th>\n",
       "      <th>a</th>\n",
       "      <th>b</th>\n",
       "      <th>a</th>\n",
       "      <th>b</th>\n",
       "    </tr>\n",
       "  </thead>\n",
       "  <tbody>\n",
       "    <tr>\n",
       "      <th>0</th>\n",
       "      <td>0.463550</td>\n",
       "      <td>-0.130793</td>\n",
       "      <td>0.246485</td>\n",
       "      <td>-0.423790</td>\n",
       "    </tr>\n",
       "    <tr>\n",
       "      <th>1</th>\n",
       "      <td>-0.079601</td>\n",
       "      <td>0.099634</td>\n",
       "      <td>-1.253542</td>\n",
       "      <td>-0.334205</td>\n",
       "    </tr>\n",
       "    <tr>\n",
       "      <th>2</th>\n",
       "      <td>-0.894837</td>\n",
       "      <td>0.776635</td>\n",
       "      <td>1.209673</td>\n",
       "      <td>0.427424</td>\n",
       "    </tr>\n",
       "    <tr>\n",
       "      <th>3</th>\n",
       "      <td>-0.415633</td>\n",
       "      <td>-0.352887</td>\n",
       "      <td>0.572663</td>\n",
       "      <td>0.975099</td>\n",
       "    </tr>\n",
       "  </tbody>\n",
       "</table>\n",
       "</div>"
      ],
      "text/plain": [
       "        one                 two          \n",
       "          a         b         a         b\n",
       "0  0.463550 -0.130793  0.246485 -0.423790\n",
       "1 -0.079601  0.099634 -1.253542 -0.334205\n",
       "2 -0.894837  0.776635  1.209673  0.427424\n",
       "3 -0.415633 -0.352887  0.572663  0.975099"
      ]
     },
     "execution_count": 24,
     "metadata": {},
     "output_type": "execute_result"
    }
   ],
   "source": [
    "print(data.loc[:, (['one'], ['a', 'b'])])\n",
    "data.loc[:, (['one', 'two'], ['a', 'b'])]"
   ]
  },
  {
   "cell_type": "code",
   "execution_count": 23,
   "id": "732f4da6",
   "metadata": {},
   "outputs": [
    {
     "data": {
      "text/html": [
       "<div>\n",
       "<style scoped>\n",
       "    .dataframe tbody tr th:only-of-type {\n",
       "        vertical-align: middle;\n",
       "    }\n",
       "\n",
       "    .dataframe tbody tr th {\n",
       "        vertical-align: top;\n",
       "    }\n",
       "\n",
       "    .dataframe thead tr th {\n",
       "        text-align: left;\n",
       "    }\n",
       "</style>\n",
       "<table border=\"1\" class=\"dataframe\">\n",
       "  <thead>\n",
       "    <tr>\n",
       "      <th></th>\n",
       "      <th colspan=\"2\" halign=\"left\">one</th>\n",
       "      <th colspan=\"2\" halign=\"left\">two</th>\n",
       "    </tr>\n",
       "    <tr>\n",
       "      <th></th>\n",
       "      <th>a</th>\n",
       "      <th>b</th>\n",
       "      <th>a</th>\n",
       "      <th>b</th>\n",
       "    </tr>\n",
       "  </thead>\n",
       "  <tbody>\n",
       "    <tr>\n",
       "      <th>0</th>\n",
       "      <td>0.463550</td>\n",
       "      <td>-0.130793</td>\n",
       "      <td>0.246485</td>\n",
       "      <td>-0.423790</td>\n",
       "    </tr>\n",
       "    <tr>\n",
       "      <th>1</th>\n",
       "      <td>-0.079601</td>\n",
       "      <td>0.099634</td>\n",
       "      <td>-1.253542</td>\n",
       "      <td>-0.334205</td>\n",
       "    </tr>\n",
       "    <tr>\n",
       "      <th>2</th>\n",
       "      <td>-0.894837</td>\n",
       "      <td>0.776635</td>\n",
       "      <td>1.209673</td>\n",
       "      <td>0.427424</td>\n",
       "    </tr>\n",
       "    <tr>\n",
       "      <th>3</th>\n",
       "      <td>-0.415633</td>\n",
       "      <td>-0.352887</td>\n",
       "      <td>0.572663</td>\n",
       "      <td>0.975099</td>\n",
       "    </tr>\n",
       "  </tbody>\n",
       "</table>\n",
       "</div>"
      ],
      "text/plain": [
       "        one                 two          \n",
       "          a         b         a         b\n",
       "0  0.463550 -0.130793  0.246485 -0.423790\n",
       "1 -0.079601  0.099634 -1.253542 -0.334205\n",
       "2 -0.894837  0.776635  1.209673  0.427424\n",
       "3 -0.415633 -0.352887  0.572663  0.975099"
      ]
     },
     "execution_count": 23,
     "metadata": {},
     "output_type": "execute_result"
    }
   ],
   "source": [
    "data.loc[:, (slice(None), [\"a\", \"b\"])]"
   ]
  },
  {
   "cell_type": "code",
   "execution_count": 26,
   "id": "dc1ef32b",
   "metadata": {},
   "outputs": [
    {
     "data": {
      "text/html": [
       "<div>\n",
       "<style scoped>\n",
       "    .dataframe tbody tr th:only-of-type {\n",
       "        vertical-align: middle;\n",
       "    }\n",
       "\n",
       "    .dataframe tbody tr th {\n",
       "        vertical-align: top;\n",
       "    }\n",
       "\n",
       "    .dataframe thead tr th {\n",
       "        text-align: left;\n",
       "    }\n",
       "</style>\n",
       "<table border=\"1\" class=\"dataframe\">\n",
       "  <thead>\n",
       "    <tr>\n",
       "      <th></th>\n",
       "      <th colspan=\"2\" halign=\"left\">one</th>\n",
       "      <th colspan=\"2\" halign=\"left\">two</th>\n",
       "    </tr>\n",
       "    <tr>\n",
       "      <th></th>\n",
       "      <th>a</th>\n",
       "      <th>b</th>\n",
       "      <th>a</th>\n",
       "      <th>b</th>\n",
       "    </tr>\n",
       "  </thead>\n",
       "  <tbody>\n",
       "    <tr>\n",
       "      <th>0</th>\n",
       "      <td>-0.657913</td>\n",
       "      <td>0.400925</td>\n",
       "      <td>0.725475</td>\n",
       "      <td>-0.558508</td>\n",
       "    </tr>\n",
       "    <tr>\n",
       "      <th>1</th>\n",
       "      <td>-0.333657</td>\n",
       "      <td>-1.302942</td>\n",
       "      <td>2.693031</td>\n",
       "      <td>-1.640149</td>\n",
       "    </tr>\n",
       "    <tr>\n",
       "      <th>2</th>\n",
       "      <td>0.992687</td>\n",
       "      <td>0.453391</td>\n",
       "      <td>-0.179452</td>\n",
       "      <td>-0.860489</td>\n",
       "    </tr>\n",
       "    <tr>\n",
       "      <th>3</th>\n",
       "      <td>-2.486774</td>\n",
       "      <td>-0.165280</td>\n",
       "      <td>-0.242463</td>\n",
       "      <td>0.832359</td>\n",
       "    </tr>\n",
       "  </tbody>\n",
       "</table>\n",
       "</div>"
      ],
      "text/plain": [
       "        one                 two          \n",
       "          a         b         a         b\n",
       "0 -0.657913  0.400925  0.725475 -0.558508\n",
       "1 -0.333657 -1.302942  2.693031 -1.640149\n",
       "2  0.992687  0.453391 -0.179452 -0.860489\n",
       "3 -2.486774 -0.165280 -0.242463  0.832359"
      ]
     },
     "execution_count": 26,
     "metadata": {},
     "output_type": "execute_result"
    }
   ],
   "source": [
    "data.loc[:, data.columns.get_level_values(1).isin(['a', 'b'])]"
   ]
  },
  {
   "cell_type": "code",
   "execution_count": 27,
   "id": "5759af19",
   "metadata": {},
   "outputs": [
    {
     "data": {
      "text/html": [
       "<div>\n",
       "<style scoped>\n",
       "    .dataframe tbody tr th:only-of-type {\n",
       "        vertical-align: middle;\n",
       "    }\n",
       "\n",
       "    .dataframe tbody tr th {\n",
       "        vertical-align: top;\n",
       "    }\n",
       "\n",
       "    .dataframe thead tr th {\n",
       "        text-align: left;\n",
       "    }\n",
       "</style>\n",
       "<table border=\"1\" class=\"dataframe\">\n",
       "  <thead>\n",
       "    <tr>\n",
       "      <th></th>\n",
       "      <th colspan=\"2\" halign=\"left\">one</th>\n",
       "      <th colspan=\"2\" halign=\"left\">two</th>\n",
       "    </tr>\n",
       "    <tr>\n",
       "      <th></th>\n",
       "      <th>a</th>\n",
       "      <th>b</th>\n",
       "      <th>a</th>\n",
       "      <th>b</th>\n",
       "    </tr>\n",
       "  </thead>\n",
       "  <tbody>\n",
       "    <tr>\n",
       "      <th>0</th>\n",
       "      <td>-0.657913</td>\n",
       "      <td>0.400925</td>\n",
       "      <td>0.725475</td>\n",
       "      <td>-0.558508</td>\n",
       "    </tr>\n",
       "    <tr>\n",
       "      <th>1</th>\n",
       "      <td>-0.333657</td>\n",
       "      <td>-1.302942</td>\n",
       "      <td>2.693031</td>\n",
       "      <td>-1.640149</td>\n",
       "    </tr>\n",
       "  </tbody>\n",
       "</table>\n",
       "</div>"
      ],
      "text/plain": [
       "        one                 two          \n",
       "          a         b         a         b\n",
       "0 -0.657913  0.400925  0.725475 -0.558508\n",
       "1 -0.333657 -1.302942  2.693031 -1.640149"
      ]
     },
     "execution_count": 27,
     "metadata": {},
     "output_type": "execute_result"
    }
   ],
   "source": [
    "data.iloc[:2].loc[:, data.columns.get_level_values(1).isin(['a', 'b'])]"
   ]
  },
  {
   "cell_type": "code",
   "execution_count": 31,
   "id": "a5625004",
   "metadata": {},
   "outputs": [
    {
     "data": {
      "text/html": [
       "<div>\n",
       "<style scoped>\n",
       "    .dataframe tbody tr th:only-of-type {\n",
       "        vertical-align: middle;\n",
       "    }\n",
       "\n",
       "    .dataframe tbody tr th {\n",
       "        vertical-align: top;\n",
       "    }\n",
       "\n",
       "    .dataframe thead tr th {\n",
       "        text-align: left;\n",
       "    }\n",
       "</style>\n",
       "<table border=\"1\" class=\"dataframe\">\n",
       "  <thead>\n",
       "    <tr>\n",
       "      <th></th>\n",
       "      <th colspan=\"2\" halign=\"left\">one</th>\n",
       "      <th colspan=\"2\" halign=\"left\">two</th>\n",
       "    </tr>\n",
       "    <tr>\n",
       "      <th></th>\n",
       "      <th>a</th>\n",
       "      <th>c</th>\n",
       "      <th>a</th>\n",
       "      <th>c</th>\n",
       "    </tr>\n",
       "  </thead>\n",
       "  <tbody>\n",
       "    <tr>\n",
       "      <th>0</th>\n",
       "      <td>-0.657913</td>\n",
       "      <td>0.760172</td>\n",
       "      <td>0.725475</td>\n",
       "      <td>1.532651</td>\n",
       "    </tr>\n",
       "    <tr>\n",
       "      <th>1</th>\n",
       "      <td>-0.333657</td>\n",
       "      <td>-0.063007</td>\n",
       "      <td>2.693031</td>\n",
       "      <td>1.826936</td>\n",
       "    </tr>\n",
       "    <tr>\n",
       "      <th>2</th>\n",
       "      <td>0.992687</td>\n",
       "      <td>-0.273192</td>\n",
       "      <td>-0.179452</td>\n",
       "      <td>-1.918615</td>\n",
       "    </tr>\n",
       "    <tr>\n",
       "      <th>3</th>\n",
       "      <td>-2.486774</td>\n",
       "      <td>-0.778476</td>\n",
       "      <td>-0.242463</td>\n",
       "      <td>1.771344</td>\n",
       "    </tr>\n",
       "  </tbody>\n",
       "</table>\n",
       "</div>"
      ],
      "text/plain": [
       "        one                 two          \n",
       "          a         c         a         c\n",
       "0 -0.657913  0.760172  0.725475  1.532651\n",
       "1 -0.333657 -0.063007  2.693031  1.826936\n",
       "2  0.992687 -0.273192 -0.179452 -1.918615\n",
       "3 -2.486774 -0.778476 -0.242463  1.771344"
      ]
     },
     "execution_count": 31,
     "metadata": {},
     "output_type": "execute_result"
    }
   ],
   "source": [
    "data.loc(axis=\"columns\")[:, [\"a\", \"c\"]]"
   ]
  },
  {
   "attachments": {},
   "cell_type": "markdown",
   "id": "4d0de667",
   "metadata": {},
   "source": [
    "# pandas datetime\n"
   ]
  },
  {
   "cell_type": "code",
   "execution_count": 32,
   "id": "dfe4b0d9",
   "metadata": {},
   "outputs": [
    {
     "data": {
      "text/plain": [
       "0    2001-01-01\n",
       "1    2001-03-31\n",
       "dtype: object"
      ]
     },
     "execution_count": 32,
     "metadata": {},
     "output_type": "execute_result"
    }
   ],
   "source": [
    "import pandas as pd\n",
    "\n",
    "series = pd.Series(['20010101', '20010331'])\n",
    "dates = pd.to_datetime(series, format='%Y%m%d')\n",
    "dates.dt.strftime('%Y-%m-%d')"
   ]
  },
  {
   "cell_type": "code",
   "execution_count": 34,
   "id": "b43f2a42",
   "metadata": {},
   "outputs": [
    {
     "data": {
      "text/plain": [
       "<pandas.core.indexes.accessors.DatetimeProperties object at 0x7f271dbea2b0>"
      ]
     },
     "execution_count": 34,
     "metadata": {},
     "output_type": "execute_result"
    }
   ],
   "source": [
    "dates.dt"
   ]
  },
  {
   "attachments": {},
   "cell_type": "markdown",
   "id": "ba8e5031",
   "metadata": {},
   "source": [
    "## Timedelta\n"
   ]
  },
  {
   "cell_type": "code",
   "execution_count": 35,
   "id": "384043ea",
   "metadata": {},
   "outputs": [
    {
     "name": "stdout",
     "output_type": "stream",
     "text": [
      "2021-11-30\n"
     ]
    }
   ],
   "source": [
    "start_time = pd.to_datetime(\"2021-10-01\") + pd.Timedelta(days=60)\n",
    "print(start_time.strftime('%Y-%m-%d'))"
   ]
  },
  {
   "cell_type": "code",
   "execution_count": null,
   "id": "e473d456",
   "metadata": {},
   "outputs": [],
   "source": []
  },
  {
   "attachments": {},
   "cell_type": "markdown",
   "id": "cdf03700",
   "metadata": {},
   "source": [
    "# selecting rows by conditions /filtering\n"
   ]
  },
  {
   "cell_type": "code",
   "execution_count": 3,
   "id": "4e1b2c25",
   "metadata": {},
   "outputs": [
    {
     "name": "stdout",
     "output_type": "stream",
     "text": [
      "Given Dataframe :\n",
      "         Name  Age    Stream  Percentage\n",
      "0      Ankit   21      Math          21\n",
      "1       Amit   19  Commerce          92\n",
      "2  Aishwarya   20   Science          95\n",
      "3   Priyanka   18      Math          70\n",
      "4      Priya   17      Math          65\n",
      "5    Shaurya   21   Science          78\n",
      "\n",
      "Result dataframe :\n",
      "         Name  Age    Stream  Percentage\n",
      "1       Amit   19  Commerce          92\n",
      "2  Aishwarya   20   Science          95\n",
      "3   Priyanka   18      Math          70\n",
      "4      Priya   17      Math          65\n",
      "5    Shaurya   21   Science          78\n"
     ]
    }
   ],
   "source": [
    "# importing pandas\n",
    "import pandas as pd\n",
    "\n",
    "record = {\n",
    "\n",
    "    'Name': ['Ankit', 'Amit', 'Aishwarya', 'Priyanka', 'Priya', 'Shaurya'],\n",
    "    'Age': [21, 19, 20, 18, 17, 21],\n",
    "    'Stream': ['Math', 'Commerce', 'Science', 'Math', 'Math', 'Science'],\n",
    "    'Percentage': [21, 92, 95, 70, 65, 78]}\n",
    "\n",
    "# create a dataframe\n",
    "dataframe = pd.DataFrame(\n",
    "    record, columns=['Name', 'Age', 'Stream', 'Percentage'])\n",
    "\n",
    "print(\"Given Dataframe :\\n\", dataframe)\n",
    "\n",
    "# selecting rows based on condition\n",
    "rslt_df = dataframe[dataframe['Percentage'] != dataframe['Age']]\n",
    "# rslt_df = dataframe[dataframe['Percentage'] > 80]\n",
    "\n",
    "\n",
    "print('\\nResult dataframe :\\n', rslt_df)\n"
   ]
  },
  {
   "attachments": {},
   "cell_type": "markdown",
   "id": "1f9f7bbd",
   "metadata": {},
   "source": [
    "## select rows with\n",
    "\n",
    "### startswith\n",
    "\n",
    "### match\n",
    "\n",
    "### loc\n"
   ]
  },
  {
   "cell_type": "code",
   "execution_count": 16,
   "id": "dae16681",
   "metadata": {},
   "outputs": [
    {
     "name": "stdout",
     "output_type": "stream",
     "text": [
      "   Name  Age    Stream  Percentage\n",
      "1  Amit   19  Commerce          92\n"
     ]
    }
   ],
   "source": [
    "# dataframe['Name'].str.contains(\"(Ankit|Amit)\")\n",
    "from pandas import Series\n",
    "\n",
    "\n",
    "dataframe['Name'].str.startswith(\"A\", na = False) # NAN 值处理。\n",
    "idx_series: pd.Series = dataframe['Name'].str.match(\"^(A|S)\")\n",
    "# 选择 \n",
    "dataframe[idx_series]\n",
    "\n",
    "options = ['Amit', 'Aishwary']\n",
    "\n",
    "# selecting rows based on condition\n",
    "rslt_df = dataframe.loc[~dataframe['Name'].isin(options)]\n",
    "\n",
    "print(rslt_df)\n"
   ]
  },
  {
   "attachments": {},
   "cell_type": "markdown",
   "id": "6dd64001",
   "metadata": {},
   "source": [
    "# filter\n",
    "\n",
    "- filter 主要按条件选择列\n"
   ]
  },
  {
   "cell_type": "code",
   "execution_count": 2,
   "id": "e095c030",
   "metadata": {},
   "outputs": [
    {
     "data": {
      "text/html": [
       "<div>\n",
       "<style scoped>\n",
       "    .dataframe tbody tr th:only-of-type {\n",
       "        vertical-align: middle;\n",
       "    }\n",
       "\n",
       "    .dataframe tbody tr th {\n",
       "        vertical-align: top;\n",
       "    }\n",
       "\n",
       "    .dataframe thead th {\n",
       "        text-align: right;\n",
       "    }\n",
       "</style>\n",
       "<table border=\"1\" class=\"dataframe\">\n",
       "  <thead>\n",
       "    <tr style=\"text-align: right;\">\n",
       "      <th></th>\n",
       "    </tr>\n",
       "  </thead>\n",
       "  <tbody>\n",
       "  </tbody>\n",
       "</table>\n",
       "</div>"
      ],
      "text/plain": [
       "Empty DataFrame\n",
       "Columns: []\n",
       "Index: []"
      ]
     },
     "execution_count": 2,
     "metadata": {},
     "output_type": "execute_result"
    }
   ],
   "source": [
    "import pandas as pd\n",
    "import numpy as np\n",
    "\n",
    "df = pd.DataFrame(np.array(([1, 2, 3], [4, 5, 6])),\n",
    "                  index=['mouse', 'rabbit'],\n",
    "                  columns=['one', 'two', 'three'])\n",
    "\n",
    "# 按名称选择列\n",
    "df.filter(items=['one', 'three'])\n",
    "'''\n",
    "         one  three\n",
    "mouse     1      3\n",
    "rabbit    4      6\n",
    "'''\n",
    "# 按正则表达式选择列\n",
    "df.filter(regex='e$', axis=1)\n",
    "'''\n",
    "         one  three\n",
    "mouse     1      3\n",
    "rabbit    4      6\n",
    "'''\n",
    "# 选择包含“bbi”的行\n",
    "df.filter(like='bbi', axis=0)\n",
    "'''\n",
    "         one  two  three\n",
    "rabbit    4    5      6\n",
    "'''\n",
    "\n",
    "df.filter(items=['Q1', 'Q2']) # 选择两列\n",
    "df.filter(regex='Q', axis=1) # 列名包含Q的\n",
    "df.filter(regex='e$', axis=1) # 以 e 结尾的\n",
    "df.filter(regex='1$', axis=0) # 正则, 索引名包含1的\n",
    "df.filter(like='2', axis=0) # 索引中有2的\n",
    "# 索引中2开头列名有Q的\n",
    "df.filter(regex='^2', axis=0).filter(like='Q', axis=1)"
   ]
  },
  {
   "attachments": {},
   "cell_type": "markdown",
   "id": "c25fe11e",
   "metadata": {},
   "source": [
    "# sort\n"
   ]
  },
  {
   "cell_type": "code",
   "execution_count": null,
   "id": "0cd30bd3",
   "metadata": {},
   "outputs": [],
   "source": [
    "import pandas as pd\n",
    "data = [12,5,8,2,8,2,8,2,8,2,8,5,84]\n",
    "data1 = [12,5,8,56,57,58,59,22,84,24,85,56,87]\n",
    "df1=pd.DataFrame(data, columns=['num'])\n",
    "df2=pd.DataFrame(data1, columns=['num'])\n",
    "print(data1)\n",
    "df=pd.DataFrame(data, columns=['num'])\n",
    "\n",
    "df.sort_values(by=['num'], ascending=True, inplace=True) #1升序排序 0降序\n",
    "#排序函数\n",
    "df['cum']=df['num'].cumsum()\n",
    "df['prod']=df['num'].cumprod()\n",
    "print(df.sort_values(by=['num','cum'], ascending=[True, True]) ) #按多列排序"
   ]
  },
  {
   "attachments": {},
   "cell_type": "markdown",
   "id": "abcb1855",
   "metadata": {},
   "source": [
    "# 计算\n",
    "\n",
    "## shift\n",
    "\n",
    "## diff\n",
    "\n",
    "## pct_change\n",
    "\n",
    "## cumsum\n",
    "* 累计和\n",
    "## cumprod\n",
    "* 累计乘积\n",
    "* \n",
    "## \n"
   ]
  },
  {
   "cell_type": "code",
   "execution_count": 8,
   "id": "4f188b61",
   "metadata": {},
   "outputs": [
    {
     "name": "stdout",
     "output_type": "stream",
     "text": [
      "[12, 5, 8, 56, 57, 58, 59, 22, 84, 24, 85, 56, 87]\n",
      "    num  cum         prod  shift-1  shift+1  diff-1  pct\n",
      "3     2    2            2      2.0      NaN     0.0  NaN\n",
      "5     2    4            4      2.0      2.0     0.0  0.0\n",
      "7     2    6            8      2.0      2.0     0.0  0.0\n",
      "9     2    8           16      5.0      2.0    -3.0  0.0\n",
      "1     5   13           80      5.0      2.0     0.0  1.5\n",
      "11    5   18          400      8.0      5.0    -3.0  0.0\n",
      "2     8   26         3200      8.0      5.0     0.0  0.6\n",
      "4     8   34        25600      8.0      8.0     0.0  0.0\n",
      "6     8   42       204800      8.0      8.0     0.0  0.0\n",
      "8     8   50      1638400      8.0      8.0     0.0  0.0\n",
      "10    8   58     13107200     12.0      8.0    -4.0  0.0\n",
      "0    12   70    157286400     84.0      8.0   -72.0  0.5\n",
      "12   84  154  13212057600      NaN     12.0     NaN  6.0\n",
      "    num\n",
      "0    12\n",
      "1     5\n",
      "2     8\n",
      "3     2\n",
      "4     8\n",
      "5     2\n",
      "6     8\n",
      "7     2\n",
      "8     8\n",
      "9     2\n",
      "10    8\n",
      "11    5\n",
      "12   84\n",
      "13   12\n",
      "14    5\n",
      "15    8\n",
      "16   56\n",
      "17   57\n",
      "18   58\n",
      "19   59\n",
      "20   22\n",
      "21   84\n",
      "22   24\n",
      "23   85\n",
      "24   56\n",
      "25   87\n",
      "first22     num\n",
      "0    12\n",
      "1     5\n",
      "2     8\n",
      "3     2\n",
      "12   84\n",
      "16   56\n",
      "17   57\n",
      "18   58\n",
      "19   59\n",
      "20   22\n",
      "22   24\n",
      "23   85\n",
      "25   87\n"
     ]
    },
    {
     "name": "stderr",
     "output_type": "stream",
     "text": [
      "C:\\Users\\73915\\AppData\\Local\\Temp\\ipykernel_45176\\3036774247.py:20: FutureWarning: The frame.append method is deprecated and will be removed from pandas in a future version. Use pandas.concat instead.\n",
      "  df3=df1.append(df2) # index不连续index是可以重复的，需要得新设置index索引值\n",
      "C:\\Users\\73915\\AppData\\Local\\Temp\\ipykernel_45176\\3036774247.py:21: FutureWarning: The frame.append method is deprecated and will be removed from pandas in a future version. Use pandas.concat instead.\n",
      "  df4=df1.append(df2, ignore_index=True) #ignore_index 重新设置index\n"
     ]
    }
   ],
   "source": [
    "import pandas as pd\n",
    "data = [12,5,8,2,8,2,8,2,8,2,8,5,84]\n",
    "data1 = [12,5,8,56,57,58,59,22,84,24,85,56,87]\n",
    "df1=pd.DataFrame(data, columns=['num'])\n",
    "df2=pd.DataFrame(data1, columns=['num'])\n",
    "print(data1)\n",
    "df=pd.DataFrame(data, columns=['num'])\n",
    "\n",
    "df.sort_values(by=['num'], ascending=True, inplace=True) #1升序排序 0降序\n",
    "# 排序函数\n",
    "df['cum']=df['num'].cumsum()\n",
    "df['prod']=df['num'].cumprod()\n",
    "df['shift-1'] = df['num'].shift(-1)\n",
    "df['shift+1'] = df['num'].shift(1)\n",
    "df['diff-1'] = df['num'].diff(-1)\n",
    "df['pct'] = df['num'].pct_change()\n",
    "\n",
    "# 多个DataFrame 上下合并操作，append操作\n",
    "df3 = df1.append(df2) # index不连续index是可以重复的，需要得新设置index索引值\n",
    "df4 = df1.append(df2, ignore_index=True) #ignore_index 重新设置index\n",
    "print(df4)\n",
    "# 对数据进行去重\n",
    "df4.drop_duplicates(subset=['num'],\n",
    "                    keep='first', #first 只保留第一行出现的值，last最后一行的值 ，false一行都不保留\n",
    "                    inplace=True\n",
    "                    )\n",
    "print('first22', df4)"
   ]
  },
  {
   "attachments": {},
   "cell_type": "markdown",
   "id": "22c2568a",
   "metadata": {},
   "source": [
    "# Read and write"
   ]
  },
  {
   "attachments": {},
   "cell_type": "markdown",
   "id": "a568cdaf",
   "metadata": {},
   "source": [
    "# others\n"
   ]
  },
  {
   "attachments": {},
   "cell_type": "markdown",
   "id": "a6160d6e",
   "metadata": {},
   "source": [
    "## How to print an entire Pandas DataFrame in Python?\n",
    "\n",
    "- https://www.geeksforgeeks.org/how-to-print-an-entire-pandas-dataframe-in-python/\n",
    "\n",
    "## make pandas display width bigger in jupyter\n",
    "\n",
    "- pd.set_option('display.width', 800)\n"
   ]
  },
  {
   "attachments": {},
   "cell_type": "markdown",
   "id": "222ac813",
   "metadata": {},
   "source": [
    "# trouble shooting\n",
    "\n",
    "##  SettingWithCopyWarning\n",
    "\n",
    "* 原因是修改了Dataframe 的view，使用copy就可避免\n",
    "* df1 = daily_df[daily_df.trade_count > 0.].copy()\n",
    "* 解决方案2： \n",
    "\n",
    "```python\n",
    "import warnings\n",
    "from pandas.core.common import SettingWithCopyWarning\n",
    "warnings.simplefilter(action=\"ignore\", category=SettingWithCopyWarning)\n",
    "```"
   ]
  },
  {
   "cell_type": "code",
   "execution_count": null,
   "id": "49975e9c",
   "metadata": {},
   "outputs": [],
   "source": []
  }
 ],
 "metadata": {
  "kernelspec": {
   "display_name": "py38",
   "language": "python",
   "name": "python3"
  },
  "language_info": {
   "codemirror_mode": {
    "name": "ipython",
    "version": 3
   },
   "file_extension": ".py",
   "mimetype": "text/x-python",
   "name": "python",
   "nbconvert_exporter": "python",
   "pygments_lexer": "ipython3",
   "version": "3.8.13 (default, Oct 19 2022, 22:38:03) [MSC v.1916 64 bit (AMD64)]"
  },
  "toc": {
   "base_numbering": 1,
   "nav_menu": {
    "height": "342px",
    "width": "272px"
   },
   "number_sections": false,
   "sideBar": true,
   "skip_h1_title": false,
   "title_cell": "Table of Contents",
   "title_sidebar": "Contents",
   "toc_cell": false,
   "toc_position": {
    "height": "calc(100% - 180px)",
    "left": "10px",
    "top": "150px",
    "width": "252.2px"
   },
   "toc_section_display": true,
   "toc_window_display": true
  },
  "toc-autonumbering": true,
  "toc-showcode": false,
  "toc-showmarkdowntxt": false,
  "toc-showtags": false,
  "vscode": {
   "interpreter": {
    "hash": "fe22768e9524fdef0bd7ed00acfac1a320cf250cfc5d425f429f4b9beb1077b3"
   }
  },
  "widgets": {
   "application/vnd.jupyter.widget-state+json": {
    "state": {},
    "version_major": 2,
    "version_minor": 0
   }
  }
 },
 "nbformat": 4,
 "nbformat_minor": 5
}
