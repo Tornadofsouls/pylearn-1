{
 "cells": [
  {
   "cell_type": "code",
   "execution_count": 1,
   "id": "553461bc-0f12-4e13-b438-a6f0b223db18",
   "metadata": {
    "ExecuteTime": {
     "end_time": "2022-05-06T14:03:33.208194Z",
     "start_time": "2022-05-06T14:03:32.598773Z"
    },
    "scrolled": true
   },
   "outputs": [],
   "source": [
    "import pandas as pd\n",
    "import numpy as np\n",
    "import yaml\n",
    "pd.__version__\n",
    "\n",
    "data = pd.read_csv('uk-500.csv')"
   ]
  },
  {
   "attachments": {},
   "cell_type": "markdown",
   "id": "0fc51f29",
   "metadata": {},
   "source": [
    "# tutorial\n",
    "\n",
    "* api：https://pandas.pydata.org/docs/reference/api/pandas.DataFrame.apply.html"
   ]
  },
  {
   "cell_type": "code",
   "execution_count": 2,
   "id": "8d03429d-8145-4ae3-81cd-36377c2b50fe",
   "metadata": {},
   "outputs": [
    {
     "name": "stdout",
     "output_type": "stream",
     "text": [
      "tensor([1., 2., 3., 4.]) torch.Size([4])\n",
      "tensor(1.) torch.Size([])\n",
      "tensor(1.) torch.Size([1])\n"
     ]
    }
   ],
   "source": [
    "import torch\n",
    "a = torch.Tensor([1, 2, 3, 4])\n",
    "print(a.squeeze(), a.squeeze().size())\n",
    "\n",
    "a = torch.Tensor([1])\n",
    "print(a.squeeze(), a.squeeze().size())\n",
    "torch.squeeze\n",
    "\n",
    "a = torch.Tensor([[1]])\n",
    "print(a.squeeze(), a.squeeze(dim=-1).size())"
   ]
  },
  {
   "cell_type": "code",
   "execution_count": 3,
   "id": "45862853-79b3-4453-8d59-b91c92ba9721",
   "metadata": {},
   "outputs": [
    {
     "name": "stdout",
     "output_type": "stream",
     "text": [
      "[LabPathApp] WARNING | Config option `kernel_spec_manager_class` not recognized by `LabPathApp`.\n",
      "Application directory:   /home/jeffye/anaconda3/envs/py38/share/jupyter/lab\n",
      "User Settings directory: /home/jeffye/.jupyter/lab/user-settings\n",
      "Workspaces directory: /home/jeffye/.jupyter/lab/workspaces\n"
     ]
    }
   ],
   "source": [
    "!jupyter lab paths"
   ]
  },
  {
   "attachments": {},
   "cell_type": "markdown",
   "id": "ca89e78d-9c5a-4089-b144-cab79904d42b",
   "metadata": {
    "tags": []
   },
   "source": [
    "# create dataframe\n"
   ]
  },
  {
   "attachments": {},
   "cell_type": "markdown",
   "id": "b88f8107-b147-49a0-b22f-2c01e8ccf81f",
   "metadata": {},
   "source": [
    "## create dataframe with different ways\n"
   ]
  },
  {
   "cell_type": "code",
   "execution_count": 4,
   "id": "e15251ae-698e-40fb-96aa-4c78b2b87fb6",
   "metadata": {
    "ExecuteTime": {
     "end_time": "2022-05-06T14:03:36.805113Z",
     "start_time": "2022-05-06T14:03:36.790619Z"
    }
   },
   "outputs": [
    {
     "data": {
      "text/html": [
       "<div>\n",
       "<style scoped>\n",
       "    .dataframe tbody tr th:only-of-type {\n",
       "        vertical-align: middle;\n",
       "    }\n",
       "\n",
       "    .dataframe tbody tr th {\n",
       "        vertical-align: top;\n",
       "    }\n",
       "\n",
       "    .dataframe thead th {\n",
       "        text-align: right;\n",
       "    }\n",
       "</style>\n",
       "<table border=\"1\" class=\"dataframe\">\n",
       "  <thead>\n",
       "    <tr style=\"text-align: right;\">\n",
       "      <th></th>\n",
       "      <th>Name</th>\n",
       "      <th>Age</th>\n",
       "    </tr>\n",
       "  </thead>\n",
       "  <tbody>\n",
       "    <tr>\n",
       "      <th>0</th>\n",
       "      <td>tom</td>\n",
       "      <td>10</td>\n",
       "    </tr>\n",
       "    <tr>\n",
       "      <th>1</th>\n",
       "      <td>nick</td>\n",
       "      <td>15</td>\n",
       "    </tr>\n",
       "    <tr>\n",
       "      <th>2</th>\n",
       "      <td>juli</td>\n",
       "      <td>14</td>\n",
       "    </tr>\n",
       "  </tbody>\n",
       "</table>\n",
       "</div>"
      ],
      "text/plain": [
       "   Name  Age\n",
       "0   tom   10\n",
       "1  nick   15\n",
       "2  juli   14"
      ]
     },
     "execution_count": 4,
     "metadata": {},
     "output_type": "execute_result"
    }
   ],
   "source": [
    "# initialize list of lists\n",
    "data = [['tom', 10], ['nick', 15], ['juli', 14]]\n",
    "# Create the pandas DataFrame\n",
    "df = pd.DataFrame(data, columns=['Name', 'Age'])\n",
    "\n",
    "# print dataframe.\n",
    "df.loc"
   ]
  },
  {
   "attachments": {},
   "cell_type": "markdown",
   "id": "ce06e05a-ab18-42c3-a1ad-ab5c577ea6a0",
   "metadata": {
    "jp-MarkdownHeadingCollapsed": true
   },
   "source": [
    "## Creating DataFrame from dict of narray/lists\n"
   ]
  },
  {
   "cell_type": "code",
   "execution_count": 7,
   "id": "e0e627ff-78b3-4fa2-b9c3-38d044299169",
   "metadata": {},
   "outputs": [
    {
     "data": {
      "text/html": [
       "<div>\n",
       "<style scoped>\n",
       "    .dataframe tbody tr th:only-of-type {\n",
       "        vertical-align: middle;\n",
       "    }\n",
       "\n",
       "    .dataframe tbody tr th {\n",
       "        vertical-align: top;\n",
       "    }\n",
       "\n",
       "    .dataframe thead th {\n",
       "        text-align: right;\n",
       "    }\n",
       "</style>\n",
       "<table border=\"1\" class=\"dataframe\">\n",
       "  <thead>\n",
       "    <tr style=\"text-align: right;\">\n",
       "      <th></th>\n",
       "      <th>Name</th>\n",
       "      <th>Age</th>\n",
       "    </tr>\n",
       "  </thead>\n",
       "  <tbody>\n",
       "    <tr>\n",
       "      <th>0</th>\n",
       "      <td>Tom</td>\n",
       "      <td>20</td>\n",
       "    </tr>\n",
       "    <tr>\n",
       "      <th>1</th>\n",
       "      <td>nick</td>\n",
       "      <td>21</td>\n",
       "    </tr>\n",
       "    <tr>\n",
       "      <th>2</th>\n",
       "      <td>krish</td>\n",
       "      <td>19</td>\n",
       "    </tr>\n",
       "    <tr>\n",
       "      <th>3</th>\n",
       "      <td>jack</td>\n",
       "      <td>18</td>\n",
       "    </tr>\n",
       "  </tbody>\n",
       "</table>\n",
       "</div>"
      ],
      "text/plain": [
       "    Name  Age\n",
       "0    Tom   20\n",
       "1   nick   21\n",
       "2  krish   19\n",
       "3   jack   18"
      ]
     },
     "execution_count": 7,
     "metadata": {},
     "output_type": "execute_result"
    }
   ],
   "source": [
    "# initialize data of lists. dict key is column\n",
    "data = {'Name': ['Tom', 'nick', 'krish', 'jack'],\n",
    "        'Age': [20, 21, 19, 18]}\n",
    "\n",
    "# Create DataFrame\n",
    "df = pd.DataFrame(data)\n",
    "# Print the output.\n",
    "df.head()"
   ]
  },
  {
   "attachments": {},
   "cell_type": "markdown",
   "id": "c0ddc22b-f32b-42f5-bc9f-0ccf27edb33d",
   "metadata": {},
   "source": [
    "## Creates a indexes DataFrame using arrays.\n"
   ]
  },
  {
   "cell_type": "code",
   "execution_count": 8,
   "id": "c01e9c93-a778-4fac-8766-6629b471cb22",
   "metadata": {},
   "outputs": [
    {
     "data": {
      "text/html": [
       "<div>\n",
       "<style scoped>\n",
       "    .dataframe tbody tr th:only-of-type {\n",
       "        vertical-align: middle;\n",
       "    }\n",
       "\n",
       "    .dataframe tbody tr th {\n",
       "        vertical-align: top;\n",
       "    }\n",
       "\n",
       "    .dataframe thead th {\n",
       "        text-align: right;\n",
       "    }\n",
       "</style>\n",
       "<table border=\"1\" class=\"dataframe\">\n",
       "  <thead>\n",
       "    <tr style=\"text-align: right;\">\n",
       "      <th></th>\n",
       "      <th>Name</th>\n",
       "      <th>marks</th>\n",
       "    </tr>\n",
       "  </thead>\n",
       "  <tbody>\n",
       "    <tr>\n",
       "      <th>rank1</th>\n",
       "      <td>Tom</td>\n",
       "      <td>99</td>\n",
       "    </tr>\n",
       "    <tr>\n",
       "      <th>rank2</th>\n",
       "      <td>Jack</td>\n",
       "      <td>98</td>\n",
       "    </tr>\n",
       "    <tr>\n",
       "      <th>rank3</th>\n",
       "      <td>nick</td>\n",
       "      <td>95</td>\n",
       "    </tr>\n",
       "    <tr>\n",
       "      <th>rank4</th>\n",
       "      <td>juli</td>\n",
       "      <td>90</td>\n",
       "    </tr>\n",
       "  </tbody>\n",
       "</table>\n",
       "</div>"
      ],
      "text/plain": [
       "       Name  marks\n",
       "rank1   Tom     99\n",
       "rank2  Jack     98\n",
       "rank3  nick     95\n",
       "rank4  juli     90"
      ]
     },
     "execution_count": 8,
     "metadata": {},
     "output_type": "execute_result"
    }
   ],
   "source": [
    "# initialize data of lists.\n",
    "data = {'Name':['Tom', 'Jack', 'nick', 'juli'],\n",
    "        'marks':[99, 98, 95, 90]}\n",
    " \n",
    "# Creates pandas DataFrame.\n",
    "df = pd.DataFrame(data, index =['rank1',\n",
    "                                'rank2',\n",
    "                                'rank3',\n",
    "                                'rank4'])\n",
    " \n",
    "# print the data\n",
    "df.tail(4)"
   ]
  },
  {
   "attachments": {},
   "cell_type": "markdown",
   "id": "56b52a53-c0ce-4c29-95ff-b6dad8b9813f",
   "metadata": {},
   "source": [
    "## Creating Dataframe from list of dicts\n"
   ]
  },
  {
   "cell_type": "code",
   "execution_count": 3,
   "id": "4be075a3-3f66-4a1a-aa0e-74f6eb4fdae2",
   "metadata": {},
   "outputs": [
    {
     "data": {
      "text/html": [
       "<div>\n",
       "<style scoped>\n",
       "    .dataframe tbody tr th:only-of-type {\n",
       "        vertical-align: middle;\n",
       "    }\n",
       "\n",
       "    .dataframe tbody tr th {\n",
       "        vertical-align: top;\n",
       "    }\n",
       "\n",
       "    .dataframe thead th {\n",
       "        text-align: right;\n",
       "    }\n",
       "</style>\n",
       "<table border=\"1\" class=\"dataframe\">\n",
       "  <thead>\n",
       "    <tr style=\"text-align: right;\">\n",
       "      <th></th>\n",
       "      <th>a</th>\n",
       "      <th>b</th>\n",
       "      <th>c</th>\n",
       "      <th>d</th>\n",
       "    </tr>\n",
       "  </thead>\n",
       "  <tbody>\n",
       "    <tr>\n",
       "      <th>0</th>\n",
       "      <td>1</td>\n",
       "      <td>2</td>\n",
       "      <td>3</td>\n",
       "      <td>8.0</td>\n",
       "    </tr>\n",
       "    <tr>\n",
       "      <th>1</th>\n",
       "      <td>10</td>\n",
       "      <td>20</td>\n",
       "      <td>30</td>\n",
       "      <td>NaN</td>\n",
       "    </tr>\n",
       "  </tbody>\n",
       "</table>\n",
       "</div>"
      ],
      "text/plain": [
       "    a   b   c    d\n",
       "0   1   2   3  8.0\n",
       "1  10  20  30  NaN"
      ]
     },
     "execution_count": 3,
     "metadata": {},
     "output_type": "execute_result"
    }
   ],
   "source": [
    "# Initialize data to lists. \"NaN\" will be added automatically if having missing values\n",
    "data = [{'a': 1, 'b': 2, 'c':3, 'd': 8},\n",
    "        {'a':10, 'b': 20, 'c': 30}]\n",
    " \n",
    "# Creates DataFrame.\n",
    "df = pd.DataFrame(data)\n",
    " \n",
    "# Print the data\n",
    "df"
   ]
  },
  {
   "attachments": {},
   "cell_type": "markdown",
   "id": "2443f0a6-363b-47fa-a544-861dde8228b1",
   "metadata": {},
   "source": [
    "## Creating DataFrame using zip() function.\n"
   ]
  },
  {
   "cell_type": "code",
   "execution_count": 14,
   "id": "7b794aea-e4a9-45f6-a918-ce8ee3f6662b",
   "metadata": {},
   "outputs": [
    {
     "data": {
      "text/html": [
       "<div>\n",
       "<style scoped>\n",
       "    .dataframe tbody tr th:only-of-type {\n",
       "        vertical-align: middle;\n",
       "    }\n",
       "\n",
       "    .dataframe tbody tr th {\n",
       "        vertical-align: top;\n",
       "    }\n",
       "\n",
       "    .dataframe thead th {\n",
       "        text-align: right;\n",
       "    }\n",
       "</style>\n",
       "<table border=\"1\" class=\"dataframe\">\n",
       "  <thead>\n",
       "    <tr style=\"text-align: right;\">\n",
       "      <th></th>\n",
       "      <th>Name</th>\n",
       "      <th>Age</th>\n",
       "    </tr>\n",
       "  </thead>\n",
       "  <tbody>\n",
       "    <tr>\n",
       "      <th>0</th>\n",
       "      <td>tom</td>\n",
       "      <td>25</td>\n",
       "    </tr>\n",
       "    <tr>\n",
       "      <th>1</th>\n",
       "      <td>krish</td>\n",
       "      <td>30</td>\n",
       "    </tr>\n",
       "    <tr>\n",
       "      <th>2</th>\n",
       "      <td>nick</td>\n",
       "      <td>26</td>\n",
       "    </tr>\n",
       "    <tr>\n",
       "      <th>3</th>\n",
       "      <td>juli</td>\n",
       "      <td>22</td>\n",
       "    </tr>\n",
       "  </tbody>\n",
       "</table>\n",
       "</div>"
      ],
      "text/plain": [
       "    Name  Age\n",
       "0    tom   25\n",
       "1  krish   30\n",
       "2   nick   26\n",
       "3   juli   22"
      ]
     },
     "execution_count": 14,
     "metadata": {},
     "output_type": "execute_result"
    }
   ],
   "source": [
    "# List1\n",
    "Name = ['tom', 'krish', 'nick', 'juli']\n",
    "   \n",
    "# List2\n",
    "Age = [25, 30, 26, 22]\n",
    "   \n",
    "# get the list of tuples from two lists.\n",
    "# and merge them by using zip().\n",
    "list_of_tuples = list(zip(Name, Age))\n",
    "   \n",
    "# Assign data to tuples.\n",
    "list_of_tuples \n",
    " \n",
    "# Converting lists of tuples into\n",
    "# pandas Dataframe.\n",
    "df = pd.DataFrame(list_of_tuples,\n",
    "                  columns = ['Name', 'Age'])\n",
    "    \n",
    "# Print data.\n",
    "df"
   ]
  },
  {
   "attachments": {},
   "cell_type": "markdown",
   "id": "be355b68-5a9e-4d5f-b7cd-d3da676b9d26",
   "metadata": {},
   "source": [
    "## Creating DataFrame from Dicts of series.\n"
   ]
  },
  {
   "cell_type": "code",
   "execution_count": 16,
   "id": "677b9be2-6811-4d37-87f7-d148f69104a0",
   "metadata": {},
   "outputs": [
    {
     "data": {
      "text/html": [
       "<div>\n",
       "<style scoped>\n",
       "    .dataframe tbody tr th:only-of-type {\n",
       "        vertical-align: middle;\n",
       "    }\n",
       "\n",
       "    .dataframe tbody tr th {\n",
       "        vertical-align: top;\n",
       "    }\n",
       "\n",
       "    .dataframe thead th {\n",
       "        text-align: right;\n",
       "    }\n",
       "</style>\n",
       "<table border=\"1\" class=\"dataframe\">\n",
       "  <thead>\n",
       "    <tr style=\"text-align: right;\">\n",
       "      <th></th>\n",
       "      <th>one</th>\n",
       "      <th>two</th>\n",
       "    </tr>\n",
       "  </thead>\n",
       "  <tbody>\n",
       "    <tr>\n",
       "      <th>a</th>\n",
       "      <td>10</td>\n",
       "      <td>10</td>\n",
       "    </tr>\n",
       "    <tr>\n",
       "      <th>b</th>\n",
       "      <td>20</td>\n",
       "      <td>20</td>\n",
       "    </tr>\n",
       "    <tr>\n",
       "      <th>c</th>\n",
       "      <td>30</td>\n",
       "      <td>30</td>\n",
       "    </tr>\n",
       "    <tr>\n",
       "      <th>d</th>\n",
       "      <td>40</td>\n",
       "      <td>40</td>\n",
       "    </tr>\n",
       "  </tbody>\n",
       "</table>\n",
       "</div>"
      ],
      "text/plain": [
       "   one  two\n",
       "a   10   10\n",
       "b   20   20\n",
       "c   30   30\n",
       "d   40   40"
      ]
     },
     "execution_count": 16,
     "metadata": {},
     "output_type": "execute_result"
    }
   ],
   "source": [
    "# Initialize data to Dicts of series.\n",
    "d = {'one' : pd.Series([10, 20, 30, 40],\n",
    "                       index =['a', 'b', 'c', 'd']),\n",
    "      'two' : pd.Series([10, 20, 30, 40],\n",
    "                        index =['a', 'b', 'c', 'd'])}\n",
    " \n",
    "# creates Dataframe.\n",
    "df = pd.DataFrame(d)\n",
    " \n",
    "# print the data.\n",
    "df"
   ]
  },
  {
   "attachments": {},
   "cell_type": "markdown",
   "id": "b40ef28f-a0b9-4fd4-9f27-c59d0bebbde6",
   "metadata": {},
   "source": [
    "## create Series\n"
   ]
  },
  {
   "cell_type": "code",
   "execution_count": 5,
   "id": "e6c5a23c-33b2-42a4-8de6-71422992d3e1",
   "metadata": {},
   "outputs": [
    {
     "data": {
      "text/plain": [
       "0    1.0\n",
       "1    3.0\n",
       "2    5.0\n",
       "3    NaN\n",
       "4    6.0\n",
       "5    8.0\n",
       "dtype: float64"
      ]
     },
     "execution_count": 5,
     "metadata": {},
     "output_type": "execute_result"
    }
   ],
   "source": [
    "s = pd.Series([1, 3, 5, np.nan, 6, 8])\n",
    "s"
   ]
  },
  {
   "attachments": {},
   "cell_type": "markdown",
   "id": "852a41af-d25c-40ea-89ea-a05900fb3123",
   "metadata": {},
   "source": [
    "# check nan of row and columns\n"
   ]
  },
  {
   "cell_type": "code",
   "execution_count": 31,
   "id": "c12cf5f1-4a8d-4b42-aa62-7b9c3a9834cb",
   "metadata": {},
   "outputs": [
    {
     "name": "stdout",
     "output_type": "stream",
     "text": [
      "    set_of_numbers  column2\n",
      "0              1.0      1.0\n",
      "1              2.0      2.0\n",
      "2              3.0      3.0\n",
      "3              4.0      4.0\n",
      "4              5.0      5.0\n",
      "5              NaN      NaN\n",
      "6              6.0      6.0\n",
      "7              7.0      7.0\n",
      "8              NaN      NaN\n",
      "9              8.0      8.0\n",
      "10             9.0      9.0\n",
      "11            10.0     10.0\n",
      "12             NaN      NaN\n"
     ]
    }
   ],
   "source": [
    "data = {'set_of_numbers': [1,2,3,4,5,np.nan,6,7,np.nan,8,9,10,np.nan], \n",
    "       'column2': [1,2,3,4,5,np.nan,6,7,np.nan,8,9,10,np.nan]}\n",
    "df = pd.DataFrame(data)\n",
    "print (df)"
   ]
  },
  {
   "attachments": {},
   "cell_type": "markdown",
   "id": "0e90b4f0-7e83-4f50-9cfb-2cc7d644fcac",
   "metadata": {},
   "source": [
    "## Check for NaN under a single DataFrame column:\n"
   ]
  },
  {
   "cell_type": "code",
   "execution_count": 24,
   "id": "8bf39768-61dd-4582-8fc8-3bc0294cabea",
   "metadata": {},
   "outputs": [
    {
     "data": {
      "text/plain": [
       "True"
      ]
     },
     "execution_count": 24,
     "metadata": {},
     "output_type": "execute_result"
    }
   ],
   "source": [
    "df['set_of_numbers'].isnull().values.any()"
   ]
  },
  {
   "cell_type": "code",
   "execution_count": 28,
   "id": "7f4fb74e-d1fb-4a00-9ea3-e3dd3665841e",
   "metadata": {},
   "outputs": [
    {
     "data": {
      "text/plain": [
       "3"
      ]
     },
     "execution_count": 28,
     "metadata": {},
     "output_type": "execute_result"
    }
   ],
   "source": [
    "df['set_of_numbers'].isnull().sum()"
   ]
  },
  {
   "cell_type": "code",
   "execution_count": 35,
   "id": "9f5c0335-ce3d-469a-a84f-16dc3775a6eb",
   "metadata": {},
   "outputs": [
    {
     "data": {
      "text/html": [
       "<div>\n",
       "<style scoped>\n",
       "    .dataframe tbody tr th:only-of-type {\n",
       "        vertical-align: middle;\n",
       "    }\n",
       "\n",
       "    .dataframe tbody tr th {\n",
       "        vertical-align: top;\n",
       "    }\n",
       "\n",
       "    .dataframe thead th {\n",
       "        text-align: right;\n",
       "    }\n",
       "</style>\n",
       "<table border=\"1\" class=\"dataframe\">\n",
       "  <thead>\n",
       "    <tr style=\"text-align: right;\">\n",
       "      <th></th>\n",
       "      <th>set_of_numbers</th>\n",
       "      <th>column2</th>\n",
       "    </tr>\n",
       "  </thead>\n",
       "  <tbody>\n",
       "    <tr>\n",
       "      <th>0</th>\n",
       "      <td>False</td>\n",
       "      <td>False</td>\n",
       "    </tr>\n",
       "    <tr>\n",
       "      <th>1</th>\n",
       "      <td>False</td>\n",
       "      <td>False</td>\n",
       "    </tr>\n",
       "    <tr>\n",
       "      <th>2</th>\n",
       "      <td>False</td>\n",
       "      <td>False</td>\n",
       "    </tr>\n",
       "    <tr>\n",
       "      <th>3</th>\n",
       "      <td>False</td>\n",
       "      <td>False</td>\n",
       "    </tr>\n",
       "    <tr>\n",
       "      <th>4</th>\n",
       "      <td>False</td>\n",
       "      <td>False</td>\n",
       "    </tr>\n",
       "  </tbody>\n",
       "</table>\n",
       "</div>"
      ],
      "text/plain": [
       "   set_of_numbers  column2\n",
       "0           False    False\n",
       "1           False    False\n",
       "2           False    False\n",
       "3           False    False\n",
       "4           False    False"
      ]
     },
     "execution_count": 35,
     "metadata": {},
     "output_type": "execute_result"
    }
   ],
   "source": [
    "df.isnull().head()"
   ]
  },
  {
   "attachments": {},
   "cell_type": "markdown",
   "id": "806b9262-c293-452e-8493-872adb352e26",
   "metadata": {},
   "source": [
    "## ways of fill nan\n",
    "\n",
    "- https://vimsky.com/zh-tw/examples/usage/python-pandas.DataFrame.fillna.html\n"
   ]
  },
  {
   "attachments": {},
   "cell_type": "markdown",
   "id": "635e301a",
   "metadata": {},
   "source": [
    "## dropna\n"
   ]
  },
  {
   "cell_type": "code",
   "execution_count": 13,
   "id": "4965cdf7",
   "metadata": {},
   "outputs": [
    {
     "name": "stdout",
     "output_type": "stream",
     "text": [
      "   Courses      Fee Duration\n",
      "0    Spark  22000.0   30days\n",
      "1  PySpark  25000.0      NaN\n",
      "2    Spark      NaN   30days\n",
      "3   Python      NaN      N/A\n",
      "4  PySpark      NaN      NaN\n",
      "5     Java      NaN      NaN\n"
     ]
    }
   ],
   "source": [
    "# Create a pandas DataFrame.\n",
    "import pandas as pd\n",
    "import numpy as np\n",
    "technologies= {\n",
    "    'Courses':[\"Spark\",\"PySpark\",\"Spark\",\"Python\",\"PySpark\",\"Java\"],\n",
    "    'Fee' :[22000,25000,np.nan,np.nan,np.nan,np.nan],\n",
    "    'Duration':['30days',np.nan,'30days','N/A', np.nan,np.nan]\n",
    "          }\n",
    "df = pd.DataFrame(technologies)\n",
    "print(df)"
   ]
  },
  {
   "cell_type": "code",
   "execution_count": 14,
   "id": "2748296b",
   "metadata": {},
   "outputs": [
    {
     "name": "stdout",
     "output_type": "stream",
     "text": [
      "  Courses      Fee Duration\n",
      "0   Spark  22000.0   30days\n"
     ]
    }
   ],
   "source": [
    "# Using DataFrame.dropna() method drop all rows that have NAN/none.\n",
    "df2=df.dropna()\n",
    "print(df2)"
   ]
  },
  {
   "cell_type": "code",
   "execution_count": null,
   "id": "656f2cfd",
   "metadata": {},
   "outputs": [],
   "source": []
  },
  {
   "attachments": {},
   "cell_type": "markdown",
   "id": "e9d5fada-9568-4c2e-8523-9591fde565fa",
   "metadata": {},
   "source": [
    "# add a column\n"
   ]
  },
  {
   "attachments": {},
   "cell_type": "markdown",
   "id": "e07729bb-6fad-46d0-a9fc-57458838e427",
   "metadata": {},
   "source": [
    "## change value of particular row and column\n"
   ]
  },
  {
   "cell_type": "code",
   "execution_count": 20,
   "id": "96dbc8ae-f4f0-49e2-a706-0075e68e0542",
   "metadata": {},
   "outputs": [
    {
     "data": {
      "text/html": [
       "<div>\n",
       "<style scoped>\n",
       "    .dataframe tbody tr th:only-of-type {\n",
       "        vertical-align: middle;\n",
       "    }\n",
       "\n",
       "    .dataframe tbody tr th {\n",
       "        vertical-align: top;\n",
       "    }\n",
       "\n",
       "    .dataframe thead th {\n",
       "        text-align: right;\n",
       "    }\n",
       "</style>\n",
       "<table border=\"1\" class=\"dataframe\">\n",
       "  <thead>\n",
       "    <tr style=\"text-align: right;\">\n",
       "      <th></th>\n",
       "      <th>column1</th>\n",
       "      <th>column2</th>\n",
       "    </tr>\n",
       "  </thead>\n",
       "  <tbody>\n",
       "    <tr>\n",
       "      <th>0</th>\n",
       "      <td>1.0</td>\n",
       "      <td>1.0</td>\n",
       "    </tr>\n",
       "    <tr>\n",
       "      <th>1</th>\n",
       "      <td>2.0</td>\n",
       "      <td>2.0</td>\n",
       "    </tr>\n",
       "    <tr>\n",
       "      <th>2</th>\n",
       "      <td>3.0</td>\n",
       "      <td>3.0</td>\n",
       "    </tr>\n",
       "    <tr>\n",
       "      <th>3</th>\n",
       "      <td>4.0</td>\n",
       "      <td>4.0</td>\n",
       "    </tr>\n",
       "    <tr>\n",
       "      <th>4</th>\n",
       "      <td>5.0</td>\n",
       "      <td>5.0</td>\n",
       "    </tr>\n",
       "    <tr>\n",
       "      <th>5</th>\n",
       "      <td>NaN</td>\n",
       "      <td>NaN</td>\n",
       "    </tr>\n",
       "    <tr>\n",
       "      <th>6</th>\n",
       "      <td>6.0</td>\n",
       "      <td>6.0</td>\n",
       "    </tr>\n",
       "    <tr>\n",
       "      <th>7</th>\n",
       "      <td>7.0</td>\n",
       "      <td>7.0</td>\n",
       "    </tr>\n",
       "    <tr>\n",
       "      <th>8</th>\n",
       "      <td>NaN</td>\n",
       "      <td>NaN</td>\n",
       "    </tr>\n",
       "    <tr>\n",
       "      <th>9</th>\n",
       "      <td>8.0</td>\n",
       "      <td>8.0</td>\n",
       "    </tr>\n",
       "    <tr>\n",
       "      <th>10</th>\n",
       "      <td>9.0</td>\n",
       "      <td>9.0</td>\n",
       "    </tr>\n",
       "    <tr>\n",
       "      <th>11</th>\n",
       "      <td>10.0</td>\n",
       "      <td>10.0</td>\n",
       "    </tr>\n",
       "    <tr>\n",
       "      <th>12</th>\n",
       "      <td>NaN</td>\n",
       "      <td>NaN</td>\n",
       "    </tr>\n",
       "  </tbody>\n",
       "</table>\n",
       "</div>"
      ],
      "text/plain": [
       "    column1  column2\n",
       "0       1.0      1.0\n",
       "1       2.0      2.0\n",
       "2       3.0      3.0\n",
       "3       4.0      4.0\n",
       "4       5.0      5.0\n",
       "5       NaN      NaN\n",
       "6       6.0      6.0\n",
       "7       7.0      7.0\n",
       "8       NaN      NaN\n",
       "9       8.0      8.0\n",
       "10      9.0      9.0\n",
       "11     10.0     10.0\n",
       "12      NaN      NaN"
      ]
     },
     "execution_count": 20,
     "metadata": {},
     "output_type": "execute_result"
    }
   ],
   "source": [
    "data = {'column1': [1,2,3,4,5,np.nan,6,7,np.nan,8,9,10,np.nan], \n",
    "       'column2': [1,2,3,4,5,np.nan,6,7,np.nan,8,9,10,np.nan]}\n",
    "df = pd.DataFrame(data)\n",
    "# df['column3'] = list(range(len(data['column1'])))\n",
    "df['column3'] = 0\n",
    "\n",
    "\n",
    "df.loc[[11, 12], 'column3'] = [1, 3]\n",
    "df.drop(['column3'], axis=1, inplace=True)\n",
    "df"
   ]
  },
  {
   "cell_type": "code",
   "execution_count": 18,
   "id": "98d17415-fe85-49f9-894e-aed95f9bed8e",
   "metadata": {},
   "outputs": [
    {
     "data": {
      "text/plain": [
       "2"
      ]
     },
     "execution_count": 18,
     "metadata": {},
     "output_type": "execute_result"
    }
   ],
   "source": [
    "df.index[2]"
   ]
  },
  {
   "attachments": {},
   "cell_type": "markdown",
   "id": "6b641b80-a55d-445a-ae78-e4df36ab56d3",
   "metadata": {},
   "source": [
    "# copy\n",
    "\n",
    "## copy columns and also keep index\n"
   ]
  },
  {
   "cell_type": "code",
   "execution_count": 8,
   "id": "acfef98f-bea1-4982-bd46-83d94b626603",
   "metadata": {},
   "outputs": [
    {
     "name": "stdout",
     "output_type": "stream",
     "text": [
      "       col1  col2  col3\n",
      "rank1     1     4     7\n",
      "rank2     2     5     8\n",
      "rank3     3     6     9\n"
     ]
    }
   ],
   "source": [
    "data = {\"col1\": [1, 2, 3], \"col2\": [4, 5, 6], \"col3\": [7, 8, 9]}\n",
    "df = pd.DataFrame(data, index=['rank1', 'rank2', 'rank3'])\n",
    "print(df.head())\n",
    "selected_columns = df[[\"col1\", \"col2\"]]"
   ]
  },
  {
   "cell_type": "code",
   "execution_count": 9,
   "id": "5d9a594d-69ef-4187-a5dc-63f47948c142",
   "metadata": {},
   "outputs": [
    {
     "data": {
      "text/html": [
       "<div>\n",
       "<style scoped>\n",
       "    .dataframe tbody tr th:only-of-type {\n",
       "        vertical-align: middle;\n",
       "    }\n",
       "\n",
       "    .dataframe tbody tr th {\n",
       "        vertical-align: top;\n",
       "    }\n",
       "\n",
       "    .dataframe thead th {\n",
       "        text-align: right;\n",
       "    }\n",
       "</style>\n",
       "<table border=\"1\" class=\"dataframe\">\n",
       "  <thead>\n",
       "    <tr style=\"text-align: right;\">\n",
       "      <th></th>\n",
       "      <th>col1</th>\n",
       "      <th>col2</th>\n",
       "    </tr>\n",
       "  </thead>\n",
       "  <tbody>\n",
       "    <tr>\n",
       "      <th>rank1</th>\n",
       "      <td>1</td>\n",
       "      <td>4</td>\n",
       "    </tr>\n",
       "    <tr>\n",
       "      <th>rank2</th>\n",
       "      <td>2</td>\n",
       "      <td>5</td>\n",
       "    </tr>\n",
       "    <tr>\n",
       "      <th>rank3</th>\n",
       "      <td>3</td>\n",
       "      <td>6</td>\n",
       "    </tr>\n",
       "  </tbody>\n",
       "</table>\n",
       "</div>"
      ],
      "text/plain": [
       "       col1  col2\n",
       "rank1     1     4\n",
       "rank2     2     5\n",
       "rank3     3     6"
      ]
     },
     "execution_count": 9,
     "metadata": {},
     "output_type": "execute_result"
    }
   ],
   "source": [
    "selected_columns"
   ]
  },
  {
   "attachments": {},
   "cell_type": "markdown",
   "id": "97afc394-ea40-4db7-8112-c3450c483f9f",
   "metadata": {},
   "source": [
    "## copy by merging multiple indices (tolist first)\n"
   ]
  },
  {
   "cell_type": "code",
   "execution_count": 40,
   "id": "73a51cc7-d15b-4246-b1b0-4b31de8a275e",
   "metadata": {
    "tags": []
   },
   "outputs": [
    {
     "data": {
      "text/html": [
       "<div>\n",
       "<style scoped>\n",
       "    .dataframe tbody tr th:only-of-type {\n",
       "        vertical-align: middle;\n",
       "    }\n",
       "\n",
       "    .dataframe tbody tr th {\n",
       "        vertical-align: top;\n",
       "    }\n",
       "\n",
       "    .dataframe thead th {\n",
       "        text-align: right;\n",
       "    }\n",
       "</style>\n",
       "<table border=\"1\" class=\"dataframe\">\n",
       "  <thead>\n",
       "    <tr style=\"text-align: right;\">\n",
       "      <th></th>\n",
       "      <th>col1</th>\n",
       "      <th>col2</th>\n",
       "      <th>col3</th>\n",
       "    </tr>\n",
       "  </thead>\n",
       "  <tbody>\n",
       "    <tr>\n",
       "      <th>rank1</th>\n",
       "      <td>1</td>\n",
       "      <td>4</td>\n",
       "      <td>9</td>\n",
       "    </tr>\n",
       "    <tr>\n",
       "      <th>rank2</th>\n",
       "      <td>2</td>\n",
       "      <td>5</td>\n",
       "      <td>9</td>\n",
       "    </tr>\n",
       "    <tr>\n",
       "      <th>rank1</th>\n",
       "      <td>1</td>\n",
       "      <td>4</td>\n",
       "      <td>9</td>\n",
       "    </tr>\n",
       "    <tr>\n",
       "      <th>rank2</th>\n",
       "      <td>2</td>\n",
       "      <td>5</td>\n",
       "      <td>9</td>\n",
       "    </tr>\n",
       "  </tbody>\n",
       "</table>\n",
       "</div>"
      ],
      "text/plain": [
       "       col1  col2  col3\n",
       "rank1     1     4     9\n",
       "rank2     2     5     9\n",
       "rank1     1     4     9\n",
       "rank2     2     5     9"
      ]
     },
     "execution_count": 40,
     "metadata": {},
     "output_type": "execute_result"
    }
   ],
   "source": [
    "new_df = df.loc[selected_columns.index[:2].tolist() + selected_columns.index[:2].tolist()]\n",
    "new_df['col3'] = 9\n",
    "new_df"
   ]
  },
  {
   "attachments": {},
   "cell_type": "markdown",
   "id": "e72f1567-a736-4e31-887f-9f77121206fc",
   "metadata": {},
   "source": [
    "# index\n"
   ]
  },
  {
   "attachments": {},
   "cell_type": "markdown",
   "id": "01055405",
   "metadata": {},
   "source": [
    "## reindex\n"
   ]
  },
  {
   "cell_type": "code",
   "execution_count": null,
   "id": "7459a655",
   "metadata": {},
   "outputs": [],
   "source": []
  },
  {
   "attachments": {},
   "cell_type": "markdown",
   "id": "23f4f610-a89e-4d44-9212-d3614f4b4ce5",
   "metadata": {},
   "source": [
    "## set a column as index\n"
   ]
  },
  {
   "cell_type": "code",
   "execution_count": 25,
   "id": "a220f0c6-fa6d-46d0-b348-edb217dea8f9",
   "metadata": {},
   "outputs": [
    {
     "data": {
      "text/html": [
       "<div>\n",
       "<style scoped>\n",
       "    .dataframe tbody tr th:only-of-type {\n",
       "        vertical-align: middle;\n",
       "    }\n",
       "\n",
       "    .dataframe tbody tr th {\n",
       "        vertical-align: top;\n",
       "    }\n",
       "\n",
       "    .dataframe thead th {\n",
       "        text-align: right;\n",
       "    }\n",
       "</style>\n",
       "<table border=\"1\" class=\"dataframe\">\n",
       "  <thead>\n",
       "    <tr style=\"text-align: right;\">\n",
       "      <th></th>\n",
       "      <th>first_name</th>\n",
       "      <th>last_name</th>\n",
       "      <th>company_name</th>\n",
       "      <th>address</th>\n",
       "      <th>city</th>\n",
       "      <th>county</th>\n",
       "      <th>postal</th>\n",
       "      <th>phone1</th>\n",
       "      <th>phone2</th>\n",
       "      <th>email</th>\n",
       "      <th>web</th>\n",
       "    </tr>\n",
       "  </thead>\n",
       "  <tbody>\n",
       "    <tr>\n",
       "      <th>0</th>\n",
       "      <td>Aleshia</td>\n",
       "      <td>Tomkiewicz</td>\n",
       "      <td>Alan D Rosenburg Cpa Pc</td>\n",
       "      <td>14 Taylor St</td>\n",
       "      <td>St. Stephens Ward</td>\n",
       "      <td>Kent</td>\n",
       "      <td>CT2 7PP</td>\n",
       "      <td>01835-703597</td>\n",
       "      <td>01944-369967</td>\n",
       "      <td>atomkiewicz@hotmail.com</td>\n",
       "      <td>http://www.alandrosenburgcpapc.co.uk</td>\n",
       "    </tr>\n",
       "    <tr>\n",
       "      <th>1</th>\n",
       "      <td>Evan</td>\n",
       "      <td>Zigomalas</td>\n",
       "      <td>Cap Gemini America</td>\n",
       "      <td>5 Binney St</td>\n",
       "      <td>Abbey Ward</td>\n",
       "      <td>Buckinghamshire</td>\n",
       "      <td>HP11 2AX</td>\n",
       "      <td>01937-864715</td>\n",
       "      <td>01714-737668</td>\n",
       "      <td>evan.zigomalas@gmail.com</td>\n",
       "      <td>http://www.capgeminiamerica.co.uk</td>\n",
       "    </tr>\n",
       "    <tr>\n",
       "      <th>2</th>\n",
       "      <td>France</td>\n",
       "      <td>Andrade</td>\n",
       "      <td>Elliott, John W Esq</td>\n",
       "      <td>8 Moor Place</td>\n",
       "      <td>East Southbourne and Tuckton W</td>\n",
       "      <td>Bournemouth</td>\n",
       "      <td>BH6 3BE</td>\n",
       "      <td>01347-368222</td>\n",
       "      <td>01935-821636</td>\n",
       "      <td>france.andrade@hotmail.com</td>\n",
       "      <td>http://www.elliottjohnwesq.co.uk</td>\n",
       "    </tr>\n",
       "    <tr>\n",
       "      <th>3</th>\n",
       "      <td>Ulysses</td>\n",
       "      <td>Mcwalters</td>\n",
       "      <td>Mcmahan, Ben L</td>\n",
       "      <td>505 Exeter Rd</td>\n",
       "      <td>Hawerby cum Beesby</td>\n",
       "      <td>Lincolnshire</td>\n",
       "      <td>DN36 5RP</td>\n",
       "      <td>01912-771311</td>\n",
       "      <td>01302-601380</td>\n",
       "      <td>ulysses@hotmail.com</td>\n",
       "      <td>http://www.mcmahanbenl.co.uk</td>\n",
       "    </tr>\n",
       "    <tr>\n",
       "      <th>4</th>\n",
       "      <td>Tyisha</td>\n",
       "      <td>Veness</td>\n",
       "      <td>Champagne Room</td>\n",
       "      <td>5396 Forth Street</td>\n",
       "      <td>Greets Green and Lyng Ward</td>\n",
       "      <td>West Midlands</td>\n",
       "      <td>B70 9DT</td>\n",
       "      <td>01547-429341</td>\n",
       "      <td>01290-367248</td>\n",
       "      <td>tyisha.veness@hotmail.com</td>\n",
       "      <td>http://www.champagneroom.co.uk</td>\n",
       "    </tr>\n",
       "  </tbody>\n",
       "</table>\n",
       "</div>"
      ],
      "text/plain": [
       "  first_name   last_name             company_name            address  \\\n",
       "0    Aleshia  Tomkiewicz  Alan D Rosenburg Cpa Pc       14 Taylor St   \n",
       "1       Evan   Zigomalas       Cap Gemini America        5 Binney St   \n",
       "2     France     Andrade      Elliott, John W Esq       8 Moor Place   \n",
       "3    Ulysses   Mcwalters           Mcmahan, Ben L      505 Exeter Rd   \n",
       "4     Tyisha      Veness           Champagne Room  5396 Forth Street   \n",
       "\n",
       "                             city           county    postal        phone1  \\\n",
       "0               St. Stephens Ward             Kent   CT2 7PP  01835-703597   \n",
       "1                      Abbey Ward  Buckinghamshire  HP11 2AX  01937-864715   \n",
       "2  East Southbourne and Tuckton W      Bournemouth   BH6 3BE  01347-368222   \n",
       "3              Hawerby cum Beesby     Lincolnshire  DN36 5RP  01912-771311   \n",
       "4      Greets Green and Lyng Ward    West Midlands   B70 9DT  01547-429341   \n",
       "\n",
       "         phone2                       email  \\\n",
       "0  01944-369967     atomkiewicz@hotmail.com   \n",
       "1  01714-737668    evan.zigomalas@gmail.com   \n",
       "2  01935-821636  france.andrade@hotmail.com   \n",
       "3  01302-601380         ulysses@hotmail.com   \n",
       "4  01290-367248   tyisha.veness@hotmail.com   \n",
       "\n",
       "                                    web  \n",
       "0  http://www.alandrosenburgcpapc.co.uk  \n",
       "1     http://www.capgeminiamerica.co.uk  \n",
       "2      http://www.elliottjohnwesq.co.uk  \n",
       "3          http://www.mcmahanbenl.co.uk  \n",
       "4        http://www.champagneroom.co.uk  "
      ]
     },
     "execution_count": 25,
     "metadata": {},
     "output_type": "execute_result"
    }
   ],
   "source": [
    "data.head()"
   ]
  },
  {
   "cell_type": "code",
   "execution_count": 26,
   "id": "f3ee87ab-cca2-4361-9404-a13cc7b93c1b",
   "metadata": {},
   "outputs": [
    {
     "data": {
      "text/html": [
       "<div>\n",
       "<style scoped>\n",
       "    .dataframe tbody tr th:only-of-type {\n",
       "        vertical-align: middle;\n",
       "    }\n",
       "\n",
       "    .dataframe tbody tr th {\n",
       "        vertical-align: top;\n",
       "    }\n",
       "\n",
       "    .dataframe thead th {\n",
       "        text-align: right;\n",
       "    }\n",
       "</style>\n",
       "<table border=\"1\" class=\"dataframe\">\n",
       "  <thead>\n",
       "    <tr style=\"text-align: right;\">\n",
       "      <th></th>\n",
       "      <th>first_name</th>\n",
       "      <th>company_name</th>\n",
       "      <th>address</th>\n",
       "      <th>city</th>\n",
       "      <th>county</th>\n",
       "      <th>postal</th>\n",
       "      <th>phone1</th>\n",
       "      <th>phone2</th>\n",
       "      <th>email</th>\n",
       "      <th>web</th>\n",
       "    </tr>\n",
       "    <tr>\n",
       "      <th>last_name</th>\n",
       "      <th></th>\n",
       "      <th></th>\n",
       "      <th></th>\n",
       "      <th></th>\n",
       "      <th></th>\n",
       "      <th></th>\n",
       "      <th></th>\n",
       "      <th></th>\n",
       "      <th></th>\n",
       "      <th></th>\n",
       "    </tr>\n",
       "  </thead>\n",
       "  <tbody>\n",
       "    <tr>\n",
       "      <th>Tomkiewicz</th>\n",
       "      <td>Aleshia</td>\n",
       "      <td>Alan D Rosenburg Cpa Pc</td>\n",
       "      <td>14 Taylor St</td>\n",
       "      <td>St. Stephens Ward</td>\n",
       "      <td>Kent</td>\n",
       "      <td>CT2 7PP</td>\n",
       "      <td>01835-703597</td>\n",
       "      <td>01944-369967</td>\n",
       "      <td>atomkiewicz@hotmail.com</td>\n",
       "      <td>http://www.alandrosenburgcpapc.co.uk</td>\n",
       "    </tr>\n",
       "    <tr>\n",
       "      <th>Zigomalas</th>\n",
       "      <td>Evan</td>\n",
       "      <td>Cap Gemini America</td>\n",
       "      <td>5 Binney St</td>\n",
       "      <td>Abbey Ward</td>\n",
       "      <td>Buckinghamshire</td>\n",
       "      <td>HP11 2AX</td>\n",
       "      <td>01937-864715</td>\n",
       "      <td>01714-737668</td>\n",
       "      <td>evan.zigomalas@gmail.com</td>\n",
       "      <td>http://www.capgeminiamerica.co.uk</td>\n",
       "    </tr>\n",
       "    <tr>\n",
       "      <th>Andrade</th>\n",
       "      <td>France</td>\n",
       "      <td>Elliott, John W Esq</td>\n",
       "      <td>8 Moor Place</td>\n",
       "      <td>East Southbourne and Tuckton W</td>\n",
       "      <td>Bournemouth</td>\n",
       "      <td>BH6 3BE</td>\n",
       "      <td>01347-368222</td>\n",
       "      <td>01935-821636</td>\n",
       "      <td>france.andrade@hotmail.com</td>\n",
       "      <td>http://www.elliottjohnwesq.co.uk</td>\n",
       "    </tr>\n",
       "    <tr>\n",
       "      <th>Mcwalters</th>\n",
       "      <td>Ulysses</td>\n",
       "      <td>Mcmahan, Ben L</td>\n",
       "      <td>505 Exeter Rd</td>\n",
       "      <td>Hawerby cum Beesby</td>\n",
       "      <td>Lincolnshire</td>\n",
       "      <td>DN36 5RP</td>\n",
       "      <td>01912-771311</td>\n",
       "      <td>01302-601380</td>\n",
       "      <td>ulysses@hotmail.com</td>\n",
       "      <td>http://www.mcmahanbenl.co.uk</td>\n",
       "    </tr>\n",
       "    <tr>\n",
       "      <th>Veness</th>\n",
       "      <td>Tyisha</td>\n",
       "      <td>Champagne Room</td>\n",
       "      <td>5396 Forth Street</td>\n",
       "      <td>Greets Green and Lyng Ward</td>\n",
       "      <td>West Midlands</td>\n",
       "      <td>B70 9DT</td>\n",
       "      <td>01547-429341</td>\n",
       "      <td>01290-367248</td>\n",
       "      <td>tyisha.veness@hotmail.com</td>\n",
       "      <td>http://www.champagneroom.co.uk</td>\n",
       "    </tr>\n",
       "  </tbody>\n",
       "</table>\n",
       "</div>"
      ],
      "text/plain": [
       "           first_name             company_name            address  \\\n",
       "last_name                                                           \n",
       "Tomkiewicz    Aleshia  Alan D Rosenburg Cpa Pc       14 Taylor St   \n",
       "Zigomalas        Evan       Cap Gemini America        5 Binney St   \n",
       "Andrade        France      Elliott, John W Esq       8 Moor Place   \n",
       "Mcwalters     Ulysses           Mcmahan, Ben L      505 Exeter Rd   \n",
       "Veness         Tyisha           Champagne Room  5396 Forth Street   \n",
       "\n",
       "                                      city           county    postal  \\\n",
       "last_name                                                               \n",
       "Tomkiewicz               St. Stephens Ward             Kent   CT2 7PP   \n",
       "Zigomalas                       Abbey Ward  Buckinghamshire  HP11 2AX   \n",
       "Andrade     East Southbourne and Tuckton W      Bournemouth   BH6 3BE   \n",
       "Mcwalters               Hawerby cum Beesby     Lincolnshire  DN36 5RP   \n",
       "Veness          Greets Green and Lyng Ward    West Midlands   B70 9DT   \n",
       "\n",
       "                  phone1        phone2                       email  \\\n",
       "last_name                                                            \n",
       "Tomkiewicz  01835-703597  01944-369967     atomkiewicz@hotmail.com   \n",
       "Zigomalas   01937-864715  01714-737668    evan.zigomalas@gmail.com   \n",
       "Andrade     01347-368222  01935-821636  france.andrade@hotmail.com   \n",
       "Mcwalters   01912-771311  01302-601380         ulysses@hotmail.com   \n",
       "Veness      01547-429341  01290-367248   tyisha.veness@hotmail.com   \n",
       "\n",
       "                                             web  \n",
       "last_name                                         \n",
       "Tomkiewicz  http://www.alandrosenburgcpapc.co.uk  \n",
       "Zigomalas      http://www.capgeminiamerica.co.uk  \n",
       "Andrade         http://www.elliottjohnwesq.co.uk  \n",
       "Mcwalters           http://www.mcmahanbenl.co.uk  \n",
       "Veness            http://www.champagneroom.co.uk  "
      ]
     },
     "execution_count": 26,
     "metadata": {},
     "output_type": "execute_result"
    }
   ],
   "source": [
    "data.set_index(\"last_name\", inplace=True)\n",
    "data.head()"
   ]
  },
  {
   "cell_type": "code",
   "execution_count": 32,
   "id": "c6e23c5d-ce80-46f5-b5db-78c4bed6291d",
   "metadata": {},
   "outputs": [
    {
     "data": {
      "text/plain": [
       "first_name                              Tyisha\n",
       "company_name                    Champagne Room\n",
       "address                      5396 Forth Street\n",
       "city                Greets Green and Lyng Ward\n",
       "county                           West Midlands\n",
       "postal                                 B70 9DT\n",
       "phone1                            01547-429341\n",
       "phone2                            01290-367248\n",
       "email                tyisha.veness@hotmail.com\n",
       "web             http://www.champagneroom.co.uk\n",
       "Name: Veness, dtype: object"
      ]
     },
     "execution_count": 32,
     "metadata": {},
     "output_type": "execute_result"
    }
   ],
   "source": [
    "data.loc['Veness']"
   ]
  },
  {
   "cell_type": "code",
   "execution_count": 36,
   "id": "7ddd1f83-92b1-43f9-a41c-58b7096781d7",
   "metadata": {},
   "outputs": [
    {
     "data": {
      "text/plain": [
       "500"
      ]
     },
     "execution_count": 36,
     "metadata": {},
     "output_type": "execute_result"
    }
   ],
   "source": [
    "len(data.index)"
   ]
  },
  {
   "attachments": {},
   "cell_type": "markdown",
   "id": "dcc9222b-0368-466f-aafa-1fccf5674db7",
   "metadata": {},
   "source": [
    "# merge\n",
    "\n",
    "* 适用于横向合并，纵向合并用concat，append\n",
    "\n",
    "## merge 的方式（inner, outer, left, right)：\n",
    "\n",
    "```\n",
    "pd.merge(movies, ratings, on=['movie_id', 'title'], how='inner') # 拿到基于movie_id和title两列数值相同的行\n",
    "   movie_id title description  user_id  rating time\n",
    "0         1    t1          d1        1       5   t1\n",
    "1         2    t2          d2        2       4   t2\n",
    "\n",
    "pd.merge(movies, ratings, on=['movie_id', 'title'], how='outer') # 拿到两边所有的行，没有数据会被拉下，无法merge的列会被填上空值\n",
    "   movie_id title description  user_id  rating time\n",
    "0         1    t1          d1      1.0     5.0   t1\n",
    "1         2    t2          d2      2.0     4.0   t2\n",
    "2         3    t3          d3      NaN     NaN  NaN\n",
    "3         5    t5          d5      NaN     NaN  NaN\n",
    "4         7    t7          d7      NaN     NaN  NaN\n",
    "5         4    t3         NaN      7.0     3.0   t4\n",
    "6         5    t4         NaN      9.0     2.0   t4\n",
    "7         6    t5         NaN     11.0     3.0   t1\n",
    "8         7    t6         NaN     15.0     1.0   t3\n",
    "\n",
    "pd.merge(movies, ratings, on=['movie_id', 'title'], how='left') # 存下左Dataframe所有数值，扔掉右DataFrame中不和左DataFrame重合的行（基于movie_id和title列）\n",
    "   movie_id title description  user_id  rating time\n",
    "0         1    t1          d1      1.0     5.0   t1\n",
    "1         2    t2          d2      2.0     4.0   t2\n",
    "2         3    t3          d3      NaN     NaN  NaN\n",
    "3         5    t5          d5      NaN     NaN  NaN\n",
    "4         7    t7          d7      NaN     NaN  NaN\n",
    "\n",
    "pd.merge(movies, ratings, on=['movie_id', 'title'], how='right') # 和left join相反，存下右DataFrame所有的行，左DataFrame中不和右DataFrame重合的数据会被扔掉\n",
    "   movie_id title description  user_id  rating time\n",
    "0         1    t1          d1        1       5   t1\n",
    "1         2    t2          d2        2       4   t2\n",
    "2         4    t3         NaN        7       3   t4\n",
    "3         5    t4         NaN        9       2   t4\n",
    "4         6    t5         NaN       11       3   t1\n",
    "5         7    t6         NaN       15       1   t3\n",
    "\n",
    "pd.merge(movies, ratings, on=['movie_id', 'title'], how='outer', indicator=True) # 结果中会有一个额外的列_merge显性提示数据的情况\n",
    "   movie_id title description  user_id  rating time      _merge\n",
    "0         1    t1          d1      1.0     5.0   t1        both\n",
    "1         2    t2          d2      2.0     4.0   t2        both\n",
    "2         3    t3          d3      NaN     NaN  NaN   left_only\n",
    "3         5    t5          d5      NaN     NaN  NaN   left_only\n",
    "4         7    t7          d7      NaN     NaN  NaN   left_only\n",
    "5         4    t3         NaN      7.0     3.0   t4  right_only\n",
    "6         5    t4         NaN      9.0     2.0   t4  right_only\n",
    "7         6    t5         NaN     11.0     3.0   t1  right_only\n",
    "8         7    t6         NaN     15.0     1.0   t3  right_only\n",
    "\n",
    "# 自定义indicator column的名称\n",
    "pd.merge(movies, ratings, on=['movie_id', 'title'], how='outer', indicator='indicator_column')\n",
    "\n",
    "   movie_id title description  user_id  rating time indicator_column\n",
    "0         1    t1          d1      1.0     5.0   t1             both\n",
    "1         2    t2          d2      2.0     4.0   t2             both\n",
    "2         3    t3          d3      NaN     NaN  NaN        left_only\n",
    "3         5    t5          d5      NaN     NaN  NaN        left_only\n",
    "4         7    t7          d7      NaN     NaN  NaN        left_only\n",
    "5         4    t3         NaN      7.0     3.0   t4       right_only\n",
    "6         5    t4         NaN      9.0     2.0   t4       right_only\n",
    "7         6    t5         NaN     11.0     3.0   t1       right_only\n",
    "8         7    t6         NaN     15.0     1.0   t3       right_only\n",
    "```"
   ]
  },
  {
   "cell_type": "code",
   "execution_count": 14,
   "id": "29a0e3b3",
   "metadata": {},
   "outputs": [
    {
     "data": {
      "text/html": [
       "<div>\n",
       "<style scoped>\n",
       "    .dataframe tbody tr th:only-of-type {\n",
       "        vertical-align: middle;\n",
       "    }\n",
       "\n",
       "    .dataframe tbody tr th {\n",
       "        vertical-align: top;\n",
       "    }\n",
       "\n",
       "    .dataframe thead th {\n",
       "        text-align: right;\n",
       "    }\n",
       "</style>\n",
       "<table border=\"1\" class=\"dataframe\">\n",
       "  <thead>\n",
       "    <tr style=\"text-align: right;\">\n",
       "      <th></th>\n",
       "      <th>movie_id</th>\n",
       "      <th>title</th>\n",
       "      <th>description</th>\n",
       "      <th>user_id</th>\n",
       "      <th>title_right</th>\n",
       "      <th>rating</th>\n",
       "      <th>time</th>\n",
       "    </tr>\n",
       "  </thead>\n",
       "  <tbody>\n",
       "    <tr>\n",
       "      <th>0</th>\n",
       "      <td>1</td>\n",
       "      <td>t1</td>\n",
       "      <td>d1</td>\n",
       "      <td>1</td>\n",
       "      <td>t1</td>\n",
       "      <td>5</td>\n",
       "      <td>t1</td>\n",
       "    </tr>\n",
       "    <tr>\n",
       "      <th>1</th>\n",
       "      <td>2</td>\n",
       "      <td>t2</td>\n",
       "      <td>d2</td>\n",
       "      <td>2</td>\n",
       "      <td>t2</td>\n",
       "      <td>4</td>\n",
       "      <td>t2</td>\n",
       "    </tr>\n",
       "    <tr>\n",
       "      <th>2</th>\n",
       "      <td>5</td>\n",
       "      <td>t5</td>\n",
       "      <td>d5</td>\n",
       "      <td>9</td>\n",
       "      <td>t4</td>\n",
       "      <td>2</td>\n",
       "      <td>t4</td>\n",
       "    </tr>\n",
       "    <tr>\n",
       "      <th>3</th>\n",
       "      <td>7</td>\n",
       "      <td>t7</td>\n",
       "      <td>d7</td>\n",
       "      <td>15</td>\n",
       "      <td>t6</td>\n",
       "      <td>1</td>\n",
       "      <td>t3</td>\n",
       "    </tr>\n",
       "  </tbody>\n",
       "</table>\n",
       "</div>"
      ],
      "text/plain": [
       "   movie_id title description  user_id title_right  rating time\n",
       "0         1    t1          d1        1          t1       5   t1\n",
       "1         2    t2          d2        2          t2       4   t2\n",
       "2         5    t5          d5        9          t4       2   t4\n",
       "3         7    t7          d7       15          t6       1   t3"
      ]
     },
     "execution_count": 14,
     "metadata": {},
     "output_type": "execute_result"
    }
   ],
   "source": [
    "import numpy as np\n",
    "import pandas as pd\n",
    "\n",
    "movies = pd.DataFrame({\n",
    "    'movie_id': [1, 2, 3, 5, 7],\n",
    "    'title': ['t1', 't2', 't3', 't5', 't7'],\n",
    "    'description': ['d1', 'd2', 'd3', 'd5', 'd7']\n",
    "})\n",
    "\n",
    "ratings = pd.DataFrame({\n",
    "    'user_id': [1, 2, 7, 9, 11, 15],\n",
    "    'movie_id': [1, 2, 4, 5, 6, 7],\n",
    "    'title': ['t1', 't2', 't3', 't4', 't5', 't6'],\n",
    "    'rating': [5, 4, 3, 2, 3, 1],\n",
    "    'time': ['t1', 't2', 't4', 't4', 't1', 't3']\n",
    "})\n",
    "\n",
    "# 然后使用merge函数进行最基础的inner merge：\n",
    "pd.merge(movies, ratings) # 自动基于相同名字的列(movie_id和title)进行inner join，只有同名列上数值相同的行才会被结合。\n",
    "\n",
    "pd.merge(movies, ratings, on=['movie_id', 'title']) # 和上面的结果相同，通过on参数显性定义要join的列\n",
    "\n",
    "pd.merge(movies, ratings, on=['movie_id']) # 只基于 movie_id 列进行结合\n",
    "\n",
    "pd.merge(movies, ratings, left_on='movie_id', right_on='user_id') # 使用左dataframe的movie_id和右dataframe的user_id进行合并\n",
    "\n",
    "pd.merge(movies, ratings, left_index=True, right_index=True) # 基于两边的index进行merge\n",
    "\n",
    "# 如果要解决列名字重合（overlapping）的问题，可以使用suffixes参数来解决： \n",
    "output = pd.merge(movies, ratings, on=['movie_id'], suffixes=['_left', '_right'])\n",
    "'''\n",
    "   movie_id title_left description  user_id title_right  rating time\n",
    "0         1         t1          d1        1          t1       5   t1\n",
    "1         2         t2          d2        2          t2       4   t2\n",
    "2         5         t5          d5        9          t4       2   t4\n",
    "3         7         t7          d7       15          t6       1   t3\n",
    "'''\n",
    "\n",
    "output"
   ]
  },
  {
   "attachments": {},
   "cell_type": "markdown",
   "id": "905a25cc-a5c0-48f7-b715-a0822ec5c223",
   "metadata": {},
   "source": [
    "# join\n"
   ]
  },
  {
   "attachments": {},
   "cell_type": "markdown",
   "id": "fb5e3716",
   "metadata": {},
   "source": [
    "# concat: 纵向合并\n",
    "\n",
    "```\n",
    "使用Concat实现纵向合并（将两个 DataFrame 按照水平方向叠起来）：\n",
    "\n",
    "pd.concat([movies, ratings]) # 纵向结合两个DataFrame，index不会被reset\n",
    "pd.concat([movies, ratings], ignore_index = True)  # index会被reset \n",
    "我们也能使用 concat 进行 inner join 和 outer join（没有left join和right join，default是outer join）：\n",
    "\n",
    "pd.concat([movies, ratings], axis=1) # 将axis设为1后，可基于index进行outer join，但不是真正意义上的join，只是横向水平叠合\n",
    " movie_id title description  user_id  movie_id title  rating time\n",
    "0       1.0    t1          d1        1         1    t1       5   t1\n",
    "1       2.0    t2          d2        2         2    t2       4   t2\n",
    "2       3.0    t3          d3        7         4    t3       3   t4\n",
    "3       5.0    t5          d5        9         5    t4       2   t4\n",
    "4       7.0    t7          d7       11         6    t5       3   t1\n",
    "5       NaN   NaN         NaN       15         7    t6       1   t3\n",
    "\n",
    "pd.concat([movies, ratings], join='inner', axis=1) # 基于index进行inner join\n",
    "\n",
    "pd.concat([movies.set_index('movie_id'), ratings.set_index('movie_id')], join='inner', axis=1) # 基于movie_id进行inner join\n",
    "\n",
    "pd.merge(movies, ratings, on='movie_id') # 执行结果和上面一样\n",
    "```"
   ]
  },
  {
   "cell_type": "code",
   "execution_count": null,
   "id": "720676fb-5ae2-4189-bd4c-10bfa3d15723",
   "metadata": {},
   "outputs": [],
   "source": []
  },
  {
   "attachments": {},
   "cell_type": "markdown",
   "id": "cbe0f232",
   "metadata": {},
   "source": [
    "# locate, slice\n"
   ]
  },
  {
   "cell_type": "code",
   "execution_count": 6,
   "id": "593c8448",
   "metadata": {},
   "outputs": [
    {
     "name": "stdout",
     "output_type": "stream",
     "text": [
      "a    3\n",
      "d    6\n",
      "dtype: int64\n"
     ]
    }
   ],
   "source": [
    "# Access multiple elements by providing label of index\n",
    "import pandas as pd  \n",
    "import numpy as np \n",
    "    \n",
    "ser = pd.Series(np.arange(3, 9), index =['a', 'b', 'c', 'd', 'e', 'f']) \n",
    "    \n",
    "print(ser[['a', 'd']])"
   ]
  },
  {
   "cell_type": "code",
   "execution_count": null,
   "id": "03f9e06b",
   "metadata": {},
   "outputs": [],
   "source": [
    "# Access multiple elements by using multi-index\n",
    "# _a.loc[:, ['CLOSE0', 'OPEN0', 'LOW0', 'VOLUME0', 'HIGH0']]"
   ]
  },
  {
   "cell_type": "code",
   "execution_count": 4,
   "id": "97768932",
   "metadata": {},
   "outputs": [
    {
     "data": {
      "text/plain": [
       "1    2\n",
       "2    3\n",
       "dtype: int64"
      ]
     },
     "execution_count": 4,
     "metadata": {},
     "output_type": "execute_result"
    }
   ],
   "source": [
    "# <!-- sa = pd.Series([1, 2, 3], index=list('abc'))\n",
    "import pandas as pd\n",
    "sa = pd.Series([1, 2, 3])\n",
    "sa.loc[[1, 2]]"
   ]
  },
  {
   "cell_type": "code",
   "execution_count": null,
   "id": "86594396",
   "metadata": {},
   "outputs": [],
   "source": [
    "import pandas as pd\n",
    "\n",
    "data = [['tom', 10], ['nick', 15], ['juli', 14]]\n",
    "# Create the pandas DataFrame\n",
    "df = pd.DataFrame(data, columns=['Name', 'Age'])\n",
    "df.pipe"
   ]
  },
  {
   "attachments": {},
   "cell_type": "markdown",
   "id": "8453cb2f",
   "metadata": {},
   "source": [
    "# iterate rows\n",
    "\n",
    "## iterrows()\n",
    "\n",
    "```python\n",
    "for idx, row in major_stock_contract.iterrows():\n",
    "    if row['vt_symbol'][0:3] not in ['600', '601', '603', '605', '000']:\n",
    "        # print(row['name'], row['vt_symbol'])\n",
    "        others_set.add(row['vt_symbol'][0:3])\n",
    "```\n"
   ]
  },
  {
   "attachments": {},
   "cell_type": "markdown",
   "id": "acac07c3",
   "metadata": {},
   "source": [
    "# multi-index\n"
   ]
  },
  {
   "attachments": {},
   "cell_type": "markdown",
   "id": "98aaa2d2",
   "metadata": {},
   "source": [
    "## set multi index, and loc by both axis0 index and column names\n"
   ]
  },
  {
   "cell_type": "code",
   "execution_count": 16,
   "id": "c37d0cd7",
   "metadata": {},
   "outputs": [
    {
     "name": "stdout",
     "output_type": "stream",
     "text": [
      "                                  series  Ratings  Date\n",
      "  series         Ratings                               \n",
      "0 Peaky blinders 4.5      Peaky blinders      4.5  2013\n",
      "1 Sherlock       5.0            Sherlock      5.0  2010\n",
      "2 The crown      3.9           The crown      3.9  2016\n",
      "3 Queens Gambit  4.2       Queens Gambit      4.2  2020\n",
      "4 Friends        5.0             Friends      5.0  1994\n"
     ]
    }
   ],
   "source": [
    "import pandas as pd\n",
    " \n",
    "# making data for dataframing\n",
    "data = {\n",
    "    'series': ['Peaky blinders', 'Sherlock', 'The crown',\n",
    "               'Queens Gambit', 'Friends'],\n",
    "     \n",
    "    'Ratings': [4.5, 5, 3.9, 4.2, 5],\n",
    "     \n",
    "    'Date': [2013, 2010, 2016, 2020, 1994]\n",
    "}\n",
    " \n",
    "# Dataframing the whole data created\n",
    "df = pd.DataFrame(data)\n",
    " \n",
    "# setting first and the second name\n",
    "# as index column\n",
    "df.set_index([\"series\", \"Ratings\"], inplace=True, append=True, drop=False)\n",
    "# display the dataframe\n",
    "print(df)"
   ]
  },
  {
   "cell_type": "code",
   "execution_count": 17,
   "id": "27f12a88",
   "metadata": {},
   "outputs": [
    {
     "name": "stdout",
     "output_type": "stream",
     "text": [
      "MultiIndex([(0, 'Peaky blinders', 4.5),\n",
      "            (1,       'Sherlock', 5.0),\n",
      "            (2,      'The crown', 3.9),\n",
      "            (3,  'Queens Gambit', 4.2),\n",
      "            (4,        'Friends', 5.0)],\n",
      "           names=[None, 'series', 'Ratings'])\n"
     ]
    }
   ],
   "source": [
    "print(df.index)"
   ]
  },
  {
   "cell_type": "code",
   "execution_count": 18,
   "id": "a8363656",
   "metadata": {},
   "outputs": [
    {
     "data": {
      "text/html": [
       "<div>\n",
       "<style scoped>\n",
       "    .dataframe tbody tr th:only-of-type {\n",
       "        vertical-align: middle;\n",
       "    }\n",
       "\n",
       "    .dataframe tbody tr th {\n",
       "        vertical-align: top;\n",
       "    }\n",
       "\n",
       "    .dataframe thead th {\n",
       "        text-align: right;\n",
       "    }\n",
       "</style>\n",
       "<table border=\"1\" class=\"dataframe\">\n",
       "  <thead>\n",
       "    <tr style=\"text-align: right;\">\n",
       "      <th></th>\n",
       "      <th></th>\n",
       "      <th></th>\n",
       "      <th>series</th>\n",
       "      <th>Ratings</th>\n",
       "    </tr>\n",
       "    <tr>\n",
       "      <th></th>\n",
       "      <th>series</th>\n",
       "      <th>Ratings</th>\n",
       "      <th></th>\n",
       "      <th></th>\n",
       "    </tr>\n",
       "  </thead>\n",
       "  <tbody>\n",
       "    <tr>\n",
       "      <th>0</th>\n",
       "      <th>Peaky blinders</th>\n",
       "      <th>4.5</th>\n",
       "      <td>Peaky blinders</td>\n",
       "      <td>4.5</td>\n",
       "    </tr>\n",
       "    <tr>\n",
       "      <th>1</th>\n",
       "      <th>Sherlock</th>\n",
       "      <th>5.0</th>\n",
       "      <td>Sherlock</td>\n",
       "      <td>5.0</td>\n",
       "    </tr>\n",
       "    <tr>\n",
       "      <th>2</th>\n",
       "      <th>The crown</th>\n",
       "      <th>3.9</th>\n",
       "      <td>The crown</td>\n",
       "      <td>3.9</td>\n",
       "    </tr>\n",
       "    <tr>\n",
       "      <th>3</th>\n",
       "      <th>Queens Gambit</th>\n",
       "      <th>4.2</th>\n",
       "      <td>Queens Gambit</td>\n",
       "      <td>4.2</td>\n",
       "    </tr>\n",
       "    <tr>\n",
       "      <th>4</th>\n",
       "      <th>Friends</th>\n",
       "      <th>5.0</th>\n",
       "      <td>Friends</td>\n",
       "      <td>5.0</td>\n",
       "    </tr>\n",
       "  </tbody>\n",
       "</table>\n",
       "</div>"
      ],
      "text/plain": [
       "                                  series  Ratings\n",
       "  series         Ratings                         \n",
       "0 Peaky blinders 4.5      Peaky blinders      4.5\n",
       "1 Sherlock       5.0            Sherlock      5.0\n",
       "2 The crown      3.9           The crown      3.9\n",
       "3 Queens Gambit  4.2       Queens Gambit      4.2\n",
       "4 Friends        5.0             Friends      5.0"
      ]
     },
     "execution_count": 18,
     "metadata": {},
     "output_type": "execute_result"
    }
   ],
   "source": [
    "df.loc[:, ['series', 'Ratings']]"
   ]
  },
  {
   "attachments": {},
   "cell_type": "markdown",
   "id": "3ee99e9d",
   "metadata": {},
   "source": [
    "## locate multi-index index (row)\n"
   ]
  },
  {
   "cell_type": "code",
   "execution_count": 19,
   "id": "f14b14bb",
   "metadata": {},
   "outputs": [
    {
     "data": {
      "text/html": [
       "<div>\n",
       "<style scoped>\n",
       "    .dataframe tbody tr th:only-of-type {\n",
       "        vertical-align: middle;\n",
       "    }\n",
       "\n",
       "    .dataframe tbody tr th {\n",
       "        vertical-align: top;\n",
       "    }\n",
       "\n",
       "    .dataframe thead th {\n",
       "        text-align: right;\n",
       "    }\n",
       "</style>\n",
       "<table border=\"1\" class=\"dataframe\">\n",
       "  <thead>\n",
       "    <tr style=\"text-align: right;\">\n",
       "      <th></th>\n",
       "      <th></th>\n",
       "      <th>0</th>\n",
       "      <th>1</th>\n",
       "      <th>2</th>\n",
       "      <th>3</th>\n",
       "    </tr>\n",
       "  </thead>\n",
       "  <tbody>\n",
       "    <tr>\n",
       "      <th rowspan=\"2\" valign=\"top\">bar</th>\n",
       "      <th>one</th>\n",
       "      <td>0.725010</td>\n",
       "      <td>-1.015735</td>\n",
       "      <td>-1.172710</td>\n",
       "      <td>-0.367887</td>\n",
       "    </tr>\n",
       "    <tr>\n",
       "      <th>two</th>\n",
       "      <td>1.254657</td>\n",
       "      <td>0.961418</td>\n",
       "      <td>0.276529</td>\n",
       "      <td>1.311037</td>\n",
       "    </tr>\n",
       "    <tr>\n",
       "      <th rowspan=\"2\" valign=\"top\">baz</th>\n",
       "      <th>one</th>\n",
       "      <td>1.568128</td>\n",
       "      <td>-0.215245</td>\n",
       "      <td>-0.051744</td>\n",
       "      <td>-1.550783</td>\n",
       "    </tr>\n",
       "    <tr>\n",
       "      <th>two</th>\n",
       "      <td>-0.539466</td>\n",
       "      <td>0.217325</td>\n",
       "      <td>-0.869516</td>\n",
       "      <td>0.227311</td>\n",
       "    </tr>\n",
       "    <tr>\n",
       "      <th rowspan=\"2\" valign=\"top\">foo</th>\n",
       "      <th>one</th>\n",
       "      <td>0.416601</td>\n",
       "      <td>-0.117201</td>\n",
       "      <td>0.454117</td>\n",
       "      <td>-1.017816</td>\n",
       "    </tr>\n",
       "    <tr>\n",
       "      <th>two</th>\n",
       "      <td>-0.619394</td>\n",
       "      <td>1.752729</td>\n",
       "      <td>-0.540516</td>\n",
       "      <td>1.722148</td>\n",
       "    </tr>\n",
       "    <tr>\n",
       "      <th rowspan=\"2\" valign=\"top\">qux</th>\n",
       "      <th>one</th>\n",
       "      <td>1.925168</td>\n",
       "      <td>-0.048767</td>\n",
       "      <td>-0.391424</td>\n",
       "      <td>0.956501</td>\n",
       "    </tr>\n",
       "    <tr>\n",
       "      <th>two</th>\n",
       "      <td>0.299726</td>\n",
       "      <td>1.497214</td>\n",
       "      <td>-1.041282</td>\n",
       "      <td>-1.049099</td>\n",
       "    </tr>\n",
       "  </tbody>\n",
       "</table>\n",
       "</div>"
      ],
      "text/plain": [
       "                0         1         2         3\n",
       "bar one  0.725010 -1.015735 -1.172710 -0.367887\n",
       "    two  1.254657  0.961418  0.276529  1.311037\n",
       "baz one  1.568128 -0.215245 -0.051744 -1.550783\n",
       "    two -0.539466  0.217325 -0.869516  0.227311\n",
       "foo one  0.416601 -0.117201  0.454117 -1.017816\n",
       "    two -0.619394  1.752729 -0.540516  1.722148\n",
       "qux one  1.925168 -0.048767 -0.391424  0.956501\n",
       "    two  0.299726  1.497214 -1.041282 -1.049099"
      ]
     },
     "execution_count": 19,
     "metadata": {},
     "output_type": "execute_result"
    }
   ],
   "source": [
    "import pandas as pd\n",
    "import numpy as np\n",
    "\n",
    "arrays = [\n",
    "    np.array([\"bar\", \"bar\", \"baz\", \"baz\", \"foo\", \"foo\", \"qux\", \"qux\"]),\n",
    "    np.array([\"one\", \"two\", \"one\", \"two\", \"one\", \"two\", \"one\", \"two\"]),\n",
    "]\n",
    "df = pd.DataFrame(np.random.randn(8, 4), index=arrays)\n",
    "df"
   ]
  },
  {
   "cell_type": "code",
   "execution_count": 20,
   "id": "77125a6f",
   "metadata": {},
   "outputs": [
    {
     "name": "stdout",
     "output_type": "stream",
     "text": [
      "                0         1         2         3\n",
      "bar one  0.725010 -1.015735 -1.172710 -0.367887\n",
      "baz one  1.568128 -0.215245 -0.051744 -1.550783\n",
      "foo one  0.416601 -0.117201  0.454117 -1.017816\n",
      "qux one  1.925168 -0.048767 -0.391424  0.956501\n"
     ]
    },
    {
     "data": {
      "text/html": [
       "<div>\n",
       "<style scoped>\n",
       "    .dataframe tbody tr th:only-of-type {\n",
       "        vertical-align: middle;\n",
       "    }\n",
       "\n",
       "    .dataframe tbody tr th {\n",
       "        vertical-align: top;\n",
       "    }\n",
       "\n",
       "    .dataframe thead th {\n",
       "        text-align: right;\n",
       "    }\n",
       "</style>\n",
       "<table border=\"1\" class=\"dataframe\">\n",
       "  <thead>\n",
       "    <tr style=\"text-align: right;\">\n",
       "      <th></th>\n",
       "      <th>0</th>\n",
       "      <th>1</th>\n",
       "      <th>2</th>\n",
       "      <th>3</th>\n",
       "    </tr>\n",
       "  </thead>\n",
       "  <tbody>\n",
       "    <tr>\n",
       "      <th>one</th>\n",
       "      <td>0.725010</td>\n",
       "      <td>-1.015735</td>\n",
       "      <td>-1.172710</td>\n",
       "      <td>-0.367887</td>\n",
       "    </tr>\n",
       "    <tr>\n",
       "      <th>two</th>\n",
       "      <td>1.254657</td>\n",
       "      <td>0.961418</td>\n",
       "      <td>0.276529</td>\n",
       "      <td>1.311037</td>\n",
       "    </tr>\n",
       "  </tbody>\n",
       "</table>\n",
       "</div>"
      ],
      "text/plain": [
       "            0         1         2         3\n",
       "one  0.725010 -1.015735 -1.172710 -0.367887\n",
       "two  1.254657  0.961418  0.276529  1.311037"
      ]
     },
     "execution_count": 20,
     "metadata": {},
     "output_type": "execute_result"
    }
   ],
   "source": [
    "# only one index value, use xs()\n",
    "print(df.xs('one', level=1, axis=0, drop_level=False))\n",
    "df.loc['bar']\n",
    "# df.index"
   ]
  },
  {
   "cell_type": "code",
   "execution_count": 21,
   "id": "689f0e66",
   "metadata": {},
   "outputs": [
    {
     "data": {
      "text/plain": [
       "0    0.725010\n",
       "1   -1.015735\n",
       "2   -1.172710\n",
       "3   -0.367887\n",
       "Name: (bar, one), dtype: float64"
      ]
     },
     "execution_count": 21,
     "metadata": {},
     "output_type": "execute_result"
    }
   ],
   "source": [
    "# with two indices, not 2 different values for one level\n",
    "df.loc[('bar', 'one')]"
   ]
  },
  {
   "cell_type": "code",
   "execution_count": 25,
   "id": "37a9c827",
   "metadata": {},
   "outputs": [
    {
     "data": {
      "text/html": [
       "<div>\n",
       "<style scoped>\n",
       "    .dataframe tbody tr th:only-of-type {\n",
       "        vertical-align: middle;\n",
       "    }\n",
       "\n",
       "    .dataframe tbody tr th {\n",
       "        vertical-align: top;\n",
       "    }\n",
       "\n",
       "    .dataframe thead th {\n",
       "        text-align: right;\n",
       "    }\n",
       "</style>\n",
       "<table border=\"1\" class=\"dataframe\">\n",
       "  <thead>\n",
       "    <tr style=\"text-align: right;\">\n",
       "      <th></th>\n",
       "      <th></th>\n",
       "      <th>0</th>\n",
       "      <th>1</th>\n",
       "      <th>2</th>\n",
       "      <th>3</th>\n",
       "    </tr>\n",
       "  </thead>\n",
       "  <tbody>\n",
       "    <tr>\n",
       "      <th rowspan=\"2\" valign=\"top\">bar</th>\n",
       "      <th>one</th>\n",
       "      <td>0.725010</td>\n",
       "      <td>-1.015735</td>\n",
       "      <td>-1.172710</td>\n",
       "      <td>-0.367887</td>\n",
       "    </tr>\n",
       "    <tr>\n",
       "      <th>two</th>\n",
       "      <td>1.254657</td>\n",
       "      <td>0.961418</td>\n",
       "      <td>0.276529</td>\n",
       "      <td>1.311037</td>\n",
       "    </tr>\n",
       "    <tr>\n",
       "      <th rowspan=\"2\" valign=\"top\">baz</th>\n",
       "      <th>one</th>\n",
       "      <td>1.568128</td>\n",
       "      <td>-0.215245</td>\n",
       "      <td>-0.051744</td>\n",
       "      <td>-1.550783</td>\n",
       "    </tr>\n",
       "    <tr>\n",
       "      <th>two</th>\n",
       "      <td>-0.539466</td>\n",
       "      <td>0.217325</td>\n",
       "      <td>-0.869516</td>\n",
       "      <td>0.227311</td>\n",
       "    </tr>\n",
       "    <tr>\n",
       "      <th rowspan=\"2\" valign=\"top\">foo</th>\n",
       "      <th>one</th>\n",
       "      <td>0.416601</td>\n",
       "      <td>-0.117201</td>\n",
       "      <td>0.454117</td>\n",
       "      <td>-1.017816</td>\n",
       "    </tr>\n",
       "    <tr>\n",
       "      <th>two</th>\n",
       "      <td>-0.619394</td>\n",
       "      <td>1.752729</td>\n",
       "      <td>-0.540516</td>\n",
       "      <td>1.722148</td>\n",
       "    </tr>\n",
       "    <tr>\n",
       "      <th rowspan=\"2\" valign=\"top\">qux</th>\n",
       "      <th>one</th>\n",
       "      <td>1.925168</td>\n",
       "      <td>-0.048767</td>\n",
       "      <td>-0.391424</td>\n",
       "      <td>0.956501</td>\n",
       "    </tr>\n",
       "    <tr>\n",
       "      <th>two</th>\n",
       "      <td>0.299726</td>\n",
       "      <td>1.497214</td>\n",
       "      <td>-1.041282</td>\n",
       "      <td>-1.049099</td>\n",
       "    </tr>\n",
       "  </tbody>\n",
       "</table>\n",
       "</div>"
      ],
      "text/plain": [
       "                0         1         2         3\n",
       "bar one  0.725010 -1.015735 -1.172710 -0.367887\n",
       "    two  1.254657  0.961418  0.276529  1.311037\n",
       "baz one  1.568128 -0.215245 -0.051744 -1.550783\n",
       "    two -0.539466  0.217325 -0.869516  0.227311\n",
       "foo one  0.416601 -0.117201  0.454117 -1.017816\n",
       "    two -0.619394  1.752729 -0.540516  1.722148\n",
       "qux one  1.925168 -0.048767 -0.391424  0.956501\n",
       "    two  0.299726  1.497214 -1.041282 -1.049099"
      ]
     },
     "execution_count": 25,
     "metadata": {},
     "output_type": "execute_result"
    }
   ],
   "source": [
    "# select by multiple values of a single level of index\n",
    "\n",
    "df.loc[(slice(None), ['one', 'two']), :]\n",
    "df.loc[pd.IndexSlice[:, ['one', 'two']], :]  # more readable"
   ]
  },
  {
   "attachments": {},
   "cell_type": "markdown",
   "id": "c9a97027",
   "metadata": {},
   "source": [
    "## loc mulit-index columns (columns can be mulit-index)\n"
   ]
  },
  {
   "cell_type": "code",
   "execution_count": 25,
   "id": "4e3d0f1a",
   "metadata": {},
   "outputs": [
    {
     "name": "stdout",
     "output_type": "stream",
     "text": [
      "MultiIndex([('one', 'a'),\n",
      "            ('one', 'b'),\n",
      "            ('one', 'c'),\n",
      "            ('two', 'a'),\n",
      "            ('two', 'b'),\n",
      "            ('two', 'c')],\n",
      "           )\n"
     ]
    },
    {
     "data": {
      "text/html": [
       "<div>\n",
       "<style scoped>\n",
       "    .dataframe tbody tr th:only-of-type {\n",
       "        vertical-align: middle;\n",
       "    }\n",
       "\n",
       "    .dataframe tbody tr th {\n",
       "        vertical-align: top;\n",
       "    }\n",
       "\n",
       "    .dataframe thead tr th {\n",
       "        text-align: left;\n",
       "    }\n",
       "</style>\n",
       "<table border=\"1\" class=\"dataframe\">\n",
       "  <thead>\n",
       "    <tr>\n",
       "      <th></th>\n",
       "      <th colspan=\"3\" halign=\"left\">one</th>\n",
       "      <th colspan=\"3\" halign=\"left\">two</th>\n",
       "    </tr>\n",
       "    <tr>\n",
       "      <th></th>\n",
       "      <th>a</th>\n",
       "      <th>b</th>\n",
       "      <th>c</th>\n",
       "      <th>a</th>\n",
       "      <th>b</th>\n",
       "      <th>c</th>\n",
       "    </tr>\n",
       "  </thead>\n",
       "  <tbody>\n",
       "    <tr>\n",
       "      <th>0</th>\n",
       "      <td>-0.657913</td>\n",
       "      <td>0.400925</td>\n",
       "      <td>0.760172</td>\n",
       "      <td>0.725475</td>\n",
       "      <td>-0.558508</td>\n",
       "      <td>1.532651</td>\n",
       "    </tr>\n",
       "    <tr>\n",
       "      <th>1</th>\n",
       "      <td>-0.333657</td>\n",
       "      <td>-1.302942</td>\n",
       "      <td>-0.063007</td>\n",
       "      <td>2.693031</td>\n",
       "      <td>-1.640149</td>\n",
       "      <td>1.826936</td>\n",
       "    </tr>\n",
       "    <tr>\n",
       "      <th>2</th>\n",
       "      <td>0.992687</td>\n",
       "      <td>0.453391</td>\n",
       "      <td>-0.273192</td>\n",
       "      <td>-0.179452</td>\n",
       "      <td>-0.860489</td>\n",
       "      <td>-1.918615</td>\n",
       "    </tr>\n",
       "    <tr>\n",
       "      <th>3</th>\n",
       "      <td>-2.486774</td>\n",
       "      <td>-0.165280</td>\n",
       "      <td>-0.778476</td>\n",
       "      <td>-0.242463</td>\n",
       "      <td>0.832359</td>\n",
       "      <td>1.771344</td>\n",
       "    </tr>\n",
       "  </tbody>\n",
       "</table>\n",
       "</div>"
      ],
      "text/plain": [
       "        one                           two                    \n",
       "          a         b         c         a         b         c\n",
       "0 -0.657913  0.400925  0.760172  0.725475 -0.558508  1.532651\n",
       "1 -0.333657 -1.302942 -0.063007  2.693031 -1.640149  1.826936\n",
       "2  0.992687  0.453391 -0.273192 -0.179452 -0.860489 -1.918615\n",
       "3 -2.486774 -0.165280 -0.778476 -0.242463  0.832359  1.771344"
      ]
     },
     "execution_count": 25,
     "metadata": {},
     "output_type": "execute_result"
    }
   ],
   "source": [
    "# sample data\n",
    "col = pd.MultiIndex.from_arrays([['one', 'one', 'one', 'two', 'two', 'two'],\n",
    "                                ['a', 'b', 'c', 'a', 'b', 'c']])\n",
    "data = pd.DataFrame(np.random.randn(4, 6), columns=col)\n",
    "print(data.columns)\n",
    "data"
   ]
  },
  {
   "cell_type": "code",
   "execution_count": 24,
   "id": "b48d12a8",
   "metadata": {},
   "outputs": [
    {
     "name": "stdout",
     "output_type": "stream",
     "text": [
      "        one          \n",
      "          a         b\n",
      "0  0.463550 -0.130793\n",
      "1 -0.079601  0.099634\n",
      "2 -0.894837  0.776635\n",
      "3 -0.415633 -0.352887\n"
     ]
    },
    {
     "data": {
      "text/html": [
       "<div>\n",
       "<style scoped>\n",
       "    .dataframe tbody tr th:only-of-type {\n",
       "        vertical-align: middle;\n",
       "    }\n",
       "\n",
       "    .dataframe tbody tr th {\n",
       "        vertical-align: top;\n",
       "    }\n",
       "\n",
       "    .dataframe thead tr th {\n",
       "        text-align: left;\n",
       "    }\n",
       "</style>\n",
       "<table border=\"1\" class=\"dataframe\">\n",
       "  <thead>\n",
       "    <tr>\n",
       "      <th></th>\n",
       "      <th colspan=\"2\" halign=\"left\">one</th>\n",
       "      <th colspan=\"2\" halign=\"left\">two</th>\n",
       "    </tr>\n",
       "    <tr>\n",
       "      <th></th>\n",
       "      <th>a</th>\n",
       "      <th>b</th>\n",
       "      <th>a</th>\n",
       "      <th>b</th>\n",
       "    </tr>\n",
       "  </thead>\n",
       "  <tbody>\n",
       "    <tr>\n",
       "      <th>0</th>\n",
       "      <td>0.463550</td>\n",
       "      <td>-0.130793</td>\n",
       "      <td>0.246485</td>\n",
       "      <td>-0.423790</td>\n",
       "    </tr>\n",
       "    <tr>\n",
       "      <th>1</th>\n",
       "      <td>-0.079601</td>\n",
       "      <td>0.099634</td>\n",
       "      <td>-1.253542</td>\n",
       "      <td>-0.334205</td>\n",
       "    </tr>\n",
       "    <tr>\n",
       "      <th>2</th>\n",
       "      <td>-0.894837</td>\n",
       "      <td>0.776635</td>\n",
       "      <td>1.209673</td>\n",
       "      <td>0.427424</td>\n",
       "    </tr>\n",
       "    <tr>\n",
       "      <th>3</th>\n",
       "      <td>-0.415633</td>\n",
       "      <td>-0.352887</td>\n",
       "      <td>0.572663</td>\n",
       "      <td>0.975099</td>\n",
       "    </tr>\n",
       "  </tbody>\n",
       "</table>\n",
       "</div>"
      ],
      "text/plain": [
       "        one                 two          \n",
       "          a         b         a         b\n",
       "0  0.463550 -0.130793  0.246485 -0.423790\n",
       "1 -0.079601  0.099634 -1.253542 -0.334205\n",
       "2 -0.894837  0.776635  1.209673  0.427424\n",
       "3 -0.415633 -0.352887  0.572663  0.975099"
      ]
     },
     "execution_count": 24,
     "metadata": {},
     "output_type": "execute_result"
    }
   ],
   "source": [
    "print(data.loc[:, (['one'], ['a', 'b'])])\n",
    "data.loc[:, (['one', 'two'], ['a', 'b'])]"
   ]
  },
  {
   "cell_type": "code",
   "execution_count": 23,
   "id": "732f4da6",
   "metadata": {},
   "outputs": [
    {
     "data": {
      "text/html": [
       "<div>\n",
       "<style scoped>\n",
       "    .dataframe tbody tr th:only-of-type {\n",
       "        vertical-align: middle;\n",
       "    }\n",
       "\n",
       "    .dataframe tbody tr th {\n",
       "        vertical-align: top;\n",
       "    }\n",
       "\n",
       "    .dataframe thead tr th {\n",
       "        text-align: left;\n",
       "    }\n",
       "</style>\n",
       "<table border=\"1\" class=\"dataframe\">\n",
       "  <thead>\n",
       "    <tr>\n",
       "      <th></th>\n",
       "      <th colspan=\"2\" halign=\"left\">one</th>\n",
       "      <th colspan=\"2\" halign=\"left\">two</th>\n",
       "    </tr>\n",
       "    <tr>\n",
       "      <th></th>\n",
       "      <th>a</th>\n",
       "      <th>b</th>\n",
       "      <th>a</th>\n",
       "      <th>b</th>\n",
       "    </tr>\n",
       "  </thead>\n",
       "  <tbody>\n",
       "    <tr>\n",
       "      <th>0</th>\n",
       "      <td>0.463550</td>\n",
       "      <td>-0.130793</td>\n",
       "      <td>0.246485</td>\n",
       "      <td>-0.423790</td>\n",
       "    </tr>\n",
       "    <tr>\n",
       "      <th>1</th>\n",
       "      <td>-0.079601</td>\n",
       "      <td>0.099634</td>\n",
       "      <td>-1.253542</td>\n",
       "      <td>-0.334205</td>\n",
       "    </tr>\n",
       "    <tr>\n",
       "      <th>2</th>\n",
       "      <td>-0.894837</td>\n",
       "      <td>0.776635</td>\n",
       "      <td>1.209673</td>\n",
       "      <td>0.427424</td>\n",
       "    </tr>\n",
       "    <tr>\n",
       "      <th>3</th>\n",
       "      <td>-0.415633</td>\n",
       "      <td>-0.352887</td>\n",
       "      <td>0.572663</td>\n",
       "      <td>0.975099</td>\n",
       "    </tr>\n",
       "  </tbody>\n",
       "</table>\n",
       "</div>"
      ],
      "text/plain": [
       "        one                 two          \n",
       "          a         b         a         b\n",
       "0  0.463550 -0.130793  0.246485 -0.423790\n",
       "1 -0.079601  0.099634 -1.253542 -0.334205\n",
       "2 -0.894837  0.776635  1.209673  0.427424\n",
       "3 -0.415633 -0.352887  0.572663  0.975099"
      ]
     },
     "execution_count": 23,
     "metadata": {},
     "output_type": "execute_result"
    }
   ],
   "source": [
    "data.loc[:, (slice(None), [\"a\", \"b\"])]"
   ]
  },
  {
   "cell_type": "code",
   "execution_count": 26,
   "id": "dc1ef32b",
   "metadata": {},
   "outputs": [
    {
     "data": {
      "text/html": [
       "<div>\n",
       "<style scoped>\n",
       "    .dataframe tbody tr th:only-of-type {\n",
       "        vertical-align: middle;\n",
       "    }\n",
       "\n",
       "    .dataframe tbody tr th {\n",
       "        vertical-align: top;\n",
       "    }\n",
       "\n",
       "    .dataframe thead tr th {\n",
       "        text-align: left;\n",
       "    }\n",
       "</style>\n",
       "<table border=\"1\" class=\"dataframe\">\n",
       "  <thead>\n",
       "    <tr>\n",
       "      <th></th>\n",
       "      <th colspan=\"2\" halign=\"left\">one</th>\n",
       "      <th colspan=\"2\" halign=\"left\">two</th>\n",
       "    </tr>\n",
       "    <tr>\n",
       "      <th></th>\n",
       "      <th>a</th>\n",
       "      <th>b</th>\n",
       "      <th>a</th>\n",
       "      <th>b</th>\n",
       "    </tr>\n",
       "  </thead>\n",
       "  <tbody>\n",
       "    <tr>\n",
       "      <th>0</th>\n",
       "      <td>-0.657913</td>\n",
       "      <td>0.400925</td>\n",
       "      <td>0.725475</td>\n",
       "      <td>-0.558508</td>\n",
       "    </tr>\n",
       "    <tr>\n",
       "      <th>1</th>\n",
       "      <td>-0.333657</td>\n",
       "      <td>-1.302942</td>\n",
       "      <td>2.693031</td>\n",
       "      <td>-1.640149</td>\n",
       "    </tr>\n",
       "    <tr>\n",
       "      <th>2</th>\n",
       "      <td>0.992687</td>\n",
       "      <td>0.453391</td>\n",
       "      <td>-0.179452</td>\n",
       "      <td>-0.860489</td>\n",
       "    </tr>\n",
       "    <tr>\n",
       "      <th>3</th>\n",
       "      <td>-2.486774</td>\n",
       "      <td>-0.165280</td>\n",
       "      <td>-0.242463</td>\n",
       "      <td>0.832359</td>\n",
       "    </tr>\n",
       "  </tbody>\n",
       "</table>\n",
       "</div>"
      ],
      "text/plain": [
       "        one                 two          \n",
       "          a         b         a         b\n",
       "0 -0.657913  0.400925  0.725475 -0.558508\n",
       "1 -0.333657 -1.302942  2.693031 -1.640149\n",
       "2  0.992687  0.453391 -0.179452 -0.860489\n",
       "3 -2.486774 -0.165280 -0.242463  0.832359"
      ]
     },
     "execution_count": 26,
     "metadata": {},
     "output_type": "execute_result"
    }
   ],
   "source": [
    "data.loc[:, data.columns.get_level_values(1).isin(['a', 'b'])]"
   ]
  },
  {
   "cell_type": "code",
   "execution_count": 27,
   "id": "5759af19",
   "metadata": {},
   "outputs": [
    {
     "data": {
      "text/html": [
       "<div>\n",
       "<style scoped>\n",
       "    .dataframe tbody tr th:only-of-type {\n",
       "        vertical-align: middle;\n",
       "    }\n",
       "\n",
       "    .dataframe tbody tr th {\n",
       "        vertical-align: top;\n",
       "    }\n",
       "\n",
       "    .dataframe thead tr th {\n",
       "        text-align: left;\n",
       "    }\n",
       "</style>\n",
       "<table border=\"1\" class=\"dataframe\">\n",
       "  <thead>\n",
       "    <tr>\n",
       "      <th></th>\n",
       "      <th colspan=\"2\" halign=\"left\">one</th>\n",
       "      <th colspan=\"2\" halign=\"left\">two</th>\n",
       "    </tr>\n",
       "    <tr>\n",
       "      <th></th>\n",
       "      <th>a</th>\n",
       "      <th>b</th>\n",
       "      <th>a</th>\n",
       "      <th>b</th>\n",
       "    </tr>\n",
       "  </thead>\n",
       "  <tbody>\n",
       "    <tr>\n",
       "      <th>0</th>\n",
       "      <td>-0.657913</td>\n",
       "      <td>0.400925</td>\n",
       "      <td>0.725475</td>\n",
       "      <td>-0.558508</td>\n",
       "    </tr>\n",
       "    <tr>\n",
       "      <th>1</th>\n",
       "      <td>-0.333657</td>\n",
       "      <td>-1.302942</td>\n",
       "      <td>2.693031</td>\n",
       "      <td>-1.640149</td>\n",
       "    </tr>\n",
       "  </tbody>\n",
       "</table>\n",
       "</div>"
      ],
      "text/plain": [
       "        one                 two          \n",
       "          a         b         a         b\n",
       "0 -0.657913  0.400925  0.725475 -0.558508\n",
       "1 -0.333657 -1.302942  2.693031 -1.640149"
      ]
     },
     "execution_count": 27,
     "metadata": {},
     "output_type": "execute_result"
    }
   ],
   "source": [
    "data.iloc[:2].loc[:, data.columns.get_level_values(1).isin(['a', 'b'])]"
   ]
  },
  {
   "cell_type": "code",
   "execution_count": 31,
   "id": "a5625004",
   "metadata": {},
   "outputs": [
    {
     "data": {
      "text/html": [
       "<div>\n",
       "<style scoped>\n",
       "    .dataframe tbody tr th:only-of-type {\n",
       "        vertical-align: middle;\n",
       "    }\n",
       "\n",
       "    .dataframe tbody tr th {\n",
       "        vertical-align: top;\n",
       "    }\n",
       "\n",
       "    .dataframe thead tr th {\n",
       "        text-align: left;\n",
       "    }\n",
       "</style>\n",
       "<table border=\"1\" class=\"dataframe\">\n",
       "  <thead>\n",
       "    <tr>\n",
       "      <th></th>\n",
       "      <th colspan=\"2\" halign=\"left\">one</th>\n",
       "      <th colspan=\"2\" halign=\"left\">two</th>\n",
       "    </tr>\n",
       "    <tr>\n",
       "      <th></th>\n",
       "      <th>a</th>\n",
       "      <th>c</th>\n",
       "      <th>a</th>\n",
       "      <th>c</th>\n",
       "    </tr>\n",
       "  </thead>\n",
       "  <tbody>\n",
       "    <tr>\n",
       "      <th>0</th>\n",
       "      <td>-0.657913</td>\n",
       "      <td>0.760172</td>\n",
       "      <td>0.725475</td>\n",
       "      <td>1.532651</td>\n",
       "    </tr>\n",
       "    <tr>\n",
       "      <th>1</th>\n",
       "      <td>-0.333657</td>\n",
       "      <td>-0.063007</td>\n",
       "      <td>2.693031</td>\n",
       "      <td>1.826936</td>\n",
       "    </tr>\n",
       "    <tr>\n",
       "      <th>2</th>\n",
       "      <td>0.992687</td>\n",
       "      <td>-0.273192</td>\n",
       "      <td>-0.179452</td>\n",
       "      <td>-1.918615</td>\n",
       "    </tr>\n",
       "    <tr>\n",
       "      <th>3</th>\n",
       "      <td>-2.486774</td>\n",
       "      <td>-0.778476</td>\n",
       "      <td>-0.242463</td>\n",
       "      <td>1.771344</td>\n",
       "    </tr>\n",
       "  </tbody>\n",
       "</table>\n",
       "</div>"
      ],
      "text/plain": [
       "        one                 two          \n",
       "          a         c         a         c\n",
       "0 -0.657913  0.760172  0.725475  1.532651\n",
       "1 -0.333657 -0.063007  2.693031  1.826936\n",
       "2  0.992687 -0.273192 -0.179452 -1.918615\n",
       "3 -2.486774 -0.778476 -0.242463  1.771344"
      ]
     },
     "execution_count": 31,
     "metadata": {},
     "output_type": "execute_result"
    }
   ],
   "source": [
    "data.loc(axis=\"columns\")[:, [\"a\", \"c\"]]"
   ]
  },
  {
   "attachments": {},
   "cell_type": "markdown",
   "id": "4d0de667",
   "metadata": {},
   "source": [
    "# pandas datetime\n"
   ]
  },
  {
   "cell_type": "code",
   "execution_count": 32,
   "id": "dfe4b0d9",
   "metadata": {},
   "outputs": [
    {
     "data": {
      "text/plain": [
       "0    2001-01-01\n",
       "1    2001-03-31\n",
       "dtype: object"
      ]
     },
     "execution_count": 32,
     "metadata": {},
     "output_type": "execute_result"
    }
   ],
   "source": [
    "import pandas as pd\n",
    "\n",
    "series = pd.Series(['20010101', '20010331'])\n",
    "dates = pd.to_datetime(series, format='%Y%m%d')\n",
    "dates.dt.strftime('%Y-%m-%d')"
   ]
  },
  {
   "cell_type": "code",
   "execution_count": 34,
   "id": "b43f2a42",
   "metadata": {},
   "outputs": [
    {
     "data": {
      "text/plain": [
       "<pandas.core.indexes.accessors.DatetimeProperties object at 0x7f271dbea2b0>"
      ]
     },
     "execution_count": 34,
     "metadata": {},
     "output_type": "execute_result"
    }
   ],
   "source": [
    "dates.dt"
   ]
  },
  {
   "attachments": {},
   "cell_type": "markdown",
   "id": "ba8e5031",
   "metadata": {},
   "source": [
    "## Timedelta\n"
   ]
  },
  {
   "cell_type": "code",
   "execution_count": 35,
   "id": "384043ea",
   "metadata": {},
   "outputs": [
    {
     "name": "stdout",
     "output_type": "stream",
     "text": [
      "2021-11-30\n"
     ]
    }
   ],
   "source": [
    "start_time = pd.to_datetime(\"2021-10-01\") + pd.Timedelta(days=60)\n",
    "print(start_time.strftime('%Y-%m-%d'))"
   ]
  },
  {
   "cell_type": "code",
   "execution_count": null,
   "id": "e473d456",
   "metadata": {},
   "outputs": [],
   "source": []
  },
  {
   "attachments": {},
   "cell_type": "markdown",
   "id": "cdf03700",
   "metadata": {},
   "source": [
    "# selecting rows by conditions /filtering\n",
    "\n",
    "## 多条件\n",
    "* & | \n",
    "* \n",
    "### select where in\n",
    "* isin\n",
    "\n",
    "### not in \n",
    "* days = [0,1,2]\n",
    "df[~df(days)]\n"
   ]
  },
  {
   "cell_type": "code",
   "execution_count": 3,
   "id": "4e1b2c25",
   "metadata": {},
   "outputs": [
    {
     "name": "stdout",
     "output_type": "stream",
     "text": [
      "Given Dataframe :\n",
      "         Name  Age    Stream  Percentage\n",
      "0      Ankit   21      Math          21\n",
      "1       Amit   19  Commerce          92\n",
      "2  Aishwarya   20   Science          95\n",
      "3   Priyanka   18      Math          70\n",
      "4      Priya   17      Math          65\n",
      "5    Shaurya   21   Science          78\n",
      "\n",
      "Result dataframe :\n",
      "         Name  Age    Stream  Percentage\n",
      "1       Amit   19  Commerce          92\n",
      "2  Aishwarya   20   Science          95\n",
      "3   Priyanka   18      Math          70\n",
      "4      Priya   17      Math          65\n",
      "5    Shaurya   21   Science          78\n",
      "\n",
      "多条件 :\n",
      "         Name  Age    Stream  Percentage\n",
      "1       Amit   19  Commerce          92\n",
      "2  Aishwarya   20   Science          95\n",
      "\n",
      "not in ages [19, 21]:\n",
      "         Name  Age   Stream  Percentage\n",
      "2  Aishwarya   20  Science          95\n",
      "3   Priyanka   18     Math          70\n",
      "4      Priya   17     Math          65\n"
     ]
    }
   ],
   "source": [
    "# importing pandas\n",
    "import pandas as pd\n",
    "\n",
    "record = {\n",
    "\n",
    "    'Name': ['Ankit', 'Amit', 'Aishwarya', 'Priyanka', 'Priya', 'Shaurya'],\n",
    "    'Age': [21, 19, 20, 18, 17, 21],\n",
    "    'Stream': ['Math', 'Commerce', 'Science', 'Math', 'Math', 'Science'],\n",
    "    'Percentage': [21, 92, 95, 70, 65, 78]}\n",
    "\n",
    "# create a dataframe\n",
    "dataframe = pd.DataFrame(record, columns=['Name', 'Age', 'Stream', 'Percentage'])\n",
    "\n",
    "print(\"Given Dataframe :\\n\", dataframe)\n",
    "\n",
    "# selecting rows based on condition\n",
    "rslt_df = dataframe[dataframe['Percentage'] != dataframe['Age']]\n",
    "# rslt_df = dataframe[dataframe['Percentage'] > 80]\n",
    "\n",
    "print('\\nResult dataframe :\\n', rslt_df)\n",
    "\n",
    "## 多条件\n",
    "\n",
    "# selecting rows based on condition\n",
    "rslt_df = dataframe[(dataframe['Percentage'] != dataframe['Age']) & (dataframe['Percentage'] > 80)]\n",
    "# or | \n",
    "print('\\n多条件 :\\n', rslt_df)\n",
    "\n",
    "# isin\n",
    "ages = [19, 21]\n",
    "\n",
    "ret_df = dataframe.loc[~dataframe.Age.isin(ages)]\n",
    "print('\\nnot in ages [19, 21]:\\n', ret_df)"
   ]
  },
  {
   "attachments": {},
   "cell_type": "markdown",
   "id": "1f9f7bbd",
   "metadata": {},
   "source": [
    "## select rows with\n",
    "\n",
    "### startswith\n",
    "\n",
    "### match\n",
    "\n",
    "### loc\n",
    "* using index\n"
   ]
  },
  {
   "cell_type": "code",
   "execution_count": 16,
   "id": "dae16681",
   "metadata": {},
   "outputs": [
    {
     "name": "stdout",
     "output_type": "stream",
     "text": [
      "   Name  Age    Stream  Percentage\n",
      "1  Amit   19  Commerce          92\n"
     ]
    }
   ],
   "source": [
    "# dataframe['Name'].str.contains(\"(Ankit|Amit)\")\n",
    "from pandas import Series\n",
    "\n",
    "\n",
    "# 返回index Series\n",
    "dataframe['Name'].str.startswith(\"A\", na = False) # NAN 值处理。 \n",
    "\n",
    "idx_series: pd.Series = dataframe['Name'].str.match(\"^(A|S)\")\n",
    "# 选择 \n",
    "dataframe[idx_series]\n",
    "\n",
    "options = ['Amit', 'Aishwary']\n",
    "\n",
    "# selecting rows based on condition\n",
    "rslt_df = dataframe.loc[~dataframe['Name'].isin(options)]\n",
    "\n",
    "# 直接用row index 值也可以\n",
    "dataframe.loc[\"viper\"]\n",
    "\n",
    "print(rslt_df)\n"
   ]
  },
  {
   "attachments": {},
   "cell_type": "markdown",
   "id": "ac308aa1",
   "metadata": {},
   "source": [
    "# selecting columns\n",
    "\n",
    "## select single column as Series\n",
    "```\n",
    "df.loc()\n",
    "```"
   ]
  },
  {
   "cell_type": "code",
   "execution_count": 2,
   "id": "6cdc8a67",
   "metadata": {},
   "outputs": [
    {
     "data": {
      "text/html": [
       "<div>\n",
       "<style scoped>\n",
       "    .dataframe tbody tr th:only-of-type {\n",
       "        vertical-align: middle;\n",
       "    }\n",
       "\n",
       "    .dataframe tbody tr th {\n",
       "        vertical-align: top;\n",
       "    }\n",
       "\n",
       "    .dataframe thead th {\n",
       "        text-align: right;\n",
       "    }\n",
       "</style>\n",
       "<table border=\"1\" class=\"dataframe\">\n",
       "  <thead>\n",
       "    <tr style=\"text-align: right;\">\n",
       "      <th></th>\n",
       "      <th>a</th>\n",
       "      <th>b</th>\n",
       "      <th>c</th>\n",
       "      <th>d</th>\n",
       "    </tr>\n",
       "  </thead>\n",
       "  <tbody>\n",
       "    <tr>\n",
       "      <th>0</th>\n",
       "      <td>0.202522</td>\n",
       "      <td>0.673474</td>\n",
       "      <td>0.333137</td>\n",
       "      <td>0.796078</td>\n",
       "    </tr>\n",
       "    <tr>\n",
       "      <th>1</th>\n",
       "      <td>0.748068</td>\n",
       "      <td>0.824570</td>\n",
       "      <td>0.081145</td>\n",
       "      <td>0.320486</td>\n",
       "    </tr>\n",
       "    <tr>\n",
       "      <th>2</th>\n",
       "      <td>0.639537</td>\n",
       "      <td>0.536804</td>\n",
       "      <td>0.517097</td>\n",
       "      <td>0.179741</td>\n",
       "    </tr>\n",
       "  </tbody>\n",
       "</table>\n",
       "</div>"
      ],
      "text/plain": [
       "          a         b         c         d\n",
       "0  0.202522  0.673474  0.333137  0.796078\n",
       "1  0.748068  0.824570  0.081145  0.320486\n",
       "2  0.639537  0.536804  0.517097  0.179741"
      ]
     },
     "execution_count": 2,
     "metadata": {},
     "output_type": "execute_result"
    }
   ],
   "source": [
    "import pandas as pd\n",
    "import numpy as np\n",
    "\n",
    "df = pd.DataFrame(np.random.random(size=(3, 4)))\n",
    "df.columns = list('abcd')\n",
    "df"
   ]
  },
  {
   "cell_type": "code",
   "execution_count": null,
   "id": "d66cabf7",
   "metadata": {},
   "outputs": [],
   "source": [
    "# 方法1\n",
    "df[['a', 'b']]\n",
    "\n",
    "# 方法2\n",
    "df.loc[:, ['b', 'c']]\n",
    "\n",
    "# 方法3\n",
    "df.iloc[:, 2:]\n",
    "\n",
    "# 方法4\n",
    "pd.read_csv('filepath.csv', usecols=['a', 'b', 'c'])"
   ]
  },
  {
   "attachments": {},
   "cell_type": "markdown",
   "id": "6dd64001",
   "metadata": {},
   "source": [
    "# filter\n",
    "\n",
    "- filter 主要按条件选择列\n"
   ]
  },
  {
   "cell_type": "code",
   "execution_count": 2,
   "id": "e095c030",
   "metadata": {},
   "outputs": [
    {
     "data": {
      "text/html": [
       "<div>\n",
       "<style scoped>\n",
       "    .dataframe tbody tr th:only-of-type {\n",
       "        vertical-align: middle;\n",
       "    }\n",
       "\n",
       "    .dataframe tbody tr th {\n",
       "        vertical-align: top;\n",
       "    }\n",
       "\n",
       "    .dataframe thead th {\n",
       "        text-align: right;\n",
       "    }\n",
       "</style>\n",
       "<table border=\"1\" class=\"dataframe\">\n",
       "  <thead>\n",
       "    <tr style=\"text-align: right;\">\n",
       "      <th></th>\n",
       "    </tr>\n",
       "  </thead>\n",
       "  <tbody>\n",
       "  </tbody>\n",
       "</table>\n",
       "</div>"
      ],
      "text/plain": [
       "Empty DataFrame\n",
       "Columns: []\n",
       "Index: []"
      ]
     },
     "execution_count": 2,
     "metadata": {},
     "output_type": "execute_result"
    }
   ],
   "source": [
    "import pandas as pd\n",
    "import numpy as np\n",
    "\n",
    "df = pd.DataFrame(np.array(([1, 2, 3], [4, 5, 6])),\n",
    "                  index=['mouse', 'rabbit'],\n",
    "                  columns=['one', 'two', 'three'])\n",
    "\n",
    "# 按名称选择列\n",
    "df.filter(items=['one', 'three'])\n",
    "'''\n",
    "         one  three\n",
    "mouse     1      3\n",
    "rabbit    4      6\n",
    "'''\n",
    "# 按正则表达式选择列\n",
    "df.filter(regex='e$', axis=1)\n",
    "'''\n",
    "         one  three\n",
    "mouse     1      3\n",
    "rabbit    4      6\n",
    "'''\n",
    "# 选择包含“bbi”的行\n",
    "df.filter(like='bbi', axis=0)\n",
    "'''\n",
    "         one  two  three\n",
    "rabbit    4    5      6\n",
    "'''\n",
    "\n",
    "df.filter(items=['Q1', 'Q2']) # 选择两列\n",
    "df.filter(regex='Q', axis=1) # 列名包含Q的\n",
    "df.filter(regex='e$', axis=1) # 以 e 结尾的\n",
    "df.filter(regex='1$', axis=0) # 正则, 索引名包含1的\n",
    "df.filter(like='2', axis=0) # 索引中有2的\n",
    "# 索引中2开头列名有Q的\n",
    "df.filter(regex='^2', axis=0).filter(like='Q', axis=1)"
   ]
  },
  {
   "attachments": {},
   "cell_type": "markdown",
   "id": "c25fe11e",
   "metadata": {},
   "source": [
    "# sort\n"
   ]
  },
  {
   "cell_type": "code",
   "execution_count": null,
   "id": "0cd30bd3",
   "metadata": {},
   "outputs": [],
   "source": [
    "import pandas as pd\n",
    "data = [12,5,8,2,8,2,8,2,8,2,8,5,84]\n",
    "data1 = [12,5,8,56,57,58,59,22,84,24,85,56,87]\n",
    "df1=pd.DataFrame(data, columns=['num'])\n",
    "df2=pd.DataFrame(data1, columns=['num'])\n",
    "print(data1)\n",
    "df=pd.DataFrame(data, columns=['num'])\n",
    "\n",
    "df.sort_values(by=['num'], ascending=True, inplace=True) #1升序排序 0降序\n",
    "#排序函数\n",
    "df['cum']=df['num'].cumsum()\n",
    "df['prod']=df['num'].cumprod()\n",
    "print(df.sort_values(by=['num','cum'], ascending=[True, True]) ) #按多列排序"
   ]
  },
  {
   "attachments": {},
   "cell_type": "markdown",
   "id": "7850fe59",
   "metadata": {},
   "source": [
    "# map\n",
    "\n",
    "```\n",
    "df['col1'] = df['col1'].map(complex_function)\n",
    "\n",
    "grouped_df.Survived = grouped_df.Survived.map({0: \"Died\", 1: \"Survived\",})\n",
    "```"
   ]
  },
  {
   "attachments": {},
   "cell_type": "markdown",
   "id": "9e03a35a",
   "metadata": {},
   "source": [
    "# transform"
   ]
  },
  {
   "attachments": {},
   "cell_type": "markdown",
   "id": "82736a6e",
   "metadata": {},
   "source": [
    "# apply\n",
    "\n",
    "## 改变一列的值\n",
    "\n",
    "```python\n",
    "df1['trades'] = df1['trades'].apply(lambda x: x[0].direction if x else \"N\")\n",
    "```"
   ]
  },
  {
   "attachments": {},
   "cell_type": "markdown",
   "id": "3ab70dbf",
   "metadata": {},
   "source": [
    "# drop\n",
    "\n",
    "## drop rows on condition\n",
    "\n",
    "```python\n",
    "# mehtod1 \n",
    "df_filtered = df[df['Age'] >= 25]\n",
    "\n",
    "# method 2\n",
    "indexAge = df[ (df['Age'] >= 20) & (df['Age'] <= 25) ].index\n",
    "df.drop(indexAge , inplace=True)\n",
    "df.head(15)\n",
    "```\n",
    "\n",
    "## drop columns\n",
    "\n",
    "```python\n",
    "def cleanColumns(df):\n",
    "    for col in df.columns:\n",
    "        if col[0:7] == \"Unnamed\":\n",
    "        df.drop(col, inplace=True, axis=1)\n",
    "    return df\n",
    "```"
   ]
  },
  {
   "cell_type": "code",
   "execution_count": null,
   "id": "db7c2d66",
   "metadata": {},
   "outputs": [],
   "source": []
  },
  {
   "cell_type": "code",
   "execution_count": 2,
   "id": "8d62ff59",
   "metadata": {},
   "outputs": [
    {
     "data": {
      "text/html": [
       "<div>\n",
       "<style scoped>\n",
       "    .dataframe tbody tr th:only-of-type {\n",
       "        vertical-align: middle;\n",
       "    }\n",
       "\n",
       "    .dataframe tbody tr th {\n",
       "        vertical-align: top;\n",
       "    }\n",
       "\n",
       "    .dataframe thead th {\n",
       "        text-align: right;\n",
       "    }\n",
       "</style>\n",
       "<table border=\"1\" class=\"dataframe\">\n",
       "  <thead>\n",
       "    <tr style=\"text-align: right;\">\n",
       "      <th></th>\n",
       "      <th>Name</th>\n",
       "      <th>bmi</th>\n",
       "      <th>Age</th>\n",
       "    </tr>\n",
       "  </thead>\n",
       "  <tbody>\n",
       "    <tr>\n",
       "      <th>0</th>\n",
       "      <td>Tom</td>\n",
       "      <td>18.0</td>\n",
       "      <td>21</td>\n",
       "    </tr>\n",
       "    <tr>\n",
       "      <th>1</th>\n",
       "      <td>nick</td>\n",
       "      <td>19.0</td>\n",
       "      <td>22</td>\n",
       "    </tr>\n",
       "    <tr>\n",
       "      <th>2</th>\n",
       "      <td>krish</td>\n",
       "      <td>20.0</td>\n",
       "      <td>20</td>\n",
       "    </tr>\n",
       "    <tr>\n",
       "      <th>3</th>\n",
       "      <td>jack</td>\n",
       "      <td>25.0</td>\n",
       "      <td>19</td>\n",
       "    </tr>\n",
       "  </tbody>\n",
       "</table>\n",
       "</div>"
      ],
      "text/plain": [
       "    Name   bmi  Age\n",
       "0    Tom  18.0   21\n",
       "1   nick  19.0   22\n",
       "2  krish  20.0   20\n",
       "3   jack  25.0   19"
      ]
     },
     "execution_count": 2,
     "metadata": {},
     "output_type": "execute_result"
    }
   ],
   "source": [
    "# axis usage\n",
    "\n",
    "import pandas as pd\n",
    "import numpy as np\n",
    "\n",
    "np.random.random([3, 4])\n",
    "\n",
    "data = {'Name': ['Tom', 'nick', 'krish', 'jack'],\n",
    "        'bmi': [18., 19., 20., 25.],\n",
    "        'Age': [20, 21, 19, 18]}\n",
    "\n",
    "# Create DataFrame\n",
    "df = pd.DataFrame(data)\n",
    "\n",
    "def add_one(v):\n",
    "    return v + 1\n",
    "\n",
    "\"\"\"\n",
    "axis : {0 or 'index', 1 or 'columns'}, default 0\n",
    "    Axis along which the function is applied:\n",
    "\n",
    "0 or 'index': apply function to each column.\n",
    "1 or 'columns': apply function to each row.\n",
    "\"\"\"\n",
    "df['Age'] = df.apply(lambda x: add_one(x.Age), axis=1)\n",
    "\n",
    "df"
   ]
  },
  {
   "attachments": {},
   "cell_type": "markdown",
   "id": "8dbcbaff",
   "metadata": {},
   "source": [
    "# groupby\n",
    "\n",
    "## agg and rename\n",
    "\n",
    "## 所有其它columns 都执行： sum\n",
    "\n",
    "* df.groupby(by=['RepID','Week','CallCycleDay'], as_index=False).sum()"
   ]
  },
  {
   "cell_type": "code",
   "execution_count": 10,
   "id": "d615bd06",
   "metadata": {},
   "outputs": [
    {
     "name": "stdout",
     "output_type": "stream",
     "text": [
      "grouped by two columns:\n",
      "    Pclass  Survived  CategorySize\n",
      "0       1         0            80\n",
      "1       1         1           136\n",
      "2       2         0            97\n",
      "3       2         1            87\n",
      "4       3         0           372\n",
      "5       3         1           119\n",
      "   Pclass  CategorySize  Survived\n",
      "0       1           216         1\n",
      "1       2           184         1\n",
      "2       3           491         1\n",
      "   Pclass  min_height  max_weight\n",
      "0       1          80         136\n",
      "1       2          87          97\n",
      "2       3         119         372\n"
     ]
    },
    {
     "data": {
      "text/plain": [
       "\"\\ndf_group = merged_df.groupby(by=['市值'], as_index=False).agg(\\n    pnl_positive_count=('total_net_pnl', add_large_zero),\\n    pnl_negative_count=('total_net_pnl', lambda data: len([x for x in data if x < 0])),\\n    pnl_positive_mean=('total_net_pnl', positive_mean),\\n    pnl_negative_mean=('total_net_pnl', lambda data: np.mean([x for x in data if x < 0])),\\n    pnl_sum=('total_net_pnl', 'sum'),\\n    total_trade_count=('total_trade_count', 'sum'),\\n)\\n\""
      ]
     },
     "execution_count": 10,
     "metadata": {},
     "output_type": "execute_result"
    }
   ],
   "source": [
    "import pandas as pd\n",
    "\n",
    "data = pd.DataFrame(\n",
    "    dict(\n",
    "        Pclass=[1, 1, 2, 2, 3, 3],\n",
    "        Survived=[0, 1, 0, 1, 0, 1],\n",
    "        CategorySize=[80, 136, 97, 87, 372, 119],\n",
    "    )\n",
    ")\n",
    "\n",
    "grouped_df = data.groupby(by=[\"Pclass\", \"Survived\"], as_index=False).agg(\n",
    "    {\"CategorySize\": \"sum\"}\n",
    ")\n",
    "print(\"grouped by two columns and sum a column:\\n\", grouped_df)\n",
    "\n",
    "# can also use lambda func for aggregation.\n",
    "grouped_df = data.groupby(by=[\"Pclass\"], as_index=False).agg(\n",
    "    {\"CategorySize\": \"sum\", \"Survived\": \"sum\"}\n",
    ")\n",
    "print(grouped_df)\n",
    "\n",
    "# rename\n",
    "grouped_df = data.groupby(by=[\"Pclass\"], as_index=False).agg(min_height=('CategorySize', 'min'), \n",
    "                               max_weight=('CategorySize', 'max'))\n",
    "print(grouped_df)\n",
    "\n",
    "## agg and rename\n",
    "'''\n",
    "df_group = merged_df.groupby(by=['市值'], as_index=False).agg(\n",
    "    pnl_positive_count=('total_net_pnl', add_large_zero),\n",
    "    pnl_negative_count=('total_net_pnl', lambda data: len([x for x in data if x < 0])),\n",
    "    pnl_positive_mean=('total_net_pnl', positive_mean),\n",
    "    pnl_negative_mean=('total_net_pnl', lambda data: np.mean([x for x in data if x < 0])),\n",
    "    pnl_sum=('total_net_pnl', 'sum'),\n",
    "    total_trade_count=('total_trade_count', 'sum'),\n",
    ")\n",
    "'''\n"
   ]
  },
  {
   "attachments": {},
   "cell_type": "markdown",
   "id": "abcb1855",
   "metadata": {},
   "source": [
    "# 计算\n",
    "\n",
    "## shift\n",
    "\n",
    "## diff\n",
    "\n",
    "## pct_change\n",
    "\n",
    "## cumsum\n",
    "* 累计和\n",
    "## cumprod\n",
    "* 累计乘积\n",
    "* \n",
    "## cut \n"
   ]
  },
  {
   "cell_type": "code",
   "execution_count": 8,
   "id": "4f188b61",
   "metadata": {},
   "outputs": [
    {
     "name": "stdout",
     "output_type": "stream",
     "text": [
      "[12, 5, 8, 56, 57, 58, 59, 22, 84, 24, 85, 56, 87]\n",
      "    num  cum         prod  shift-1  shift+1  diff-1  pct\n",
      "3     2    2            2      2.0      NaN     0.0  NaN\n",
      "5     2    4            4      2.0      2.0     0.0  0.0\n",
      "7     2    6            8      2.0      2.0     0.0  0.0\n",
      "9     2    8           16      5.0      2.0    -3.0  0.0\n",
      "1     5   13           80      5.0      2.0     0.0  1.5\n",
      "11    5   18          400      8.0      5.0    -3.0  0.0\n",
      "2     8   26         3200      8.0      5.0     0.0  0.6\n",
      "4     8   34        25600      8.0      8.0     0.0  0.0\n",
      "6     8   42       204800      8.0      8.0     0.0  0.0\n",
      "8     8   50      1638400      8.0      8.0     0.0  0.0\n",
      "10    8   58     13107200     12.0      8.0    -4.0  0.0\n",
      "0    12   70    157286400     84.0      8.0   -72.0  0.5\n",
      "12   84  154  13212057600      NaN     12.0     NaN  6.0\n",
      "    num\n",
      "0    12\n",
      "1     5\n",
      "2     8\n",
      "3     2\n",
      "4     8\n",
      "5     2\n",
      "6     8\n",
      "7     2\n",
      "8     8\n",
      "9     2\n",
      "10    8\n",
      "11    5\n",
      "12   84\n",
      "13   12\n",
      "14    5\n",
      "15    8\n",
      "16   56\n",
      "17   57\n",
      "18   58\n",
      "19   59\n",
      "20   22\n",
      "21   84\n",
      "22   24\n",
      "23   85\n",
      "24   56\n",
      "25   87\n",
      "first22     num\n",
      "0    12\n",
      "1     5\n",
      "2     8\n",
      "3     2\n",
      "12   84\n",
      "16   56\n",
      "17   57\n",
      "18   58\n",
      "19   59\n",
      "20   22\n",
      "22   24\n",
      "23   85\n",
      "25   87\n"
     ]
    },
    {
     "name": "stderr",
     "output_type": "stream",
     "text": [
      "C:\\Users\\73915\\AppData\\Local\\Temp\\ipykernel_45176\\3036774247.py:20: FutureWarning: The frame.append method is deprecated and will be removed from pandas in a future version. Use pandas.concat instead.\n",
      "  df3=df1.append(df2) # index不连续index是可以重复的，需要得新设置index索引值\n",
      "C:\\Users\\73915\\AppData\\Local\\Temp\\ipykernel_45176\\3036774247.py:21: FutureWarning: The frame.append method is deprecated and will be removed from pandas in a future version. Use pandas.concat instead.\n",
      "  df4=df1.append(df2, ignore_index=True) #ignore_index 重新设置index\n"
     ]
    }
   ],
   "source": [
    "import pandas as pd\n",
    "data = [12,5,8,2,8,2,8,2,8,2,8,5,84]\n",
    "data1 = [12,5,8,56,57,58,59,22,84,24,85,56,87]\n",
    "df1=pd.DataFrame(data, columns=['num'])\n",
    "df2=pd.DataFrame(data1, columns=['num'])\n",
    "print(data1)\n",
    "df=pd.DataFrame(data, columns=['num'])\n",
    "\n",
    "df.ta.\n",
    "\n",
    "df.sort_values(by=['num'], ascending=True, inplace=True) #1升序排序 0降序\n",
    "# 排序函数\n",
    "df['cum']=df['num'].cumsum()\n",
    "df['prod']=df['num'].cumprod()\n",
    "df['shift-1'] = df['num'].shift(-1)\n",
    "df['shift+1'] = df['num'].shift(1)\n",
    "df['diff-1'] = df['num'].diff(-1)\n",
    "df['pct'] = df['num'].pct_change()\n",
    "\n",
    "# 多个DataFrame 上下合并操作，append操作\n",
    "df3 = df1.append(df2) # index不连续index是可以重复的，需要得新设置index索引值\n",
    "df4 = df1.append(df2, ignore_index=True) #ignore_index 重新设置index\n",
    "print(df4)\n",
    "# 对数据进行去重\n",
    "df4.drop_duplicates(subset=['num'],\n",
    "                    keep='first', #first 只保留第一行出现的值，last最后一行的值 ，false一行都不保留\n",
    "                    inplace=True\n",
    "                    )\n",
    "print('first22', df4)"
   ]
  },
  {
   "attachments": {},
   "cell_type": "markdown",
   "id": "22c2568a",
   "metadata": {},
   "source": [
    "# Read and write\n",
    "\n",
    "## read a column as string\n",
    "```\n",
    "df_basic = pd.read_csv(stock_basic_csv, dtype={'columnA': str})\n",
    "```\n"
   ]
  },
  {
   "attachments": {},
   "cell_type": "markdown",
   "id": "a568cdaf",
   "metadata": {},
   "source": [
    "# others\n"
   ]
  },
  {
   "attachments": {},
   "cell_type": "markdown",
   "id": "a6160d6e",
   "metadata": {},
   "source": [
    "## How to print an entire Pandas DataFrame in Python?\n",
    "\n",
    "- https://www.geeksforgeeks.org/how-to-print-an-entire-pandas-dataframe-in-python/\n",
    "\n",
    "## make pandas display width lagger in jupyter\n",
    "\n",
    "- pd.set_option('display.width', 800)\n",
    "- pd.set_option(\"max_rows\", 100)\n",
    "- pd.set_option(\"max_columns\", 20)\n"
   ]
  },
  {
   "attachments": {},
   "cell_type": "markdown",
   "id": "a42430c8",
   "metadata": {},
   "source": [
    "# awesome python libray coupled with pandas\n",
    "## pandas_datareader\n",
    "* lots of finacial data api for oversea equities used with pandas\n",
    "\n",
    "## pandas_ta \n",
    "* an easy to use library that leverages the Pandas library with more than 130 financial Indicators and Utility functions. \n",
    "* almost with no extra code for computing the indicators, just comes with pandas dataframe with simple dict config.\n",
    "* tutorial\n",
    "  * https://morioh.com/p/0aa3e75ff555\n",
    "  * https://technical-analysis-library-in-python.readthedocs.io/en/latest/\n",
    "\n",
    "## Bamboolib \n",
    "* jupyter 中图形化读入excel\n",
    "* 你可以使用 Bamboolib，查看它生成的代码，并从中学习。\n"
   ]
  },
  {
   "attachments": {},
   "cell_type": "markdown",
   "id": "222ac813",
   "metadata": {},
   "source": [
    "# trouble shooting\n",
    "\n",
    "##  SettingWithCopyWarning\n",
    "\n",
    "* 原因是修改了Dataframe 的view，使用copy就可避免\n",
    "* df1 = daily_df[daily_df.trade_count > 0.].copy()\n",
    "* 解决方案2： \n",
    "\n",
    "```python\n",
    "import warnings\n",
    "from pandas.core.common import SettingWithCopyWarning\n",
    "warnings.simplefilter(action=\"ignore\", category=SettingWithCopyWarning)\n",
    "```"
   ]
  },
  {
   "cell_type": "code",
   "execution_count": null,
   "id": "3cd1989e",
   "metadata": {},
   "outputs": [],
   "source": []
  }
 ],
 "metadata": {
  "kernelspec": {
   "display_name": "py38",
   "language": "python",
   "name": "python3"
  },
  "language_info": {
   "codemirror_mode": {
    "name": "ipython",
    "version": 3
   },
   "file_extension": ".py",
   "mimetype": "text/x-python",
   "name": "python",
   "nbconvert_exporter": "python",
   "pygments_lexer": "ipython3",
   "version": "3.8.12"
  },
  "toc": {
   "base_numbering": 1,
   "nav_menu": {
    "height": "342px",
    "width": "272px"
   },
   "number_sections": false,
   "sideBar": true,
   "skip_h1_title": false,
   "title_cell": "Table of Contents",
   "title_sidebar": "Contents",
   "toc_cell": false,
   "toc_position": {
    "height": "calc(100% - 180px)",
    "left": "10px",
    "top": "150px",
    "width": "252.2px"
   },
   "toc_section_display": true,
   "toc_window_display": true
  },
  "toc-autonumbering": true,
  "toc-showcode": false,
  "toc-showmarkdowntxt": false,
  "toc-showtags": false,
  "vscode": {
   "interpreter": {
    "hash": "fe22768e9524fdef0bd7ed00acfac1a320cf250cfc5d425f429f4b9beb1077b3"
   }
  },
  "widgets": {
   "application/vnd.jupyter.widget-state+json": {
    "state": {},
    "version_major": 2,
    "version_minor": 0
   }
  }
 },
 "nbformat": 4,
 "nbformat_minor": 5
}
