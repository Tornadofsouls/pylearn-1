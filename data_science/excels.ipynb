{
 "cells": [
  {
   "cell_type": "code",
   "execution_count": 1,
   "metadata": {},
   "outputs": [],
   "source": [
    "from re import X\n",
    "import win32com.client\n",
    "\n",
    "# file_name = r'D:\\Q2Kv2_12b1\\test.xls'\n",
    "file_name = r\"D:\\Q2Kv2_12b1\\Q2KMasterv2_12b2_bak.xls\"\n",
    "x1app = win32com.client.Dispatch('Excel.Application')\n",
    "x1app.Visible = False\n",
    "x1Book = x1app.Workbooks.Open(file_name)\n",
    "\n",
    "content = r'excellent'\n",
    "rows = 60000"
   ]
  },
  {
   "cell_type": "code",
   "execution_count": 2,
   "metadata": {},
   "outputs": [],
   "source": [
    "ws = x1Book.Worksheets(\"QUAL2K\")\n",
    "\n",
    "ws.Range(\"C29\").value = 31\n"
   ]
  },
  {
   "cell_type": "code",
   "execution_count": 4,
   "metadata": {},
   "outputs": [],
   "source": [
    "# str_para = x1Book.Name + '!hong1()'\n",
    "# status = x1app.ExecuteExcel4Macro(str_para)\n",
    "# print(status)\n",
    "# x1Book.Close(SaveChanges=True)\n",
    "\n",
    "# x1app.Application.Run(\"hong1\")\n",
    "# x1app.Run(\"hong2\")\n",
    "x1Book.Save()\n",
    "x1app.Run(\"RunQ2K_Fortran\")\n",
    "\n",
    "x1app.Quit()"
   ]
  },
  {
   "cell_type": "code",
   "execution_count": null,
   "metadata": {},
   "outputs": [],
   "source": []
  }
 ],
 "metadata": {
  "kernelspec": {
   "display_name": "Python 3.8.13 ('py38')",
   "language": "python",
   "name": "python3"
  },
  "language_info": {
   "codemirror_mode": {
    "name": "ipython",
    "version": 3
   },
   "file_extension": ".py",
   "mimetype": "text/x-python",
   "name": "python",
   "nbconvert_exporter": "python",
   "pygments_lexer": "ipython3",
   "version": "3.8.13 (default, Oct 19 2022, 22:38:03) [MSC v.1916 64 bit (AMD64)]"
  },
  "orig_nbformat": 4,
  "vscode": {
   "interpreter": {
    "hash": "fe22768e9524fdef0bd7ed00acfac1a320cf250cfc5d425f429f4b9beb1077b3"
   }
  }
 },
 "nbformat": 4,
 "nbformat_minor": 2
}
