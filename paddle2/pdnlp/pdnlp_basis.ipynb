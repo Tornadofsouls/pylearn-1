{
 "cells": [
  {
   "attachments": {},
   "cell_type": "markdown",
   "metadata": {},
   "source": [
    "## Dataset API\n",
    "\n",
    "* PaddleNLP Datasets API和支持的数据集2212: https://paddlenlp.readthedocs.io/zh/latest/data_prepare/dataset_list.html\n",
    "\n",
    "\n",
    "## Embedding API\n",
    "\n",
    "* https://paddlenlp.readthedocs.io/zh/latest/model_zoo/embeddings.html\n",
    "* visualDL可视化：支持tse，PCA，UMAP\n",
    "\n",
    "## PaddleNLP Transformer预训练模型\n",
    "* https://paddlenlp.readthedocs.io/zh/latest/model_zoo/index.html\n",
    "* 包括所有支持模型（）及适用场景\n",
    "\n",
    "## Trainer API\n",
    "* https://github.com/PaddlePaddle/PaddleNLP/blob/develop/docs/trainer.md"
   ]
  },
  {
   "attachments": {},
   "cell_type": "markdown",
   "metadata": {},
   "source": [
    "## 多任务学习\n",
    "* erine tiny v2：多任务学习已经被证明对增强模型泛化性有显著的效果，例如 MT-DNN、MUPPET、FLAN 等。通过对教师模型加入多下游任务微调，不但能够对教师模型注入下游知识、提高教师模型的泛化性，并且能够通过蒸馏传给学生模型，大幅度提升小模型的泛化性。https://github.com/PaddlePaddle/PaddleNLP/tree/develop/model_zoo/ernie-tiny\n",
    "    * 模型经过压缩后，精度基本无损，体积减小了 92.2%。在以上测试条件下，端到端推理速度达到原来的 2.13 倍，内存占用减小了 62.18%。"
   ]
  },
  {
   "cell_type": "code",
   "execution_count": null,
   "metadata": {},
   "outputs": [],
   "source": [
    "from dataclasses import dataclass, field\n",
    "from functools import partial\n",
    "import paddle\n",
    "from paddlenlp.datasets import load_dataset\n",
    "from paddlenlp.transformers import AutoModelForSequenceClassification, AutoTokenizer\n",
    "from paddlenlp.trainer import Trainer, TrainingArguments, PdArgumentParser\n",
    "\n",
    "@dataclass\n",
    "class DataArguments:\n",
    "    dataset: str = field(\n",
    "        default=None,\n",
    "        metadata={\"help\": \"The name of the dataset to use.\"})\n",
    "\n",
    "    max_seq_length: int = field(\n",
    "        default=128,\n",
    "        metadata={\"help\": \"The maximum total input sequence length after tokenization.\"})\n",
    "\n",
    "parser = PdArgumentParser(TrainingArguments, DataArguments)\n",
    "(training_args, data_args) = parser.parse_args_into_dataclasses()"
   ]
  },
  {
   "cell_type": "markdown",
   "metadata": {},
   "source": []
  },
  {
   "cell_type": "code",
   "execution_count": 2,
   "metadata": {},
   "outputs": [
    {
     "name": "stdout",
     "output_type": "stream",
     "text": [
      "[CLS]\n",
      "We have added 2 tokens\n",
      "['[CLS]', '[NEW_tok1]', 'Hello', '[NEW_tok2]', '[NEW_tok3]', 'World', '[NEW_tok4]', '!', '[SEP]']\n"
     ]
    }
   ],
   "source": [
    "from transformers import AutoTokenizer\n",
    "\n",
    "tokenizer = AutoTokenizer.from_pretrained(\"bert-base-cased\")\n",
    "print(tokenizer.cls_token)\n",
    "\n",
    "num_added_toks = tokenizer.add_tokens([\"[NEW_tok1]\", \"[NEW_tok2]\"])\n",
    "num_added_toks = tokenizer.add_tokens([\"[NEW_tok3]\", \"[NEW_tok4]\"], special_tokens=True)\n",
    "  \n",
    "print(\"We have added\", num_added_toks, \"tokens\")\n",
    "print(tokenizer('[NEW_tok1] Hello [NEW_tok2] [NEW_tok3] World [NEW_tok4]!').tokens())"
   ]
  },
  {
   "cell_type": "code",
   "execution_count": null,
   "metadata": {},
   "outputs": [],
   "source": []
  }
 ],
 "metadata": {
  "kernelspec": {
   "display_name": "py38",
   "language": "python",
   "name": "python3"
  },
  "language_info": {
   "codemirror_mode": {
    "name": "ipython",
    "version": 3
   },
   "file_extension": ".py",
   "mimetype": "text/x-python",
   "name": "python",
   "nbconvert_exporter": "python",
   "pygments_lexer": "ipython3",
   "version": "3.8.13"
  },
  "orig_nbformat": 4
 },
 "nbformat": 4,
 "nbformat_minor": 2
}
