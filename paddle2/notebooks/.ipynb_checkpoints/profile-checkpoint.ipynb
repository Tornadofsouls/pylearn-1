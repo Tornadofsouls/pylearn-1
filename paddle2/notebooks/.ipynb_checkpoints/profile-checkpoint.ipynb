{
 "cells": [
  {
   "cell_type": "markdown",
   "metadata": {},
   "source": [
    "# 命令行\n",
    "\n",
    "将性能分析结果保存到result文件\n",
    "\n",
    "python -m cProfile -o result.out test.py\n",
    "\n",
    "## 展示profile的结果\n",
    "\n",
    "python -c \"import pstats; p=pstats.Stats('result'); p.sort_stats('time').print_stats()\n",
    "\n",
    "* sort_stats支持一下参数：calls, cumulative, file, line, module, name, nfl, pcalls, stdname, time\n",
    "  * 运行以上命令后，也可以看到支持的参数"
   ]
  },
  {
   "cell_type": "markdown",
   "metadata": {},
   "source": [
    "# 程序内使用\n",
    "\n",
    "* 一点：可以只profile 一个函数，如下code"
   ]
  },
  {
   "cell_type": "code",
   "execution_count": 1,
   "metadata": {},
   "outputs": [
    {
     "name": "stdout",
     "output_type": "stream",
     "text": [
      "         104 function calls in 0.047 seconds\n",
      "\n",
      "   Ordered by: standard name\n",
      "\n",
      "   ncalls  tottime  percall  cumtime  percall filename:lineno(function)\n",
      "        1    0.000    0.000    0.047    0.047 :0(exec)\n",
      "        1    0.000    0.000    0.000    0.000 :0(setprofile)\n",
      "       99    0.047    0.000    0.047    0.000 <ipython-input-1-4551cca036f2>:2(a)\n",
      "        1    0.000    0.000    0.047    0.047 <ipython-input-1-4551cca036f2>:8(b)\n",
      "        1    0.000    0.000    0.047    0.047 <string>:1(<module>)\n",
      "        1    0.000    0.000    0.047    0.047 profile:0(b())\n",
      "        0    0.000             0.000          profile:0(profiler)\n",
      "\n",
      "\n"
     ]
    }
   ],
   "source": [
    "import profile\n",
    "def a():\n",
    "    sum = 0\n",
    "    for i in range(1, 10001):\n",
    "        sum += i\n",
    "    return sum\n",
    "\n",
    "def b():\n",
    "    sum = 0\n",
    "    for i in range(1, 100):\n",
    "        sum += a()\n",
    "    return sum\n",
    "if __name__ == \"__main__\":\n",
    "   profile.run(\"b()\")"
   ]
  },
  {
   "cell_type": "markdown",
   "metadata": {},
   "source": [
    "# 测试示例：在代码中直接使用profile与stats"
   ]
  },
  {
   "cell_type": "code",
   "execution_count": 4,
   "metadata": {},
   "outputs": [
    {
     "name": "stdout",
     "output_type": "stream",
     "text": [
      "4950495000\n",
      "Sat Oct  9 21:34:22 2021    result\n",
      "\n",
      "         103 function calls in 0.046 seconds\n",
      "\n",
      "   Ordered by: standard name\n",
      "\n",
      "   ncalls  tottime  percall  cumtime  percall filename:lineno(function)\n",
      "       99    0.046    0.000    0.046    0.000 <ipython-input-4-ec4e9f3aa643>:2(a)\n",
      "        1    0.000    0.000    0.046    0.046 <ipython-input-4-ec4e9f3aa643>:7(b)\n",
      "        1    0.000    0.000    0.046    0.046 <string>:1(<module>)\n",
      "        1    0.000    0.000    0.046    0.046 {built-in method builtins.exec}\n",
      "        1    0.000    0.000    0.000    0.000 {method 'disable' of '_lsprof.Profiler' objects}\n",
      "\n",
      "\n"
     ]
    },
    {
     "data": {
      "text/plain": [
       "<pstats.Stats at 0x7f7ca46d9320>"
      ]
     },
     "execution_count": 4,
     "metadata": {},
     "output_type": "execute_result"
    }
   ],
   "source": [
    "import os\n",
    "def a():\n",
    "    sum = 0\n",
    "    for i in range(1, 10001):\n",
    "        sum += i\n",
    "    return sum\n",
    "def b():\n",
    "    sum = 0\n",
    "    for i in range(1, 100):\n",
    "        sum += a()\n",
    "    return sum\n",
    "print(b())\n",
    "import cProfile\n",
    "#cProfile.run(\"b()\")\n",
    "cProfile.run(\"b()\", \"result\")\n",
    "\n",
    "import pstats\n",
    "pstats.Stats('result').sort_stats(-1).print_stats()"
   ]
  }
 ],
 "metadata": {
  "kernelspec": {
   "display_name": "Python 3",
   "language": "python",
   "name": "python3"
  },
  "language_info": {
   "codemirror_mode": {
    "name": "ipython",
    "version": 3
   },
   "file_extension": ".py",
   "mimetype": "text/x-python",
   "name": "python",
   "nbconvert_exporter": "python",
   "pygments_lexer": "ipython3",
   "version": "3.7.0"
  }
 },
 "nbformat": 4,
 "nbformat_minor": 2
}
