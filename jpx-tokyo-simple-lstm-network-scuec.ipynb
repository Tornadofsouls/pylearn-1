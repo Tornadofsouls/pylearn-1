{
 "cells": [
  {
   "cell_type": "markdown",
   "metadata": {
    "_cell_guid": "b1076dfc-b9ad-4769-8c92-a6c4dae69d19",
    "_uuid": "8f2839f25d086af736a60e9eeb907d3b93b6e0e5"
   },
   "source": [
    "# Introduction\n",
    "The competition is to predict the highest future returns for stocks that are actually traded on the Japan Exchange Group, Inc.\n",
    "In this notebook, we will work with `jpx_tokyo_market_prediction`, which is unfamiliar to Kaggle beginners, and how to extract the relevant data in the training data."
   ]
  },
  {
   "cell_type": "markdown",
   "metadata": {},
   "source": [
    "# Table of Contents\n",
    "*  [Explanation of data](#Explanation-of-data)\n",
    "*  [jpx_tokyo_market_prediction](#jpx_tokyo_market_prediction)\n",
    "*  [Create models and submit data](#Create-models-and-submit-data)\n",
    "\n",
    "# TODO\n",
    "* add sharp ratio metrics for evaluation\n",
    "* improve prediction with dataframe operation\n",
    "* use qlib data preprocessor"
   ]
  },
  {
   "cell_type": "markdown",
   "metadata": {},
   "source": [
    "# pytorch gpu check"
   ]
  },
  {
   "cell_type": "code",
   "execution_count": 1,
   "metadata": {
    "tags": []
   },
   "outputs": [
    {
     "name": "stdout",
     "output_type": "stream",
     "text": [
      "1.8.2+cu111\n",
      "11.1\n",
      "is_cuda_available: True\n",
      "gpu count: 2\n",
      "cuda:0 capability: (8, 6)\n",
      "cuda:0 name: NVIDIA GeForce RTX 3090\n"
     ]
    }
   ],
   "source": [
    "# check gpu env with torch\n",
    "\n",
    "import torch\n",
    "\n",
    "print(torch.__version__)  # 查看torch当前版本号\n",
    "\n",
    "print(torch.version.cuda)  # 编译当前版本的torch使用的cuda版本号\n",
    "\n",
    "print(\"is_cuda_available:\", torch.cuda.is_available())  # 查看当前cuda是否可用于当前版本的Torch，如果输出\n",
    "print('gpu count:', torch.cuda.device_count())\n",
    "# 查看指定GPU的容量、名称\n",
    "device = \"cuda:0\"\n",
    "\n",
    "print(f\"{device} capability:\", torch.cuda.get_device_capability(device))\n",
    "\n",
    "print(f\"{device} name:\", torch.cuda.get_device_name(device))"
   ]
  },
  {
   "cell_type": "markdown",
   "metadata": {},
   "source": [
    "# Explanation of data\n",
    "## Loading Modules\n",
    "First, load the required modules.  \n",
    "In this case, we will use pandas to load the data."
   ]
  },
  {
   "cell_type": "code",
   "execution_count": 2,
   "metadata": {
    "tags": []
   },
   "outputs": [],
   "source": [
    "import numpy as np\n",
    "import pandas as pd"
   ]
  },
  {
   "cell_type": "markdown",
   "metadata": {},
   "source": [
    "## Check the data\n",
    "Read *`stock_price.csv`* using `read_csv` in pandas."
   ]
  },
  {
   "cell_type": "code",
   "execution_count": 3,
   "metadata": {
    "tags": []
   },
   "outputs": [],
   "source": [
    "stock_price_df = pd.read_csv(\"/mnt/d/dataset/quant/kaggle22/train_files/stock_prices.csv\")\n",
    "test_stock_price_df = pd.read_csv(\"/mnt/d/dataset/quant/kaggle22/supplemental_files/stock_prices.csv\")\n",
    "\n",
    "# stock_price_df = pd.read_csv(\"../input/jpx-tokyo-stock-exchange-prediction//train_files/stock_prices.csv\")\n",
    "# test_stock_price_df = pd.read_csv(\"../input/jpx-tokyo-stock-exchange-prediction/supplemental_files/stock_prices.csv\")"
   ]
  },
  {
   "cell_type": "code",
   "execution_count": 5,
   "metadata": {},
   "outputs": [
    {
     "data": {
      "text/html": [
       "<div>\n",
       "<style scoped>\n",
       "    .dataframe tbody tr th:only-of-type {\n",
       "        vertical-align: middle;\n",
       "    }\n",
       "\n",
       "    .dataframe tbody tr th {\n",
       "        vertical-align: top;\n",
       "    }\n",
       "\n",
       "    .dataframe thead th {\n",
       "        text-align: right;\n",
       "    }\n",
       "</style>\n",
       "<table border=\"1\" class=\"dataframe\">\n",
       "  <thead>\n",
       "    <tr style=\"text-align: right;\">\n",
       "      <th></th>\n",
       "      <th>RowId</th>\n",
       "      <th>Date</th>\n",
       "      <th>SecuritiesCode</th>\n",
       "      <th>Open</th>\n",
       "      <th>High</th>\n",
       "      <th>Low</th>\n",
       "      <th>Close</th>\n",
       "      <th>Volume</th>\n",
       "      <th>AdjustmentFactor</th>\n",
       "      <th>ExpectedDividend</th>\n",
       "      <th>SupervisionFlag</th>\n",
       "      <th>Target</th>\n",
       "    </tr>\n",
       "  </thead>\n",
       "  <tbody>\n",
       "    <tr>\n",
       "      <th>0</th>\n",
       "      <td>20170104_1301</td>\n",
       "      <td>2017-01-04</td>\n",
       "      <td>1301</td>\n",
       "      <td>0.038994</td>\n",
       "      <td>0.035493</td>\n",
       "      <td>0.047764</td>\n",
       "      <td>0.041374</td>\n",
       "      <td>-0.169192</td>\n",
       "      <td>-0.007493</td>\n",
       "      <td>-0.053484</td>\n",
       "      <td>-0.025162</td>\n",
       "      <td>0.000730</td>\n",
       "    </tr>\n",
       "    <tr>\n",
       "      <th>1</th>\n",
       "      <td>20170104_1332</td>\n",
       "      <td>2017-01-04</td>\n",
       "      <td>1332</td>\n",
       "      <td>-0.566509</td>\n",
       "      <td>-0.566547</td>\n",
       "      <td>-0.565510</td>\n",
       "      <td>-0.565637</td>\n",
       "      <td>0.537161</td>\n",
       "      <td>-0.007493</td>\n",
       "      <td>-0.053484</td>\n",
       "      <td>-0.025162</td>\n",
       "      <td>0.012324</td>\n",
       "    </tr>\n",
       "    <tr>\n",
       "      <th>2</th>\n",
       "      <td>20170104_1333</td>\n",
       "      <td>2017-01-04</td>\n",
       "      <td>1333</td>\n",
       "      <td>0.155286</td>\n",
       "      <td>0.161205</td>\n",
       "      <td>0.163796</td>\n",
       "      <td>0.172227</td>\n",
       "      <td>-0.108081</td>\n",
       "      <td>-0.007493</td>\n",
       "      <td>-0.053484</td>\n",
       "      <td>-0.025162</td>\n",
       "      <td>0.006154</td>\n",
       "    </tr>\n",
       "    <tr>\n",
       "      <th>3</th>\n",
       "      <td>20170104_1376</td>\n",
       "      <td>2017-01-04</td>\n",
       "      <td>1376</td>\n",
       "      <td>-0.303174</td>\n",
       "      <td>-0.297439</td>\n",
       "      <td>-0.297504</td>\n",
       "      <td>-0.291909</td>\n",
       "      <td>-0.174323</td>\n",
       "      <td>-0.007493</td>\n",
       "      <td>-0.053484</td>\n",
       "      <td>-0.025162</td>\n",
       "      <td>0.011053</td>\n",
       "    </tr>\n",
       "    <tr>\n",
       "      <th>4</th>\n",
       "      <td>20170104_1377</td>\n",
       "      <td>2017-01-04</td>\n",
       "      <td>1377</td>\n",
       "      <td>0.188832</td>\n",
       "      <td>0.199886</td>\n",
       "      <td>0.200587</td>\n",
       "      <td>0.205779</td>\n",
       "      <td>-0.138713</td>\n",
       "      <td>-0.007493</td>\n",
       "      <td>-0.053484</td>\n",
       "      <td>-0.025162</td>\n",
       "      <td>0.003026</td>\n",
       "    </tr>\n",
       "    <tr>\n",
       "      <th>...</th>\n",
       "      <td>...</td>\n",
       "      <td>...</td>\n",
       "      <td>...</td>\n",
       "      <td>...</td>\n",
       "      <td>...</td>\n",
       "      <td>...</td>\n",
       "      <td>...</td>\n",
       "      <td>...</td>\n",
       "      <td>...</td>\n",
       "      <td>...</td>\n",
       "      <td>...</td>\n",
       "      <td>...</td>\n",
       "    </tr>\n",
       "    <tr>\n",
       "      <th>2332526</th>\n",
       "      <td>20211203_9990</td>\n",
       "      <td>2021-12-03</td>\n",
       "      <td>9990</td>\n",
       "      <td>-0.581605</td>\n",
       "      <td>-0.579809</td>\n",
       "      <td>-0.579661</td>\n",
       "      <td>-0.577660</td>\n",
       "      <td>-0.165925</td>\n",
       "      <td>-0.007493</td>\n",
       "      <td>-0.053484</td>\n",
       "      <td>-0.025162</td>\n",
       "      <td>0.034816</td>\n",
       "    </tr>\n",
       "    <tr>\n",
       "      <th>2332527</th>\n",
       "      <td>20211203_9991</td>\n",
       "      <td>2021-12-03</td>\n",
       "      <td>9991</td>\n",
       "      <td>-0.506685</td>\n",
       "      <td>-0.506316</td>\n",
       "      <td>-0.503532</td>\n",
       "      <td>-0.503287</td>\n",
       "      <td>-0.168043</td>\n",
       "      <td>-0.007493</td>\n",
       "      <td>-0.053484</td>\n",
       "      <td>-0.025162</td>\n",
       "      <td>0.025478</td>\n",
       "    </tr>\n",
       "    <tr>\n",
       "      <th>2332528</th>\n",
       "      <td>20211203_9993</td>\n",
       "      <td>2021-12-03</td>\n",
       "      <td>9993</td>\n",
       "      <td>-0.252855</td>\n",
       "      <td>-0.258758</td>\n",
       "      <td>-0.259298</td>\n",
       "      <td>-0.265347</td>\n",
       "      <td>-0.175369</td>\n",
       "      <td>-0.007493</td>\n",
       "      <td>-0.053484</td>\n",
       "      <td>-0.025162</td>\n",
       "      <td>-0.004302</td>\n",
       "    </tr>\n",
       "    <tr>\n",
       "      <th>2332529</th>\n",
       "      <td>20211203_9994</td>\n",
       "      <td>2021-12-03</td>\n",
       "      <td>9994</td>\n",
       "      <td>-0.057730</td>\n",
       "      <td>-0.063696</td>\n",
       "      <td>-0.051288</td>\n",
       "      <td>-0.057325</td>\n",
       "      <td>-0.175548</td>\n",
       "      <td>-0.007493</td>\n",
       "      <td>-0.053484</td>\n",
       "      <td>-0.025162</td>\n",
       "      <td>0.009098</td>\n",
       "    </tr>\n",
       "    <tr>\n",
       "      <th>2332530</th>\n",
       "      <td>20211203_9997</td>\n",
       "      <td>2021-12-03</td>\n",
       "      <td>9997</td>\n",
       "      <td>-0.532404</td>\n",
       "      <td>-0.529248</td>\n",
       "      <td>-0.530701</td>\n",
       "      <td>-0.530687</td>\n",
       "      <td>-0.079925</td>\n",
       "      <td>-0.007493</td>\n",
       "      <td>-0.053484</td>\n",
       "      <td>-0.025162</td>\n",
       "      <td>0.018414</td>\n",
       "    </tr>\n",
       "  </tbody>\n",
       "</table>\n",
       "<p>2324923 rows × 12 columns</p>\n",
       "</div>"
      ],
      "text/plain": [
       "                 RowId       Date  SecuritiesCode      Open      High  \\\n",
       "0        20170104_1301 2017-01-04            1301  0.038994  0.035493   \n",
       "1        20170104_1332 2017-01-04            1332 -0.566509 -0.566547   \n",
       "2        20170104_1333 2017-01-04            1333  0.155286  0.161205   \n",
       "3        20170104_1376 2017-01-04            1376 -0.303174 -0.297439   \n",
       "4        20170104_1377 2017-01-04            1377  0.188832  0.199886   \n",
       "...                ...        ...             ...       ...       ...   \n",
       "2332526  20211203_9990 2021-12-03            9990 -0.581605 -0.579809   \n",
       "2332527  20211203_9991 2021-12-03            9991 -0.506685 -0.506316   \n",
       "2332528  20211203_9993 2021-12-03            9993 -0.252855 -0.258758   \n",
       "2332529  20211203_9994 2021-12-03            9994 -0.057730 -0.063696   \n",
       "2332530  20211203_9997 2021-12-03            9997 -0.532404 -0.529248   \n",
       "\n",
       "              Low     Close    Volume  AdjustmentFactor  ExpectedDividend  \\\n",
       "0        0.047764  0.041374 -0.169192         -0.007493         -0.053484   \n",
       "1       -0.565510 -0.565637  0.537161         -0.007493         -0.053484   \n",
       "2        0.163796  0.172227 -0.108081         -0.007493         -0.053484   \n",
       "3       -0.297504 -0.291909 -0.174323         -0.007493         -0.053484   \n",
       "4        0.200587  0.205779 -0.138713         -0.007493         -0.053484   \n",
       "...           ...       ...       ...               ...               ...   \n",
       "2332526 -0.579661 -0.577660 -0.165925         -0.007493         -0.053484   \n",
       "2332527 -0.503532 -0.503287 -0.168043         -0.007493         -0.053484   \n",
       "2332528 -0.259298 -0.265347 -0.175369         -0.007493         -0.053484   \n",
       "2332529 -0.051288 -0.057325 -0.175548         -0.007493         -0.053484   \n",
       "2332530 -0.530701 -0.530687 -0.079925         -0.007493         -0.053484   \n",
       "\n",
       "         SupervisionFlag    Target  \n",
       "0              -0.025162  0.000730  \n",
       "1              -0.025162  0.012324  \n",
       "2              -0.025162  0.006154  \n",
       "3              -0.025162  0.011053  \n",
       "4              -0.025162  0.003026  \n",
       "...                  ...       ...  \n",
       "2332526        -0.025162  0.034816  \n",
       "2332527        -0.025162  0.025478  \n",
       "2332528        -0.025162 -0.004302  \n",
       "2332529        -0.025162  0.009098  \n",
       "2332530        -0.025162  0.018414  \n",
       "\n",
       "[2324923 rows x 12 columns]"
      ]
     },
     "execution_count": 5,
     "metadata": {},
     "output_type": "execute_result"
    }
   ],
   "source": [
    "train_df = preprocess(stock_price_df, stdsc, is_fit=True)\n",
    "test_df = preprocess(test_stock_price_df, stdsc, is_fit=False)\n",
    "train_df"
   ]
  },
  {
   "cell_type": "markdown",
   "metadata": {},
   "source": [
    "## define metric: sharp rate and compute for the training data with known Target"
   ]
  },
  {
   "cell_type": "code",
   "execution_count": 6,
   "metadata": {
    "tags": []
   },
   "outputs": [],
   "source": [
    "def calc_spread_return_sharpe(df: pd.DataFrame, portfolio_size: int = 200, toprank_weight_ratio: float = 2, rank='Rank') -> float:\n",
    "    \"\"\"\n",
    "    Args:\n",
    "        df (pd.DataFrame): predicted results\n",
    "        portfolio_size (int): # of equities to buy/sell\n",
    "        toprank_weight_ratio (float): the relative weight of the most highly ranked stock compared to the least.\n",
    "    Returns:\n",
    "        (float): sharpe ratio\n",
    "    \"\"\"\n",
    "    def _calc_spread_return_per_day(df, portfolio_size, toprank_weight_ratio, rank='Rank'):\n",
    "        \"\"\"\n",
    "        Args:\n",
    "            df (pd.DataFrame): predicted results\n",
    "            portfolio_size (int): # of equities to buy/sell\n",
    "            toprank_weight_ratio (float): the relative weight of the most highly ranked stock compared to the least.\n",
    "        Returns:\n",
    "            (float): spread return\n",
    "        \"\"\"\n",
    "        assert df[rank].min() == 0\n",
    "        assert df[rank].max() == len(df[rank]) - 1\n",
    "        weights = np.linspace(start=toprank_weight_ratio, stop=1, num=portfolio_size)\n",
    "        purchase = (df.sort_values(by=rank)['Target'][:portfolio_size] * weights).sum() / weights.mean()\n",
    "        short = (df.sort_values(by=rank, ascending=False)['Target'][:portfolio_size] * weights).sum() / weights.mean()\n",
    "        return purchase - short\n",
    "\n",
    "    buf = df.groupby('Date').apply(_calc_spread_return_per_day, portfolio_size, toprank_weight_ratio, rank)\n",
    "    sharpe_ratio = buf.mean() / buf.std()\n",
    "    return sharpe_ratio"
   ]
  },
  {
   "cell_type": "code",
   "execution_count": 7,
   "metadata": {
    "tags": []
   },
   "outputs": [
    {
     "name": "stdout",
     "output_type": "stream",
     "text": [
      "0 1994\n"
     ]
    },
    {
     "data": {
      "text/html": [
       "<div>\n",
       "<style scoped>\n",
       "    .dataframe tbody tr th:only-of-type {\n",
       "        vertical-align: middle;\n",
       "    }\n",
       "\n",
       "    .dataframe tbody tr th {\n",
       "        vertical-align: top;\n",
       "    }\n",
       "\n",
       "    .dataframe thead th {\n",
       "        text-align: right;\n",
       "    }\n",
       "</style>\n",
       "<table border=\"1\" class=\"dataframe\">\n",
       "  <thead>\n",
       "    <tr style=\"text-align: right;\">\n",
       "      <th></th>\n",
       "      <th>RowId</th>\n",
       "      <th>Date</th>\n",
       "      <th>SecuritiesCode</th>\n",
       "      <th>Open</th>\n",
       "      <th>High</th>\n",
       "      <th>Low</th>\n",
       "      <th>Close</th>\n",
       "      <th>Volume</th>\n",
       "      <th>AdjustmentFactor</th>\n",
       "      <th>ExpectedDividend</th>\n",
       "      <th>SupervisionFlag</th>\n",
       "      <th>Target</th>\n",
       "      <th>Rank</th>\n",
       "    </tr>\n",
       "  </thead>\n",
       "  <tbody>\n",
       "    <tr>\n",
       "      <th>2331270</th>\n",
       "      <td>20211203_4699</td>\n",
       "      <td>2021-12-03</td>\n",
       "      <td>4699</td>\n",
       "      <td>-0.127058</td>\n",
       "      <td>-0.123375</td>\n",
       "      <td>-0.125719</td>\n",
       "      <td>-0.121353</td>\n",
       "      <td>-0.172179</td>\n",
       "      <td>-0.007493</td>\n",
       "      <td>-0.053484</td>\n",
       "      <td>39.742988</td>\n",
       "      <td>0.187970</td>\n",
       "      <td>0</td>\n",
       "    </tr>\n",
       "    <tr>\n",
       "      <th>2330587</th>\n",
       "      <td>20211203_1873</td>\n",
       "      <td>2021-12-03</td>\n",
       "      <td>1873</td>\n",
       "      <td>-0.629687</td>\n",
       "      <td>-0.628437</td>\n",
       "      <td>-0.628621</td>\n",
       "      <td>-0.626870</td>\n",
       "      <td>-0.155714</td>\n",
       "      <td>-0.007493</td>\n",
       "      <td>-0.053484</td>\n",
       "      <td>-0.025162</td>\n",
       "      <td>0.186782</td>\n",
       "      <td>1</td>\n",
       "    </tr>\n",
       "    <tr>\n",
       "      <th>2331721</th>\n",
       "      <td>20211203_6779</td>\n",
       "      <td>2021-12-03</td>\n",
       "      <td>6779</td>\n",
       "      <td>-0.289755</td>\n",
       "      <td>-0.288598</td>\n",
       "      <td>-0.303447</td>\n",
       "      <td>-0.293027</td>\n",
       "      <td>-0.044672</td>\n",
       "      <td>-0.007493</td>\n",
       "      <td>-0.053484</td>\n",
       "      <td>-0.025162</td>\n",
       "      <td>0.159624</td>\n",
       "      <td>2</td>\n",
       "    </tr>\n",
       "    <tr>\n",
       "      <th>2331997</th>\n",
       "      <td>20211203_7809</td>\n",
       "      <td>2021-12-03</td>\n",
       "      <td>7809</td>\n",
       "      <td>0.968774</td>\n",
       "      <td>1.050865</td>\n",
       "      <td>0.925083</td>\n",
       "      <td>1.066947</td>\n",
       "      <td>-0.165388</td>\n",
       "      <td>-0.007493</td>\n",
       "      <td>-0.053484</td>\n",
       "      <td>-0.025162</td>\n",
       "      <td>0.136667</td>\n",
       "      <td>3</td>\n",
       "    </tr>\n",
       "    <tr>\n",
       "      <th>2330836</th>\n",
       "      <td>20211203_3031</td>\n",
       "      <td>2021-12-03</td>\n",
       "      <td>3031</td>\n",
       "      <td>-0.392350</td>\n",
       "      <td>-0.396075</td>\n",
       "      <td>-0.397971</td>\n",
       "      <td>-0.402351</td>\n",
       "      <td>0.244368</td>\n",
       "      <td>-0.007493</td>\n",
       "      <td>-0.053484</td>\n",
       "      <td>-0.025162</td>\n",
       "      <td>0.119069</td>\n",
       "      <td>4</td>\n",
       "    </tr>\n",
       "    <tr>\n",
       "      <th>...</th>\n",
       "      <td>...</td>\n",
       "      <td>...</td>\n",
       "      <td>...</td>\n",
       "      <td>...</td>\n",
       "      <td>...</td>\n",
       "      <td>...</td>\n",
       "      <td>...</td>\n",
       "      <td>...</td>\n",
       "      <td>...</td>\n",
       "      <td>...</td>\n",
       "      <td>...</td>\n",
       "      <td>...</td>\n",
       "      <td>...</td>\n",
       "    </tr>\n",
       "    <tr>\n",
       "      <th>2331784</th>\n",
       "      <td>20211203_6958</td>\n",
       "      <td>2021-12-03</td>\n",
       "      <td>6958</td>\n",
       "      <td>-0.577970</td>\n",
       "      <td>-0.579809</td>\n",
       "      <td>-0.582491</td>\n",
       "      <td>-0.581575</td>\n",
       "      <td>-0.065910</td>\n",
       "      <td>-0.007493</td>\n",
       "      <td>-0.053484</td>\n",
       "      <td>-0.025162</td>\n",
       "      <td>-0.058201</td>\n",
       "      <td>1990</td>\n",
       "    </tr>\n",
       "    <tr>\n",
       "      <th>2332479</th>\n",
       "      <td>20211203_9790</td>\n",
       "      <td>2021-12-03</td>\n",
       "      <td>9790</td>\n",
       "      <td>0.343982</td>\n",
       "      <td>0.349084</td>\n",
       "      <td>0.356240</td>\n",
       "      <td>0.353967</td>\n",
       "      <td>-0.171285</td>\n",
       "      <td>-0.007493</td>\n",
       "      <td>-0.053484</td>\n",
       "      <td>-0.025162</td>\n",
       "      <td>-0.084321</td>\n",
       "      <td>1991</td>\n",
       "    </tr>\n",
       "    <tr>\n",
       "      <th>2330656</th>\n",
       "      <td>20211203_2158</td>\n",
       "      <td>2021-12-03</td>\n",
       "      <td>2158</td>\n",
       "      <td>0.142707</td>\n",
       "      <td>0.170875</td>\n",
       "      <td>-0.055533</td>\n",
       "      <td>-0.064035</td>\n",
       "      <td>2.842232</td>\n",
       "      <td>-0.007493</td>\n",
       "      <td>-0.053484</td>\n",
       "      <td>-0.025162</td>\n",
       "      <td>-0.091797</td>\n",
       "      <td>1992</td>\n",
       "    </tr>\n",
       "    <tr>\n",
       "      <th>2331698</th>\n",
       "      <td>20211203_6718</td>\n",
       "      <td>2021-12-03</td>\n",
       "      <td>6718</td>\n",
       "      <td>-0.122585</td>\n",
       "      <td>-0.114534</td>\n",
       "      <td>-0.121191</td>\n",
       "      <td>-0.111847</td>\n",
       "      <td>-0.164546</td>\n",
       "      <td>-0.007493</td>\n",
       "      <td>-0.053484</td>\n",
       "      <td>-0.025162</td>\n",
       "      <td>-0.092211</td>\n",
       "      <td>1993</td>\n",
       "    </tr>\n",
       "    <tr>\n",
       "      <th>2332506</th>\n",
       "      <td>20211203_9919</td>\n",
       "      <td>2021-12-03</td>\n",
       "      <td>9919</td>\n",
       "      <td>-0.217352</td>\n",
       "      <td>-0.215933</td>\n",
       "      <td>-0.214866</td>\n",
       "      <td>-0.213901</td>\n",
       "      <td>-0.163117</td>\n",
       "      <td>-0.007493</td>\n",
       "      <td>-0.053484</td>\n",
       "      <td>-0.025162</td>\n",
       "      <td>-0.224215</td>\n",
       "      <td>1994</td>\n",
       "    </tr>\n",
       "  </tbody>\n",
       "</table>\n",
       "<p>1995 rows × 13 columns</p>\n",
       "</div>"
      ],
      "text/plain": [
       "                 RowId       Date  SecuritiesCode      Open      High  \\\n",
       "2331270  20211203_4699 2021-12-03            4699 -0.127058 -0.123375   \n",
       "2330587  20211203_1873 2021-12-03            1873 -0.629687 -0.628437   \n",
       "2331721  20211203_6779 2021-12-03            6779 -0.289755 -0.288598   \n",
       "2331997  20211203_7809 2021-12-03            7809  0.968774  1.050865   \n",
       "2330836  20211203_3031 2021-12-03            3031 -0.392350 -0.396075   \n",
       "...                ...        ...             ...       ...       ...   \n",
       "2331784  20211203_6958 2021-12-03            6958 -0.577970 -0.579809   \n",
       "2332479  20211203_9790 2021-12-03            9790  0.343982  0.349084   \n",
       "2330656  20211203_2158 2021-12-03            2158  0.142707  0.170875   \n",
       "2331698  20211203_6718 2021-12-03            6718 -0.122585 -0.114534   \n",
       "2332506  20211203_9919 2021-12-03            9919 -0.217352 -0.215933   \n",
       "\n",
       "              Low     Close    Volume  AdjustmentFactor  ExpectedDividend  \\\n",
       "2331270 -0.125719 -0.121353 -0.172179         -0.007493         -0.053484   \n",
       "2330587 -0.628621 -0.626870 -0.155714         -0.007493         -0.053484   \n",
       "2331721 -0.303447 -0.293027 -0.044672         -0.007493         -0.053484   \n",
       "2331997  0.925083  1.066947 -0.165388         -0.007493         -0.053484   \n",
       "2330836 -0.397971 -0.402351  0.244368         -0.007493         -0.053484   \n",
       "...           ...       ...       ...               ...               ...   \n",
       "2331784 -0.582491 -0.581575 -0.065910         -0.007493         -0.053484   \n",
       "2332479  0.356240  0.353967 -0.171285         -0.007493         -0.053484   \n",
       "2330656 -0.055533 -0.064035  2.842232         -0.007493         -0.053484   \n",
       "2331698 -0.121191 -0.111847 -0.164546         -0.007493         -0.053484   \n",
       "2332506 -0.214866 -0.213901 -0.163117         -0.007493         -0.053484   \n",
       "\n",
       "         SupervisionFlag    Target  Rank  \n",
       "2331270        39.742988  0.187970     0  \n",
       "2330587        -0.025162  0.186782     1  \n",
       "2331721        -0.025162  0.159624     2  \n",
       "2331997        -0.025162  0.136667     3  \n",
       "2330836        -0.025162  0.119069     4  \n",
       "...                  ...       ...   ...  \n",
       "2331784        -0.025162 -0.058201  1990  \n",
       "2332479        -0.025162 -0.084321  1991  \n",
       "2330656        -0.025162 -0.091797  1992  \n",
       "2331698        -0.025162 -0.092211  1993  \n",
       "2332506        -0.025162 -0.224215  1994  \n",
       "\n",
       "[1995 rows x 13 columns]"
      ]
     },
     "execution_count": 7,
     "metadata": {},
     "output_type": "execute_result"
    }
   ],
   "source": [
    "# add rank according to Target for train\n",
    "\n",
    "train_df['Rank'] = train_df.groupby(\"Date\")['Target'].transform('rank', ascending=False, method=\"first\") - 1\n",
    "train_df['Rank'] = train_df['Rank'].astype(int)\n",
    "# print(train_df['Rank'].min())\n",
    "df_astock = train_df[train_df['Date'] == '2021-12-03']\n",
    "\n",
    "# make sure it's correct\n",
    "print(df_astock['Rank'].min(), df_astock['Rank'].max())\n",
    "df_astock.sort_values(by=['Target'], ascending=False)\n",
    "# sharp = calc_spread_return_sharpe(train_df)"
   ]
  },
  {
   "cell_type": "code",
   "execution_count": 8,
   "metadata": {},
   "outputs": [
    {
     "data": {
      "text/html": [
       "<div>\n",
       "<style scoped>\n",
       "    .dataframe tbody tr th:only-of-type {\n",
       "        vertical-align: middle;\n",
       "    }\n",
       "\n",
       "    .dataframe tbody tr th {\n",
       "        vertical-align: top;\n",
       "    }\n",
       "\n",
       "    .dataframe thead th {\n",
       "        text-align: right;\n",
       "    }\n",
       "</style>\n",
       "<table border=\"1\" class=\"dataframe\">\n",
       "  <thead>\n",
       "    <tr style=\"text-align: right;\">\n",
       "      <th></th>\n",
       "      <th>RowId</th>\n",
       "      <th>Date</th>\n",
       "      <th>SecuritiesCode</th>\n",
       "      <th>Open</th>\n",
       "      <th>High</th>\n",
       "      <th>Low</th>\n",
       "      <th>Close</th>\n",
       "      <th>Volume</th>\n",
       "      <th>AdjustmentFactor</th>\n",
       "      <th>ExpectedDividend</th>\n",
       "      <th>SupervisionFlag</th>\n",
       "      <th>Target</th>\n",
       "      <th>Close_shift1</th>\n",
       "      <th>Close_shift2</th>\n",
       "      <th>rate</th>\n",
       "      <th>Rank</th>\n",
       "    </tr>\n",
       "  </thead>\n",
       "  <tbody>\n",
       "    <tr>\n",
       "      <th>0</th>\n",
       "      <td>20211206_1301</td>\n",
       "      <td>2021-12-06</td>\n",
       "      <td>1301</td>\n",
       "      <td>0.069915</td>\n",
       "      <td>0.061486</td>\n",
       "      <td>0.076114</td>\n",
       "      <td>0.068435</td>\n",
       "      <td>-0.258364</td>\n",
       "      <td>0.010497</td>\n",
       "      <td>-0.039402</td>\n",
       "      <td>-0.05215</td>\n",
       "      <td>-0.003263</td>\n",
       "      <td>-0.492081</td>\n",
       "      <td>-0.071341</td>\n",
       "      <td>-0.855021</td>\n",
       "      <td>1389</td>\n",
       "    </tr>\n",
       "    <tr>\n",
       "      <th>1</th>\n",
       "      <td>20211206_1332</td>\n",
       "      <td>2021-12-06</td>\n",
       "      <td>1332</td>\n",
       "      <td>-0.491403</td>\n",
       "      <td>-0.491636</td>\n",
       "      <td>-0.490380</td>\n",
       "      <td>-0.492081</td>\n",
       "      <td>0.331465</td>\n",
       "      <td>0.010497</td>\n",
       "      <td>-0.039402</td>\n",
       "      <td>-0.05215</td>\n",
       "      <td>-0.008993</td>\n",
       "      <td>-0.071341</td>\n",
       "      <td>-0.342657</td>\n",
       "      <td>3.803073</td>\n",
       "      <td>1664</td>\n",
       "    </tr>\n",
       "    <tr>\n",
       "      <th>2</th>\n",
       "      <td>20211206_1333</td>\n",
       "      <td>2021-12-06</td>\n",
       "      <td>1333</td>\n",
       "      <td>-0.074290</td>\n",
       "      <td>-0.076388</td>\n",
       "      <td>-0.068072</td>\n",
       "      <td>-0.071341</td>\n",
       "      <td>-0.207317</td>\n",
       "      <td>0.010497</td>\n",
       "      <td>-0.039402</td>\n",
       "      <td>-0.05215</td>\n",
       "      <td>-0.009963</td>\n",
       "      <td>-0.342657</td>\n",
       "      <td>-0.312773</td>\n",
       "      <td>-0.087215</td>\n",
       "      <td>1706</td>\n",
       "    </tr>\n",
       "    <tr>\n",
       "      <th>3</th>\n",
       "      <td>20211206_1375</td>\n",
       "      <td>2021-12-06</td>\n",
       "      <td>1375</td>\n",
       "      <td>-0.341562</td>\n",
       "      <td>-0.343084</td>\n",
       "      <td>-0.338807</td>\n",
       "      <td>-0.342657</td>\n",
       "      <td>-0.226863</td>\n",
       "      <td>0.010497</td>\n",
       "      <td>-0.039402</td>\n",
       "      <td>-0.05215</td>\n",
       "      <td>-0.015032</td>\n",
       "      <td>-0.312773</td>\n",
       "      <td>0.122321</td>\n",
       "      <td>-1.391088</td>\n",
       "      <td>1838</td>\n",
       "    </tr>\n",
       "    <tr>\n",
       "      <th>4</th>\n",
       "      <td>20211206_1376</td>\n",
       "      <td>2021-12-06</td>\n",
       "      <td>1376</td>\n",
       "      <td>-0.315962</td>\n",
       "      <td>-0.312213</td>\n",
       "      <td>-0.311399</td>\n",
       "      <td>-0.312773</td>\n",
       "      <td>-0.259542</td>\n",
       "      <td>0.010497</td>\n",
       "      <td>-0.039402</td>\n",
       "      <td>-0.05215</td>\n",
       "      <td>0.002867</td>\n",
       "      <td>0.122321</td>\n",
       "      <td>-0.186174</td>\n",
       "      <td>-2.522007</td>\n",
       "      <td>978</td>\n",
       "    </tr>\n",
       "    <tr>\n",
       "      <th>...</th>\n",
       "      <td>...</td>\n",
       "      <td>...</td>\n",
       "      <td>...</td>\n",
       "      <td>...</td>\n",
       "      <td>...</td>\n",
       "      <td>...</td>\n",
       "      <td>...</td>\n",
       "      <td>...</td>\n",
       "      <td>...</td>\n",
       "      <td>...</td>\n",
       "      <td>...</td>\n",
       "      <td>...</td>\n",
       "      <td>...</td>\n",
       "      <td>...</td>\n",
       "      <td>...</td>\n",
       "      <td>...</td>\n",
       "    </tr>\n",
       "    <tr>\n",
       "      <th>111995</th>\n",
       "      <td>20220228_9990</td>\n",
       "      <td>2022-02-28</td>\n",
       "      <td>9990</td>\n",
       "      <td>-0.510427</td>\n",
       "      <td>-0.510437</td>\n",
       "      <td>-0.509208</td>\n",
       "      <td>-0.509259</td>\n",
       "      <td>-0.209630</td>\n",
       "      <td>0.010497</td>\n",
       "      <td>-0.039402</td>\n",
       "      <td>-0.05215</td>\n",
       "      <td>-0.013592</td>\n",
       "      <td>-0.437253</td>\n",
       "      <td>-0.254180</td>\n",
       "      <td>-0.418690</td>\n",
       "      <td>786</td>\n",
       "    </tr>\n",
       "    <tr>\n",
       "      <th>111996</th>\n",
       "      <td>20220228_9991</td>\n",
       "      <td>2022-02-28</td>\n",
       "      <td>9991</td>\n",
       "      <td>-0.437150</td>\n",
       "      <td>-0.439178</td>\n",
       "      <td>-0.436519</td>\n",
       "      <td>-0.437253</td>\n",
       "      <td>-0.255179</td>\n",
       "      <td>0.010497</td>\n",
       "      <td>-0.039402</td>\n",
       "      <td>-0.05215</td>\n",
       "      <td>-0.020581</td>\n",
       "      <td>-0.254180</td>\n",
       "      <td>-0.027102</td>\n",
       "      <td>-0.893373</td>\n",
       "      <td>1119</td>\n",
       "    </tr>\n",
       "    <tr>\n",
       "      <th>111997</th>\n",
       "      <td>20220228_9993</td>\n",
       "      <td>2022-02-28</td>\n",
       "      <td>9993</td>\n",
       "      <td>-0.254663</td>\n",
       "      <td>-0.254186</td>\n",
       "      <td>-0.249197</td>\n",
       "      <td>-0.254180</td>\n",
       "      <td>-0.260502</td>\n",
       "      <td>0.010497</td>\n",
       "      <td>-0.039402</td>\n",
       "      <td>-0.05215</td>\n",
       "      <td>0.005762</td>\n",
       "      <td>-0.027102</td>\n",
       "      <td>-0.457961</td>\n",
       "      <td>15.897421</td>\n",
       "      <td>136</td>\n",
       "    </tr>\n",
       "    <tr>\n",
       "      <th>111998</th>\n",
       "      <td>20220228_9994</td>\n",
       "      <td>2022-02-28</td>\n",
       "      <td>9994</td>\n",
       "      <td>-0.027317</td>\n",
       "      <td>-0.034608</td>\n",
       "      <td>-0.025173</td>\n",
       "      <td>-0.027102</td>\n",
       "      <td>-0.258320</td>\n",
       "      <td>0.010497</td>\n",
       "      <td>-0.039402</td>\n",
       "      <td>-0.05215</td>\n",
       "      <td>-0.002341</td>\n",
       "      <td>-0.457961</td>\n",
       "      <td>NaN</td>\n",
       "      <td>0.000000</td>\n",
       "      <td>330</td>\n",
       "    </tr>\n",
       "    <tr>\n",
       "      <th>111999</th>\n",
       "      <td>20220228_9997</td>\n",
       "      <td>2022-02-28</td>\n",
       "      <td>9997</td>\n",
       "      <td>-0.458757</td>\n",
       "      <td>-0.459604</td>\n",
       "      <td>-0.457491</td>\n",
       "      <td>-0.457961</td>\n",
       "      <td>-0.136550</td>\n",
       "      <td>0.010497</td>\n",
       "      <td>-0.039402</td>\n",
       "      <td>-0.05215</td>\n",
       "      <td>-0.030014</td>\n",
       "      <td>NaN</td>\n",
       "      <td>NaN</td>\n",
       "      <td>0.000000</td>\n",
       "      <td>1526</td>\n",
       "    </tr>\n",
       "  </tbody>\n",
       "</table>\n",
       "<p>111716 rows × 16 columns</p>\n",
       "</div>"
      ],
      "text/plain": [
       "                RowId       Date  SecuritiesCode      Open      High  \\\n",
       "0       20211206_1301 2021-12-06            1301  0.069915  0.061486   \n",
       "1       20211206_1332 2021-12-06            1332 -0.491403 -0.491636   \n",
       "2       20211206_1333 2021-12-06            1333 -0.074290 -0.076388   \n",
       "3       20211206_1375 2021-12-06            1375 -0.341562 -0.343084   \n",
       "4       20211206_1376 2021-12-06            1376 -0.315962 -0.312213   \n",
       "...               ...        ...             ...       ...       ...   \n",
       "111995  20220228_9990 2022-02-28            9990 -0.510427 -0.510437   \n",
       "111996  20220228_9991 2022-02-28            9991 -0.437150 -0.439178   \n",
       "111997  20220228_9993 2022-02-28            9993 -0.254663 -0.254186   \n",
       "111998  20220228_9994 2022-02-28            9994 -0.027317 -0.034608   \n",
       "111999  20220228_9997 2022-02-28            9997 -0.458757 -0.459604   \n",
       "\n",
       "             Low     Close    Volume  AdjustmentFactor  ExpectedDividend  \\\n",
       "0       0.076114  0.068435 -0.258364          0.010497         -0.039402   \n",
       "1      -0.490380 -0.492081  0.331465          0.010497         -0.039402   \n",
       "2      -0.068072 -0.071341 -0.207317          0.010497         -0.039402   \n",
       "3      -0.338807 -0.342657 -0.226863          0.010497         -0.039402   \n",
       "4      -0.311399 -0.312773 -0.259542          0.010497         -0.039402   \n",
       "...          ...       ...       ...               ...               ...   \n",
       "111995 -0.509208 -0.509259 -0.209630          0.010497         -0.039402   \n",
       "111996 -0.436519 -0.437253 -0.255179          0.010497         -0.039402   \n",
       "111997 -0.249197 -0.254180 -0.260502          0.010497         -0.039402   \n",
       "111998 -0.025173 -0.027102 -0.258320          0.010497         -0.039402   \n",
       "111999 -0.457491 -0.457961 -0.136550          0.010497         -0.039402   \n",
       "\n",
       "        SupervisionFlag    Target  Close_shift1  Close_shift2       rate  Rank  \n",
       "0              -0.05215 -0.003263     -0.492081     -0.071341  -0.855021  1389  \n",
       "1              -0.05215 -0.008993     -0.071341     -0.342657   3.803073  1664  \n",
       "2              -0.05215 -0.009963     -0.342657     -0.312773  -0.087215  1706  \n",
       "3              -0.05215 -0.015032     -0.312773      0.122321  -1.391088  1838  \n",
       "4              -0.05215  0.002867      0.122321     -0.186174  -2.522007   978  \n",
       "...                 ...       ...           ...           ...        ...   ...  \n",
       "111995         -0.05215 -0.013592     -0.437253     -0.254180  -0.418690   786  \n",
       "111996         -0.05215 -0.020581     -0.254180     -0.027102  -0.893373  1119  \n",
       "111997         -0.05215  0.005762     -0.027102     -0.457961  15.897421   136  \n",
       "111998         -0.05215 -0.002341     -0.457961           NaN   0.000000   330  \n",
       "111999         -0.05215 -0.030014           NaN           NaN   0.000000  1526  \n",
       "\n",
       "[111716 rows x 16 columns]"
      ]
     },
     "execution_count": 8,
     "metadata": {},
     "output_type": "execute_result"
    }
   ],
   "source": [
    "tmpdf = test_df.copy()\n",
    "tmpdf[\"Close_shift1\"] = tmpdf[\"Close\"].shift(-1)\n",
    "tmpdf[\"Close_shift2\"] = tmpdf[\"Close\"].shift(-2)\n",
    "\n",
    "tmpdf[\"rate\"] = (tmpdf[\"Close_shift2\"] - tmpdf[\"Close_shift1\"]) / tmpdf[\"Close_shift1\"]\n",
    "tmpdf.fillna(value={'rate': 0.}, inplace=True)\n",
    "\n",
    "tmpdf['Rank'] = tmpdf.groupby(\"Date\")['Target'].transform('rank', ascending=False, method=\"first\") - 1\n",
    "tmpdf['Rank'] = tmpdf['Rank'].astype(int)\n",
    "tmpdf"
   ]
  },
  {
   "cell_type": "code",
   "execution_count": 9,
   "metadata": {},
   "outputs": [
    {
     "data": {
      "text/html": [
       "<div>\n",
       "<style scoped>\n",
       "    .dataframe tbody tr th:only-of-type {\n",
       "        vertical-align: middle;\n",
       "    }\n",
       "\n",
       "    .dataframe tbody tr th {\n",
       "        vertical-align: top;\n",
       "    }\n",
       "\n",
       "    .dataframe thead th {\n",
       "        text-align: right;\n",
       "    }\n",
       "</style>\n",
       "<table border=\"1\" class=\"dataframe\">\n",
       "  <thead>\n",
       "    <tr style=\"text-align: right;\">\n",
       "      <th></th>\n",
       "      <th>RowId</th>\n",
       "      <th>Date</th>\n",
       "      <th>SecuritiesCode</th>\n",
       "      <th>Open</th>\n",
       "      <th>High</th>\n",
       "      <th>Low</th>\n",
       "      <th>Close</th>\n",
       "      <th>Volume</th>\n",
       "      <th>AdjustmentFactor</th>\n",
       "      <th>ExpectedDividend</th>\n",
       "      <th>SupervisionFlag</th>\n",
       "      <th>Target</th>\n",
       "    </tr>\n",
       "  </thead>\n",
       "  <tbody>\n",
       "    <tr>\n",
       "      <th>0</th>\n",
       "      <td>20211206_1301</td>\n",
       "      <td>2021-12-06</td>\n",
       "      <td>1301</td>\n",
       "      <td>0.069915</td>\n",
       "      <td>0.061486</td>\n",
       "      <td>0.076114</td>\n",
       "      <td>0.068435</td>\n",
       "      <td>-0.258364</td>\n",
       "      <td>0.010497</td>\n",
       "      <td>-0.039402</td>\n",
       "      <td>-0.05215</td>\n",
       "      <td>-0.003263</td>\n",
       "    </tr>\n",
       "    <tr>\n",
       "      <th>1</th>\n",
       "      <td>20211206_1332</td>\n",
       "      <td>2021-12-06</td>\n",
       "      <td>1332</td>\n",
       "      <td>-0.491403</td>\n",
       "      <td>-0.491636</td>\n",
       "      <td>-0.490380</td>\n",
       "      <td>-0.492081</td>\n",
       "      <td>0.331465</td>\n",
       "      <td>0.010497</td>\n",
       "      <td>-0.039402</td>\n",
       "      <td>-0.05215</td>\n",
       "      <td>-0.008993</td>\n",
       "    </tr>\n",
       "    <tr>\n",
       "      <th>2</th>\n",
       "      <td>20211206_1333</td>\n",
       "      <td>2021-12-06</td>\n",
       "      <td>1333</td>\n",
       "      <td>-0.074290</td>\n",
       "      <td>-0.076388</td>\n",
       "      <td>-0.068072</td>\n",
       "      <td>-0.071341</td>\n",
       "      <td>-0.207317</td>\n",
       "      <td>0.010497</td>\n",
       "      <td>-0.039402</td>\n",
       "      <td>-0.05215</td>\n",
       "      <td>-0.009963</td>\n",
       "    </tr>\n",
       "    <tr>\n",
       "      <th>3</th>\n",
       "      <td>20211206_1375</td>\n",
       "      <td>2021-12-06</td>\n",
       "      <td>1375</td>\n",
       "      <td>-0.341562</td>\n",
       "      <td>-0.343084</td>\n",
       "      <td>-0.338807</td>\n",
       "      <td>-0.342657</td>\n",
       "      <td>-0.226863</td>\n",
       "      <td>0.010497</td>\n",
       "      <td>-0.039402</td>\n",
       "      <td>-0.05215</td>\n",
       "      <td>-0.015032</td>\n",
       "    </tr>\n",
       "    <tr>\n",
       "      <th>4</th>\n",
       "      <td>20211206_1376</td>\n",
       "      <td>2021-12-06</td>\n",
       "      <td>1376</td>\n",
       "      <td>-0.315962</td>\n",
       "      <td>-0.312213</td>\n",
       "      <td>-0.311399</td>\n",
       "      <td>-0.312773</td>\n",
       "      <td>-0.259542</td>\n",
       "      <td>0.010497</td>\n",
       "      <td>-0.039402</td>\n",
       "      <td>-0.05215</td>\n",
       "      <td>0.002867</td>\n",
       "    </tr>\n",
       "    <tr>\n",
       "      <th>...</th>\n",
       "      <td>...</td>\n",
       "      <td>...</td>\n",
       "      <td>...</td>\n",
       "      <td>...</td>\n",
       "      <td>...</td>\n",
       "      <td>...</td>\n",
       "      <td>...</td>\n",
       "      <td>...</td>\n",
       "      <td>...</td>\n",
       "      <td>...</td>\n",
       "      <td>...</td>\n",
       "      <td>...</td>\n",
       "    </tr>\n",
       "    <tr>\n",
       "      <th>111995</th>\n",
       "      <td>20220228_9990</td>\n",
       "      <td>2022-02-28</td>\n",
       "      <td>9990</td>\n",
       "      <td>-0.510427</td>\n",
       "      <td>-0.510437</td>\n",
       "      <td>-0.509208</td>\n",
       "      <td>-0.509259</td>\n",
       "      <td>-0.209630</td>\n",
       "      <td>0.010497</td>\n",
       "      <td>-0.039402</td>\n",
       "      <td>-0.05215</td>\n",
       "      <td>-0.013592</td>\n",
       "    </tr>\n",
       "    <tr>\n",
       "      <th>111996</th>\n",
       "      <td>20220228_9991</td>\n",
       "      <td>2022-02-28</td>\n",
       "      <td>9991</td>\n",
       "      <td>-0.437150</td>\n",
       "      <td>-0.439178</td>\n",
       "      <td>-0.436519</td>\n",
       "      <td>-0.437253</td>\n",
       "      <td>-0.255179</td>\n",
       "      <td>0.010497</td>\n",
       "      <td>-0.039402</td>\n",
       "      <td>-0.05215</td>\n",
       "      <td>-0.020581</td>\n",
       "    </tr>\n",
       "    <tr>\n",
       "      <th>111997</th>\n",
       "      <td>20220228_9993</td>\n",
       "      <td>2022-02-28</td>\n",
       "      <td>9993</td>\n",
       "      <td>-0.254663</td>\n",
       "      <td>-0.254186</td>\n",
       "      <td>-0.249197</td>\n",
       "      <td>-0.254180</td>\n",
       "      <td>-0.260502</td>\n",
       "      <td>0.010497</td>\n",
       "      <td>-0.039402</td>\n",
       "      <td>-0.05215</td>\n",
       "      <td>0.005762</td>\n",
       "    </tr>\n",
       "    <tr>\n",
       "      <th>111998</th>\n",
       "      <td>20220228_9994</td>\n",
       "      <td>2022-02-28</td>\n",
       "      <td>9994</td>\n",
       "      <td>-0.027317</td>\n",
       "      <td>-0.034608</td>\n",
       "      <td>-0.025173</td>\n",
       "      <td>-0.027102</td>\n",
       "      <td>-0.258320</td>\n",
       "      <td>0.010497</td>\n",
       "      <td>-0.039402</td>\n",
       "      <td>-0.05215</td>\n",
       "      <td>-0.002341</td>\n",
       "    </tr>\n",
       "    <tr>\n",
       "      <th>111999</th>\n",
       "      <td>20220228_9997</td>\n",
       "      <td>2022-02-28</td>\n",
       "      <td>9997</td>\n",
       "      <td>-0.458757</td>\n",
       "      <td>-0.459604</td>\n",
       "      <td>-0.457491</td>\n",
       "      <td>-0.457961</td>\n",
       "      <td>-0.136550</td>\n",
       "      <td>0.010497</td>\n",
       "      <td>-0.039402</td>\n",
       "      <td>-0.05215</td>\n",
       "      <td>-0.030014</td>\n",
       "    </tr>\n",
       "  </tbody>\n",
       "</table>\n",
       "<p>111716 rows × 12 columns</p>\n",
       "</div>"
      ],
      "text/plain": [
       "                RowId       Date  SecuritiesCode      Open      High  \\\n",
       "0       20211206_1301 2021-12-06            1301  0.069915  0.061486   \n",
       "1       20211206_1332 2021-12-06            1332 -0.491403 -0.491636   \n",
       "2       20211206_1333 2021-12-06            1333 -0.074290 -0.076388   \n",
       "3       20211206_1375 2021-12-06            1375 -0.341562 -0.343084   \n",
       "4       20211206_1376 2021-12-06            1376 -0.315962 -0.312213   \n",
       "...               ...        ...             ...       ...       ...   \n",
       "111995  20220228_9990 2022-02-28            9990 -0.510427 -0.510437   \n",
       "111996  20220228_9991 2022-02-28            9991 -0.437150 -0.439178   \n",
       "111997  20220228_9993 2022-02-28            9993 -0.254663 -0.254186   \n",
       "111998  20220228_9994 2022-02-28            9994 -0.027317 -0.034608   \n",
       "111999  20220228_9997 2022-02-28            9997 -0.458757 -0.459604   \n",
       "\n",
       "             Low     Close    Volume  AdjustmentFactor  ExpectedDividend  \\\n",
       "0       0.076114  0.068435 -0.258364          0.010497         -0.039402   \n",
       "1      -0.490380 -0.492081  0.331465          0.010497         -0.039402   \n",
       "2      -0.068072 -0.071341 -0.207317          0.010497         -0.039402   \n",
       "3      -0.338807 -0.342657 -0.226863          0.010497         -0.039402   \n",
       "4      -0.311399 -0.312773 -0.259542          0.010497         -0.039402   \n",
       "...          ...       ...       ...               ...               ...   \n",
       "111995 -0.509208 -0.509259 -0.209630          0.010497         -0.039402   \n",
       "111996 -0.436519 -0.437253 -0.255179          0.010497         -0.039402   \n",
       "111997 -0.249197 -0.254180 -0.260502          0.010497         -0.039402   \n",
       "111998 -0.025173 -0.027102 -0.258320          0.010497         -0.039402   \n",
       "111999 -0.457491 -0.457961 -0.136550          0.010497         -0.039402   \n",
       "\n",
       "        SupervisionFlag    Target  \n",
       "0              -0.05215 -0.003263  \n",
       "1              -0.05215 -0.008993  \n",
       "2              -0.05215 -0.009963  \n",
       "3              -0.05215 -0.015032  \n",
       "4              -0.05215  0.002867  \n",
       "...                 ...       ...  \n",
       "111995         -0.05215 -0.013592  \n",
       "111996         -0.05215 -0.020581  \n",
       "111997         -0.05215  0.005762  \n",
       "111998         -0.05215 -0.002341  \n",
       "111999         -0.05215 -0.030014  \n",
       "\n",
       "[111716 rows x 12 columns]"
      ]
     },
     "execution_count": 9,
     "metadata": {},
     "output_type": "execute_result"
    }
   ],
   "source": [
    "test_df"
   ]
  },
  {
   "cell_type": "code",
   "execution_count": 10,
   "metadata": {},
   "outputs": [
    {
     "name": "stdout",
     "output_type": "stream",
     "text": [
      "train=4.147729138076841, test=5.430028145273522\n"
     ]
    }
   ],
   "source": [
    "sharp_train = calc_spread_return_sharpe(train_df)\n",
    "sharp_test = calc_spread_return_sharpe(tmpdf)\n",
    "print(f\"train={sharp_train}, test={sharp_test}\")\n",
    "\n",
    "train_df.drop(['Rank'], axis=1, inplace=True)"
   ]
  },
  {
   "cell_type": "markdown",
   "metadata": {},
   "source": [
    "Check the form of this data (nrows ,columns) and the contents."
   ]
  },
  {
   "cell_type": "markdown",
   "metadata": {},
   "source": [
    "The data contained in `stock_price.csv` was as follows.  \n",
    "*  `SecuritiesCode` ... Securities Code (number assigned to each stock)\n",
    "*  `Open` ... Opening price (price per share at the beginning of the day (9:00 am))\n",
    "*  `High` ... High ... the highest price of the day\n",
    "*  `Low` ... Low price\n",
    "*  `Colse` ... Closing price\n",
    "*  `Volume` ... Volume (number of shares traded in a day)\n",
    "*  `AdjustmentFactor` ... Used to calculate the theoretical stock price and volume at the time of a reverse stock split or reverse stock split\n",
    "*  `ExpectedDividend` ... Expected dividend on ex-rights date\n",
    "*  `SupercisionFlag` ... Flag for supervised issues and delisted issues\n",
    "*  `Target` ... Percentage change in adjusted closing price (from one day to the next)  \n",
    "  \n",
    "Although many other data are available for this competition, we will implement this using only the information in `stock_price.csv`."
   ]
  },
  {
   "cell_type": "markdown",
   "metadata": {},
   "source": [
    "# jpx_tokyo_market_prediction\n",
    "Next, we will check the usage of the API named jpx_tokyo_market_prediction.  \n",
    "First, import it as you would any other module.  \n",
    "Since jpx_tokyo_market_prediction can only be executed once, we will write the image in Markdown."
   ]
  },
  {
   "cell_type": "markdown",
   "metadata": {},
   "source": [
    "***\n",
    "```python\n",
    "import jpx_tokyo_market_prediction\n",
    "env = jpx_tokyo_market_prediction.make_env()\n",
    "iter_test = env.iter_test()\n",
    "```\n"
   ]
  },
  {
   "cell_type": "markdown",
   "metadata": {},
   "source": [
    "The environment was created by executing *`make_env()`* and the object was created by executing *`iter_test()`*.\n",
    "As shown below, looking at the type, iter_test is a generator, so we can confirm that it is an object that can be called one by one with a for statement.  \n",
    "***\n",
    "```python\n",
    "print(type(iter_test))\n",
    "```\n",
    "[出力]  \n",
    "```\n",
    "<class 'generator'>\n",
    "```\n",
    "By turning a for statement, check the operation as follows.\n",
    "***\n",
    "```python\n",
    "count = 0\n",
    "for (prices, options, financials, trades, secondary_prices, sample_prediction) in iter_test:\n",
    "    print(prices.head())\n",
    "    env.predict(sample_prediction)\n",
    "    count += 1\n",
    "    break\n",
    "```\n",
    "[出力]\n",
    "```\n",
    "This version of the API is not optimized and should not be used to estimate the runtime of your code on the hidden test set.\n",
    "         Date          RowId  SecuritiesCode    Open    High     Low   Close  \\\n",
    "0  2021-12-06  20211206_1301            1301  2982.0  2982.0  2965.0  2971.0   \n",
    "1  2021-12-06  20211206_1332            1332   592.0   599.0   588.0   589.0   \n",
    "2  2021-12-06  20211206_1333            1333  2368.0  2388.0  2360.0  2377.0   \n",
    "3  2021-12-06  20211206_1375            1375  1230.0  1239.0  1224.0  1224.0   \n",
    "4  2021-12-06  20211206_1376            1376  1339.0  1372.0  1339.0  1351.0   \n",
    "\n",
    "    Volume  AdjustmentFactor  ExpectedDividend  SupervisionFlag  \n",
    "0     8900               1.0               NaN            False  \n",
    "1  1360800               1.0               NaN            False  \n",
    "2   125900               1.0               NaN            False  \n",
    "3    81100               1.0               NaN            False  \n",
    "4     6200               1.0               NaN            False\n",
    "```"
   ]
  },
  {
   "cell_type": "markdown",
   "metadata": {},
   "source": [
    "The names of each variable are as follows.  \n",
    "*  `price` ... Data for each stock on the target day, the same as the information in stock_price.csv without Target.　　\n",
    "*  `options` ... Same information as options.csv for the target date.\n",
    "*  `finacials` ... Same information as finacials.csv for the target date.\n",
    "*  `trades` ... Same information as trades.csv of the target date\n",
    "*  `secondary_prices` ... Same information as secondary_stock_price.csv without Target for the target date.\n",
    "*  `sample_prediction` ... Data from sample_prediction.csv for the target date.\n"
   ]
  },
  {
   "cell_type": "markdown",
   "metadata": {},
   "source": [
    "Thus, if we call the 2000 stocks of the target date one day at a time using *`jpx_tokyo_market_prediction`*, forecast them with the model we created, and then create the submitted data with env.predict, we can produce a score."
   ]
  },
  {
   "cell_type": "markdown",
   "metadata": {},
   "source": [
    "# Create models and submit data\n",
    "Here, we will create a simple training model using stock_price.csv and implement it up to submission.\n",
    "## Create Model(LSTM)\n",
    "We use a model called LSTM (Long Short Term Memory).  \n",
    "LSTM is one of the RNNs used for series data and is a model that can learn long-term dependencies.  \n",
    "We will implement LSTM using Pytorch."
   ]
  },
  {
   "cell_type": "code",
   "execution_count": 11,
   "metadata": {},
   "outputs": [],
   "source": [
    "import torch\n",
    "import torch.nn as nn\n",
    "import torch.nn.functional as F\n",
    "\n",
    "\n",
    "class LSTM(nn.Module):\n",
    "    def __init__(self, d_feat=6, hidden_size=64, num_layers=2, dropout=0.0):\n",
    "        super().__init__()\n",
    "\n",
    "        self.rnn = nn.LSTM(\n",
    "            input_size=d_feat,\n",
    "            hidden_size=hidden_size,\n",
    "            num_layers=num_layers,\n",
    "            batch_first=True,\n",
    "            dropout=dropout,\n",
    "        )\n",
    "        self.fc_out = nn.Linear(hidden_size, 1)\n",
    "\n",
    "        self.d_feat = d_feat\n",
    "\n",
    "    def forward(self, x):\n",
    "        # x: [N, F*T]\n",
    "        # x = x.reshape(len(x), self.d_feat, -1)  # [N, F, T]\n",
    "        # x = x.permute(0, 2, 1)  # [N, T, F]\n",
    "        out, _ = self.rnn(x)\n",
    "        \n",
    "        return self.fc_out(out[:, -1, :]).squeeze(dim=-1)\n",
    "        "
   ]
  },
  {
   "cell_type": "code",
   "execution_count": 12,
   "metadata": {},
   "outputs": [],
   "source": [
    "# stock_price_df['ExpectedDividend'] = stock_price_df['ExpectedDividend'].fillna(0)\n",
    "# stock_price_df['SupervisionFlag'] = stock_price_df['SupervisionFlag'].map({True: 1, False: 0})\n",
    "# stock_price_df['Date'] = pd.to_datetime(stock_price_df['Date'])\n",
    "# stock_price_df.info()"
   ]
  },
  {
   "cell_type": "markdown",
   "metadata": {},
   "source": [
    "Some of them contained missing values, so they were removed."
   ]
  },
  {
   "cell_type": "code",
   "execution_count": 13,
   "metadata": {},
   "outputs": [],
   "source": [
    "# stock_price_df = stock_price_df.dropna(how='any')\n",
    "# # Confirmation of missing information\n",
    "# stock_price_df_na = (stock_price_df.isnull().sum() / len(stock_price_df)) * 100\n",
    "# stock_price_df_na = stock_price_df_na.drop(stock_price_df_na[stock_price_df_na == 0].index).sort_values(ascending=False)[:30]\n",
    "# missing_data = pd.DataFrame({'Missing Ratio' :stock_price_df_na})\n",
    "# missing_data.head(22)"
   ]
  },
  {
   "cell_type": "markdown",
   "metadata": {},
   "source": [
    "* 数据预处理是否应该把所有股票放在一起？"
   ]
  },
  {
   "cell_type": "markdown",
   "metadata": {},
   "source": [
    "stdscStandardize the features (other than RowId, Date, and SecuritiesCode) to be used in this project using sklearn's StandardScaler."
   ]
  },
  {
   "cell_type": "code",
   "execution_count": 14,
   "metadata": {},
   "outputs": [],
   "source": [
    "# from sklearn.preprocessing import StandardScaler\n",
    "# stdsc = StandardScaler()\n",
    "# columns = ['Open', 'High', 'Low', 'Close', 'Volume', 'AdjustmentFactor', 'ExpectedDividend', 'SupervisionFlag']\n",
    "# stock_price_df[columns] = stdsc.fit_transform(stock_price_df[columns])\n",
    "# stock_price_df.head()"
   ]
  },
  {
   "cell_type": "markdown",
   "metadata": {},
   "source": [
    "Store data for each issue in dictionary form and store it in such a way that it can be recalled for each issue."
   ]
  },
  {
   "cell_type": "code",
   "execution_count": 15,
   "metadata": {},
   "outputs": [
    {
     "name": "stdout",
     "output_type": "stream",
     "text": [
      "(1201, 9)\n"
     ]
    }
   ],
   "source": [
    "dataset_dict = {}\n",
    "for sc in train_df['SecuritiesCode'].unique():\n",
    "    dataset_dict[str(sc)] = train_df[train_df['SecuritiesCode'] == sc].values[:, 3:].astype(np.float32)\n",
    "print(dataset_dict['1301'].shape)\n"
   ]
  },
  {
   "cell_type": "markdown",
   "metadata": {},
   "source": [
    "Use Pytorch dataloader to recall data for each mini-batch."
   ]
  },
  {
   "cell_type": "code",
   "execution_count": 16,
   "metadata": {},
   "outputs": [],
   "source": [
    "from torch.utils.data.sampler import SubsetRandomSampler\n",
    "\n",
    "\n",
    "class MyDataset(torch.utils.data.Dataset):\n",
    "    def __init__(self, X, sequence_num=31, y=None, mode='train'):\n",
    "        self.data = X\n",
    "        self.teacher = y\n",
    "        self.sequence_num = sequence_num\n",
    "        self.mode = mode\n",
    "    \n",
    "    def __len__(self):\n",
    "        return len(self.teacher)\n",
    "\n",
    "    def __getitem__(self, idx):\n",
    "        out_data = self.data[idx]\n",
    "        if self.mode == 'train':\n",
    "            out_label = self.teacher[idx[-1]]\n",
    "            return out_data, out_label\n",
    "        else:\n",
    "            return out_data\n",
    "\n",
    "        \n",
    "def create_dataloader(dataset, dataset_num, sequence_num=31, input_size=8, batch_size=32, shuffle=False):\n",
    "    sampler = np.array([list(range(i, i+sequence_num)) for i in range(dataset_num-sequence_num+1)])\n",
    "    if shuffle is True:\n",
    "        np.random.shuffle(sampler)\n",
    "    dataloader = torch.utils.data.DataLoader(dataset, batch_size, sampler=sampler)\n",
    "    return dataloader\n"
   ]
  },
  {
   "cell_type": "code",
   "execution_count": 17,
   "metadata": {},
   "outputs": [
    {
     "data": {
      "text/html": [
       "<div>\n",
       "<style scoped>\n",
       "    .dataframe tbody tr th:only-of-type {\n",
       "        vertical-align: middle;\n",
       "    }\n",
       "\n",
       "    .dataframe tbody tr th {\n",
       "        vertical-align: top;\n",
       "    }\n",
       "\n",
       "    .dataframe thead th {\n",
       "        text-align: right;\n",
       "    }\n",
       "</style>\n",
       "<table border=\"1\" class=\"dataframe\">\n",
       "  <thead>\n",
       "    <tr style=\"text-align: right;\">\n",
       "      <th></th>\n",
       "      <th>RowId</th>\n",
       "      <th>Date</th>\n",
       "      <th>SecuritiesCode</th>\n",
       "      <th>Open</th>\n",
       "      <th>High</th>\n",
       "      <th>Low</th>\n",
       "      <th>Close</th>\n",
       "      <th>Volume</th>\n",
       "      <th>AdjustmentFactor</th>\n",
       "      <th>ExpectedDividend</th>\n",
       "      <th>SupervisionFlag</th>\n",
       "      <th>Target</th>\n",
       "    </tr>\n",
       "  </thead>\n",
       "  <tbody>\n",
       "    <tr>\n",
       "      <th>0</th>\n",
       "      <td>20211206_1301</td>\n",
       "      <td>2021-12-06</td>\n",
       "      <td>1301</td>\n",
       "      <td>0.069915</td>\n",
       "      <td>0.061486</td>\n",
       "      <td>0.076114</td>\n",
       "      <td>0.068435</td>\n",
       "      <td>-0.258364</td>\n",
       "      <td>0.010497</td>\n",
       "      <td>-0.039402</td>\n",
       "      <td>-0.05215</td>\n",
       "      <td>-0.003263</td>\n",
       "    </tr>\n",
       "    <tr>\n",
       "      <th>1</th>\n",
       "      <td>20211206_1332</td>\n",
       "      <td>2021-12-06</td>\n",
       "      <td>1332</td>\n",
       "      <td>-0.491403</td>\n",
       "      <td>-0.491636</td>\n",
       "      <td>-0.490380</td>\n",
       "      <td>-0.492081</td>\n",
       "      <td>0.331465</td>\n",
       "      <td>0.010497</td>\n",
       "      <td>-0.039402</td>\n",
       "      <td>-0.05215</td>\n",
       "      <td>-0.008993</td>\n",
       "    </tr>\n",
       "    <tr>\n",
       "      <th>2</th>\n",
       "      <td>20211206_1333</td>\n",
       "      <td>2021-12-06</td>\n",
       "      <td>1333</td>\n",
       "      <td>-0.074290</td>\n",
       "      <td>-0.076388</td>\n",
       "      <td>-0.068072</td>\n",
       "      <td>-0.071341</td>\n",
       "      <td>-0.207317</td>\n",
       "      <td>0.010497</td>\n",
       "      <td>-0.039402</td>\n",
       "      <td>-0.05215</td>\n",
       "      <td>-0.009963</td>\n",
       "    </tr>\n",
       "    <tr>\n",
       "      <th>3</th>\n",
       "      <td>20211206_1375</td>\n",
       "      <td>2021-12-06</td>\n",
       "      <td>1375</td>\n",
       "      <td>-0.341562</td>\n",
       "      <td>-0.343084</td>\n",
       "      <td>-0.338807</td>\n",
       "      <td>-0.342657</td>\n",
       "      <td>-0.226863</td>\n",
       "      <td>0.010497</td>\n",
       "      <td>-0.039402</td>\n",
       "      <td>-0.05215</td>\n",
       "      <td>-0.015032</td>\n",
       "    </tr>\n",
       "    <tr>\n",
       "      <th>4</th>\n",
       "      <td>20211206_1376</td>\n",
       "      <td>2021-12-06</td>\n",
       "      <td>1376</td>\n",
       "      <td>-0.315962</td>\n",
       "      <td>-0.312213</td>\n",
       "      <td>-0.311399</td>\n",
       "      <td>-0.312773</td>\n",
       "      <td>-0.259542</td>\n",
       "      <td>0.010497</td>\n",
       "      <td>-0.039402</td>\n",
       "      <td>-0.05215</td>\n",
       "      <td>0.002867</td>\n",
       "    </tr>\n",
       "    <tr>\n",
       "      <th>...</th>\n",
       "      <td>...</td>\n",
       "      <td>...</td>\n",
       "      <td>...</td>\n",
       "      <td>...</td>\n",
       "      <td>...</td>\n",
       "      <td>...</td>\n",
       "      <td>...</td>\n",
       "      <td>...</td>\n",
       "      <td>...</td>\n",
       "      <td>...</td>\n",
       "      <td>...</td>\n",
       "      <td>...</td>\n",
       "    </tr>\n",
       "    <tr>\n",
       "      <th>1995</th>\n",
       "      <td>20211206_9990</td>\n",
       "      <td>2021-12-06</td>\n",
       "      <td>9990</td>\n",
       "      <td>-0.506434</td>\n",
       "      <td>-0.507419</td>\n",
       "      <td>-0.507539</td>\n",
       "      <td>-0.509024</td>\n",
       "      <td>-0.233757</td>\n",
       "      <td>0.010497</td>\n",
       "      <td>-0.039402</td>\n",
       "      <td>-0.05215</td>\n",
       "      <td>0.009346</td>\n",
       "    </tr>\n",
       "    <tr>\n",
       "      <th>1996</th>\n",
       "      <td>20211206_9991</td>\n",
       "      <td>2021-12-06</td>\n",
       "      <td>9991</td>\n",
       "      <td>-0.443491</td>\n",
       "      <td>-0.444981</td>\n",
       "      <td>-0.443430</td>\n",
       "      <td>-0.445960</td>\n",
       "      <td>-0.249551</td>\n",
       "      <td>0.010497</td>\n",
       "      <td>-0.039402</td>\n",
       "      <td>-0.05215</td>\n",
       "      <td>0.001242</td>\n",
       "    </tr>\n",
       "    <tr>\n",
       "      <th>1997</th>\n",
       "      <td>20211206_9993</td>\n",
       "      <td>2021-12-06</td>\n",
       "      <td>9993</td>\n",
       "      <td>-0.244094</td>\n",
       "      <td>-0.246990</td>\n",
       "      <td>-0.242762</td>\n",
       "      <td>-0.247826</td>\n",
       "      <td>-0.259542</td>\n",
       "      <td>0.010497</td>\n",
       "      <td>-0.039402</td>\n",
       "      <td>-0.05215</td>\n",
       "      <td>0.011728</td>\n",
       "    </tr>\n",
       "    <tr>\n",
       "      <th>1998</th>\n",
       "      <td>20211206_9994</td>\n",
       "      <td>2021-12-06</td>\n",
       "      <td>9994</td>\n",
       "      <td>-0.068183</td>\n",
       "      <td>-0.065943</td>\n",
       "      <td>-0.060207</td>\n",
       "      <td>-0.061693</td>\n",
       "      <td>-0.258844</td>\n",
       "      <td>0.010497</td>\n",
       "      <td>-0.039402</td>\n",
       "      <td>-0.05215</td>\n",
       "      <td>-0.001230</td>\n",
       "    </tr>\n",
       "    <tr>\n",
       "      <th>1999</th>\n",
       "      <td>20211206_9997</td>\n",
       "      <td>2021-12-06</td>\n",
       "      <td>9997</td>\n",
       "      <td>-0.465568</td>\n",
       "      <td>-0.464246</td>\n",
       "      <td>-0.464879</td>\n",
       "      <td>-0.464549</td>\n",
       "      <td>-0.138339</td>\n",
       "      <td>0.010497</td>\n",
       "      <td>-0.039402</td>\n",
       "      <td>-0.05215</td>\n",
       "      <td>0.019471</td>\n",
       "    </tr>\n",
       "  </tbody>\n",
       "</table>\n",
       "<p>1994 rows × 12 columns</p>\n",
       "</div>"
      ],
      "text/plain": [
       "              RowId       Date  SecuritiesCode      Open      High       Low  \\\n",
       "0     20211206_1301 2021-12-06            1301  0.069915  0.061486  0.076114   \n",
       "1     20211206_1332 2021-12-06            1332 -0.491403 -0.491636 -0.490380   \n",
       "2     20211206_1333 2021-12-06            1333 -0.074290 -0.076388 -0.068072   \n",
       "3     20211206_1375 2021-12-06            1375 -0.341562 -0.343084 -0.338807   \n",
       "4     20211206_1376 2021-12-06            1376 -0.315962 -0.312213 -0.311399   \n",
       "...             ...        ...             ...       ...       ...       ...   \n",
       "1995  20211206_9990 2021-12-06            9990 -0.506434 -0.507419 -0.507539   \n",
       "1996  20211206_9991 2021-12-06            9991 -0.443491 -0.444981 -0.443430   \n",
       "1997  20211206_9993 2021-12-06            9993 -0.244094 -0.246990 -0.242762   \n",
       "1998  20211206_9994 2021-12-06            9994 -0.068183 -0.065943 -0.060207   \n",
       "1999  20211206_9997 2021-12-06            9997 -0.465568 -0.464246 -0.464879   \n",
       "\n",
       "         Close    Volume  AdjustmentFactor  ExpectedDividend  SupervisionFlag  \\\n",
       "0     0.068435 -0.258364          0.010497         -0.039402         -0.05215   \n",
       "1    -0.492081  0.331465          0.010497         -0.039402         -0.05215   \n",
       "2    -0.071341 -0.207317          0.010497         -0.039402         -0.05215   \n",
       "3    -0.342657 -0.226863          0.010497         -0.039402         -0.05215   \n",
       "4    -0.312773 -0.259542          0.010497         -0.039402         -0.05215   \n",
       "...        ...       ...               ...               ...              ...   \n",
       "1995 -0.509024 -0.233757          0.010497         -0.039402         -0.05215   \n",
       "1996 -0.445960 -0.249551          0.010497         -0.039402         -0.05215   \n",
       "1997 -0.247826 -0.259542          0.010497         -0.039402         -0.05215   \n",
       "1998 -0.061693 -0.258844          0.010497         -0.039402         -0.05215   \n",
       "1999 -0.464549 -0.138339          0.010497         -0.039402         -0.05215   \n",
       "\n",
       "        Target  \n",
       "0    -0.003263  \n",
       "1    -0.008993  \n",
       "2    -0.009963  \n",
       "3    -0.015032  \n",
       "4     0.002867  \n",
       "...        ...  \n",
       "1995  0.009346  \n",
       "1996  0.001242  \n",
       "1997  0.011728  \n",
       "1998 -0.001230  \n",
       "1999  0.019471  \n",
       "\n",
       "[1994 rows x 12 columns]"
      ]
     },
     "execution_count": 17,
     "metadata": {},
     "output_type": "execute_result"
    }
   ],
   "source": [
    "test_df.loc[test_df['Date'] == \"2021-12-06\"]"
   ]
  },
  {
   "cell_type": "markdown",
   "metadata": {},
   "source": [
    "## Trainig\n",
    "For each stock, LSTM training is conducted by repeatedly creating a data set and training the model."
   ]
  },
  {
   "cell_type": "markdown",
   "metadata": {},
   "source": [
    "To see the learning status, check the phenomenon of the loss function.  \n",
    "　→Can be learned."
   ]
  },
  {
   "cell_type": "code",
   "execution_count": 27,
   "metadata": {},
   "outputs": [
    {
     "name": "stdout",
     "output_type": "stream",
     "text": [
      "with training, random train_loss=0.000734238720120087, train_sharp=0.04209109962156693, eval_loss=0.001237477747054072, eval_sharp=0.05985383647992399\n"
     ]
    },
    {
     "name": "stderr",
     "output_type": "stream",
     "text": [
      "  2%|███▉                                                                                                                                                                                                  | 1/50 [02:32<2:04:40, 152.67s/it]"
     ]
    },
    {
     "name": "stdout",
     "output_type": "stream",
     "text": [
      "epoch 0, run_time=73.89934062957764, train loss=0.0005624992571379237, eval_loss=0.0007073952983773779, eval_sharp=-0.09803753233479665\n",
      "\t train_loss=0.000558936436171065, train_sharp=0.018433095002756333\n"
     ]
    },
    {
     "name": "stderr",
     "output_type": "stream",
     "text": [
      "  4%|███████▉                                                                                                                                                                                              | 2/50 [05:02<2:00:58, 151.21s/it]"
     ]
    },
    {
     "name": "stdout",
     "output_type": "stream",
     "text": [
      "epoch 1, run_time=73.82773327827454, train loss=0.0005583647607467051, eval_loss=0.0007490831503673689, eval_sharp=0.05367736800822311\n",
      "\t train_loss=0.0005574382619060263, train_sharp=0.034508626596503555\n"
     ]
    },
    {
     "name": "stderr",
     "output_type": "stream",
     "text": [
      "  6%|███████████▉                                                                                                                                                                                          | 3/50 [07:33<1:58:12, 150.90s/it]"
     ]
    },
    {
     "name": "stdout",
     "output_type": "stream",
     "text": [
      "epoch 2, run_time=74.11204242706299, train loss=0.0005582176210895261, eval_loss=0.0007582023081340594, eval_sharp=-0.10385927765648957\n",
      "\t train_loss=0.0005581024070237821, train_sharp=0.015686140776172627\n"
     ]
    },
    {
     "name": "stderr",
     "output_type": "stream",
     "text": [
      "  8%|███████████████▊                                                                                                                                                                                      | 4/50 [10:03<1:55:24, 150.54s/it]"
     ]
    },
    {
     "name": "stdout",
     "output_type": "stream",
     "text": [
      "epoch 3, run_time=73.75530123710632, train loss=0.0005577685873990196, eval_loss=0.0007184226087701973, eval_sharp=0.010605269355142385\n",
      "\t train_loss=0.0005576910579129504, train_sharp=0.026116069262780768\n"
     ]
    },
    {
     "name": "stderr",
     "output_type": "stream",
     "text": [
      " 10%|███████████████████▊                                                                                                                                                                                  | 5/50 [12:34<1:52:57, 150.61s/it]"
     ]
    },
    {
     "name": "stdout",
     "output_type": "stream",
     "text": [
      "epoch 4, run_time=74.34958052635193, train loss=0.0005578871784581346, eval_loss=0.0007095094424585113, eval_sharp=-0.053568168750496206\n",
      "\t train_loss=0.0005589593008452714, train_sharp=0.019390794377973183\n"
     ]
    },
    {
     "name": "stderr",
     "output_type": "stream",
     "text": [
      " 12%|███████████████████████▊                                                                                                                                                                              | 6/50 [15:05<1:50:33, 150.77s/it]"
     ]
    },
    {
     "name": "stdout",
     "output_type": "stream",
     "text": [
      "epoch 5, run_time=74.29353499412537, train loss=0.0005582938668887877, eval_loss=0.0007607305160490796, eval_sharp=0.05151548619195696\n",
      "\t train_loss=0.0005576281871766673, train_sharp=0.028628324086737086\n"
     ]
    },
    {
     "name": "stderr",
     "output_type": "stream",
     "text": [
      " 14%|███████████████████████████▋                                                                                                                                                                          | 7/50 [17:36<1:48:07, 150.87s/it]"
     ]
    },
    {
     "name": "stdout",
     "output_type": "stream",
     "text": [
      "epoch 6, run_time=74.44740104675293, train loss=0.0005577160165716043, eval_loss=0.0007111627292033518, eval_sharp=0.07292169991766413\n",
      "\t train_loss=0.000557924909224323, train_sharp=0.03694629339458827\n"
     ]
    },
    {
     "name": "stderr",
     "output_type": "stream",
     "text": [
      " 16%|███████████████████████████████▋                                                                                                                                                                      | 8/50 [20:02<1:44:33, 149.38s/it]"
     ]
    },
    {
     "name": "stdout",
     "output_type": "stream",
     "text": [
      "epoch 7, run_time=71.95731210708618, train loss=0.0005581584879810349, eval_loss=0.0007469993233826244, eval_sharp=0.06086014462157764\n",
      "\t train_loss=0.0005571026175976326, train_sharp=0.02928003614072748\n"
     ]
    },
    {
     "name": "stderr",
     "output_type": "stream",
     "text": [
      " 18%|███████████████████████████████████▋                                                                                                                                                                  | 9/50 [22:33<1:42:24, 149.87s/it]"
     ]
    },
    {
     "name": "stdout",
     "output_type": "stream",
     "text": [
      "epoch 8, run_time=74.3683705329895, train loss=0.0005579268076617606, eval_loss=0.0007553175837529125, eval_sharp=0.06775455922184492\n",
      "\t train_loss=0.0005573443762932019, train_sharp=0.030173550633276095\n"
     ]
    },
    {
     "name": "stderr",
     "output_type": "stream",
     "text": [
      " 20%|███████████████████████████████████████▍                                                                                                                                                             | 10/50 [25:03<1:40:02, 150.06s/it]"
     ]
    },
    {
     "name": "stdout",
     "output_type": "stream",
     "text": [
      "epoch 9, run_time=74.1704113483429, train loss=0.0005576050349891544, eval_loss=0.0007283579325303435, eval_sharp=0.07485552019798729\n",
      "\t train_loss=0.0005573996649845358, train_sharp=0.040530070468550346\n"
     ]
    },
    {
     "name": "stderr",
     "output_type": "stream",
     "text": [
      " 22%|███████████████████████████████████████████▎                                                                                                                                                         | 11/50 [27:35<1:37:51, 150.55s/it]"
     ]
    },
    {
     "name": "stdout",
     "output_type": "stream",
     "text": [
      "epoch 10, run_time=75.19064378738403, train loss=0.0005575508277491603, eval_loss=0.0007508639519073768, eval_sharp=0.052355319180367864\n",
      "\t train_loss=0.0005572190789252039, train_sharp=0.02833925394112974\n"
     ]
    },
    {
     "name": "stderr",
     "output_type": "stream",
     "text": [
      " 24%|███████████████████████████████████████████████▎                                                                                                                                                     | 12/50 [30:05<1:35:18, 150.48s/it]"
     ]
    },
    {
     "name": "stdout",
     "output_type": "stream",
     "text": [
      "epoch 11, run_time=73.8664128780365, train loss=0.0005579973577871711, eval_loss=0.0007401747825497296, eval_sharp=0.05211739635461216\n",
      "\t train_loss=0.0005570265387838579, train_sharp=0.029235806917848342\n"
     ]
    },
    {
     "name": "stderr",
     "output_type": "stream",
     "text": [
      " 26%|███████████████████████████████████████████████████▏                                                                                                                                                 | 13/50 [32:34<1:32:27, 149.94s/it]"
     ]
    },
    {
     "name": "stdout",
     "output_type": "stream",
     "text": [
      "epoch 12, run_time=72.88722372055054, train loss=0.0005575453818982513, eval_loss=0.0007560723661299562, eval_sharp=0.04127396265042399\n",
      "\t train_loss=0.0005574450832744627, train_sharp=0.028851268730471058\n"
     ]
    },
    {
     "name": "stderr",
     "output_type": "stream",
     "text": [
      " 28%|███████████████████████████████████████████████████████▏                                                                                                                                             | 14/50 [35:05<1:30:04, 150.13s/it]"
     ]
    },
    {
     "name": "stdout",
     "output_type": "stream",
     "text": [
      "epoch 13, run_time=73.66505861282349, train loss=0.000557896625724193, eval_loss=0.0007287971384357661, eval_sharp=0.07868833465160706\n",
      "\t train_loss=0.000557444530301684, train_sharp=0.04248056106982454\n"
     ]
    },
    {
     "name": "stderr",
     "output_type": "stream",
     "text": [
      " 30%|███████████████████████████████████████████████████████████                                                                                                                                          | 15/50 [37:41<1:28:37, 151.93s/it]"
     ]
    },
    {
     "name": "stdout",
     "output_type": "stream",
     "text": [
      "epoch 14, run_time=74.59049606323242, train loss=0.0005574358279400314, eval_loss=0.0007461178411176661, eval_sharp=0.055988232053929964\n",
      "\t train_loss=0.0005571287438441184, train_sharp=0.028755567360462236\n"
     ]
    },
    {
     "name": "stderr",
     "output_type": "stream",
     "text": [
      " 32%|███████████████████████████████████████████████████████████████                                                                                                                                      | 16/50 [40:17<1:26:46, 153.14s/it]"
     ]
    },
    {
     "name": "stdout",
     "output_type": "stream",
     "text": [
      "epoch 15, run_time=76.53999948501587, train loss=0.0005575799735180559, eval_loss=0.00076121251549921, eval_sharp=0.05417051669287516\n",
      "\t train_loss=0.0005575288872119554, train_sharp=0.028901195732092013\n"
     ]
    },
    {
     "name": "stderr",
     "output_type": "stream",
     "text": [
      " 34%|██████████████████████████████████████████████████████████████████▉                                                                                                                                  | 17/50 [42:53<1:24:47, 154.15s/it]"
     ]
    },
    {
     "name": "stdout",
     "output_type": "stream",
     "text": [
      "epoch 16, run_time=75.88414597511292, train loss=0.0005574451586099989, eval_loss=0.0007369642626144923, eval_sharp=0.06537697426995522\n",
      "\t train_loss=0.0005570047521263777, train_sharp=0.03014478111137218\n"
     ]
    },
    {
     "name": "stderr",
     "output_type": "stream",
     "text": [
      " 36%|██████████████████████████████████████████████████████████████████████▉                                                                                                                              | 18/50 [45:28<1:22:22, 154.46s/it]"
     ]
    },
    {
     "name": "stdout",
     "output_type": "stream",
     "text": [
      "epoch 17, run_time=75.32902383804321, train loss=0.0005576482257966288, eval_loss=0.0007543810988863697, eval_sharp=0.0589132537806705\n",
      "\t train_loss=0.0005572616777589591, train_sharp=0.029132564441774818\n"
     ]
    },
    {
     "name": "stderr",
     "output_type": "stream",
     "text": [
      " 38%|██████████████████████████████████████████████████████████████████████████▊                                                                                                                          | 19/50 [48:05<1:20:08, 155.10s/it]"
     ]
    },
    {
     "name": "stdout",
     "output_type": "stream",
     "text": [
      "epoch 18, run_time=76.9324688911438, train loss=0.0005577236777482415, eval_loss=0.0007291607216757257, eval_sharp=0.06592890267307167\n",
      "\t train_loss=0.0005571447158816577, train_sharp=0.0318278037927052\n"
     ]
    },
    {
     "name": "stderr",
     "output_type": "stream",
     "text": [
      " 40%|██████████████████████████████████████████████████████████████████████████████▊                                                                                                                      | 20/50 [50:39<1:17:27, 154.91s/it]"
     ]
    },
    {
     "name": "stdout",
     "output_type": "stream",
     "text": [
      "epoch 19, run_time=74.99009776115417, train loss=0.0005576231607101476, eval_loss=0.0007400504036922939, eval_sharp=0.06269841116030443\n",
      "\t train_loss=0.0005569965943317391, train_sharp=0.029399780500482257\n"
     ]
    },
    {
     "name": "stderr",
     "output_type": "stream",
     "text": [
      " 42%|██████████████████████████████████████████████████████████████████████████████████▋                                                                                                                  | 21/50 [53:14<1:14:48, 154.78s/it]"
     ]
    },
    {
     "name": "stdout",
     "output_type": "stream",
     "text": [
      "epoch 20, run_time=75.42562007904053, train loss=0.0005576561891288722, eval_loss=0.0007469358115486102, eval_sharp=0.05664017761477171\n",
      "\t train_loss=0.0005570720609256517, train_sharp=0.028509461343008996\n"
     ]
    },
    {
     "name": "stderr",
     "output_type": "stream",
     "text": [
      " 44%|██████████████████████████████████████████████████████████████████████████████████████▋                                                                                                              | 22/50 [55:50<1:12:25, 155.20s/it]"
     ]
    },
    {
     "name": "stdout",
     "output_type": "stream",
     "text": [
      "epoch 21, run_time=77.24093317985535, train loss=0.0005576433145704315, eval_loss=0.0007330235002882546, eval_sharp=0.051523839601601784\n",
      "\t train_loss=0.0005570867792840596, train_sharp=0.029631806576542897\n"
     ]
    },
    {
     "name": "stderr",
     "output_type": "stream",
     "text": [
      " 46%|██████████████████████████████████████████████████████████████████████████████████████████▌                                                                                                          | 23/50 [58:29<1:10:24, 156.46s/it]"
     ]
    },
    {
     "name": "stdout",
     "output_type": "stream",
     "text": [
      "epoch 22, run_time=78.27623653411865, train loss=0.0005576527519845722, eval_loss=0.0007248266065289499, eval_sharp=0.049470915311369046\n",
      "\t train_loss=0.0005573289621544002, train_sharp=0.027755956475121992\n"
     ]
    },
    {
     "name": "stderr",
     "output_type": "stream",
     "text": [
      " 48%|█████████████████████████████████████████████████████████████████████████████████████████████▌                                                                                                     | 24/50 [1:01:04<1:07:33, 155.90s/it]"
     ]
    },
    {
     "name": "stdout",
     "output_type": "stream",
     "text": [
      "epoch 23, run_time=75.37250924110413, train loss=0.0005573232188026901, eval_loss=0.0007360044819506584, eval_sharp=0.05900515462259212\n",
      "\t train_loss=0.0005570139812040923, train_sharp=0.029376794208349936\n"
     ]
    },
    {
     "name": "stderr",
     "output_type": "stream",
     "text": [
      " 50%|█████████████████████████████████████████████████████████████████████████████████████████████████▌                                                                                                 | 25/50 [1:03:42<1:05:09, 156.38s/it]"
     ]
    },
    {
     "name": "stdout",
     "output_type": "stream",
     "text": [
      "epoch 24, run_time=76.35905504226685, train loss=0.0005586121794594139, eval_loss=0.0007571923306386452, eval_sharp=0.0688625216186167\n",
      "\t train_loss=0.0005574651542972912, train_sharp=0.030051778615894795\n"
     ]
    },
    {
     "name": "stderr",
     "output_type": "stream",
     "text": [
      " 52%|█████████████████████████████████████████████████████████████████████████████████████████████████████▍                                                                                             | 26/50 [1:06:17<1:02:23, 155.98s/it]"
     ]
    },
    {
     "name": "stdout",
     "output_type": "stream",
     "text": [
      "epoch 25, run_time=75.45817971229553, train loss=0.0005577184093222369, eval_loss=0.0007402772243949585, eval_sharp=0.05794427661990319\n",
      "\t train_loss=0.0005570152253024599, train_sharp=0.029768823950561282\n"
     ]
    },
    {
     "name": "stderr",
     "output_type": "stream",
     "text": [
      " 54%|█████████████████████████████████████████████████████████████████████████████████████████████████████████▎                                                                                         | 27/50 [1:08:57<1:00:19, 157.39s/it]"
     ]
    },
    {
     "name": "stdout",
     "output_type": "stream",
     "text": [
      "epoch 26, run_time=79.00955772399902, train loss=0.0005576273750713361, eval_loss=0.0007470830641977955, eval_sharp=0.01856816131155461\n",
      "\t train_loss=0.0005573737007523858, train_sharp=0.0255368867455804\n"
     ]
    },
    {
     "name": "stderr",
     "output_type": "stream",
     "text": [
      " 56%|██████████████████████████████████████████████████████████████████████████████████████████████████████████████▎                                                                                      | 28/50 [1:11:35<57:41, 157.34s/it]"
     ]
    },
    {
     "name": "stdout",
     "output_type": "stream",
     "text": [
      "epoch 27, run_time=76.13463258743286, train loss=0.0005577921000401842, eval_loss=0.0007470151704183081, eval_sharp=0.06300690737797457\n",
      "\t train_loss=0.0005570730187309044, train_sharp=0.02894537294916884\n"
     ]
    },
    {
     "name": "stderr",
     "output_type": "stream",
     "text": [
      " 58%|██████████████████████████████████████████████████████████████████████████████████████████████████████████████████▎                                                                                  | 29/50 [1:14:11<55:00, 157.15s/it]"
     ]
    },
    {
     "name": "stdout",
     "output_type": "stream",
     "text": [
      "epoch 28, run_time=77.08276987075806, train loss=0.0005574761404509812, eval_loss=0.0007479410596715752, eval_sharp=0.06400456431257988\n",
      "\t train_loss=0.000557097078966966, train_sharp=0.030139932341257756\n"
     ]
    },
    {
     "name": "stderr",
     "output_type": "stream",
     "text": [
      " 60%|██████████████████████████████████████████████████████████████████████████████████████████████████████████████████████▏                                                                              | 30/50 [1:16:48<52:21, 157.08s/it]"
     ]
    },
    {
     "name": "stdout",
     "output_type": "stream",
     "text": [
      "epoch 29, run_time=75.85027599334717, train loss=0.0005581898352468201, eval_loss=0.0007316043993341736, eval_sharp=0.06363929180306402\n",
      "\t train_loss=0.0005570805681922172, train_sharp=0.03046761037735787\n"
     ]
    },
    {
     "name": "stderr",
     "output_type": "stream",
     "text": [
      " 62%|██████████████████████████████████████████████████████████████████████████████████████████████████████████████████████████▏                                                                          | 31/50 [1:19:27<49:54, 157.63s/it]"
     ]
    },
    {
     "name": "stdout",
     "output_type": "stream",
     "text": [
      "epoch 30, run_time=77.63250374794006, train loss=0.0005575164657965394, eval_loss=0.0007352147222263739, eval_sharp=0.062311602603139046\n",
      "\t train_loss=0.000557024067489037, train_sharp=0.028552752903438713\n"
     ]
    },
    {
     "name": "stderr",
     "output_type": "stream",
     "text": [
      " 64%|██████████████████████████████████████████████████████████████████████████████████████████████████████████████████████████████                                                                       | 32/50 [1:22:04<47:16, 157.57s/it]"
     ]
    },
    {
     "name": "stdout",
     "output_type": "stream",
     "text": [
      "epoch 31, run_time=76.8289623260498, train loss=0.0005578039919376165, eval_loss=0.0007444800467055757, eval_sharp=0.06220033104122154\n",
      "\t train_loss=0.0005570374988616005, train_sharp=0.028387298299133605\n"
     ]
    },
    {
     "name": "stderr",
     "output_type": "stream",
     "text": [
      " 66%|██████████████████████████████████████████████████████████████████████████████████████████████████████████████████████████████████                                                                   | 33/50 [1:24:41<44:35, 157.36s/it]"
     ]
    },
    {
     "name": "stdout",
     "output_type": "stream",
     "text": [
      "epoch 32, run_time=75.91895842552185, train loss=0.0005573439691107292, eval_loss=0.0007313299047382316, eval_sharp=0.03740245027127617\n",
      "\t train_loss=0.0005572262853770864, train_sharp=0.027574828947250156\n"
     ]
    },
    {
     "name": "stderr",
     "output_type": "stream",
     "text": [
      " 68%|█████████████████████████████████████████████████████████████████████████████████████████████████████████████████████████████████████▉                                                               | 34/50 [1:27:16<41:45, 156.60s/it]"
     ]
    },
    {
     "name": "stdout",
     "output_type": "stream",
     "text": [
      "epoch 33, run_time=75.78026866912842, train loss=0.0005575974247894128, eval_loss=0.0007404208063235274, eval_sharp=0.06733484042795944\n",
      "\t train_loss=0.000557019303860837, train_sharp=0.030512840084385005\n"
     ]
    },
    {
     "name": "stderr",
     "output_type": "stream",
     "text": [
      " 70%|█████████████████████████████████████████████████████████████████████████████████████████████████████████████████████████████████████████▉                                                           | 35/50 [1:29:51<39:00, 156.02s/it]"
     ]
    },
    {
     "name": "stdout",
     "output_type": "stream",
     "text": [
      "epoch 34, run_time=75.55309391021729, train loss=0.0005579469637816587, eval_loss=0.000750496685213875, eval_sharp=0.0644173684664807\n",
      "\t train_loss=0.0005571492689138174, train_sharp=0.030216325826747773\n"
     ]
    },
    {
     "name": "stderr",
     "output_type": "stream",
     "text": [
      " 72%|█████████████████████████████████████████████████████████████████████████████████████████████████████████████████████████████████████████████▊                                                       | 36/50 [1:32:25<36:16, 155.50s/it]"
     ]
    },
    {
     "name": "stdout",
     "output_type": "stream",
     "text": [
      "epoch 35, run_time=75.32653403282166, train loss=0.0005572477703760754, eval_loss=0.0007346394613705343, eval_sharp=0.04825730201017087\n",
      "\t train_loss=0.0005570848826543133, train_sharp=0.029178844928308877\n"
     ]
    },
    {
     "name": "stderr",
     "output_type": "stream",
     "text": [
      " 74%|█████████████████████████████████████████████████████████████████████████████████████████████████████████████████████████████████████████████████▊                                                   | 37/50 [1:35:01<33:44, 155.76s/it]"
     ]
    },
    {
     "name": "stdout",
     "output_type": "stream",
     "text": [
      "epoch 36, run_time=75.75541496276855, train loss=0.0005573709260365746, eval_loss=0.000736224748834502, eval_sharp=0.06329410161488051\n",
      "\t train_loss=0.0005570293069015957, train_sharp=0.029225956176869475\n"
     ]
    },
    {
     "name": "stderr",
     "output_type": "stream",
     "text": [
      " 76%|█████████████████████████████████████████████████████████████████████████████████████████████████████████████████████████████████████████████████████▋                                               | 38/50 [1:37:35<31:01, 155.16s/it]"
     ]
    },
    {
     "name": "stdout",
     "output_type": "stream",
     "text": [
      "epoch 37, run_time=74.7986912727356, train loss=0.0005574473084973009, eval_loss=0.0007346772836172022, eval_sharp=0.04668713845763286\n",
      "\t train_loss=0.0005570827624131492, train_sharp=0.02981055963205193\n"
     ]
    },
    {
     "name": "stderr",
     "output_type": "stream",
     "text": [
      " 78%|█████████████████████████████████████████████████████████████████████████████████████████████████████████████████████████████████████████████████████████▋                                           | 39/50 [1:40:08<28:20, 154.56s/it]"
     ]
    },
    {
     "name": "stdout",
     "output_type": "stream",
     "text": [
      "epoch 38, run_time=74.07793641090393, train loss=0.000557661343851092, eval_loss=0.0007271641625266057, eval_sharp=0.05873135578219239\n",
      "\t train_loss=0.0005572029480367887, train_sharp=0.02856286355363293\n"
     ]
    },
    {
     "name": "stderr",
     "output_type": "stream",
     "text": [
      " 80%|█████████████████████████████████████████████████████████████████████████████████████████████████████████████████████████████████████████████████████████████▌                                       | 40/50 [1:42:42<25:41, 154.15s/it]"
     ]
    },
    {
     "name": "stdout",
     "output_type": "stream",
     "text": [
      "epoch 39, run_time=74.6655285358429, train loss=0.0005575626532139361, eval_loss=0.0007293764865607955, eval_sharp=0.06665018035369324\n",
      "\t train_loss=0.0005571554401912582, train_sharp=0.032478246564918045\n"
     ]
    },
    {
     "name": "stderr",
     "output_type": "stream",
     "text": [
      " 82%|█████████████████████████████████████████████████████████████████████████████████████████████████████████████████████████████████████████████████████████████████▌                                   | 41/50 [1:45:16<23:07, 154.15s/it]"
     ]
    },
    {
     "name": "stdout",
     "output_type": "stream",
     "text": [
      "epoch 40, run_time=75.04722285270691, train loss=0.0005572993345001875, eval_loss=0.0007193938472482841, eval_sharp=0.06226522610403223\n",
      "\t train_loss=0.0005574921716452194, train_sharp=0.029218543175350754\n"
     ]
    },
    {
     "name": "stderr",
     "output_type": "stream",
     "text": [
      " 84%|█████████████████████████████████████████████████████████████████████████████████████████████████████████████████████████████████████████████████████████████████████▍                               | 42/50 [1:47:49<20:30, 153.81s/it]"
     ]
    },
    {
     "name": "stdout",
     "output_type": "stream",
     "text": [
      "epoch 41, run_time=74.40124130249023, train loss=0.0005574186792762036, eval_loss=0.0007431535395880928, eval_sharp=0.0633663075872981\n",
      "\t train_loss=0.0005570296837600463, train_sharp=0.02998792870517568\n"
     ]
    },
    {
     "name": "stderr",
     "output_type": "stream",
     "text": [
      " 86%|█████████████████████████████████████████████████████████████████████████████████████████████████████████████████████████████████████████████████████████████████████████▍                           | 43/50 [1:50:20<17:52, 153.17s/it]"
     ]
    },
    {
     "name": "stdout",
     "output_type": "stream",
     "text": [
      "epoch 42, run_time=74.05648946762085, train loss=0.0005578652667987987, eval_loss=0.0007556592045148136, eval_sharp=0.06122589002631041\n",
      "\t train_loss=0.0005573253357448176, train_sharp=0.028633353040840092\n"
     ]
    },
    {
     "name": "stderr",
     "output_type": "stream",
     "text": [
      " 88%|█████████████████████████████████████████████████████████████████████████████████████████████████████████████████████████████████████████████████████████████████████████████▎                       | 44/50 [1:52:52<15:16, 152.72s/it]"
     ]
    },
    {
     "name": "stdout",
     "output_type": "stream",
     "text": [
      "epoch 43, run_time=73.93094372749329, train loss=0.0005578771901500602, eval_loss=0.0007469177180610131, eval_sharp=0.06279364245860249\n",
      "\t train_loss=0.0005570778648802137, train_sharp=0.029379187994158437\n"
     ]
    },
    {
     "name": "stderr",
     "output_type": "stream",
     "text": [
      " 90%|█████████████████████████████████████████████████████████████████████████████████████████████████████████████████████████████████████████████████████████████████████████████████▎                   | 45/50 [1:55:25<12:44, 152.84s/it]"
     ]
    },
    {
     "name": "stdout",
     "output_type": "stream",
     "text": [
      "epoch 44, run_time=74.91890239715576, train loss=0.0005572683848361109, eval_loss=0.0007307904706976842, eval_sharp=0.06367935315075372\n",
      "\t train_loss=0.0005571043037669155, train_sharp=0.029603448149524435\n"
     ]
    },
    {
     "name": "stderr",
     "output_type": "stream",
     "text": [
      " 92%|█████████████████████████████████████████████████████████████████████████████████████████████████████████████████████████████████████████████████████████████████████████████████████▏               | 46/50 [1:57:58<10:11, 152.82s/it]"
     ]
    },
    {
     "name": "stdout",
     "output_type": "stream",
     "text": [
      "epoch 45, run_time=74.50799441337585, train loss=0.000557525171186075, eval_loss=0.0007473753321391996, eval_sharp=0.06390591756104687\n",
      "\t train_loss=0.0005570897813622481, train_sharp=0.02967950518056667\n"
     ]
    },
    {
     "name": "stderr",
     "output_type": "stream",
     "text": [
      " 94%|█████████████████████████████████████████████████████████████████████████████████████████████████████████████████████████████████████████████████████████████████████████████████████████▏           | 47/50 [2:00:32<07:39, 153.13s/it]"
     ]
    },
    {
     "name": "stdout",
     "output_type": "stream",
     "text": [
      "epoch 46, run_time=74.69656300544739, train loss=0.0005573245024443054, eval_loss=0.0007445434039254906, eval_sharp=0.06088990726315684\n",
      "\t train_loss=0.0005570526890726384, train_sharp=0.028404997865814754\n"
     ]
    },
    {
     "name": "stderr",
     "output_type": "stream",
     "text": [
      " 96%|█████████████████████████████████████████████████████████████████████████████████████████████████████████████████████████████████████████████████████████████████████████████████████████████        | 48/50 [2:03:02<05:04, 152.37s/it]"
     ]
    },
    {
     "name": "stdout",
     "output_type": "stream",
     "text": [
      "epoch 47, run_time=74.73951601982117, train loss=0.0005573821332709146, eval_loss=0.0007259069298015675, eval_sharp=0.06515908844563374\n",
      "\t train_loss=0.0005572584344895545, train_sharp=0.03438855580098056\n"
     ]
    },
    {
     "name": "stderr",
     "output_type": "stream",
     "text": [
      " 98%|█████████████████████████████████████████████████████████████████████████████████████████████████████████████████████████████████████████████████████████████████████████████████████████████████    | 49/50 [2:05:33<02:31, 151.73s/it]"
     ]
    },
    {
     "name": "stdout",
     "output_type": "stream",
     "text": [
      "epoch 48, run_time=72.50665831565857, train loss=0.0005576550337429569, eval_loss=0.0007546218803327065, eval_sharp=0.06173431177772263\n",
      "\t train_loss=0.0005572896232208098, train_sharp=0.028457214605901306\n"
     ]
    },
    {
     "name": "stderr",
     "output_type": "stream",
     "text": [
      "100%|█████████████████████████████████████████████████████████████████████████████████████████████████████████████████████████████████████████████████████████████████████████████████████████████████████| 50/50 [2:08:05<00:00, 153.71s/it]"
     ]
    },
    {
     "name": "stdout",
     "output_type": "stream",
     "text": [
      "epoch 49, run_time=73.99673342704773, train loss=0.0005578000221570653, eval_loss=0.0007426362026308198, eval_sharp=0.06612586393590573\n",
      "\t train_loss=0.000557039191041457, train_sharp=0.030196396299109116\n"
     ]
    },
    {
     "name": "stderr",
     "output_type": "stream",
     "text": [
      "\n"
     ]
    }
   ],
   "source": [
    "from tqdm import tqdm\n",
    "import time\n",
    "import os\n",
    "import copy\n",
    "\n",
    "output_dir = \"output_lstm\"\n",
    "if not os.path.exists(output_dir):\n",
    "    os.makedirs(output_dir)\n",
    "\n",
    "\n",
    "epochs = 50\n",
    "batch_size = 512\n",
    "seq_len = 14\n",
    "num_layers = 2\n",
    "input_size = 5\n",
    "lstm_dim = 128\n",
    "dropout = 0.\n",
    "\n",
    "# Check wheter GPU is available\n",
    "device = torch.device('cuda:0' if torch.cuda.is_available() else 'cpu')\n",
    "\n",
    "# Model Instantiation\n",
    "model = LSTM(d_feat=input_size, hidden_size=lstm_dim, num_layers=num_layers, dropout=dropout)\n",
    "model.to(device)\n",
    "model.train()\n",
    "# setting optimizer\n",
    "lr = 0.001\n",
    "weight_decay = 1.0e-05\n",
    "optimizer = torch.optim.Adagrad(model.parameters(), lr=lr, weight_decay=weight_decay)\n",
    "# setting criterion\n",
    "criterion = nn.MSELoss()\n",
    "\n",
    "\n",
    "def train_epoch(train_df, model, seq_len=30, batch_size=512):\n",
    "    groups = train_df.groupby(['SecuritiesCode'])\n",
    "    total_loss = 0.\n",
    "    iteration = 0\n",
    "    model.train()\n",
    "    \n",
    "    def collect_batch_index():  # index for a stock with seq_len continuous days\n",
    "        batch_index = []\n",
    "        for sc, group in groups:\n",
    "            indices = np.arange(len(group))\n",
    "            for i in range(len(indices))[:: seq_len]:\n",
    "                if len(indices) - i < seq_len:\n",
    "                    break\n",
    "                batch_index.append(group.index[i: i + seq_len])\n",
    "        return batch_index\n",
    "            \n",
    "\n",
    "    batch_index = collect_batch_index() \n",
    "    indices = np.arange(len(batch_index))\n",
    "    np.random.shuffle(indices)\n",
    "    \n",
    "    for i in range(len(indices))[:: batch_size]:\n",
    "\n",
    "        # if len(indices) - i < batch_size:\n",
    "        #     break\n",
    "        \n",
    "        x_train = []\n",
    "        y_train = []\n",
    "        for index in indices[i: i + batch_size]:\n",
    "            values = train_df.loc[batch_index[index]].values\n",
    "            x_train.append(values[:, 3: 3 + input_size].astype(np.float32))\n",
    "            y_train.append(values[:, -1][-1])\n",
    "        \n",
    "        # print(y_train)\n",
    "            \n",
    "        feature = torch.from_numpy(np.vstack(x_train).reshape((len(y_train), seq_len, -1))).float().to(device)\n",
    "        label = torch.from_numpy(np.vstack(y_train)).flatten().float().to(device)\n",
    "        # print(feature.size(), label.size())\n",
    "\n",
    "        pred = model(feature)\n",
    "        # print(pred.size(), label.size())\n",
    "        loss = criterion(pred, label)\n",
    "        total_loss += loss.item()\n",
    "        \n",
    "        # if list(label.size())[0] < batch_size:\n",
    "        #     print('train', pred.size(), label.size(), feature.size())\n",
    "            \n",
    "        optimizer.zero_grad()\n",
    "        loss.backward()\n",
    "        torch.nn.utils.clip_grad_value_(model.parameters(), 3.0)\n",
    "        optimizer.step()\n",
    "        iteration += 1\n",
    "            \n",
    "    return total_loss/iteration\n",
    "\n",
    "\n",
    "def test_epoch(train_df, model, seq_len=30, batch_size=512):\n",
    "    groups = train_df.groupby(['SecuritiesCode'])\n",
    "    total_loss = 0.\n",
    "    iteration = 0\n",
    "    model.eval()\n",
    "    \n",
    "    tmp_df = train_df.copy()\n",
    "    tmp_df['pred'] = 0  # 默认没预测的涨幅都为 0\n",
    "\n",
    "    def collect_batch_index():  # index for a stock with seq_len continuous days\n",
    "        batch_index = []\n",
    "        for sc, group in groups:\n",
    "            indices = np.arange(len(group))\n",
    "            for i in range(len(indices))[:: seq_len]:\n",
    "                if len(indices) - i < seq_len:\n",
    "                    break\n",
    "                batch_index.append(group.index[i: i + seq_len])\n",
    "        return batch_index\n",
    "\n",
    "\n",
    "    batch_index = collect_batch_index()\n",
    "    indices = np.arange(len(batch_index))\n",
    "    \n",
    "    pre_indices = [index[-1] for index in batch_index]\n",
    "    pred_array = np.array([])\n",
    "    \n",
    "    for i in range(len(indices))[:: batch_size]:\n",
    "\n",
    "        # if len(indices) - i < batch_size:\n",
    "        #     break\n",
    "\n",
    "        x_train = []\n",
    "        y_train = []\n",
    "        for index in indices[i: i + batch_size]:\n",
    "            values = train_df.loc[batch_index[index]].values\n",
    "            # see the train_df format upstair\n",
    "            x_train.append(values[:, 3: 3 + input_size].astype(np.float32))\n",
    "            y_train.append(values[:, -1][-1])\n",
    "\n",
    "            \n",
    "        feature = torch.from_numpy(np.vstack(x_train).reshape((len(y_train), seq_len, -1))).float().to(device)\n",
    "        label = torch.from_numpy(np.vstack(y_train)).flatten().float().to(device)\n",
    "        \n",
    "\n",
    "        pred = model(feature)\n",
    "        \n",
    "        loss = criterion(pred, label)\n",
    "        \n",
    "        # if list(label.size())[0] < batch_size:\n",
    "        #     print('test', pred.size(), label.size(), feature.size())\n",
    "        total_loss += loss.item()\n",
    "        # print(pred)\n",
    "        pred_array = np.append(pred_array, pred.detach().cpu().numpy())\n",
    "        iteration += 1\n",
    "\n",
    "    # print(len(pre_indices), len(pred_array))\n",
    "    tmp_df.loc[pre_indices, 'pred'] = pred_array\n",
    "    tmp_df['Rank'] = tmp_df.groupby(\"Date\")['pred'].transform('rank', ascending=False, method=\"first\") - 1\n",
    "    tmp_df['Rank'] = tmp_df['Rank'].astype(int)\n",
    "    \n",
    "    sharp = calc_spread_return_sharpe(tmp_df)\n",
    "    \n",
    "    return total_loss/iteration, sharp\n",
    "\n",
    "\n",
    "log_train = [[0], [np.inf]]\n",
    "log_eval = [[0], [np.inf]]\n",
    "best_eval_loss = np.inf\n",
    "best_model_path = 'Unknown'\n",
    "\n",
    "if True:\n",
    "    model.eval()\n",
    "    train_loss, train_sharp = test_epoch(train_df, model, batch_size=batch_size, seq_len=seq_len)\n",
    "    test_loss, test_sharp = test_epoch(test_df, model, batch_size=batch_size, seq_len=seq_len)\n",
    "    print(\"with training, random train_loss={}, train_sharp={}, eval_loss={}, eval_sharp={}\".format(train_loss, train_sharp, test_loss, test_sharp))\n",
    "    _tqdm = tqdm(range(epochs))\n",
    "    for epoch in _tqdm:\n",
    "        epoch_loss = 0.0\n",
    "        # set iteration counter\n",
    "        iteration = 0\n",
    "        start_time = time.time()\n",
    "\n",
    "        epoch_loss = train_epoch(train_df, model, seq_len=seq_len, batch_size=batch_size)\n",
    "        end_time = time.time()\n",
    "    #     print('epoch_loss={}'.format(epoch_loss))\n",
    "\n",
    "        log_train[0].append(epoch)\n",
    "        log_train[1].append(epoch_loss)\n",
    "\n",
    "        # eval\n",
    "        eval_loss, sharp = test_epoch(test_df, model, seq_len=seq_len, batch_size=batch_size)\n",
    "        train_loss, train_sharp = test_epoch(train_df, model, seq_len=seq_len, batch_size=batch_size)\n",
    "        \n",
    "        log_eval[0].append(epoch)\n",
    "        log_eval[1].append(eval_loss)\n",
    "        if best_eval_loss > eval_loss:\n",
    "            best_eval_loss = eval_loss\n",
    "            best_model_path = f\"{output_dir}/{epoch}.pt\"\n",
    "\n",
    "        # print(\"epoch {}, run_time={}, train loss={}, eval_loss={}\".format(epoch, (end_time - start_time), epoch_loss, eval_loss))\n",
    "        print(\"epoch {}, run_time={}, train loss={}, eval_loss={}, eval_sharp={}\".format(epoch, (end_time - start_time), epoch_loss, eval_loss, sharp))\n",
    "        print(\"\\t train_loss={}, train_sharp={}\".format(train_loss, train_sharp))\n",
    "        # _tqdm.set_description(\"epoch {}, run_time={}, train loss={}, eval_loss={}, eval_sharp={}\".format(epoch, (end_time - start_time), epoch_loss, eval_loss, sharp))\n",
    "        # save mode\n",
    "        save_path = f\"{output_dir}/{epoch}.pt\"\n",
    "        param = copy.deepcopy(model.state_dict())\n",
    "        torch.save(param, save_path)"
   ]
  },
  {
   "cell_type": "code",
   "execution_count": 28,
   "metadata": {},
   "outputs": [
    {
     "name": "stdout",
     "output_type": "stream",
     "text": [
      "output_lstm/0.pt\n"
     ]
    },
    {
     "data": {
      "text/plain": [
       "<All keys matched successfully>"
      ]
     },
     "execution_count": 28,
     "metadata": {},
     "output_type": "execute_result"
    }
   ],
   "source": [
    "print(best_model_path)\n",
    "# best_model_path = \"output_lstm/17.pt\"\n",
    "model.load_state_dict(torch.load(best_model_path))"
   ]
  },
  {
   "cell_type": "code",
   "execution_count": 29,
   "metadata": {},
   "outputs": [
    {
     "data": {
      "image/png": "[encoded data removed]",
      "text/plain": [
       "<Figure size 432x288 with 1 Axes>"
      ]
     },
     "metadata": {
      "needs_background": "light"
     },
     "output_type": "display_data"
    }
   ],
   "source": [
    "import matplotlib.pyplot as plt\n",
    "plt.plot(log_train[0][1:], log_train[1][1:])\n",
    "plt.plot(log_eval[0][1:], log_eval[1][1:])\n",
    "plt.xlabel('epoch')\n",
    "plt.ylabel('loss')\n",
    "plt.show()"
   ]
  },
  {
   "cell_type": "markdown",
   "metadata": {},
   "source": [
    "## Prediction\n",
    "The trained model will be used to make predictions on the submitted data.  \n",
    "`DataFrame` → `Ndarray` → `tensor` and transform the data to make predictions."
   ]
  },
  {
   "cell_type": "markdown",
   "metadata": {},
   "source": [
    "## Submission\n",
    "Perform data preparation for submission from `jpx_tokyo_market_prediction`."
   ]
  },
  {
   "cell_type": "code",
   "execution_count": 22,
   "metadata": {},
   "outputs": [
    {
     "name": "stderr",
     "output_type": "stream",
     "text": [
      "<frozen importlib._bootstrap>:219: RuntimeWarning: compiletime version 3.7 of module 'jpx_tokyo_market_prediction.competition' does not match runtime version 3.8\n"
     ]
    }
   ],
   "source": [
    "import sys\n",
    "sys.path.append(\"/mnt/d/dataset/quant/kaggle22/\")\n",
    "\n",
    "import jpx_tokyo_market_prediction\n",
    "env = jpx_tokyo_market_prediction.make_env()\n",
    "iter_test = env.iter_test()"
   ]
  },
  {
   "cell_type": "code",
   "execution_count": 23,
   "metadata": {},
   "outputs": [
    {
     "name": "stdout",
     "output_type": "stream",
     "text": [
      "This version of the API is not optimized and should not be used to estimate the runtime of your code on the hidden test set.\n",
      "input size torch.Size([512, 30, 5])\n",
      "input size torch.Size([512, 30, 5])\n",
      "input size torch.Size([512, 30, 5])\n",
      "input size torch.Size([464, 30, 5])\n"
     ]
    },
    {
     "name": "stderr",
     "output_type": "stream",
     "text": [
      "/tmp/ipykernel_15229/3863093181.py:37: SettingWithCopyWarning: \n",
      "A value is trying to be set on a copy of a slice from a DataFrame.\n",
      "Try using .loc[row_indexer,col_indexer] = value instead\n",
      "\n",
      "See the caveats in the documentation: https://pandas.pydata.org/pandas-docs/stable/user_guide/indexing.html#returning-a-view-versus-a-copy\n",
      "  pred_df['target'] = y_pred\n",
      "/tmp/ipykernel_15229/3863093181.py:39: SettingWithCopyWarning: \n",
      "A value is trying to be set on a copy of a slice from a DataFrame.\n",
      "Try using .loc[row_indexer,col_indexer] = value instead\n",
      "\n",
      "See the caveats in the documentation: https://pandas.pydata.org/pandas-docs/stable/user_guide/indexing.html#returning-a-view-versus-a-copy\n",
      "  pred_df['Rank'] = pred_df[\"target\"].rank(ascending=False, method=\"first\") - 1\n",
      "/tmp/ipykernel_15229/3863093181.py:40: SettingWithCopyWarning: \n",
      "A value is trying to be set on a copy of a slice from a DataFrame.\n",
      "Try using .loc[row_indexer,col_indexer] = value instead\n",
      "\n",
      "See the caveats in the documentation: https://pandas.pydata.org/pandas-docs/stable/user_guide/indexing.html#returning-a-view-versus-a-copy\n",
      "  pred_df['Rank'] = pred_df['Rank'].astype(int)\n"
     ]
    },
    {
     "name": "stdout",
     "output_type": "stream",
     "text": [
      "input size torch.Size([512, 30, 5])\n",
      "input size torch.Size([512, 30, 5])\n",
      "input size torch.Size([512, 30, 5])\n",
      "input size torch.Size([464, 30, 5])\n"
     ]
    },
    {
     "name": "stderr",
     "output_type": "stream",
     "text": [
      "/tmp/ipykernel_15229/3863093181.py:37: SettingWithCopyWarning: \n",
      "A value is trying to be set on a copy of a slice from a DataFrame.\n",
      "Try using .loc[row_indexer,col_indexer] = value instead\n",
      "\n",
      "See the caveats in the documentation: https://pandas.pydata.org/pandas-docs/stable/user_guide/indexing.html#returning-a-view-versus-a-copy\n",
      "  pred_df['target'] = y_pred\n",
      "/tmp/ipykernel_15229/3863093181.py:39: SettingWithCopyWarning: \n",
      "A value is trying to be set on a copy of a slice from a DataFrame.\n",
      "Try using .loc[row_indexer,col_indexer] = value instead\n",
      "\n",
      "See the caveats in the documentation: https://pandas.pydata.org/pandas-docs/stable/user_guide/indexing.html#returning-a-view-versus-a-copy\n",
      "  pred_df['Rank'] = pred_df[\"target\"].rank(ascending=False, method=\"first\") - 1\n",
      "/tmp/ipykernel_15229/3863093181.py:40: SettingWithCopyWarning: \n",
      "A value is trying to be set on a copy of a slice from a DataFrame.\n",
      "Try using .loc[row_indexer,col_indexer] = value instead\n",
      "\n",
      "See the caveats in the documentation: https://pandas.pydata.org/pandas-docs/stable/user_guide/indexing.html#returning-a-view-versus-a-copy\n",
      "  pred_df['Rank'] = pred_df['Rank'].astype(int)\n"
     ]
    }
   ],
   "source": [
    "count = 0\n",
    "for (prices, options, financials, trades, secondary_prices, sample_prediction) in iter_test:\n",
    "    prices = prices.fillna(0)\n",
    "    prices['SupervisionFlag'] = prices['SupervisionFlag'].map({True: 1, False: 0})\n",
    "    prices['Date'] = pd.to_datetime(prices['Date'])\n",
    "    pred_df = predict(model, prices)\n",
    "    # print(pred_df)\n",
    "    env.predict(pred_df)\n",
    "    count += 1"
   ]
  },
  {
   "cell_type": "code",
   "execution_count": 24,
   "metadata": {},
   "outputs": [
    {
     "data": {
      "text/html": [
       "<div>\n",
       "<style scoped>\n",
       "    .dataframe tbody tr th:only-of-type {\n",
       "        vertical-align: middle;\n",
       "    }\n",
       "\n",
       "    .dataframe tbody tr th {\n",
       "        vertical-align: top;\n",
       "    }\n",
       "\n",
       "    .dataframe thead th {\n",
       "        text-align: right;\n",
       "    }\n",
       "</style>\n",
       "<table border=\"1\" class=\"dataframe\">\n",
       "  <thead>\n",
       "    <tr style=\"text-align: right;\">\n",
       "      <th></th>\n",
       "      <th>Date</th>\n",
       "      <th>SecuritiesCode</th>\n",
       "      <th>Rank</th>\n",
       "    </tr>\n",
       "  </thead>\n",
       "  <tbody>\n",
       "    <tr>\n",
       "      <th>0</th>\n",
       "      <td>2021-12-07</td>\n",
       "      <td>1301</td>\n",
       "      <td>1561</td>\n",
       "    </tr>\n",
       "    <tr>\n",
       "      <th>1</th>\n",
       "      <td>2021-12-07</td>\n",
       "      <td>1332</td>\n",
       "      <td>19</td>\n",
       "    </tr>\n",
       "    <tr>\n",
       "      <th>2</th>\n",
       "      <td>2021-12-07</td>\n",
       "      <td>1333</td>\n",
       "      <td>1331</td>\n",
       "    </tr>\n",
       "    <tr>\n",
       "      <th>3</th>\n",
       "      <td>2021-12-07</td>\n",
       "      <td>1375</td>\n",
       "      <td>722</td>\n",
       "    </tr>\n",
       "    <tr>\n",
       "      <th>4</th>\n",
       "      <td>2021-12-07</td>\n",
       "      <td>1376</td>\n",
       "      <td>825</td>\n",
       "    </tr>\n",
       "    <tr>\n",
       "      <th>...</th>\n",
       "      <td>...</td>\n",
       "      <td>...</td>\n",
       "      <td>...</td>\n",
       "    </tr>\n",
       "    <tr>\n",
       "      <th>1995</th>\n",
       "      <td>2021-12-07</td>\n",
       "      <td>9990</td>\n",
       "      <td>253</td>\n",
       "    </tr>\n",
       "    <tr>\n",
       "      <th>1996</th>\n",
       "      <td>2021-12-07</td>\n",
       "      <td>9991</td>\n",
       "      <td>440</td>\n",
       "    </tr>\n",
       "    <tr>\n",
       "      <th>1997</th>\n",
       "      <td>2021-12-07</td>\n",
       "      <td>9993</td>\n",
       "      <td>996</td>\n",
       "    </tr>\n",
       "    <tr>\n",
       "      <th>1998</th>\n",
       "      <td>2021-12-07</td>\n",
       "      <td>9994</td>\n",
       "      <td>1378</td>\n",
       "    </tr>\n",
       "    <tr>\n",
       "      <th>1999</th>\n",
       "      <td>2021-12-07</td>\n",
       "      <td>9997</td>\n",
       "      <td>300</td>\n",
       "    </tr>\n",
       "  </tbody>\n",
       "</table>\n",
       "<p>2000 rows × 3 columns</p>\n",
       "</div>"
      ],
      "text/plain": [
       "           Date  SecuritiesCode  Rank\n",
       "0    2021-12-07            1301  1561\n",
       "1    2021-12-07            1332    19\n",
       "2    2021-12-07            1333  1331\n",
       "3    2021-12-07            1375   722\n",
       "4    2021-12-07            1376   825\n",
       "...         ...             ...   ...\n",
       "1995 2021-12-07            9990   253\n",
       "1996 2021-12-07            9991   440\n",
       "1997 2021-12-07            9993   996\n",
       "1998 2021-12-07            9994  1378\n",
       "1999 2021-12-07            9997   300\n",
       "\n",
       "[2000 rows x 3 columns]"
      ]
     },
     "execution_count": 24,
     "metadata": {},
     "output_type": "execute_result"
    }
   ],
   "source": [
    "pred_df"
   ]
  },
  {
   "cell_type": "code",
   "execution_count": null,
   "metadata": {},
   "outputs": [],
   "source": []
  }
 ],
 "metadata": {
  "kernelspec": {
   "display_name": "Python 3 (ipykernel)",
   "language": "python",
   "name": "python3"
  },
  "language_info": {
   "codemirror_mode": {
    "name": "ipython",
    "version": 3
   },
   "file_extension": ".py",
   "mimetype": "text/x-python",
   "name": "python",
   "nbconvert_exporter": "python",
   "pygments_lexer": "ipython3",
   "version": "3.8.13"
  },
  "toc-showcode": false,
  "widgets": {
   "application/vnd.jupyter.widget-state+json": {
    "state": {},
    "version_major": 2,
    "version_minor": 0
   }
  }
 },
 "nbformat": 4,
 "nbformat_minor": 4
}
