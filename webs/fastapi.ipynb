{
 "cells": [
  {
   "cell_type": "markdown",
   "metadata": {},
   "source": [
    "# Adds simple SQLAlchemy support to FastAPI\n",
    "* pip install fastapi-sqlalchemy\n",
    "* https://zzun.app/repo/mfreeborn-fastapi-sqlalchemy-python-fastapi-utilities"
   ]
  },
  {
   "cell_type": "code",
   "execution_count": null,
   "metadata": {},
   "outputs": [],
   "source": [
    "from fastapi import FastAPI\n",
    "from fastapi_sqlalchemy import DBSessionMiddleware  # middleware helper\n",
    "# an object to provide global access to a database session\n",
    "from fastapi_sqlalchemy import db\n",
    "\n",
    "from app.models import User\n",
    "\n",
    "app = FastAPI()\n",
    "\n",
    "app.add_middleware(DBSessionMiddleware, db_url=\"sqlite://\")\n",
    "\n",
    "# once the middleware is applied, any route can then access the database session\n",
    "# from the global ``db``\n",
    "\n",
    "\n",
    "@app.get(\"/users\")\n",
    "def get_users():\n",
    "    users = db.session.query(User).all()\n",
    "\n",
    "    return users\n"
   ]
  },
  {
   "cell_type": "markdown",
   "metadata": {},
   "source": [
    "## Usage outside of a route\n",
    "* schedulers example"
   ]
  },
  {
   "cell_type": "code",
   "execution_count": null,
   "metadata": {},
   "outputs": [],
   "source": [
    "import pytz\n",
    "# other schedulers are available\n",
    "from apscheduler.schedulers.asyncio import AsyncIOScheduler\n",
    "from fastapi import FastAPI\n",
    "from fastapi_sqlalchemy import db\n",
    "\n",
    "from app.models import User, UserCount\n",
    "\n",
    "app = FastAPI()\n",
    "\n",
    "app.add_middleware(DBSessionMiddleware, db_url=\"sqlite://\")\n",
    "\n",
    "\n",
    "@app.on_event('startup')\n",
    "async def startup_event():\n",
    "    scheduler = AsyncIOScheduler(timezone=pytz.utc)\n",
    "    scheduler.start()\n",
    "    # runs every night at midnight\n",
    "    scheduler.add_job(count_users_task, \"cron\", hour=0)\n",
    "\n",
    "\n",
    "def count_users_task():\n",
    "    \"\"\"Count the number of users in the database and save it into the user_counts table.\"\"\"\n",
    "\n",
    "    # we are outside of a request context, therefore we cannot rely on ``DBSessionMiddleware``\n",
    "    # to create a database session for us. Instead, we can use the same ``db`` object and\n",
    "    # use it as a context manager, like so:\n",
    "\n",
    "    with db():\n",
    "        user_count = db.session.query(User).count()\n",
    "\n",
    "        db.session.add(UserCount(user_count))\n",
    "        db.session.commit()\n",
    "\n",
    "    # no longer able to access a database session once the db() context manager has ended\n",
    "\n",
    "    return users\n"
   ]
  }
 ],
 "metadata": {
  "language_info": {
   "name": "python"
  },
  "orig_nbformat": 4
 },
 "nbformat": 4,
 "nbformat_minor": 2
}
