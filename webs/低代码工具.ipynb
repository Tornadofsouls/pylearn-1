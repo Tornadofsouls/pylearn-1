{
 "cells": [
  {
   "attachments": {},
   "cell_type": "markdown",
   "metadata": {},
   "source": [
    "# pynecone\n",
    "\n",
    "* https://github.com/pynecone-io/pynecone\n",
    "\n",
    "# 数据科学相关\n",
    "\n",
    "## dash plotly\n",
    "* https://dash.gallery/Portal/\n",
    "* \n",
    "## Gradio\n",
    "* https://github.com/gradio-app/gradio\n",
    "* 可以跟jupyter 结合试用\n",
    "\n",
    "## streamlit\n"
   ]
  },
  {
   "cell_type": "code",
   "execution_count": null,
   "metadata": {},
   "outputs": [],
   "source": []
  }
 ],
 "metadata": {
  "kernelspec": {
   "display_name": "py38",
   "language": "python",
   "name": "python3"
  },
  "language_info": {
   "codemirror_mode": {
    "name": "ipython",
    "version": 3
   },
   "file_extension": ".py",
   "mimetype": "text/x-python",
   "name": "python",
   "nbconvert_exporter": "python",
   "pygments_lexer": "ipython3",
   "version": "3.8.13"
  },
  "orig_nbformat": 4,
  "vscode": {
   "interpreter": {
    "hash": "fe22768e9524fdef0bd7ed00acfac1a320cf250cfc5d425f429f4b9beb1077b3"
   }
  }
 },
 "nbformat": 4,
 "nbformat_minor": 2
}
