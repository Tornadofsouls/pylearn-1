{
 "cells": [
  {
   "attachments": {},
   "cell_type": "markdown",
   "metadata": {},
   "source": [
    "# documentations\n",
    "\n",
    "* https://ta-lib.github.io/ta-lib-python/doc_index.html\n",
    "* https://www.backtrader.com/docu/talib/talib/#using-ta-lib 有些应用例子和画图\n",
    "* https://school.stockcharts.com/doku.php?id=technical_indicators 有各种译文的tutorial。\n",
    "* https://github.com/xingbuxing/TA-Lib-in-chinese/tree/master/source/API/Pattern%20Recognition \n",
    "* "
   ]
  }
 ],
 "metadata": {
  "language_info": {
   "name": "python"
  },
  "orig_nbformat": 4
 },
 "nbformat": 4,
 "nbformat_minor": 2
}
