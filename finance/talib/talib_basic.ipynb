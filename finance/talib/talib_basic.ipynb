{
 "cells": [
  {
   "attachments": {},
   "cell_type": "markdown",
   "metadata": {},
   "source": [
    "# documentations\n",
    "\n",
    "* https://ta-lib.github.io/ta-lib-python/doc_index.html\n",
    "* https://www.backtrader.com/docu/talib/talib/#using-ta-lib 有些应用例子和画图\n",
    "* https://school.stockcharts.com/doku.php?id=technical_indicators 有各种译文的tutorial。\n",
    "* https://github.com/xingbuxing/TA-Lib-in-chinese/tree/master/source/API/Pattern%20Recognition \n",
    "* "
   ]
  }
 ],
 "metadata": {
  "kernelspec": {
   "display_name": "py38",
   "language": "python",
   "name": "python3"
  },
  "language_info": {
   "name": "python",
   "version": "3.8.13 (default, Oct 19 2022, 22:38:03) [MSC v.1916 64 bit (AMD64)]"
  },
  "orig_nbformat": 4,
  "vscode": {
   "interpreter": {
    "hash": "fe22768e9524fdef0bd7ed00acfac1a320cf250cfc5d425f429f4b9beb1077b3"
   }
  }
 },
 "nbformat": 4,
 "nbformat_minor": 2
}
