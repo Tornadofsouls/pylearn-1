{
 "cells": [
  {
   "attachments": {},
   "cell_type": "markdown",
   "metadata": {},
   "source": [
    "# tutorials\n",
    "\n",
    "## CN\n",
    "* https://github.com/tkfy920/PythonQuantitativeFinance\n",
    "* https://school.stockcharts.com/doku.php\n",
    "* https://github.com/huseinzol05/Stock-Prediction-Models"
   ]
  },
  {
   "cell_type": "code",
   "execution_count": null,
   "metadata": {},
   "outputs": [],
   "source": []
  },
  {
   "cell_type": "markdown",
   "metadata": {},
   "source": []
  }
 ],
 "metadata": {
  "language_info": {
   "name": "python"
  },
  "orig_nbformat": 4
 },
 "nbformat": 4,
 "nbformat_minor": 2
}
