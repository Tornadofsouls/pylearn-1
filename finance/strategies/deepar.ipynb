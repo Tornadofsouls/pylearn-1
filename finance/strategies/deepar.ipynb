{
 "cells": [
  {
   "cell_type": "code",
   "execution_count": 1,
   "metadata": {},
   "outputs": [
    {
     "name": "stdout",
     "output_type": "stream",
     "text": [
      "Looking in indexes: https://mirrors.aliyun.com/pypi/simple/\n",
      "Collecting baostock\n",
      "  Downloading https://mirrors.aliyun.com/pypi/packages/43/e2/b367c78db42bafcf752442b7d582ba2a724286313d9f126c5fee06064fb2/baostock-0.8.8-py3-none-any.whl (55 kB)\n",
      "     --------------------------------------- 55.2/55.2 kB 39.4 kB/s eta 0:00:00\n",
      "Requirement already satisfied: pandas>=0.18.0 in c:\\users\\73915\\.conda\\envs\\py38\\lib\\site-packages (from baostock) (1.5.1)\n",
      "Requirement already satisfied: numpy>=1.20.3 in c:\\users\\73915\\.conda\\envs\\py38\\lib\\site-packages (from pandas>=0.18.0->baostock) (1.23.4)\n",
      "Requirement already satisfied: python-dateutil>=2.8.1 in c:\\users\\73915\\.conda\\envs\\py38\\lib\\site-packages (from pandas>=0.18.0->baostock) (2.8.2)\n",
      "Requirement already satisfied: pytz>=2020.1 in c:\\users\\73915\\.conda\\envs\\py38\\lib\\site-packages (from pandas>=0.18.0->baostock) (2022.5)\n",
      "Requirement already satisfied: six>=1.5 in c:\\users\\73915\\.conda\\envs\\py38\\lib\\site-packages (from python-dateutil>=2.8.1->pandas>=0.18.0->baostock) (1.16.0)\n",
      "Installing collected packages: baostock\n",
      "Successfully installed baostock-0.8.8\n"
     ]
    }
   ],
   "source": [
    "!pip install baostock"
   ]
  },
  {
   "cell_type": "code",
   "execution_count": 2,
   "metadata": {},
   "outputs": [],
   "source": [
    "import baostock as bs\n",
    "import pandas as pd\n",
    "\n",
    "def get_stockdata(code):\n",
    "    rs = bs.query_history_k_data_plus(code,\n",
    "                                      'date,close,volume,turn',\n",
    "                                      start_date='2020-01-01',\n",
    "                                      end_date='2022-01-01',\n",
    "                                      frequency='d', adjustflag='2') \n",
    "\n",
    "    return rs.get_data()"
   ]
  },
  {
   "cell_type": "code",
   "execution_count": 3,
   "metadata": {},
   "outputs": [
    {
     "name": "stdout",
     "output_type": "stream",
     "text": [
      "login success!\n",
      "logout success!\n"
     ]
    },
    {
     "data": {
      "text/plain": [
       "<baostock.data.resultset.ResultData at 0x23110124490>"
      ]
     },
     "execution_count": 3,
     "metadata": {},
     "output_type": "execute_result"
    }
   ],
   "source": [
    "prediction_length = 20\n",
    "stock_list = ['sh.600227', 'sh.600200', 'sh.600201']\n",
    "train_dic_list = []\n",
    "test_dic_list = []\n",
    "lg = bs.login()\n",
    "\n",
    "for stock_id in stock_list:\n",
    "    df = get_stockdata(stock_id)\n",
    "    train_dic = {'start':df.date[0],\n",
    "                 'target':df.close,\n",
    "                 'cat':int(stock_id.split('.')[1]),\n",
    "                 'dynamic_feat':[df.volume, df.turn]}\n",
    "    \n",
    "    test_dic = {'start':df.date[0],\n",
    "                'target':df.close[:-prediction_length],\n",
    "                'cat':int(stock_id.split('.')[1]),\n",
    "                'dynamic_feat':[df.volume[:-prediction_length], df.turn[:-prediction_length]]}\n",
    "    train_dic_list.append(train_dic)\n",
    "    test_dic_list.append(test_dic)\n",
    "\n",
    "bs.logout()"
   ]
  },
  {
   "cell_type": "code",
   "execution_count": 8,
   "metadata": {},
   "outputs": [
    {
     "data": {
      "text/plain": [
       "[0       8267069\n",
       " 1      42399330\n",
       " 2      41427418\n",
       " 3      23965472\n",
       " 4      20859994\n",
       "          ...   \n",
       " 481    27560861\n",
       " 482    19039600\n",
       " 483    50192183\n",
       " 484    29448496\n",
       " 485    32671104\n",
       " Name: volume, Length: 486, dtype: object,\n",
       " 0      0.646800\n",
       " 1      3.317200\n",
       " 2      3.241100\n",
       " 3      1.875000\n",
       " 4      1.632000\n",
       "          ...   \n",
       " 481    2.156300\n",
       " 482    1.489600\n",
       " 483    3.926800\n",
       " 484    2.303900\n",
       " 485    2.556100\n",
       " Name: turn, Length: 486, dtype: object]"
      ]
     },
     "execution_count": 8,
     "metadata": {},
     "output_type": "execute_result"
    }
   ],
   "source": [
    "train_dic_list[0]['dynamic_feat']"
   ]
  },
  {
   "cell_type": "code",
   "execution_count": 9,
   "metadata": {},
   "outputs": [
    {
     "ename": "NameError",
     "evalue": "name 'DeepAREstimator' is not defined",
     "output_type": "error",
     "traceback": [
      "\u001b[1;31m---------------------------------------------------------------------------\u001b[0m",
      "\u001b[1;31mNameError\u001b[0m                                 Traceback (most recent call last)",
      "Cell \u001b[1;32mIn[9], line 1\u001b[0m\n\u001b[1;32m----> 1\u001b[0m estimator \u001b[39m=\u001b[39m DeepAREstimator(\n\u001b[0;32m      2\u001b[0m     prediction_length\u001b[39m=\u001b[39mprediction_length,\n\u001b[0;32m      3\u001b[0m     context_length\u001b[39m=\u001b[39m\u001b[39m60\u001b[39m,\n\u001b[0;32m      4\u001b[0m     freq\u001b[39m=\u001b[39m\u001b[39m'\u001b[39m\u001b[39m1d\u001b[39m\u001b[39m'\u001b[39m,\n\u001b[0;32m      5\u001b[0m     num_layers\u001b[39m=\u001b[39m\u001b[39m2\u001b[39m,\n\u001b[0;32m      6\u001b[0m     num_cells\u001b[39m=\u001b[39m\u001b[39m64\u001b[39m,\n\u001b[0;32m      7\u001b[0m     trainer\u001b[39m=\u001b[39mTrainer(epochs\u001b[39m=\u001b[39m\u001b[39m20\u001b[39m,\n\u001b[0;32m      8\u001b[0m                     learning_rate\u001b[39m=\u001b[39m\u001b[39m1e-2\u001b[39m,\n\u001b[0;32m      9\u001b[0m                     num_batches_per_epoch\u001b[39m=\u001b[39m\u001b[39m32\u001b[39m)\n\u001b[0;32m     10\u001b[0m )\n\u001b[0;32m     11\u001b[0m predictor \u001b[39m=\u001b[39m estimator\u001b[39m.\u001b[39mtrain(train_data)\n",
      "\u001b[1;31mNameError\u001b[0m: name 'DeepAREstimator' is not defined"
     ]
    }
   ],
   "source": [
    "estimator = DeepAREstimator(\n",
    "    prediction_length=prediction_length,\n",
    "    context_length=60,\n",
    "    freq='1d',\n",
    "    num_layers=2,\n",
    "    num_cells=64,\n",
    "    trainer=Trainer(epochs=20,\n",
    "                    learning_rate=1e-2,\n",
    "                    num_batches_per_epoch=32)\n",
    ")\n",
    "predictor = estimator.train(train_data)"
   ]
  },
  {
   "cell_type": "code",
   "execution_count": null,
   "metadata": {},
   "outputs": [],
   "source": []
  }
 ],
 "metadata": {
  "kernelspec": {
   "display_name": "py38",
   "language": "python",
   "name": "python3"
  },
  "language_info": {
   "codemirror_mode": {
    "name": "ipython",
    "version": 3
   },
   "file_extension": ".py",
   "mimetype": "text/x-python",
   "name": "python",
   "nbconvert_exporter": "python",
   "pygments_lexer": "ipython3",
   "version": "3.8.13"
  },
  "orig_nbformat": 4,
  "vscode": {
   "interpreter": {
    "hash": "fe22768e9524fdef0bd7ed00acfac1a320cf250cfc5d425f429f4b9beb1077b3"
   }
  }
 },
 "nbformat": 4,
 "nbformat_minor": 2
}
