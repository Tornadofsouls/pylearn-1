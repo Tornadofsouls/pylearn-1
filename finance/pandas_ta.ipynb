{
 "cells": [
  {
   "attachments": {},
   "cell_type": "markdown",
   "metadata": {},
   "source": [
    "# what is pandas_ta\n",
    "\n",
    "* provides you with a simplified API that lets you extract technical analysis indicators from a time series.\n",
    "* Has 130+ indicators and utility functions.\n",
    "* \n",
    "\n",
    "# pandas_ta tutorials\n",
    "\n",
    "* docs of indicator types: https://technical-analysis-library-in-python.readthedocs.io/en/latest/ta.html#momentum-indicators\n",
    "  * Momentum Indicators\n",
    "  * Volume Indicators\n",
    "  * Trend Indicators\n",
    "  * Other Indicators\n",
    "* \n",
    "\n",
    "\n",
    "# concepts\n",
    "\n",
    "## Pandas TA Strategy\n",
    "\n",
    "* A Pandas TA Strategy is a named group of indicators to be run by the strategy method. All Strategies use mulitprocessing except when using the col_names parameter. 非交易策略，只是Indicators 集合而已。\n",
    "* "
   ]
  },
  {
   "cell_type": "markdown",
   "metadata": {},
   "source": []
  }
 ],
 "metadata": {
  "language_info": {
   "name": "python"
  },
  "orig_nbformat": 4
 },
 "nbformat": 4,
 "nbformat_minor": 2
}
