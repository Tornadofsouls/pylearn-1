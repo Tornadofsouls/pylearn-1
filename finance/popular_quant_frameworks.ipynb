{
 "cells": [
  {
   "attachments": {},
   "cell_type": "markdown",
   "metadata": {},
   "source": [
    "比较不同量化框架得优缺点。\n",
    "\n",
    "# vnpy\n",
    "\n",
    "# backtrader 5 星\n",
    "* 官方中文文档： https://www.heywhale.com/mw/project/63857587d0329ee911dcd7f2\n",
    "* meta_class 使用太多，个人不是很喜欢，跟踪代码费脑。\n",
    "\n",
    "# vectorbt\n",
    "\n",
    "# qstock （数据获取方面 5星）\n",
    "* \n",
    "\n",
    "# RQAlpha 米筐量化\n",
    "\n",
    "# zvt\n",
    "## 介绍\n",
    "* ZVT是在fooltrader的基础上重新思考后编写的量化项目，其包含可扩展的数据recorder，api，因子计算，选股，回测，交易,以及统一的可视化，定位为中低频 多级别 多因子 多标的 全市场分析和交易框架。\n",
    "* 相比其他的量化系统，其不依赖任何中间件，非常轻，可测试，可推断，可扩展。\n",
    "* 支持多标的,多因子,多级别的回测方式\n",
    "* 支持多种实盘交易(实现中)\n",
    "* 支持 Stream computing 便于实盘交易。-- https://zvt.readthedocs.io/en/latest/factor/extending_factor/\n",
    "\n",
    "## 安装相关\n",
    "* https://github.com/zvtvz/zvt\n",
    "* pip install flask==2.1.3\n",
    "* pip install Werkzeug==2.0.0\n",
    "* \n",
    "# fooltrader\n",
    "* zvt 前身\n",
    "* \n",
    "\n",
    "# pyalgotrade\n",
    "* 4 星\n",
    "* https://github.com/gbeced/pyalgotrade\n",
    "* 实盘： bitcoin"
   ]
  },
  {
   "cell_type": "code",
   "execution_count": 8,
   "metadata": {},
   "outputs": [
    {
     "name": "stdout",
     "output_type": "stream",
     "text": [
      "Failed to get ticker 'BTC-USD' reason: Expecting value: line 1 column 1 (char 0)\n",
      "- BTC-USD: No timezone found, symbol may be delisted\n"
     ]
    },
    {
     "data": {
      "text/plain": [
       "0.0"
      ]
     },
     "execution_count": 8,
     "metadata": {},
     "output_type": "execute_result"
    }
   ],
   "source": [
    "import vectorbt as vbt\n",
    "\n",
    "price = vbt.YFData.download('BTC-USD').get('Close')\n",
    "# price = vbt.YFData.download('BTC-USD')\n",
    "\n",
    "pf = vbt.Portfolio.from_holding(price, init_cash=100)\n",
    "pf.total_profit()"
   ]
  },
  {
   "cell_type": "code",
   "execution_count": 7,
   "metadata": {},
   "outputs": [
    {
     "data": {
      "text/plain": [
       "<vectorbt.data.custom.YFData at 0x2a5ad610a00>"
      ]
     },
     "execution_count": 7,
     "metadata": {},
     "output_type": "execute_result"
    }
   ],
   "source": [
    "price"
   ]
  },
  {
   "cell_type": "code",
   "execution_count": null,
   "metadata": {},
   "outputs": [],
   "source": []
  }
 ],
 "metadata": {
  "kernelspec": {
   "display_name": "py38",
   "language": "python",
   "name": "python3"
  },
  "language_info": {
   "codemirror_mode": {
    "name": "ipython",
    "version": 3
   },
   "file_extension": ".py",
   "mimetype": "text/x-python",
   "name": "python",
   "nbconvert_exporter": "python",
   "pygments_lexer": "ipython3",
   "version": "3.8.13"
  },
  "orig_nbformat": 4,
  "vscode": {
   "interpreter": {
    "hash": "fe22768e9524fdef0bd7ed00acfac1a320cf250cfc5d425f429f4b9beb1077b3"
   }
  }
 },
 "nbformat": 4,
 "nbformat_minor": 2
}
