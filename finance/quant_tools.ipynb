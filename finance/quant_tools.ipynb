{
 "cells": [
  {
   "attachments": {},
   "cell_type": "markdown",
   "metadata": {},
   "source": [
    "# feature mining\n",
    "\n",
    "## OpenFE\n",
    "* https://github.com/IIIS-Li-Group/OpenFE\n",
    "* OpenFE: automated feature generation with expert-level performance\n",
    "* OpenFE is a new framework for automated feature generation for tabular data.\n",
    "\n",
    "## Stock-Prediction-Models\n",
    "* https://github.com/huseinzol05/Stock-Prediction-Models\n",
    "* Gathers machine learning and deep learning models for Stock forecasting including trading bots and simulations"
   ]
  }
 ],
 "metadata": {
  "language_info": {
   "name": "python"
  },
  "orig_nbformat": 4
 },
 "nbformat": 4,
 "nbformat_minor": 2
}
