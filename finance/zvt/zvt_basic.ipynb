{
 "cells": [
  {
   "attachments": {},
   "cell_type": "markdown",
   "metadata": {},
   "source": [
    "# why zvt\n",
    "\n",
    "# tutorial\n",
    "\n",
    "* [official english version](https://zvt.readthedocs.io/en/latest)"
   ]
  },
  {
   "cell_type": "code",
   "execution_count": 1,
   "metadata": {},
   "outputs": [
    {
     "name": "stderr",
     "output_type": "stream",
     "text": [
      "2023-02-19 16:29:30,596  INFO  MainThread  init config for zvt, current_config:{}\n",
      "2023-02-19 16:29:30,599  INFO  MainThread  current_config:{'jq_username': '17187186168', 'jq_password': '810716Ye'}\n"
     ]
    },
    {
     "name": "stdout",
     "output_type": "stream",
     "text": [
      "{'data_path': 'C:\\\\Users\\\\73915\\\\zvt-home\\\\data',\n",
      " 'log_path': 'C:\\\\Users\\\\73915\\\\zvt-home\\\\logs',\n",
      " 'tmp_path': 'C:\\\\Users\\\\73915\\\\zvt-home\\\\tmp',\n",
      " 'ui_path': 'C:\\\\Users\\\\73915\\\\zvt-home\\\\ui',\n",
      " 'zvt_home': 'C:\\\\Users\\\\73915\\\\zvt-home'}\n",
      "{'jq_password': '810716Ye', 'jq_username': '17187186168'}\n",
      "JoinquantIndexMoneyFlowRecorder:IndexMoneyFlow\n",
      "{'password': '', 'token': 'error: mob/pwd不能为空', 'username': ''}\n",
      "JoinquantStockMoneyFlowRecorder:StockMoneyFlow\n",
      "JoinquantHkHolderRecorder:HkHolder\n",
      "JqChinaIndexKdataRecorder:IndexKdataCommon\n",
      "JqChinaStockKdataRecorder:StockKdataCommon\n",
      "JqChinaStockRecorder:Stock\n",
      "JqChinaEtfRecorder:Etf\n",
      "JqChinaStockEtfPortfolioRecorder:EtfStock\n",
      "JqChinaFundRecorder:Fund\n",
      "JqChinaFundStockRecorder:FundStock\n",
      "StockTradeDayRecorder:StockTradeDay\n",
      "MarginTradingRecorder:MarginTrading\n",
      "JqChinaStockValuationRecorder:StockValuation\n",
      "JqChinaEtfValuationRecorder:EtfValuation\n",
      "MarginTradingSummaryRecorder:MarginTradingSummary\n",
      "StockSummaryRecorder:StockSummary\n",
      "CrossMarketSummaryRecorder:CrossMarketSummary\n",
      "ExchangeIndexRecorder:Index\n",
      "ExchangeIndexStockRecorder:IndexStock\n",
      "ChinaETFListSpider:EtfStock\n",
      "ExchangeStockMetaRecorder:Stock\n",
      "ExchangeStockSummaryRecorder:StockSummary\n",
      "EMStockKdataRecorder:StockKdataCommon\n",
      "EMStockusKdataRecorder:StockusKdataCommon\n",
      "EMStockhkKdataRecorder:StockhkKdataCommon\n",
      "EMIndexKdataRecorder:IndexKdataCommon\n",
      "EMIndexusKdataRecorder:IndexusKdataCommon\n",
      "EMBlockKdataRecorder:BlockKdataCommon\n",
      "EMFutureKdataRecorder:FutureKdataCommon\n",
      "EMCurrencyKdataRecorder:CurrencyKdataCommon\n",
      "EMIndexRecorder:Index\n",
      "EMStockusRecorder:Stockus\n",
      "EMCurrencyRecorder:Currency\n",
      "EMStockhkRecorder:Stockhk\n",
      "EMBlockRecorder:Block\n",
      "EMFutureRecorder:Future\n",
      "EMIndexusRecorder:Indexus\n",
      "EMStockRecorder:Stock\n",
      "EMTreasuryYieldRecorder:TreasuryYield\n",
      "EMStockNewsRecorder:StockNews\n",
      "EMDragonAndTigerRecorder:DragonAndTiger\n",
      "EMStockTopTenFreeRecorder:StockTopTenFreeHolder\n",
      "EMStockActorSummaryRecorder:StockActorSummary\n",
      "EMStockTopTenRecorder:StockTopTenHolder\n",
      "EMStockIIRecorder:StockInstitutionalInvestorHolder\n",
      "WBCountryRecorder:Country\n",
      "WBEconomyRecorder:Economy\n",
      "JqkaLimitUpRecorder:LimitUpInfo\n",
      "JqkaLimitDownRecorder:LimitDownInfo\n",
      "JqkaEmotionRecorder:Emotion\n",
      "EastmoneyBlockRecorder:Block\n",
      "EastmoneyBlockStockRecorder:BlockStock\n",
      "EastmoneyStockRecorder:Stock\n",
      "EastmoneyStockDetailRecorder:StockDetail\n",
      "TopTenHolderRecorder:TopTenHolder\n",
      "TopTenTradableHolderRecorder:TopTenTradableHolder\n",
      "EastmoneyActorRecorder:ActorMeta\n",
      "ChinaStockFinanceFactorRecorder:FinanceFactor\n",
      "ChinaStockIncomeStatementRecorder:IncomeStatement\n",
      "ChinaStockBalanceSheetRecorder:BalanceSheet\n",
      "ChinaStockCashFlowRecorder:CashFlowStatement\n",
      "DividendDetailRecorder:DividendDetail\n",
      "DividendFinancingRecorder:DividendFinancing\n",
      "RightsIssueDetailRecorder:RightsIssueDetail\n",
      "SPODetailRecorder:SpoDetail\n",
      "ManagerTradingRecorder:ManagerTrading\n",
      "HolderTradingRecorder:HolderTrading\n",
      "ChinaETFDayKdataRecorder:Etf1dKdata\n",
      "ChinaIndexDayKdataRecorder:Index1dKdata\n",
      "SinaBlockMoneyFlowRecorder:BlockMoneyFlow\n",
      "SinaStockMoneyFlowRecorder:StockMoneyFlow\n",
      "SinaBlockRecorder:Block\n",
      "SinaChinaBlockStockRecorder:BlockStock\n",
      "Stock registered recorders:{'joinquant': <class 'zvt.recorders.joinquant.meta.jq_stock_meta_recorder.JqChinaStockRecorder'>, 'exchange': <class 'zvt.recorders.exchange.exchange_stock_meta_recorder.ExchangeStockMetaRecorder'>, 'em': <class 'zvt.recorders.em.meta.em_stock_meta_recorder.EMStockRecorder'>, 'eastmoney': <class 'zvt.recorders.eastmoney.meta.eastmoney_stock_meta_recorder.EastmoneyStockRecorder'>}\n"
     ]
    },
    {
     "name": "stderr",
     "output_type": "stream",
     "text": [
      "b'Skipping line 242: expected 5 fields, saw 7\\n'\n",
      "2023-02-19 16:29:33,180  INFO  MainThread          code  name  list_date exchange entity_type               id        entity_id  timestamp\n",
      "1640  605580  恒盛能源 2021-08-19       sh       stock  stock_sh_605580  stock_sh_605580 2021-08-19\n",
      "1641  605588  冠石科技 2021-08-12       sh       stock  stock_sh_605588  stock_sh_605588 2021-08-12\n",
      "1642  605589  圣泉集团 2021-08-10       sh       stock  stock_sh_605589  stock_sh_605589 2021-08-10\n",
      "1643  605598  上海港湾 2021-09-17       sh       stock  stock_sh_605598  stock_sh_605598 2021-09-17\n",
      "1644  605599  菜百股份 2021-09-09       sh       stock  stock_sh_605599  stock_sh_605599 2021-09-09\n",
      "2023-02-19 16:29:33,190  INFO  MainThread  persist stock list successs\n"
     ]
    },
    {
     "name": "stdout",
     "output_type": "stream",
     "text": [
      "Empty DataFrame\n",
      "Columns: [code, name, list_date]\n",
      "Index: []\n"
     ]
    },
    {
     "name": "stderr",
     "output_type": "stream",
     "text": [
      "2023-02-19 16:29:33,358  INFO  MainThread         code  name  list_date exchange entity_type               id        entity_id  timestamp\n",
      "402  688799  华纳药厂 2021-07-13       sh       stock  stock_sh_688799  stock_sh_688799 2021-07-13\n",
      "403  688800   瑞可达 2021-07-22       sh       stock  stock_sh_688800  stock_sh_688800 2021-07-22\n",
      "404  688819  天能股份 2021-01-18       sh       stock  stock_sh_688819  stock_sh_688819 2021-01-18\n",
      "405  688981  中芯国际 2020-07-16       sh       stock  stock_sh_688981  stock_sh_688981 2020-07-16\n",
      "406  689009  九号公司 2020-10-29       sh       stock  stock_sh_689009  stock_sh_689009 2020-10-29\n",
      "2023-02-19 16:29:33,370  INFO  MainThread  persist stock list successs\n"
     ]
    },
    {
     "name": "stdout",
     "output_type": "stream",
     "text": [
      "Empty DataFrame\n",
      "Columns: [code, name, list_date]\n",
      "Index: []\n",
      "Empty DataFrame\n",
      "Columns: [code, name, list_date]\n",
      "Index: []\n"
     ]
    },
    {
     "name": "stderr",
     "output_type": "stream",
     "text": [
      "2023-02-19 16:29:35,054  INFO  MainThread          code  name  list_date exchange entity_type               id        entity_id  timestamp\n",
      "2738  301389  隆扬电子 2022-10-31       sz       stock  stock_sz_301389  stock_sz_301389 2022-10-31\n",
      "2739  301391   卡莱特 2022-12-01       sz       stock  stock_sz_301391  stock_sz_301391 2022-12-01\n",
      "2740  301396  宏景科技 2022-11-11       sz       stock  stock_sz_301396  stock_sz_301396 2022-11-11\n",
      "2741  301398  星源卓镁 2022-12-15       sz       stock  stock_sz_301398  stock_sz_301398 2022-12-15\n",
      "2742  301419   阿莱德 2023-02-09       sz       stock  stock_sz_301419  stock_sz_301419 2023-02-09\n",
      "2023-02-19 16:29:35,065  INFO  MainThread  persist stock list successs\n"
     ]
    }
   ],
   "source": [
    "from zvt.domain import Stock\n",
    "import os\n",
    "# os.environ[\"TESTING_ZVT\"] = \"1\"\n",
    "os.environ['ZVT_HOME'] = \"D:/dataset/quant/zvt/\"\n",
    "\n",
    "Stock.record_data()\n",
    "# df = Stock.query_data()\n",
    "# print(df)"
   ]
  },
  {
   "cell_type": "code",
   "execution_count": 22,
   "metadata": {},
   "outputs": [
    {
     "data": {
      "text/html": [
       "<div>\n",
       "<style scoped>\n",
       "    .dataframe tbody tr th:only-of-type {\n",
       "        vertical-align: middle;\n",
       "    }\n",
       "\n",
       "    .dataframe tbody tr th {\n",
       "        vertical-align: top;\n",
       "    }\n",
       "\n",
       "    .dataframe thead th {\n",
       "        text-align: right;\n",
       "    }\n",
       "</style>\n",
       "<table border=\"1\" class=\"dataframe\">\n",
       "  <thead>\n",
       "    <tr style=\"text-align: right;\">\n",
       "      <th></th>\n",
       "      <th>id</th>\n",
       "      <th>entity_id</th>\n",
       "      <th>timestamp</th>\n",
       "      <th>provider</th>\n",
       "      <th>code</th>\n",
       "      <th>name</th>\n",
       "      <th>level</th>\n",
       "      <th>open</th>\n",
       "      <th>close</th>\n",
       "      <th>high</th>\n",
       "      <th>low</th>\n",
       "      <th>volume</th>\n",
       "      <th>turnover</th>\n",
       "      <th>change_pct</th>\n",
       "      <th>turnover_rate</th>\n",
       "    </tr>\n",
       "    <tr>\n",
       "      <th>timestamp</th>\n",
       "      <th></th>\n",
       "      <th></th>\n",
       "      <th></th>\n",
       "      <th></th>\n",
       "      <th></th>\n",
       "      <th></th>\n",
       "      <th></th>\n",
       "      <th></th>\n",
       "      <th></th>\n",
       "      <th></th>\n",
       "      <th></th>\n",
       "      <th></th>\n",
       "      <th></th>\n",
       "      <th></th>\n",
       "      <th></th>\n",
       "    </tr>\n",
       "  </thead>\n",
       "  <tbody>\n",
       "    <tr>\n",
       "      <th>2019-08-12</th>\n",
       "      <td>stock_sz_000338_2019-08-12</td>\n",
       "      <td>stock_sz_000338</td>\n",
       "      <td>2019-08-12</td>\n",
       "      <td>joinquant</td>\n",
       "      <td>000338</td>\n",
       "      <td>潍柴动力</td>\n",
       "      <td>1d</td>\n",
       "      <td>11.10</td>\n",
       "      <td>11.35</td>\n",
       "      <td>11.36</td>\n",
       "      <td>11.08</td>\n",
       "      <td>26032422.0</td>\n",
       "      <td>2.924098e+08</td>\n",
       "      <td>NaN</td>\n",
       "      <td>NaN</td>\n",
       "    </tr>\n",
       "    <tr>\n",
       "      <th>2019-08-13</th>\n",
       "      <td>stock_sz_000338_2019-08-13</td>\n",
       "      <td>stock_sz_000338</td>\n",
       "      <td>2019-08-13</td>\n",
       "      <td>joinquant</td>\n",
       "      <td>000338</td>\n",
       "      <td>潍柴动力</td>\n",
       "      <td>1d</td>\n",
       "      <td>11.20</td>\n",
       "      <td>11.09</td>\n",
       "      <td>11.25</td>\n",
       "      <td>11.05</td>\n",
       "      <td>15991099.0</td>\n",
       "      <td>1.784112e+08</td>\n",
       "      <td>NaN</td>\n",
       "      <td>NaN</td>\n",
       "    </tr>\n",
       "    <tr>\n",
       "      <th>2019-08-14</th>\n",
       "      <td>stock_sz_000338_2019-08-14</td>\n",
       "      <td>stock_sz_000338</td>\n",
       "      <td>2019-08-14</td>\n",
       "      <td>joinquant</td>\n",
       "      <td>000338</td>\n",
       "      <td>潍柴动力</td>\n",
       "      <td>1d</td>\n",
       "      <td>11.20</td>\n",
       "      <td>11.05</td>\n",
       "      <td>11.27</td>\n",
       "      <td>11.03</td>\n",
       "      <td>21331077.0</td>\n",
       "      <td>2.377563e+08</td>\n",
       "      <td>NaN</td>\n",
       "      <td>NaN</td>\n",
       "    </tr>\n",
       "    <tr>\n",
       "      <th>2019-08-15</th>\n",
       "      <td>stock_sz_000338_2019-08-15</td>\n",
       "      <td>stock_sz_000338</td>\n",
       "      <td>2019-08-15</td>\n",
       "      <td>joinquant</td>\n",
       "      <td>000338</td>\n",
       "      <td>潍柴动力</td>\n",
       "      <td>1d</td>\n",
       "      <td>10.70</td>\n",
       "      <td>10.88</td>\n",
       "      <td>10.89</td>\n",
       "      <td>10.65</td>\n",
       "      <td>42381782.0</td>\n",
       "      <td>4.564520e+08</td>\n",
       "      <td>NaN</td>\n",
       "      <td>NaN</td>\n",
       "    </tr>\n",
       "    <tr>\n",
       "      <th>2019-08-16</th>\n",
       "      <td>stock_sz_000338_2019-08-16</td>\n",
       "      <td>stock_sz_000338</td>\n",
       "      <td>2019-08-16</td>\n",
       "      <td>joinquant</td>\n",
       "      <td>000338</td>\n",
       "      <td>潍柴动力</td>\n",
       "      <td>1d</td>\n",
       "      <td>10.86</td>\n",
       "      <td>10.95</td>\n",
       "      <td>11.10</td>\n",
       "      <td>10.82</td>\n",
       "      <td>34777347.0</td>\n",
       "      <td>3.829879e+08</td>\n",
       "      <td>NaN</td>\n",
       "      <td>NaN</td>\n",
       "    </tr>\n",
       "  </tbody>\n",
       "</table>\n",
       "</div>"
      ],
      "text/plain": [
       "                                    id        entity_id  timestamp   provider    code  name level   open  close   high    low      volume      turnover  change_pct  turnover_rate\n",
       "timestamp                                                                                                                                                                         \n",
       "2019-08-12  stock_sz_000338_2019-08-12  stock_sz_000338 2019-08-12  joinquant  000338  潍柴动力    1d  11.10  11.35  11.36  11.08  26032422.0  2.924098e+08         NaN            NaN\n",
       "2019-08-13  stock_sz_000338_2019-08-13  stock_sz_000338 2019-08-13  joinquant  000338  潍柴动力    1d  11.20  11.09  11.25  11.05  15991099.0  1.784112e+08         NaN            NaN\n",
       "2019-08-14  stock_sz_000338_2019-08-14  stock_sz_000338 2019-08-14  joinquant  000338  潍柴动力    1d  11.20  11.05  11.27  11.03  21331077.0  2.377563e+08         NaN            NaN\n",
       "2019-08-15  stock_sz_000338_2019-08-15  stock_sz_000338 2019-08-15  joinquant  000338  潍柴动力    1d  10.70  10.88  10.89  10.65  42381782.0  4.564520e+08         NaN            NaN\n",
       "2019-08-16  stock_sz_000338_2019-08-16  stock_sz_000338 2019-08-16  joinquant  000338  潍柴动力    1d  10.86  10.95  11.10  10.82  34777347.0  3.829879e+08         NaN            NaN"
      ]
     },
     "execution_count": 22,
     "metadata": {},
     "output_type": "execute_result"
    }
   ],
   "source": [
    "from zvt.api import get_kdata\n",
    "from zvt.domain.fundamental.finance import FinanceFactor\n",
    "# from zvt.api import FinanceFactor\n",
    "\n",
    "# FinanceFactor.record_data(codes=['000338'], provider='joinquant')\n",
    "# FinanceFactor.provider_map_recorder\n",
    "from zvt.domain import *\n",
    "\n",
    "# Stock.record_data(provider='eastmoney')\n",
    "\n",
    "df= get_kdata(entity_id='stock_sz_000338',provider='joinquant')\n",
    "df.tail()\n",
    "\n"
   ]
  },
  {
   "cell_type": "code",
   "execution_count": 25,
   "metadata": {},
   "outputs": [
    {
     "data": {
      "text/plain": [
       "{'stockus': zvt.domain.meta.stockus_meta.Stockus,\n",
       " 'stockhk': zvt.domain.meta.stockhk_meta.Stockhk,\n",
       " 'indexus': zvt.domain.meta.indexus_meta.Indexus,\n",
       " 'country': zvt.domain.meta.country_meta.Country,\n",
       " 'index': zvt.domain.meta.index_meta.Index,\n",
       " 'future': zvt.domain.meta.future_meta.Future,\n",
       " 'etf': zvt.domain.meta.etf_meta.Etf,\n",
       " 'currency': zvt.domain.meta.currency_meta.Currency,\n",
       " 'stock': zvt.domain.meta.stock_meta.Stock,\n",
       " 'block': zvt.domain.meta.block_meta.Block,\n",
       " 'fund': zvt.domain.meta.fund_meta.Fund}"
      ]
     },
     "execution_count": 25,
     "metadata": {},
     "output_type": "execute_result"
    }
   ],
   "source": [
    "from zvt.contract import zvt_context\n",
    "zvt_context.tradable_schema_map\n",
    "\n"
   ]
  },
  {
   "cell_type": "code",
   "execution_count": 3,
   "metadata": {},
   "outputs": [
    {
     "data": {
      "text/plain": [
       "{'stockus': zvt.domain.meta.stockus_meta.Stockus,\n",
       " 'stockhk': zvt.domain.meta.stockhk_meta.Stockhk,\n",
       " 'indexus': zvt.domain.meta.indexus_meta.Indexus,\n",
       " 'country': zvt.domain.meta.country_meta.Country,\n",
       " 'index': zvt.domain.meta.index_meta.Index,\n",
       " 'future': zvt.domain.meta.future_meta.Future,\n",
       " 'etf': zvt.domain.meta.etf_meta.Etf,\n",
       " 'currency': zvt.domain.meta.currency_meta.Currency,\n",
       " 'stock': zvt.domain.meta.stock_meta.Stock,\n",
       " 'block': zvt.domain.meta.block_meta.Block,\n",
       " 'fund': zvt.domain.meta.fund_meta.Fund}"
      ]
     },
     "execution_count": 3,
     "metadata": {},
     "output_type": "execute_result"
    }
   ],
   "source": [
    "# \n",
    "\n",
    "from zvt.contract import zvt_context\n",
    "zvt_context.tradable_schema_map"
   ]
  },
  {
   "cell_type": "code",
   "execution_count": 4,
   "metadata": {},
   "outputs": [
    {
     "name": "stdout",
     "output_type": "stream",
     "text": [
      "Stockhk registered recorders:{'em': <class 'zvt.recorders.em.meta.em_stockhk_meta_recorder.EMStockhkRecorder'>}\n",
      "                     id         entity_id timestamp entity_type exchange   code    name list_date end_date  south\n",
      "code                                                                                                             \n",
      "00001  stockhk_hk_00001  stockhk_hk_00001       NaT     stockhk       hk  00001      长和      None     None   True\n",
      "00002  stockhk_hk_00002  stockhk_hk_00002       NaT     stockhk       hk  00002    中电控股      None     None   True\n",
      "00003  stockhk_hk_00003  stockhk_hk_00003       NaT     stockhk       hk  00003  香港中华煤气      None     None   True\n",
      "00004  stockhk_hk_00004  stockhk_hk_00004       NaT     stockhk       hk  00004   九龙仓集团      None     None   True\n",
      "00005  stockhk_hk_00005  stockhk_hk_00005       NaT     stockhk       hk  00005    汇丰控股      None     None   True\n",
      "...                 ...               ...       ...         ...      ...    ...     ...       ...      ...    ...\n",
      "09996  stockhk_hk_09996  stockhk_hk_09996       NaT     stockhk       hk  09996  沛嘉医疗-B      None     None   True\n",
      "09997  stockhk_hk_09997  stockhk_hk_09997       NaT     stockhk       hk  09997    康基医疗      None     None   True\n",
      "09998  stockhk_hk_09998  stockhk_hk_09998       NaT     stockhk       hk  09998    光荣控股      None     None  False\n",
      "09999  stockhk_hk_09999  stockhk_hk_09999       NaT     stockhk       hk  09999    网易-S      None     None  False\n",
      "80737  stockhk_hk_80737  stockhk_hk_80737       NaT     stockhk       hk  80737  湾区发展-R      None     None  False\n",
      "\n",
      "[2620 rows x 10 columns]\n"
     ]
    }
   ],
   "source": [
    "from zvt.domain import Stockhk\n",
    "Stockhk.record_data()\n",
    "df = Stockhk.query_data(index='code')\n",
    "print(df)"
   ]
  },
  {
   "cell_type": "code",
   "execution_count": 5,
   "metadata": {},
   "outputs": [
    {
     "name": "stdout",
     "output_type": "stream",
     "text": [
      "StockInstitutionalInvestorHolder registered recorders:{'em': <class 'zvt.recorders.em.actor.em_stock_ii_recorder.EMStockIIRecorder'>}\n",
      "Empty DataFrame\n",
      "Columns: [id, entity_id, timestamp, code, name, actor_id, actor_type, actor_code, actor_name, report_period, report_date, holding_numbers, holding_ratio, holding_values]\n",
      "Index: []\n"
     ]
    }
   ],
   "source": [
    "from zvt.domain import StockInstitutionalInvestorHolder\n",
    "entity_ids = [\"stock_sz_000338\", \"stock_sz_000001\"]\n",
    "StockInstitutionalInvestorHolder.record_data(entity_ids=entity_ids)\n",
    "df = StockInstitutionalInvestorHolder.query_data(entity_ids=entity_ids, provider='em')\n",
    "print(df)"
   ]
  },
  {
   "cell_type": "code",
   "execution_count": 6,
   "metadata": {},
   "outputs": [
    {
     "ename": "ImportError",
     "evalue": "cannot import name 'get_finance_factor' from 'zvt.api' (c:\\Users\\73915\\.conda\\envs\\py38\\lib\\site-packages\\zvt\\api\\__init__.py)",
     "output_type": "error",
     "traceback": [
      "\u001b[1;31m---------------------------------------------------------------------------\u001b[0m",
      "\u001b[1;31mImportError\u001b[0m                               Traceback (most recent call last)",
      "Cell \u001b[1;32mIn[6], line 1\u001b[0m\n\u001b[1;32m----> 1\u001b[0m \u001b[39mfrom\u001b[39;00m \u001b[39mzvt\u001b[39;00m\u001b[39m.\u001b[39;00m\u001b[39mapi\u001b[39;00m \u001b[39mimport\u001b[39;00m get_kdata, get_finance_factor\n\u001b[0;32m      2\u001b[0m \u001b[39mfrom\u001b[39;00m \u001b[39mzvt\u001b[39;00m\u001b[39m.\u001b[39;00m\u001b[39mapi\u001b[39;00m \u001b[39mimport\u001b[39;00m FinanceFactor\n\u001b[0;32m      4\u001b[0m df \u001b[39m=\u001b[39m get_kdata(entity_id\u001b[39m=\u001b[39m\u001b[39m'\u001b[39m\u001b[39mstock_sz_000338\u001b[39m\u001b[39m'\u001b[39m, provider\u001b[39m=\u001b[39m\u001b[39m'\u001b[39m\u001b[39mem\u001b[39m\u001b[39m'\u001b[39m)\n",
      "\u001b[1;31mImportError\u001b[0m: cannot import name 'get_finance_factor' from 'zvt.api' (c:\\Users\\73915\\.conda\\envs\\py38\\lib\\site-packages\\zvt\\api\\__init__.py)"
     ]
    }
   ],
   "source": [
    "from zvt.api import get_kdata, get_finance_factor\n",
    "from zvt.api import FinanceFactor\n",
    "\n",
    "df = get_kdata(entity_id='stock_sz_000338', provider='em')\n",
    "get_finance_factor(entity_id='stock_sz_000338',columns=FinanceFactor.important_cols())"
   ]
  },
  {
   "cell_type": "code",
   "execution_count": 7,
   "metadata": {},
   "outputs": [
    {
     "name": "stdout",
     "output_type": "stream",
     "text": [
      "Stock1dHfqKdata registered recorders:{'joinquant': <class 'zvt.recorders.joinquant.quotes.jq_stock_kdata_recorder.JqChinaStockKdataRecorder'>, 'em': <class 'zvt.recorders.em.quotes.em_kdata_recorder.EMStockKdataRecorder'>}\n",
      "Empty DataFrame\n",
      "Columns: [id, entity_id, timestamp, provider, code, name, level, open, close, high, low, volume, turnover, change_pct, turnover_rate]\n",
      "Index: []\n"
     ]
    }
   ],
   "source": [
    "from zvt.domain import *\n",
    "entity_ids = [\"stock_sz_000338\", \"stock_sz_000001\"]\n",
    "Stock1dHfqKdata.record_data(entity_ids=entity_ids, provider=\"em\")\n",
    "df = Stock1dHfqKdata.query_data(entity_ids=entity_ids, provider=\"em\")\n",
    "print(df)"
   ]
  },
  {
   "cell_type": "markdown",
   "metadata": {},
   "source": []
  }
 ],
 "metadata": {
  "kernelspec": {
   "display_name": "py38",
   "language": "python",
   "name": "python3"
  },
  "language_info": {
   "codemirror_mode": {
    "name": "ipython",
    "version": 3
   },
   "file_extension": ".py",
   "mimetype": "text/x-python",
   "name": "python",
   "nbconvert_exporter": "python",
   "pygments_lexer": "ipython3",
   "version": "3.8.13"
  },
  "orig_nbformat": 4,
  "vscode": {
   "interpreter": {
    "hash": "fe22768e9524fdef0bd7ed00acfac1a320cf250cfc5d425f429f4b9beb1077b3"
   }
  }
 },
 "nbformat": 4,
 "nbformat_minor": 2
}
