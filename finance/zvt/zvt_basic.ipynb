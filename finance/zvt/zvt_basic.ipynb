{
 "cells": [
  {
   "attachments": {},
   "cell_type": "markdown",
   "metadata": {},
   "source": [
    "# why zvt\n",
    "\n",
    "# tutorial\n",
    "\n",
    "* [official english version](https://zvt.readthedocs.io/en/latest)"
   ]
  },
  {
   "cell_type": "code",
   "execution_count": null,
   "metadata": {},
   "outputs": [],
   "source": [
    "from zvt.domain import Stock\n",
    "import os\n",
    "# os.environ[\"TESTING_ZVT\"] = \"1\"\n",
    "os.environ['ZVT_HOME'] = \"D:/dataset/quant/zvt/\"\n",
    "\n",
    "Stock.record_data()\n",
    "df = Stock.query_data()\n",
    "print(\"df:\\n\", df)"
   ]
  },
  {
   "cell_type": "code",
   "execution_count": 22,
   "metadata": {},
   "outputs": [
    {
     "data": {
      "text/html": [
       "<div>\n",
       "<style scoped>\n",
       "    .dataframe tbody tr th:only-of-type {\n",
       "        vertical-align: middle;\n",
       "    }\n",
       "\n",
       "    .dataframe tbody tr th {\n",
       "        vertical-align: top;\n",
       "    }\n",
       "\n",
       "    .dataframe thead th {\n",
       "        text-align: right;\n",
       "    }\n",
       "</style>\n",
       "<table border=\"1\" class=\"dataframe\">\n",
       "  <thead>\n",
       "    <tr style=\"text-align: right;\">\n",
       "      <th></th>\n",
       "      <th>id</th>\n",
       "      <th>entity_id</th>\n",
       "      <th>timestamp</th>\n",
       "      <th>provider</th>\n",
       "      <th>code</th>\n",
       "      <th>name</th>\n",
       "      <th>level</th>\n",
       "      <th>open</th>\n",
       "      <th>close</th>\n",
       "      <th>high</th>\n",
       "      <th>low</th>\n",
       "      <th>volume</th>\n",
       "      <th>turnover</th>\n",
       "      <th>change_pct</th>\n",
       "      <th>turnover_rate</th>\n",
       "    </tr>\n",
       "    <tr>\n",
       "      <th>timestamp</th>\n",
       "      <th></th>\n",
       "      <th></th>\n",
       "      <th></th>\n",
       "      <th></th>\n",
       "      <th></th>\n",
       "      <th></th>\n",
       "      <th></th>\n",
       "      <th></th>\n",
       "      <th></th>\n",
       "      <th></th>\n",
       "      <th></th>\n",
       "      <th></th>\n",
       "      <th></th>\n",
       "      <th></th>\n",
       "      <th></th>\n",
       "    </tr>\n",
       "  </thead>\n",
       "  <tbody>\n",
       "    <tr>\n",
       "      <th>2019-08-12</th>\n",
       "      <td>stock_sz_000338_2019-08-12</td>\n",
       "      <td>stock_sz_000338</td>\n",
       "      <td>2019-08-12</td>\n",
       "      <td>joinquant</td>\n",
       "      <td>000338</td>\n",
       "      <td>潍柴动力</td>\n",
       "      <td>1d</td>\n",
       "      <td>11.10</td>\n",
       "      <td>11.35</td>\n",
       "      <td>11.36</td>\n",
       "      <td>11.08</td>\n",
       "      <td>26032422.0</td>\n",
       "      <td>2.924098e+08</td>\n",
       "      <td>NaN</td>\n",
       "      <td>NaN</td>\n",
       "    </tr>\n",
       "    <tr>\n",
       "      <th>2019-08-13</th>\n",
       "      <td>stock_sz_000338_2019-08-13</td>\n",
       "      <td>stock_sz_000338</td>\n",
       "      <td>2019-08-13</td>\n",
       "      <td>joinquant</td>\n",
       "      <td>000338</td>\n",
       "      <td>潍柴动力</td>\n",
       "      <td>1d</td>\n",
       "      <td>11.20</td>\n",
       "      <td>11.09</td>\n",
       "      <td>11.25</td>\n",
       "      <td>11.05</td>\n",
       "      <td>15991099.0</td>\n",
       "      <td>1.784112e+08</td>\n",
       "      <td>NaN</td>\n",
       "      <td>NaN</td>\n",
       "    </tr>\n",
       "    <tr>\n",
       "      <th>2019-08-14</th>\n",
       "      <td>stock_sz_000338_2019-08-14</td>\n",
       "      <td>stock_sz_000338</td>\n",
       "      <td>2019-08-14</td>\n",
       "      <td>joinquant</td>\n",
       "      <td>000338</td>\n",
       "      <td>潍柴动力</td>\n",
       "      <td>1d</td>\n",
       "      <td>11.20</td>\n",
       "      <td>11.05</td>\n",
       "      <td>11.27</td>\n",
       "      <td>11.03</td>\n",
       "      <td>21331077.0</td>\n",
       "      <td>2.377563e+08</td>\n",
       "      <td>NaN</td>\n",
       "      <td>NaN</td>\n",
       "    </tr>\n",
       "    <tr>\n",
       "      <th>2019-08-15</th>\n",
       "      <td>stock_sz_000338_2019-08-15</td>\n",
       "      <td>stock_sz_000338</td>\n",
       "      <td>2019-08-15</td>\n",
       "      <td>joinquant</td>\n",
       "      <td>000338</td>\n",
       "      <td>潍柴动力</td>\n",
       "      <td>1d</td>\n",
       "      <td>10.70</td>\n",
       "      <td>10.88</td>\n",
       "      <td>10.89</td>\n",
       "      <td>10.65</td>\n",
       "      <td>42381782.0</td>\n",
       "      <td>4.564520e+08</td>\n",
       "      <td>NaN</td>\n",
       "      <td>NaN</td>\n",
       "    </tr>\n",
       "    <tr>\n",
       "      <th>2019-08-16</th>\n",
       "      <td>stock_sz_000338_2019-08-16</td>\n",
       "      <td>stock_sz_000338</td>\n",
       "      <td>2019-08-16</td>\n",
       "      <td>joinquant</td>\n",
       "      <td>000338</td>\n",
       "      <td>潍柴动力</td>\n",
       "      <td>1d</td>\n",
       "      <td>10.86</td>\n",
       "      <td>10.95</td>\n",
       "      <td>11.10</td>\n",
       "      <td>10.82</td>\n",
       "      <td>34777347.0</td>\n",
       "      <td>3.829879e+08</td>\n",
       "      <td>NaN</td>\n",
       "      <td>NaN</td>\n",
       "    </tr>\n",
       "  </tbody>\n",
       "</table>\n",
       "</div>"
      ],
      "text/plain": [
       "                                    id        entity_id  timestamp   provider    code  name level   open  close   high    low      volume      turnover  change_pct  turnover_rate\n",
       "timestamp                                                                                                                                                                         \n",
       "2019-08-12  stock_sz_000338_2019-08-12  stock_sz_000338 2019-08-12  joinquant  000338  潍柴动力    1d  11.10  11.35  11.36  11.08  26032422.0  2.924098e+08         NaN            NaN\n",
       "2019-08-13  stock_sz_000338_2019-08-13  stock_sz_000338 2019-08-13  joinquant  000338  潍柴动力    1d  11.20  11.09  11.25  11.05  15991099.0  1.784112e+08         NaN            NaN\n",
       "2019-08-14  stock_sz_000338_2019-08-14  stock_sz_000338 2019-08-14  joinquant  000338  潍柴动力    1d  11.20  11.05  11.27  11.03  21331077.0  2.377563e+08         NaN            NaN\n",
       "2019-08-15  stock_sz_000338_2019-08-15  stock_sz_000338 2019-08-15  joinquant  000338  潍柴动力    1d  10.70  10.88  10.89  10.65  42381782.0  4.564520e+08         NaN            NaN\n",
       "2019-08-16  stock_sz_000338_2019-08-16  stock_sz_000338 2019-08-16  joinquant  000338  潍柴动力    1d  10.86  10.95  11.10  10.82  34777347.0  3.829879e+08         NaN            NaN"
      ]
     },
     "execution_count": 22,
     "metadata": {},
     "output_type": "execute_result"
    }
   ],
   "source": [
    "from zvt.api import get_kdata\n",
    "from zvt.domain.fundamental.finance import FinanceFactor\n",
    "# from zvt.api import FinanceFactor\n",
    "\n",
    "# FinanceFactor.record_data(codes=['000338'], provider='joinquant')\n",
    "# FinanceFactor.provider_map_recorder\n",
    "from zvt.domain import *\n",
    "\n",
    "# Stock.record_data(provider='eastmoney')\n",
    "\n",
    "df= get_kdata(entity_id='stock_sz_000338',provider='joinquant')\n",
    "df.tail()\n",
    "\n"
   ]
  },
  {
   "cell_type": "code",
   "execution_count": 25,
   "metadata": {},
   "outputs": [
    {
     "data": {
      "text/plain": [
       "{'stockus': zvt.domain.meta.stockus_meta.Stockus,\n",
       " 'stockhk': zvt.domain.meta.stockhk_meta.Stockhk,\n",
       " 'indexus': zvt.domain.meta.indexus_meta.Indexus,\n",
       " 'country': zvt.domain.meta.country_meta.Country,\n",
       " 'index': zvt.domain.meta.index_meta.Index,\n",
       " 'future': zvt.domain.meta.future_meta.Future,\n",
       " 'etf': zvt.domain.meta.etf_meta.Etf,\n",
       " 'currency': zvt.domain.meta.currency_meta.Currency,\n",
       " 'stock': zvt.domain.meta.stock_meta.Stock,\n",
       " 'block': zvt.domain.meta.block_meta.Block,\n",
       " 'fund': zvt.domain.meta.fund_meta.Fund}"
      ]
     },
     "execution_count": 25,
     "metadata": {},
     "output_type": "execute_result"
    }
   ],
   "source": [
    "from zvt.contract import zvt_context\n",
    "zvt_context.tradable_schema_map\n",
    "\n"
   ]
  },
  {
   "cell_type": "code",
   "execution_count": 3,
   "metadata": {},
   "outputs": [
    {
     "data": {
      "text/plain": [
       "{'stockus': zvt.domain.meta.stockus_meta.Stockus,\n",
       " 'stockhk': zvt.domain.meta.stockhk_meta.Stockhk,\n",
       " 'indexus': zvt.domain.meta.indexus_meta.Indexus,\n",
       " 'country': zvt.domain.meta.country_meta.Country,\n",
       " 'index': zvt.domain.meta.index_meta.Index,\n",
       " 'future': zvt.domain.meta.future_meta.Future,\n",
       " 'etf': zvt.domain.meta.etf_meta.Etf,\n",
       " 'currency': zvt.domain.meta.currency_meta.Currency,\n",
       " 'stock': zvt.domain.meta.stock_meta.Stock,\n",
       " 'block': zvt.domain.meta.block_meta.Block,\n",
       " 'fund': zvt.domain.meta.fund_meta.Fund}"
      ]
     },
     "execution_count": 3,
     "metadata": {},
     "output_type": "execute_result"
    }
   ],
   "source": [
    "# \n",
    "\n",
    "from zvt.contract import zvt_context\n",
    "zvt_context.tradable_schema_map"
   ]
  },
  {
   "cell_type": "code",
   "execution_count": 4,
   "metadata": {},
   "outputs": [
    {
     "name": "stdout",
     "output_type": "stream",
     "text": [
      "Stockhk registered recorders:{'em': <class 'zvt.recorders.em.meta.em_stockhk_meta_recorder.EMStockhkRecorder'>}\n",
      "                     id         entity_id timestamp entity_type exchange   code    name list_date end_date  south\n",
      "code                                                                                                             \n",
      "00001  stockhk_hk_00001  stockhk_hk_00001       NaT     stockhk       hk  00001      长和      None     None   True\n",
      "00002  stockhk_hk_00002  stockhk_hk_00002       NaT     stockhk       hk  00002    中电控股      None     None   True\n",
      "00003  stockhk_hk_00003  stockhk_hk_00003       NaT     stockhk       hk  00003  香港中华煤气      None     None   True\n",
      "00004  stockhk_hk_00004  stockhk_hk_00004       NaT     stockhk       hk  00004   九龙仓集团      None     None   True\n",
      "00005  stockhk_hk_00005  stockhk_hk_00005       NaT     stockhk       hk  00005    汇丰控股      None     None   True\n",
      "...                 ...               ...       ...         ...      ...    ...     ...       ...      ...    ...\n",
      "09996  stockhk_hk_09996  stockhk_hk_09996       NaT     stockhk       hk  09996  沛嘉医疗-B      None     None   True\n",
      "09997  stockhk_hk_09997  stockhk_hk_09997       NaT     stockhk       hk  09997    康基医疗      None     None   True\n",
      "09998  stockhk_hk_09998  stockhk_hk_09998       NaT     stockhk       hk  09998    光荣控股      None     None  False\n",
      "09999  stockhk_hk_09999  stockhk_hk_09999       NaT     stockhk       hk  09999    网易-S      None     None  False\n",
      "80737  stockhk_hk_80737  stockhk_hk_80737       NaT     stockhk       hk  80737  湾区发展-R      None     None  False\n",
      "\n",
      "[2620 rows x 10 columns]\n"
     ]
    }
   ],
   "source": [
    "from zvt.domain import Stockhk\n",
    "Stockhk.record_data()\n",
    "df = Stockhk.query_data(index='code')\n",
    "print(df)"
   ]
  },
  {
   "cell_type": "code",
   "execution_count": 5,
   "metadata": {},
   "outputs": [
    {
     "name": "stdout",
     "output_type": "stream",
     "text": [
      "StockInstitutionalInvestorHolder registered recorders:{'em': <class 'zvt.recorders.em.actor.em_stock_ii_recorder.EMStockIIRecorder'>}\n",
      "Empty DataFrame\n",
      "Columns: [id, entity_id, timestamp, code, name, actor_id, actor_type, actor_code, actor_name, report_period, report_date, holding_numbers, holding_ratio, holding_values]\n",
      "Index: []\n"
     ]
    }
   ],
   "source": [
    "from zvt.domain import StockInstitutionalInvestorHolder\n",
    "entity_ids = [\"stock_sz_000338\", \"stock_sz_000001\"]\n",
    "StockInstitutionalInvestorHolder.record_data(entity_ids=entity_ids)\n",
    "df = StockInstitutionalInvestorHolder.query_data(entity_ids=entity_ids, provider='em')\n",
    "print(df)"
   ]
  },
  {
   "cell_type": "code",
   "execution_count": 6,
   "metadata": {},
   "outputs": [
    {
     "ename": "ImportError",
     "evalue": "cannot import name 'get_finance_factor' from 'zvt.api' (c:\\Users\\73915\\.conda\\envs\\py38\\lib\\site-packages\\zvt\\api\\__init__.py)",
     "output_type": "error",
     "traceback": [
      "\u001b[1;31m---------------------------------------------------------------------------\u001b[0m",
      "\u001b[1;31mImportError\u001b[0m                               Traceback (most recent call last)",
      "Cell \u001b[1;32mIn[6], line 1\u001b[0m\n\u001b[1;32m----> 1\u001b[0m \u001b[39mfrom\u001b[39;00m \u001b[39mzvt\u001b[39;00m\u001b[39m.\u001b[39;00m\u001b[39mapi\u001b[39;00m \u001b[39mimport\u001b[39;00m get_kdata, get_finance_factor\n\u001b[0;32m      2\u001b[0m \u001b[39mfrom\u001b[39;00m \u001b[39mzvt\u001b[39;00m\u001b[39m.\u001b[39;00m\u001b[39mapi\u001b[39;00m \u001b[39mimport\u001b[39;00m FinanceFactor\n\u001b[0;32m      4\u001b[0m df \u001b[39m=\u001b[39m get_kdata(entity_id\u001b[39m=\u001b[39m\u001b[39m'\u001b[39m\u001b[39mstock_sz_000338\u001b[39m\u001b[39m'\u001b[39m, provider\u001b[39m=\u001b[39m\u001b[39m'\u001b[39m\u001b[39mem\u001b[39m\u001b[39m'\u001b[39m)\n",
      "\u001b[1;31mImportError\u001b[0m: cannot import name 'get_finance_factor' from 'zvt.api' (c:\\Users\\73915\\.conda\\envs\\py38\\lib\\site-packages\\zvt\\api\\__init__.py)"
     ]
    }
   ],
   "source": [
    "from zvt.api import get_kdata, get_finance_factor\n",
    "from zvt.api import FinanceFactor\n",
    "\n",
    "df = get_kdata(entity_id='stock_sz_000338', provider='em')\n",
    "get_finance_factor(entity_id='stock_sz_000338',columns=FinanceFactor.important_cols())"
   ]
  },
  {
   "cell_type": "code",
   "execution_count": 7,
   "metadata": {},
   "outputs": [
    {
     "name": "stdout",
     "output_type": "stream",
     "text": [
      "Stock1dHfqKdata registered recorders:{'joinquant': <class 'zvt.recorders.joinquant.quotes.jq_stock_kdata_recorder.JqChinaStockKdataRecorder'>, 'em': <class 'zvt.recorders.em.quotes.em_kdata_recorder.EMStockKdataRecorder'>}\n",
      "Empty DataFrame\n",
      "Columns: [id, entity_id, timestamp, provider, code, name, level, open, close, high, low, volume, turnover, change_pct, turnover_rate]\n",
      "Index: []\n"
     ]
    }
   ],
   "source": [
    "from zvt.domain import *\n",
    "entity_ids = [\"stock_sz_000338\", \"stock_sz_000001\"]\n",
    "Stock1dHfqKdata.record_data(entity_ids=entity_ids, provider=\"em\")\n",
    "df = Stock1dHfqKdata.query_data(entity_ids=entity_ids, provider=\"em\")\n",
    "print(df)"
   ]
  },
  {
   "attachments": {},
   "cell_type": "markdown",
   "metadata": {},
   "source": [
    "# show current registered tradable entity\n",
    "\n",
    "* The key is ___entity_type___ and the value is its Schema.\n",
    "* add tradable entity: https://zvt.readthedocs.io/en/latest/data/extending_data/#extending-data-tradable-entity"
   ]
  },
  {
   "cell_type": "code",
   "execution_count": 33,
   "metadata": {},
   "outputs": [
    {
     "name": "stdout",
     "output_type": "stream",
     "text": [
      "tradable_schema_map:\n",
      " {'stockus': <class 'zvt.domain.meta.stockus_meta.Stockus'>, 'stockhk': <class 'zvt.domain.meta.stockhk_meta.Stockhk'>, 'indexus': <class 'zvt.domain.meta.indexus_meta.Indexus'>, 'country': <class 'zvt.domain.meta.country_meta.Country'>, 'index': <class 'zvt.domain.meta.index_meta.Index'>, 'future': <class 'zvt.domain.meta.future_meta.Future'>, 'etf': <class 'zvt.domain.meta.etf_meta.Etf'>, 'currency': <class 'zvt.domain.meta.currency_meta.Currency'>, 'stock': <class 'zvt.domain.meta.stock_meta.Stock'>, 'block': <class 'zvt.domain.meta.block_meta.Block'>, 'fund': <class 'zvt.domain.meta.fund_meta.Fund'>} \n",
      "\n",
      "Stockhk registered recorders:{'em': <class 'zvt.recorders.em.meta.em_stockhk_meta_recorder.EMStockhkRecorder'>}\n",
      "                     id         entity_id timestamp entity_type exchange   code    name list_date end_date  south\n",
      "code                                                                                                             \n",
      "00001  stockhk_hk_00001  stockhk_hk_00001       NaT     stockhk       hk  00001      长和      None     None   True\n",
      "00002  stockhk_hk_00002  stockhk_hk_00002       NaT     stockhk       hk  00002    中电控股      None     None   True\n",
      "00003  stockhk_hk_00003  stockhk_hk_00003       NaT     stockhk       hk  00003  香港中华煤气      None     None   True\n",
      "00004  stockhk_hk_00004  stockhk_hk_00004       NaT     stockhk       hk  00004   九龙仓集团      None     None   True\n",
      "00005  stockhk_hk_00005  stockhk_hk_00005       NaT     stockhk       hk  00005    汇丰控股      None     None   True\n",
      "...                 ...               ...       ...         ...      ...    ...     ...       ...      ...    ...\n",
      "09996  stockhk_hk_09996  stockhk_hk_09996       NaT     stockhk       hk  09996  沛嘉医疗-B      None     None   True\n",
      "09997  stockhk_hk_09997  stockhk_hk_09997       NaT     stockhk       hk  09997    康基医疗      None     None   True\n",
      "09998  stockhk_hk_09998  stockhk_hk_09998       NaT     stockhk       hk  09998    光荣控股      None     None  False\n",
      "09999  stockhk_hk_09999  stockhk_hk_09999       NaT     stockhk       hk  09999    网易-S      None     None  False\n",
      "80737  stockhk_hk_80737  stockhk_hk_80737       NaT     stockhk       hk  80737  湾区发展-R      None     None  False\n",
      "\n",
      "[2620 rows x 10 columns]\n"
     ]
    }
   ],
   "source": [
    "from zvt.contract import zvt_context\n",
    "print(\"tradable_schema_map:\\n\", zvt_context.tradable_schema_map, \"\\n\")\n",
    "\n",
    "from zvt.domain import Stockhk\n",
    "Stockhk.record_data()\n",
    "df = Stockhk.query_data(index='code')\n",
    "print(df)"
   ]
  },
  {
   "attachments": {},
   "cell_type": "markdown",
   "metadata": {},
   "source": [
    "# Schema\n",
    "\n",
    "* Data structure describing TradableEntity, ActorEntity or events happen on them.\n",
    "* Physically it’s table with columns in sql database. One schema could have multiple storage with different providers."
   ]
  },
  {
   "cell_type": "code",
   "execution_count": 35,
   "metadata": {},
   "outputs": [
    {
     "data": {
      "text/plain": [
       "[Engine(sqlite:///C:\\Users\\73915\\zvt-home\\data\\joinquant_stock_1d_hfq_kdata.db?check_same_thread=False),\n",
       " Engine(sqlite:///C:\\Users\\73915\\zvt-home\\data\\em_stock_1d_hfq_kdata.db?check_same_thread=False)]"
      ]
     },
     "execution_count": 35,
     "metadata": {},
     "output_type": "execute_result"
    }
   ],
   "source": [
    "from zvt.domain import *\n",
    "\n",
    "Stock1dHfqKdata.get_storages()"
   ]
  },
  {
   "cell_type": "markdown",
   "metadata": {},
   "source": []
  },
  {
   "cell_type": "code",
   "execution_count": 2,
   "metadata": {},
   "outputs": [
    {
     "name": "stdout",
     "output_type": "stream",
     "text": [
      "[-23.709505944546684, -17.21928094887362, -13.70247867765272, -11.464393446710154, -10.0, -9.12454344382553, -8.812908992306927, -9.219280948873624, -11.029805938777438]\n"
     ]
    }
   ],
   "source": [
    "import numpy as np\n",
    "\n",
    "def compute(p):\n",
    "    return 7 * np.log2(p) + 3 * np.log2(1-p)\n",
    "\n",
    "\n",
    "print(list(map(compute, [0.1, 0.2, 0.3, 0.4, 0.5, 0.6, 0.7, 0.8, 0.9])))"
   ]
  },
  {
   "cell_type": "code",
   "execution_count": null,
   "metadata": {},
   "outputs": [],
   "source": []
  }
 ],
 "metadata": {
  "kernelspec": {
   "display_name": "py38",
   "language": "python",
   "name": "python3"
  },
  "language_info": {
   "codemirror_mode": {
    "name": "ipython",
    "version": 3
   },
   "file_extension": ".py",
   "mimetype": "text/x-python",
   "name": "python",
   "nbconvert_exporter": "python",
   "pygments_lexer": "ipython3",
   "version": "3.8.13"
  },
  "orig_nbformat": 4,
  "vscode": {
   "interpreter": {
    "hash": "fe22768e9524fdef0bd7ed00acfac1a320cf250cfc5d425f429f4b9beb1077b3"
   }
  }
 },
 "nbformat": 4,
 "nbformat_minor": 2
}
