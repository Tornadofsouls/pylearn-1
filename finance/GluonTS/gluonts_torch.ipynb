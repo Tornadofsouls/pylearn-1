{
 "cells": [
  {
   "cell_type": "code",
   "execution_count": null,
   "metadata": {},
   "outputs": [],
   "source": [
    "import pandas as pd\n",
    "import matplotlib.pyplot as plt\n",
    "from gluonts.dataset.pandas import PandasDataset\n",
    "from gluonts.dataset.split import split\n",
    "from gluonts.mx import DeepAREstimator, Trainer\n",
    "\n",
    "# Load data from a CSV file into a PandasDataset\n",
    "df = pd.read_csv(\n",
    "    \"AirPassengers.csv\",\n",
    "    index_col=0,\n",
    "    parse_dates=True,\n",
    ")\n",
    "dataset = PandasDataset(df, target=\"#Passengers\")\n",
    "\n",
    "# Train a DeepAR model on all data but the last 36 months\n",
    "training_data, test_gen = split(dataset, offset=-36)\n",
    "model = DeepAREstimator(\n",
    "    prediction_length=12, freq=\"M\", trainer=Trainer(epochs=5)\n",
    ").train(training_data)\n",
    "\n",
    "# Generate test instances and predictions for them\n",
    "test_data = test_gen.generate_instances(prediction_length=12, windows=3)\n",
    "forecasts = list(model.predict(test_data.input))\n",
    "\n",
    "# Plot predictions\n",
    "df[\"#Passengers\"].plot(color=\"black\")\n",
    "for forecast, color in zip(forecasts, [\"green\", \"blue\", \"purple\"]):\n",
    "    forecast.plot(color=f\"tab:{color}\")\n",
    "plt.legend([\"True values\"], loc=\"upper left\", fontsize=\"xx-large\")"
   ]
  }
 ],
 "metadata": {
  "language_info": {
   "name": "python"
  },
  "orig_nbformat": 4
 },
 "nbformat": 4,
 "nbformat_minor": 2
}
