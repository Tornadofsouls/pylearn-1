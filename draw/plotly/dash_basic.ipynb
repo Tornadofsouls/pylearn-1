{
 "cells": [
  {
   "attachments": {},
   "cell_type": "markdown",
   "metadata": {},
   "source": [
    "# dash basic\n",
    "* 适合数据科学，机器学习的底代码纯python开发平台。\n",
    "\n",
    "## gallery\n",
    "* https://dash.gallery/Portal/\n",
    "* 核心组件： https://dash.plotly.com/dash-core-components\n",
    "* \n",
    "\n",
    "## Multi-page apps and url support\n",
    "\n",
    "* https://dash.plotly.com/urls\n",
    "\n"
   ]
  }
 ],
 "metadata": {
  "kernelspec": {
   "display_name": "py38",
   "language": "python",
   "name": "python3"
  },
  "language_info": {
   "name": "python",
   "version": "3.8.13"
  },
  "orig_nbformat": 4,
  "vscode": {
   "interpreter": {
    "hash": "fe22768e9524fdef0bd7ed00acfac1a320cf250cfc5d425f429f4b9beb1077b3"
   }
  }
 },
 "nbformat": 4,
 "nbformat_minor": 2
}
