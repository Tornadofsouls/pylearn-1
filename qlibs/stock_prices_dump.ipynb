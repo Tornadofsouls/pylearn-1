{
 "cells": [
  {
   "cell_type": "code",
   "execution_count": 1,
   "id": "4b0c8e6d",
   "metadata": {},
   "outputs": [
    {
     "name": "stdout",
     "output_type": "stream",
     "text": [
      "[0.        1.        1.0120481 0.9919672 0.9979911 1.0100392 1.0140557\n",
      " 1.0120481 1.0040152 0.9899594] (4221,)\n"
     ]
    }
   ],
   "source": [
    "import numpy as np\n",
    "\n",
    "sh000300 = \"/home/jeffye/.qlib/qlib_data/cn_data/features/sh600116/close.day.bin\"\n",
    "\n",
    "close = np.fromfile(sh000300, dtype=\"<f\")\n",
    "\n",
    "print(close[:10], close.shape)\n"
   ]
  },
  {
   "cell_type": "code",
   "execution_count": 2,
   "id": "457d69c5",
   "metadata": {},
   "outputs": [
    {
     "data": {
      "text/plain": [
       "array([   0., 2742., 2738., 2740., 2748., 2745., 2731., 2722., 2704.,\n",
       "       2686.], dtype=float32)"
      ]
     },
     "execution_count": 2,
     "metadata": {},
     "output_type": "execute_result"
    }
   ],
   "source": [
    "s1301 = \"/home/jeffye/.qlib/qlib_data/kaggle/features/1301/close.day.bin\"\n",
    "\n",
    "close = np.fromfile(s1301, dtype=np.float32)\n",
    "\n",
    "close[:10]"
   ]
  },
  {
   "cell_type": "code",
   "execution_count": 3,
   "id": "9e16d62e-55f6-4b20-a3a6-1f1f10549ef2",
   "metadata": {},
   "outputs": [],
   "source": [
    "kaggle_qlib_dir = \"/mnt/d/dataset/quant/kaggle22/qlib_format/\""
   ]
  },
  {
   "cell_type": "code",
   "execution_count": 4,
   "id": "ffec2714",
   "metadata": {},
   "outputs": [
    {
     "ename": "KeyboardInterrupt",
     "evalue": "",
     "output_type": "error",
     "traceback": [
      "\u001b[0;31m---------------------------------------------------------------------------\u001b[0m",
      "\u001b[0;31mKeyboardInterrupt\u001b[0m                         Traceback (most recent call last)",
      "\u001b[1;32m/mnt/d/code/learn/pylearn/qlibs/stock_prices_dump.ipynb Cell 4'\u001b[0m in \u001b[0;36m<cell line: 24>\u001b[0;34m()\u001b[0m\n\u001b[1;32m     <a href='vscode-notebook-cell://wsl%2Bubuntu-20.04/mnt/d/code/learn/pylearn/qlibs/stock_prices_dump.ipynb#ch0000003vscode-remote?line=21'>22</a>\u001b[0m combined \u001b[39m=\u001b[39m pd\u001b[39m.\u001b[39mconcat([stock_price_df, test_stock_price_df], axis\u001b[39m=\u001b[39m\u001b[39m0\u001b[39m)\n\u001b[1;32m     <a href='vscode-notebook-cell://wsl%2Bubuntu-20.04/mnt/d/code/learn/pylearn/qlibs/stock_prices_dump.ipynb#ch0000003vscode-remote?line=22'>23</a>\u001b[0m \u001b[39m# convert(combined)\u001b[39;00m\n\u001b[0;32m---> <a href='vscode-notebook-cell://wsl%2Bubuntu-20.04/mnt/d/code/learn/pylearn/qlibs/stock_prices_dump.ipynb#ch0000003vscode-remote?line=23'>24</a>\u001b[0m convert(stock_price_df)\n",
      "\u001b[1;32m/mnt/d/code/learn/pylearn/qlibs/stock_prices_dump.ipynb Cell 4'\u001b[0m in \u001b[0;36mconvert\u001b[0;34m(df)\u001b[0m\n\u001b[1;32m     <a href='vscode-notebook-cell://wsl%2Bubuntu-20.04/mnt/d/code/learn/pylearn/qlibs/stock_prices_dump.ipynb#ch0000003vscode-remote?line=16'>17</a>\u001b[0m df \u001b[39m=\u001b[39m df\u001b[39m.\u001b[39mrename(columns\u001b[39m=\u001b[39m{\u001b[39m\"\u001b[39m\u001b[39mSecuritiesCode\u001b[39m\u001b[39m\"\u001b[39m: \u001b[39m\"\u001b[39m\u001b[39minstrument\u001b[39m\u001b[39m\"\u001b[39m, \u001b[39m\"\u001b[39m\u001b[39mOpen\u001b[39m\u001b[39m\"\u001b[39m: \u001b[39m\"\u001b[39m\u001b[39mopen\u001b[39m\u001b[39m\"\u001b[39m, \u001b[39m\"\u001b[39m\u001b[39mHigh\u001b[39m\u001b[39m\"\u001b[39m: \u001b[39m\"\u001b[39m\u001b[39mhigh\u001b[39m\u001b[39m\"\u001b[39m, \u001b[39m\"\u001b[39m\u001b[39mLow\u001b[39m\u001b[39m\"\u001b[39m: \u001b[39m\"\u001b[39m\u001b[39mlow\u001b[39m\u001b[39m\"\u001b[39m, \u001b[39m\"\u001b[39m\u001b[39mClose\u001b[39m\u001b[39m\"\u001b[39m: \u001b[39m\"\u001b[39m\u001b[39mclose\u001b[39m\u001b[39m\"\u001b[39m, \u001b[39m\"\u001b[39m\u001b[39mVolume\u001b[39m\u001b[39m\"\u001b[39m: \u001b[39m\"\u001b[39m\u001b[39mvolume\u001b[39m\u001b[39m\"\u001b[39m, \u001b[39m\"\u001b[39m\u001b[39mAdjustmentFactor\u001b[39m\u001b[39m\"\u001b[39m: \u001b[39m\"\u001b[39m\u001b[39mfactor\u001b[39m\u001b[39m\"\u001b[39m, \u001b[39m\"\u001b[39m\u001b[39mDate\u001b[39m\u001b[39m\"\u001b[39m: \u001b[39m\"\u001b[39m\u001b[39mdate\u001b[39m\u001b[39m\"\u001b[39m})\n\u001b[1;32m     <a href='vscode-notebook-cell://wsl%2Bubuntu-20.04/mnt/d/code/learn/pylearn/qlibs/stock_prices_dump.ipynb#ch0000003vscode-remote?line=17'>18</a>\u001b[0m \u001b[39mfor\u001b[39;00m sc, group \u001b[39min\u001b[39;00m df\u001b[39m.\u001b[39mgroupby([\u001b[39m'\u001b[39m\u001b[39minstrument\u001b[39m\u001b[39m'\u001b[39m]):\n\u001b[0;32m---> <a href='vscode-notebook-cell://wsl%2Bubuntu-20.04/mnt/d/code/learn/pylearn/qlibs/stock_prices_dump.ipynb#ch0000003vscode-remote?line=18'>19</a>\u001b[0m     group\u001b[39m.\u001b[39;49mto_csv(kaggle_qlib_dir \u001b[39m+\u001b[39;49m \u001b[39mstr\u001b[39;49m(sc) \u001b[39m+\u001b[39;49m \u001b[39m\"\u001b[39;49m\u001b[39m.csv\u001b[39;49m\u001b[39m\"\u001b[39;49m, header\u001b[39m=\u001b[39;49m\u001b[39mTrue\u001b[39;49;00m, index\u001b[39m=\u001b[39;49m\u001b[39mFalse\u001b[39;49;00m)\n",
      "File \u001b[0;32m~/anaconda3/envs/py38/lib/python3.8/site-packages/pandas/core/generic.py:3551\u001b[0m, in \u001b[0;36mNDFrame.to_csv\u001b[0;34m(self, path_or_buf, sep, na_rep, float_format, columns, header, index, index_label, mode, encoding, compression, quoting, quotechar, line_terminator, chunksize, date_format, doublequote, escapechar, decimal, errors, storage_options)\u001b[0m\n\u001b[1;32m   <a href='file:///home/jeffye/anaconda3/envs/py38/lib/python3.8/site-packages/pandas/core/generic.py?line=3539'>3540</a>\u001b[0m df \u001b[39m=\u001b[39m \u001b[39mself\u001b[39m \u001b[39mif\u001b[39;00m \u001b[39misinstance\u001b[39m(\u001b[39mself\u001b[39m, ABCDataFrame) \u001b[39melse\u001b[39;00m \u001b[39mself\u001b[39m\u001b[39m.\u001b[39mto_frame()\n\u001b[1;32m   <a href='file:///home/jeffye/anaconda3/envs/py38/lib/python3.8/site-packages/pandas/core/generic.py?line=3541'>3542</a>\u001b[0m formatter \u001b[39m=\u001b[39m DataFrameFormatter(\n\u001b[1;32m   <a href='file:///home/jeffye/anaconda3/envs/py38/lib/python3.8/site-packages/pandas/core/generic.py?line=3542'>3543</a>\u001b[0m     frame\u001b[39m=\u001b[39mdf,\n\u001b[1;32m   <a href='file:///home/jeffye/anaconda3/envs/py38/lib/python3.8/site-packages/pandas/core/generic.py?line=3543'>3544</a>\u001b[0m     header\u001b[39m=\u001b[39mheader,\n\u001b[0;32m   (...)\u001b[0m\n\u001b[1;32m   <a href='file:///home/jeffye/anaconda3/envs/py38/lib/python3.8/site-packages/pandas/core/generic.py?line=3547'>3548</a>\u001b[0m     decimal\u001b[39m=\u001b[39mdecimal,\n\u001b[1;32m   <a href='file:///home/jeffye/anaconda3/envs/py38/lib/python3.8/site-packages/pandas/core/generic.py?line=3548'>3549</a>\u001b[0m )\n\u001b[0;32m-> <a href='file:///home/jeffye/anaconda3/envs/py38/lib/python3.8/site-packages/pandas/core/generic.py?line=3550'>3551</a>\u001b[0m \u001b[39mreturn\u001b[39;00m DataFrameRenderer(formatter)\u001b[39m.\u001b[39;49mto_csv(\n\u001b[1;32m   <a href='file:///home/jeffye/anaconda3/envs/py38/lib/python3.8/site-packages/pandas/core/generic.py?line=3551'>3552</a>\u001b[0m     path_or_buf,\n\u001b[1;32m   <a href='file:///home/jeffye/anaconda3/envs/py38/lib/python3.8/site-packages/pandas/core/generic.py?line=3552'>3553</a>\u001b[0m     line_terminator\u001b[39m=\u001b[39;49mline_terminator,\n\u001b[1;32m   <a href='file:///home/jeffye/anaconda3/envs/py38/lib/python3.8/site-packages/pandas/core/generic.py?line=3553'>3554</a>\u001b[0m     sep\u001b[39m=\u001b[39;49msep,\n\u001b[1;32m   <a href='file:///home/jeffye/anaconda3/envs/py38/lib/python3.8/site-packages/pandas/core/generic.py?line=3554'>3555</a>\u001b[0m     encoding\u001b[39m=\u001b[39;49mencoding,\n\u001b[1;32m   <a href='file:///home/jeffye/anaconda3/envs/py38/lib/python3.8/site-packages/pandas/core/generic.py?line=3555'>3556</a>\u001b[0m     errors\u001b[39m=\u001b[39;49merrors,\n\u001b[1;32m   <a href='file:///home/jeffye/anaconda3/envs/py38/lib/python3.8/site-packages/pandas/core/generic.py?line=3556'>3557</a>\u001b[0m     compression\u001b[39m=\u001b[39;49mcompression,\n\u001b[1;32m   <a href='file:///home/jeffye/anaconda3/envs/py38/lib/python3.8/site-packages/pandas/core/generic.py?line=3557'>3558</a>\u001b[0m     quoting\u001b[39m=\u001b[39;49mquoting,\n\u001b[1;32m   <a href='file:///home/jeffye/anaconda3/envs/py38/lib/python3.8/site-packages/pandas/core/generic.py?line=3558'>3559</a>\u001b[0m     columns\u001b[39m=\u001b[39;49mcolumns,\n\u001b[1;32m   <a href='file:///home/jeffye/anaconda3/envs/py38/lib/python3.8/site-packages/pandas/core/generic.py?line=3559'>3560</a>\u001b[0m     index_label\u001b[39m=\u001b[39;49mindex_label,\n\u001b[1;32m   <a href='file:///home/jeffye/anaconda3/envs/py38/lib/python3.8/site-packages/pandas/core/generic.py?line=3560'>3561</a>\u001b[0m     mode\u001b[39m=\u001b[39;49mmode,\n\u001b[1;32m   <a href='file:///home/jeffye/anaconda3/envs/py38/lib/python3.8/site-packages/pandas/core/generic.py?line=3561'>3562</a>\u001b[0m     chunksize\u001b[39m=\u001b[39;49mchunksize,\n\u001b[1;32m   <a href='file:///home/jeffye/anaconda3/envs/py38/lib/python3.8/site-packages/pandas/core/generic.py?line=3562'>3563</a>\u001b[0m     quotechar\u001b[39m=\u001b[39;49mquotechar,\n\u001b[1;32m   <a href='file:///home/jeffye/anaconda3/envs/py38/lib/python3.8/site-packages/pandas/core/generic.py?line=3563'>3564</a>\u001b[0m     date_format\u001b[39m=\u001b[39;49mdate_format,\n\u001b[1;32m   <a href='file:///home/jeffye/anaconda3/envs/py38/lib/python3.8/site-packages/pandas/core/generic.py?line=3564'>3565</a>\u001b[0m     doublequote\u001b[39m=\u001b[39;49mdoublequote,\n\u001b[1;32m   <a href='file:///home/jeffye/anaconda3/envs/py38/lib/python3.8/site-packages/pandas/core/generic.py?line=3565'>3566</a>\u001b[0m     escapechar\u001b[39m=\u001b[39;49mescapechar,\n\u001b[1;32m   <a href='file:///home/jeffye/anaconda3/envs/py38/lib/python3.8/site-packages/pandas/core/generic.py?line=3566'>3567</a>\u001b[0m     storage_options\u001b[39m=\u001b[39;49mstorage_options,\n\u001b[1;32m   <a href='file:///home/jeffye/anaconda3/envs/py38/lib/python3.8/site-packages/pandas/core/generic.py?line=3567'>3568</a>\u001b[0m )\n",
      "File \u001b[0;32m~/anaconda3/envs/py38/lib/python3.8/site-packages/pandas/io/formats/format.py:1180\u001b[0m, in \u001b[0;36mDataFrameRenderer.to_csv\u001b[0;34m(self, path_or_buf, encoding, sep, columns, index_label, mode, compression, quoting, quotechar, line_terminator, chunksize, date_format, doublequote, escapechar, errors, storage_options)\u001b[0m\n\u001b[1;32m   <a href='file:///home/jeffye/anaconda3/envs/py38/lib/python3.8/site-packages/pandas/io/formats/format.py?line=1158'>1159</a>\u001b[0m     created_buffer \u001b[39m=\u001b[39m \u001b[39mFalse\u001b[39;00m\n\u001b[1;32m   <a href='file:///home/jeffye/anaconda3/envs/py38/lib/python3.8/site-packages/pandas/io/formats/format.py?line=1160'>1161</a>\u001b[0m csv_formatter \u001b[39m=\u001b[39m CSVFormatter(\n\u001b[1;32m   <a href='file:///home/jeffye/anaconda3/envs/py38/lib/python3.8/site-packages/pandas/io/formats/format.py?line=1161'>1162</a>\u001b[0m     path_or_buf\u001b[39m=\u001b[39mpath_or_buf,\n\u001b[1;32m   <a href='file:///home/jeffye/anaconda3/envs/py38/lib/python3.8/site-packages/pandas/io/formats/format.py?line=1162'>1163</a>\u001b[0m     line_terminator\u001b[39m=\u001b[39mline_terminator,\n\u001b[0;32m   (...)\u001b[0m\n\u001b[1;32m   <a href='file:///home/jeffye/anaconda3/envs/py38/lib/python3.8/site-packages/pandas/io/formats/format.py?line=1177'>1178</a>\u001b[0m     formatter\u001b[39m=\u001b[39m\u001b[39mself\u001b[39m\u001b[39m.\u001b[39mfmt,\n\u001b[1;32m   <a href='file:///home/jeffye/anaconda3/envs/py38/lib/python3.8/site-packages/pandas/io/formats/format.py?line=1178'>1179</a>\u001b[0m )\n\u001b[0;32m-> <a href='file:///home/jeffye/anaconda3/envs/py38/lib/python3.8/site-packages/pandas/io/formats/format.py?line=1179'>1180</a>\u001b[0m csv_formatter\u001b[39m.\u001b[39;49msave()\n\u001b[1;32m   <a href='file:///home/jeffye/anaconda3/envs/py38/lib/python3.8/site-packages/pandas/io/formats/format.py?line=1181'>1182</a>\u001b[0m \u001b[39mif\u001b[39;00m created_buffer:\n\u001b[1;32m   <a href='file:///home/jeffye/anaconda3/envs/py38/lib/python3.8/site-packages/pandas/io/formats/format.py?line=1182'>1183</a>\u001b[0m     \u001b[39massert\u001b[39;00m \u001b[39misinstance\u001b[39m(path_or_buf, StringIO)\n",
      "File \u001b[0;32m~/anaconda3/envs/py38/lib/python3.8/site-packages/pandas/io/formats/csvs.py:261\u001b[0m, in \u001b[0;36mCSVFormatter.save\u001b[0;34m(self)\u001b[0m\n\u001b[1;32m    <a href='file:///home/jeffye/anaconda3/envs/py38/lib/python3.8/site-packages/pandas/io/formats/csvs.py?line=240'>241</a>\u001b[0m \u001b[39mwith\u001b[39;00m get_handle(\n\u001b[1;32m    <a href='file:///home/jeffye/anaconda3/envs/py38/lib/python3.8/site-packages/pandas/io/formats/csvs.py?line=241'>242</a>\u001b[0m     \u001b[39mself\u001b[39m\u001b[39m.\u001b[39mfilepath_or_buffer,\n\u001b[1;32m    <a href='file:///home/jeffye/anaconda3/envs/py38/lib/python3.8/site-packages/pandas/io/formats/csvs.py?line=242'>243</a>\u001b[0m     \u001b[39mself\u001b[39m\u001b[39m.\u001b[39mmode,\n\u001b[0;32m   (...)\u001b[0m\n\u001b[1;32m    <a href='file:///home/jeffye/anaconda3/envs/py38/lib/python3.8/site-packages/pandas/io/formats/csvs.py?line=248'>249</a>\u001b[0m \n\u001b[1;32m    <a href='file:///home/jeffye/anaconda3/envs/py38/lib/python3.8/site-packages/pandas/io/formats/csvs.py?line=249'>250</a>\u001b[0m     \u001b[39m# Note: self.encoding is irrelevant here\u001b[39;00m\n\u001b[1;32m    <a href='file:///home/jeffye/anaconda3/envs/py38/lib/python3.8/site-packages/pandas/io/formats/csvs.py?line=250'>251</a>\u001b[0m     \u001b[39mself\u001b[39m\u001b[39m.\u001b[39mwriter \u001b[39m=\u001b[39m csvlib\u001b[39m.\u001b[39mwriter(\n\u001b[1;32m    <a href='file:///home/jeffye/anaconda3/envs/py38/lib/python3.8/site-packages/pandas/io/formats/csvs.py?line=251'>252</a>\u001b[0m         handles\u001b[39m.\u001b[39mhandle,\n\u001b[1;32m    <a href='file:///home/jeffye/anaconda3/envs/py38/lib/python3.8/site-packages/pandas/io/formats/csvs.py?line=252'>253</a>\u001b[0m         lineterminator\u001b[39m=\u001b[39m\u001b[39mself\u001b[39m\u001b[39m.\u001b[39mline_terminator,\n\u001b[0;32m   (...)\u001b[0m\n\u001b[1;32m    <a href='file:///home/jeffye/anaconda3/envs/py38/lib/python3.8/site-packages/pandas/io/formats/csvs.py?line=257'>258</a>\u001b[0m         quotechar\u001b[39m=\u001b[39m\u001b[39mself\u001b[39m\u001b[39m.\u001b[39mquotechar,\n\u001b[1;32m    <a href='file:///home/jeffye/anaconda3/envs/py38/lib/python3.8/site-packages/pandas/io/formats/csvs.py?line=258'>259</a>\u001b[0m     )\n\u001b[0;32m--> <a href='file:///home/jeffye/anaconda3/envs/py38/lib/python3.8/site-packages/pandas/io/formats/csvs.py?line=260'>261</a>\u001b[0m     \u001b[39mself\u001b[39;49m\u001b[39m.\u001b[39;49m_save()\n",
      "File \u001b[0;32m~/anaconda3/envs/py38/lib/python3.8/site-packages/pandas/io/formats/csvs.py:266\u001b[0m, in \u001b[0;36mCSVFormatter._save\u001b[0;34m(self)\u001b[0m\n\u001b[1;32m    <a href='file:///home/jeffye/anaconda3/envs/py38/lib/python3.8/site-packages/pandas/io/formats/csvs.py?line=263'>264</a>\u001b[0m \u001b[39mif\u001b[39;00m \u001b[39mself\u001b[39m\u001b[39m.\u001b[39m_need_to_save_header:\n\u001b[1;32m    <a href='file:///home/jeffye/anaconda3/envs/py38/lib/python3.8/site-packages/pandas/io/formats/csvs.py?line=264'>265</a>\u001b[0m     \u001b[39mself\u001b[39m\u001b[39m.\u001b[39m_save_header()\n\u001b[0;32m--> <a href='file:///home/jeffye/anaconda3/envs/py38/lib/python3.8/site-packages/pandas/io/formats/csvs.py?line=265'>266</a>\u001b[0m \u001b[39mself\u001b[39;49m\u001b[39m.\u001b[39;49m_save_body()\n",
      "File \u001b[0;32m~/anaconda3/envs/py38/lib/python3.8/site-packages/pandas/io/formats/csvs.py:304\u001b[0m, in \u001b[0;36mCSVFormatter._save_body\u001b[0;34m(self)\u001b[0m\n\u001b[1;32m    <a href='file:///home/jeffye/anaconda3/envs/py38/lib/python3.8/site-packages/pandas/io/formats/csvs.py?line=301'>302</a>\u001b[0m \u001b[39mif\u001b[39;00m start_i \u001b[39m>\u001b[39m\u001b[39m=\u001b[39m end_i:\n\u001b[1;32m    <a href='file:///home/jeffye/anaconda3/envs/py38/lib/python3.8/site-packages/pandas/io/formats/csvs.py?line=302'>303</a>\u001b[0m     \u001b[39mbreak\u001b[39;00m\n\u001b[0;32m--> <a href='file:///home/jeffye/anaconda3/envs/py38/lib/python3.8/site-packages/pandas/io/formats/csvs.py?line=303'>304</a>\u001b[0m \u001b[39mself\u001b[39;49m\u001b[39m.\u001b[39;49m_save_chunk(start_i, end_i)\n",
      "File \u001b[0;32m~/anaconda3/envs/py38/lib/python3.8/site-packages/pandas/io/formats/csvs.py:315\u001b[0m, in \u001b[0;36mCSVFormatter._save_chunk\u001b[0;34m(self, start_i, end_i)\u001b[0m\n\u001b[1;32m    <a href='file:///home/jeffye/anaconda3/envs/py38/lib/python3.8/site-packages/pandas/io/formats/csvs.py?line=311'>312</a>\u001b[0m data \u001b[39m=\u001b[39m [res\u001b[39m.\u001b[39miget_values(i) \u001b[39mfor\u001b[39;00m i \u001b[39min\u001b[39;00m \u001b[39mrange\u001b[39m(\u001b[39mlen\u001b[39m(res\u001b[39m.\u001b[39mitems))]\n\u001b[1;32m    <a href='file:///home/jeffye/anaconda3/envs/py38/lib/python3.8/site-packages/pandas/io/formats/csvs.py?line=313'>314</a>\u001b[0m ix \u001b[39m=\u001b[39m \u001b[39mself\u001b[39m\u001b[39m.\u001b[39mdata_index[slicer]\u001b[39m.\u001b[39m_format_native_types(\u001b[39m*\u001b[39m\u001b[39m*\u001b[39m\u001b[39mself\u001b[39m\u001b[39m.\u001b[39m_number_format)\n\u001b[0;32m--> <a href='file:///home/jeffye/anaconda3/envs/py38/lib/python3.8/site-packages/pandas/io/formats/csvs.py?line=314'>315</a>\u001b[0m libwriters\u001b[39m.\u001b[39;49mwrite_csv_rows(\n\u001b[1;32m    <a href='file:///home/jeffye/anaconda3/envs/py38/lib/python3.8/site-packages/pandas/io/formats/csvs.py?line=315'>316</a>\u001b[0m     data,\n\u001b[1;32m    <a href='file:///home/jeffye/anaconda3/envs/py38/lib/python3.8/site-packages/pandas/io/formats/csvs.py?line=316'>317</a>\u001b[0m     ix,\n\u001b[1;32m    <a href='file:///home/jeffye/anaconda3/envs/py38/lib/python3.8/site-packages/pandas/io/formats/csvs.py?line=317'>318</a>\u001b[0m     \u001b[39mself\u001b[39;49m\u001b[39m.\u001b[39;49mnlevels,\n\u001b[1;32m    <a href='file:///home/jeffye/anaconda3/envs/py38/lib/python3.8/site-packages/pandas/io/formats/csvs.py?line=318'>319</a>\u001b[0m     \u001b[39mself\u001b[39;49m\u001b[39m.\u001b[39;49mcols,\n\u001b[1;32m    <a href='file:///home/jeffye/anaconda3/envs/py38/lib/python3.8/site-packages/pandas/io/formats/csvs.py?line=319'>320</a>\u001b[0m     \u001b[39mself\u001b[39;49m\u001b[39m.\u001b[39;49mwriter,\n\u001b[1;32m    <a href='file:///home/jeffye/anaconda3/envs/py38/lib/python3.8/site-packages/pandas/io/formats/csvs.py?line=320'>321</a>\u001b[0m )\n",
      "File \u001b[0;32m~/anaconda3/envs/py38/lib/python3.8/site-packages/pandas/_libs/writers.pyx:72\u001b[0m, in \u001b[0;36mpandas._libs.writers.write_csv_rows\u001b[0;34m()\u001b[0m\n",
      "\u001b[0;31mKeyboardInterrupt\u001b[0m: "
     ]
    }
   ],
   "source": [
    "import os\n",
    "import pandas as pd\n",
    "from pathlib import Path\n",
    "\n",
    "'''\n",
    "    stock_prices.csv转换成每只股票单独的csv\n",
    "'''\n",
    "\n",
    "stock_price_df = pd.read_csv(\"/mnt/d/dataset/quant/kaggle22/train_files/stock_prices.csv\")\n",
    "test_stock_price_df = pd.read_csv(\"/mnt/d/dataset/quant/kaggle22/supplemental_files/stock_prices.csv\")\n",
    "\n",
    "if not os.path.exists(kaggle_qlib_dir):\n",
    "    os.makedirs(kaggle_qlib_dir)\n",
    "\n",
    "\n",
    "def convert(df):\n",
    "    df = df.rename(columns={\"SecuritiesCode\": \"instrument\", \"Open\": \"open\", \"High\": \"high\", \"Low\": \"low\", \"Close\": \"close\", \"Volume\": \"volume\", \"AdjustmentFactor\": \"factor\", \"Date\": \"date\"})\n",
    "    df['instrument'] = df['instrument'].apply(lambda x: 'jpx' + str(x))\n",
    "\n",
    "    for sc, group in df.groupby(['instrument']):\n",
    "        group.to_csv(kaggle_qlib_dir + str(sc) + \".csv\", header=True, index=False)\n",
    "\n",
    "\n",
    "combined = pd.concat([stock_price_df, test_stock_price_df], axis=0)\n",
    "# convert(combined)\n",
    "convert(stock_price_df)\n",
    "# convert(test_stock_price_df, \"test_stock_prices.csv\")\n"
   ]
  },
  {
   "cell_type": "code",
   "execution_count": null,
   "id": "5629b7bc-9b50-454b-811f-af640ff5d529",
   "metadata": {},
   "outputs": [],
   "source": [
    "stock_price_df"
   ]
  },
  {
   "cell_type": "code",
   "execution_count": null,
   "id": "441f00d4",
   "metadata": {},
   "outputs": [],
   "source": [
    "%cd /mnt/d/code/quant/qlib\n",
    "\n",
    "# qlib转换\n",
    "!python scripts/dump_bin.py dump_all --csv_path {kaggle_qlib_dir} --qlib_dir ~/.qlib/qlib_data/kaggle --include_fields open,close,high,low,volume,factor,Target --symbol_field_name instrument --date_field_name date"
   ]
  },
  {
   "cell_type": "code",
   "execution_count": null,
   "id": "65cdc9fd-1052-4ec0-aaec-24c2f5141063",
   "metadata": {},
   "outputs": [],
   "source": [
    "%cd /mnt/d/code/quant/qlib\n",
    "!python scripts/dump_bin.py dump_all --help"
   ]
  },
  {
   "cell_type": "code",
   "execution_count": null,
   "id": "f2697cc2-9664-40f3-9bba-5f64de2b941f",
   "metadata": {},
   "outputs": [],
   "source": [
    "index = ['Firefox', 'Chrome', 'Safari', 'IE10', 'Konqueror']\n",
    "df = pd.DataFrame({'http_status': [200, 200, 404, 404, 301],\n",
    "                  'response_time': [0.04, 0.02, 0.07, 0.08, 1.0]},\n",
    "                  index=index)\n",
    "df['http_status'][-2:].shift(1)"
   ]
  },
  {
   "cell_type": "code",
   "execution_count": null,
   "id": "6fdb1a6b-8a63-4e41-ba08-2666f412f4cb",
   "metadata": {},
   "outputs": [],
   "source": [
    "new_index = ['Safari', 'Iceweasel', 'Comodo Dragon', 'IE10', 'Chrome']\n",
    "new_index = ['nowhere']\n",
    "df.reindex(new_index)"
   ]
  },
  {
   "cell_type": "code",
   "execution_count": null,
   "id": "40dc5ac2-746c-4d59-9433-b3a1ab6ccfdd",
   "metadata": {},
   "outputs": [],
   "source": [
    "df = df.set_index('http_status')\n",
    "df = df[~df.index.duplicated(keep=\"first\")]\n",
    "# new_index = ['Safari', 'Iceweasel', 'Comodo Dragon', 'IE10', 'Chrome']\n",
    "new_index = [300]\n",
    "\n",
    "df = df.reindex(new_index).reset_index()\n",
    "list(df.index)"
   ]
  },
  {
   "cell_type": "code",
   "execution_count": null,
   "id": "479d55ce-fa11-4b1d-a18b-2eb4280d27af",
   "metadata": {},
   "outputs": [],
   "source": [
    "df['http_status']"
   ]
  },
  {
   "cell_type": "code",
   "execution_count": null,
   "id": "e933269b-7d88-44d7-ae29-730a9a116d00",
   "metadata": {},
   "outputs": [],
   "source": [
    "df.index"
   ]
  },
  {
   "cell_type": "code",
   "execution_count": null,
   "id": "f6567038-43e6-46e3-9ae7-2188b97caa1a",
   "metadata": {},
   "outputs": [],
   "source": [
    "import numpy as np\n",
    "import pandas as pd\n",
    "x = np.random.random(10000)  # for any variable\n",
    "x_rank = pd.Series(x).rank(pct=True)  # if it is converted to rank, it will be a uniform distributed\n",
    "x_rank_norm = (x_rank - x_rank.mean()) / x_rank.std()  # Normally, we will normalize it to make it like normal distribution\n",
    "\n",
    "x_rank.mean()   # accounts for 0.5\n",
    "1 / x_rank.std()  # accounts for 3.46"
   ]
  },
  {
   "cell_type": "code",
   "execution_count": null,
   "id": "2b4b7dfd-55ef-4757-9f9d-4ea054406130",
   "metadata": {},
   "outputs": [],
   "source": []
  }
 ],
 "metadata": {
  "interpreter": {
   "hash": "67f4027c7030b010d964bcecab45732ca129fbf42fed140ec1ae6d06ef81ce73"
  },
  "kernelspec": {
   "display_name": "Python 3.8.13 ('py38')",
   "language": "python",
   "name": "python3"
  },
  "language_info": {
   "codemirror_mode": {
    "name": "ipython",
    "version": 3
   },
   "file_extension": ".py",
   "mimetype": "text/x-python",
   "name": "python",
   "nbconvert_exporter": "python",
   "pygments_lexer": "ipython3",
   "version": "3.8.13"
  },
  "widgets": {
   "application/vnd.jupyter.widget-state+json": {
    "state": {},
    "version_major": 2,
    "version_minor": 0
   }
  }
 },
 "nbformat": 4,
 "nbformat_minor": 5
}
