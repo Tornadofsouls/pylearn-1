{
 "cells": [
  {
   "cell_type": "code",
   "execution_count": null,
   "id": "ffec2714",
   "metadata": {},
   "outputs": [],
   "source": [
    "import os\n",
    "import pandas as pd\n",
    "\n",
    "'''\n",
    "    stock_prices.csv转换成每只股票单独的csv\n",
    "'''\n",
    "\n",
    "data = pd.read_csv(r'/data/students/huzb/qlib/qlib_data/stock_prices.csv', encoding='utf-8') # 需要转换的csv文件\n",
    "df = pd.DataFrame(data)\n",
    "# print(df)\n",
    "\n",
    "for i in range(0, len(df)):    # len(df)\n",
    "    d = df[i:i+1]\n",
    "    file_name = str(d.SecuritiesCode.values[0])\n",
    "\n",
    "    # 没有文件先创建，已经有了直接添加\n",
    "    if os.path.exists('/data/students/huzb/qlib/qlib_data/csv_data/' + file_name + '.csv'):\n",
    "        d.to_csv('/data/students/huzb/qlib/qlib_data/csv_data/' + file_name + '.csv', mode='a', header=None, index=False)\n",
    "    else:\n",
    "        d.to_csv('/data/students/huzb/qlib/qlib_data/csv_data/' + file_name + '.csv', mode='a', header=True, index=False)\n",
    "    # print(d.SecuritiesCode.values[0])\n",
    "    j = str(i+1)\n",
    "    print('第' + j + '行已经转换完成...')\n"
   ]
  },
  {
   "cell_type": "code",
   "execution_count": null,
   "id": "441f00d4",
   "metadata": {},
   "outputs": [],
   "source": [
    "# qlib转换\n",
    "!python scripts/dump_bin.py dump_all --csv_path  /data/students/huzb/qlib/qlib_data/csv_data --qlib_dir /data/students/huzb/qlib/qlib_data/my_data --include_fields Open,Close,High,Low,Volumn,AdjustmentFactor --symbol_field_name SecuritiesCode --date_field_name Date"
   ]
  }
 ],
 "metadata": {
  "kernelspec": {
   "display_name": "Python 3",
   "language": "python",
   "name": "python3"
  },
  "language_info": {
   "codemirror_mode": {
    "name": "ipython",
    "version": 3
   },
   "file_extension": ".py",
   "mimetype": "text/x-python",
   "name": "python",
   "nbconvert_exporter": "python",
   "pygments_lexer": "ipython3",
   "version": "3.7.9"
  }
 },
 "nbformat": 4,
 "nbformat_minor": 5
}
