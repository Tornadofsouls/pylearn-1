{
 "cells": [
  {
   "cell_type": "code",
   "execution_count": 3,
   "id": "4b0c8e6d",
   "metadata": {},
   "outputs": [
    {
     "name": "stdout",
     "output_type": "stream",
     "text": [
      "[0.        1.        1.0120481 0.9919672 0.9979911 1.0100392 1.0140557\n",
      " 1.0120481 1.0040152 0.9899594] (4221,)\n"
     ]
    }
   ],
   "source": [
    "import numpy as np\n",
    "\n",
    "sh000300 = \"/home/jeffye/.qlib/qlib_data/cn_data/features/sh600116/close.day.bin\"\n",
    "\n",
    "close = np.fromfile(sh000300, dtype=\"<f\")\n",
    "\n",
    "print(close[:10], close.shape)\n"
   ]
  },
  {
   "cell_type": "code",
   "execution_count": 12,
   "id": "457d69c5",
   "metadata": {},
   "outputs": [
    {
     "data": {
      "text/plain": [
       "array([3030., 3005., 3000., 2990., 2951., 2900., 2909., 2933., 2965.,\n",
       "       2965.], dtype=float32)"
      ]
     },
     "execution_count": 12,
     "metadata": {},
     "output_type": "execute_result"
    }
   ],
   "source": [
    "s1301 = \"/home/jeffye/.qlib/qlib_data/kaggle/features/jpx1301/low.day.bin\"\n",
    "\n",
    "close = np.fromfile(s1301, dtype=np.float32)\n",
    "\n",
    "close[-10:]"
   ]
  },
  {
   "cell_type": "code",
   "execution_count": 1,
   "id": "9e16d62e-55f6-4b20-a3a6-1f1f10549ef2",
   "metadata": {},
   "outputs": [],
   "source": [
    "kaggle_qlib_dir = \"/mnt/d/dataset/quant/kaggle22/qlib_format/\""
   ]
  },
  {
   "cell_type": "code",
   "execution_count": null,
   "id": "ffec2714",
   "metadata": {},
   "outputs": [],
   "source": [
    "import os\n",
    "import pandas as pd\n",
    "from pathlib import Path\n",
    "\n",
    "'''\n",
    "    stock_prices.csv转换成每只股票单独的csv\n",
    "'''\n",
    "\n",
    "stock_price_df = pd.read_csv(\"/mnt/d/dataset/quant/kaggle22/train_files/stock_prices.csv\")\n",
    "test_stock_price_df = pd.read_csv(\"/mnt/d/dataset/quant/kaggle22/supplemental_files/stock_prices.csv\")\n",
    "\n",
    "if not os.path.exists(kaggle_qlib_dir):\n",
    "    os.makedirs(kaggle_qlib_dir)\n",
    "\n",
    "\n",
    "def convert(df):\n",
    "    df = df.rename(columns={\"SecuritiesCode\": \"instrument\", \"Open\": \"open\", \"High\": \"high\", \"Low\": \"low\", \"Close\": \"close\", \"Volume\": \"volume\", \"AdjustmentFactor\": \"factor\", \"Date\": \"date\"})\n",
    "    df['instrument'] = df['instrument'].apply(lambda x: 'jpx' + str(x))\n",
    "\n",
    "    for sc, group in df.groupby(['instrument']):\n",
    "        group.to_csv(kaggle_qlib_dir + str(sc) + \".csv\", header=True, index=False)\n",
    "\n",
    "\n",
    "combined = pd.concat([stock_price_df, test_stock_price_df], axis=0)\n",
    "# convert(combined)\n",
    "convert(stock_price_df)\n",
    "# convert(test_stock_price_df, \"test_stock_prices.csv\")\n"
   ]
  },
  {
   "cell_type": "code",
   "execution_count": 18,
   "id": "5629b7bc-9b50-454b-811f-af640ff5d529",
   "metadata": {},
   "outputs": [
    {
     "data": {
      "text/plain": [
       "1653870"
      ]
     },
     "execution_count": 18,
     "metadata": {},
     "output_type": "execute_result"
    }
   ],
   "source": [
    "# stock_price_df\n",
    "3300 + 0  + 25195 + 1021272 + 3000 + 33353 + 0 + 46552 + 206645  +  27598 + 117387\n",
    "\n",
    "1484302 + 169568"
   ]
  },
  {
   "cell_type": "code",
   "execution_count": 14,
   "id": "441f00d4",
   "metadata": {},
   "outputs": [
    {
     "name": "stdout",
     "output_type": "stream",
     "text": [
      "/mnt/d/code/quant/qlib\n",
      "\u001b[32m2022-06-05 15:26:33.134\u001b[0m | \u001b[1mINFO    \u001b[0m | \u001b[36m__main__\u001b[0m:\u001b[36m_get_all_date\u001b[0m:\u001b[36m273\u001b[0m - \u001b[1mstart get all date......\u001b[0m\n",
      "100%|██████████████████████████████████████| 2000/2000 [00:13<00:00, 146.01it/s]\n",
      "\u001b[32m2022-06-05 15:26:46.837\u001b[0m | \u001b[1mINFO    \u001b[0m | \u001b[36m__main__\u001b[0m:\u001b[36m_get_all_date\u001b[0m:\u001b[36m292\u001b[0m - \u001b[1mend of get all date.\n",
      "\u001b[0m\n",
      "\u001b[32m2022-06-05 15:26:46.837\u001b[0m | \u001b[1mINFO    \u001b[0m | \u001b[36m__main__\u001b[0m:\u001b[36m_dump_calendars\u001b[0m:\u001b[36m295\u001b[0m - \u001b[1mstart dump calendars......\u001b[0m\n",
      "\u001b[32m2022-06-05 15:26:46.845\u001b[0m | \u001b[1mINFO    \u001b[0m | \u001b[36m__main__\u001b[0m:\u001b[36m_dump_calendars\u001b[0m:\u001b[36m298\u001b[0m - \u001b[1mend of calendars dump.\n",
      "\u001b[0m\n",
      "\u001b[32m2022-06-05 15:26:46.845\u001b[0m | \u001b[1mINFO    \u001b[0m | \u001b[36m__main__\u001b[0m:\u001b[36m_dump_instruments\u001b[0m:\u001b[36m301\u001b[0m - \u001b[1mstart dump instruments......\u001b[0m\n",
      "\u001b[32m2022-06-05 15:26:46.850\u001b[0m | \u001b[1mINFO    \u001b[0m | \u001b[36m__main__\u001b[0m:\u001b[36m_dump_instruments\u001b[0m:\u001b[36m303\u001b[0m - \u001b[1mend of instruments dump.\n",
      "\u001b[0m\n",
      "\u001b[32m2022-06-05 15:26:46.850\u001b[0m | \u001b[1mINFO    \u001b[0m | \u001b[36m__main__\u001b[0m:\u001b[36m_dump_features\u001b[0m:\u001b[36m306\u001b[0m - \u001b[1mstart dump features......\u001b[0m\n",
      "100%|██████████████████████████████████████| 2000/2000 [00:10<00:00, 184.14it/s]\n",
      "\u001b[32m2022-06-05 15:26:57.712\u001b[0m | \u001b[1mINFO    \u001b[0m | \u001b[36m__main__\u001b[0m:\u001b[36m_dump_features\u001b[0m:\u001b[36m313\u001b[0m - \u001b[1mend of features dump.\n",
      "\u001b[0m\n"
     ]
    }
   ],
   "source": [
    "%cd /mnt/d/code/quant/qlib\n",
    "\n",
    "# qlib转换\n",
    "!python scripts/dump_bin.py dump_all --csv_path {kaggle_qlib_dir} --qlib_dir ~/.qlib/qlib_data/kaggle --include_fields open,close,high,low,volume,factor,Target --symbol_field_name instrument --date_field_name date"
   ]
  },
  {
   "cell_type": "code",
   "execution_count": null,
   "id": "65cdc9fd-1052-4ec0-aaec-24c2f5141063",
   "metadata": {},
   "outputs": [],
   "source": [
    "%cd /mnt/d/code/quant/qlib\n",
    "!python scripts/dump_bin.py dump_all --help"
   ]
  },
  {
   "cell_type": "code",
   "execution_count": null,
   "id": "f2697cc2-9664-40f3-9bba-5f64de2b941f",
   "metadata": {},
   "outputs": [],
   "source": [
    "index = ['Firefox', 'Chrome', 'Safari', 'IE10', 'Konqueror']\n",
    "df = pd.DataFrame({'http_status': [200, 200, 404, 404, 301],\n",
    "                  'response_time': [0.04, 0.02, 0.07, 0.08, 1.0]},\n",
    "                  index=index)\n",
    "df['http_status'][-2:].shift(1)"
   ]
  },
  {
   "cell_type": "code",
   "execution_count": null,
   "id": "6fdb1a6b-8a63-4e41-ba08-2666f412f4cb",
   "metadata": {},
   "outputs": [],
   "source": [
    "new_index = ['Safari', 'Iceweasel', 'Comodo Dragon', 'IE10', 'Chrome']\n",
    "new_index = ['nowhere']\n",
    "df.reindex(new_index)"
   ]
  },
  {
   "cell_type": "code",
   "execution_count": null,
   "id": "40dc5ac2-746c-4d59-9433-b3a1ab6ccfdd",
   "metadata": {},
   "outputs": [],
   "source": [
    "df = df.set_index('http_status')\n",
    "df = df[~df.index.duplicated(keep=\"first\")]\n",
    "# new_index = ['Safari', 'Iceweasel', 'Comodo Dragon', 'IE10', 'Chrome']\n",
    "new_index = [300]\n",
    "\n",
    "df = df.reindex(new_index).reset_index()\n",
    "list(df.index)"
   ]
  },
  {
   "cell_type": "code",
   "execution_count": null,
   "id": "479d55ce-fa11-4b1d-a18b-2eb4280d27af",
   "metadata": {},
   "outputs": [],
   "source": [
    "df['http_status']"
   ]
  },
  {
   "cell_type": "code",
   "execution_count": null,
   "id": "e933269b-7d88-44d7-ae29-730a9a116d00",
   "metadata": {},
   "outputs": [],
   "source": [
    "df.index"
   ]
  },
  {
   "cell_type": "code",
   "execution_count": null,
   "id": "f6567038-43e6-46e3-9ae7-2188b97caa1a",
   "metadata": {},
   "outputs": [],
   "source": [
    "import numpy as np\n",
    "import pandas as pd\n",
    "x = np.random.random(10000)  # for any variable\n",
    "x_rank = pd.Series(x).rank(pct=True)  # if it is converted to rank, it will be a uniform distributed\n",
    "x_rank_norm = (x_rank - x_rank.mean()) / x_rank.std()  # Normally, we will normalize it to make it like normal distribution\n",
    "\n",
    "x_rank.mean()   # accounts for 0.5\n",
    "1 / x_rank.std()  # accounts for 3.46"
   ]
  },
  {
   "cell_type": "code",
   "execution_count": null,
   "id": "2b4b7dfd-55ef-4757-9f9d-4ea054406130",
   "metadata": {},
   "outputs": [],
   "source": []
  }
 ],
 "metadata": {
  "interpreter": {
   "hash": "67f4027c7030b010d964bcecab45732ca129fbf42fed140ec1ae6d06ef81ce73"
  },
  "kernelspec": {
   "display_name": "Python 3.8.13 ('py38')",
   "language": "python",
   "name": "python3"
  },
  "language_info": {
   "codemirror_mode": {
    "name": "ipython",
    "version": 3
   },
   "file_extension": ".py",
   "mimetype": "text/x-python",
   "name": "python",
   "nbconvert_exporter": "python",
   "pygments_lexer": "ipython3",
   "version": "3.8.13"
  },
  "widgets": {
   "application/vnd.jupyter.widget-state+json": {
    "state": {},
    "version_major": 2,
    "version_minor": 0
   }
  }
 },
 "nbformat": 4,
 "nbformat_minor": 5
}
