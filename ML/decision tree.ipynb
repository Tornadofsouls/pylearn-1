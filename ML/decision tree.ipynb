{
 "cells": [
  {
   "cell_type": "code",
   "execution_count": 1,
   "id": "d18c1152",
   "metadata": {},
   "outputs": [
    {
     "data": {
      "text/plain": [
       "'\\n数据：\\n日期口\\t天气\\t温度\\t湿度\\t有风\\t类别\\n1\\t晴天\\t高温\\t高\\t否\\t否\\n2\\t晴天\\t高温\\t高\\t是\\t否\\n8\\t晴天\\t中温\\t高\\t否\\t否\\n9\\t晴天\\t低温\\t正常\\t否\\t是\\n11\\t晴天\\t中温\\t正常\\t是\\t是\\n4\\t下雨\\t中温\\t高\\t否\\t是\\n5\\t下雨\\t低温\\t正常\\t否\\t是\\n6\\t下雨\\t低温\\t正常\\t是\\t否\\n10\\t下雨\\t中温\\t正常\\t否\\t是\\n14\\t下雨\\t中温\\t高\\t是\\t否\\n3\\t阴天\\t高温\\t高\\t否\\t是\\n7\\t阴天\\t低温\\t正常\\t是\\t是\\n12\\t阴天\\t中温\\t高\\t是\\t是\\n13\\t阴天\\t高温\\t正常\\t否\\t是\\n\\n'"
      ]
     },
     "execution_count": 1,
     "metadata": {},
     "output_type": "execute_result"
    }
   ],
   "source": [
    "import math\n",
    "'''\n",
    "数据：\n",
    "日期口\t天气\t温度\t湿度\t有风\t类别\n",
    "1\t晴天\t高温\t高\t否\t否\n",
    "2\t晴天\t高温\t高\t是\t否\n",
    "8\t晴天\t中温\t高\t否\t否\n",
    "9\t晴天\t低温\t正常\t否\t是\n",
    "11\t晴天\t中温\t正常\t是\t是\n",
    "4\t下雨\t中温\t高\t否\t是\n",
    "5\t下雨\t低温\t正常\t否\t是\n",
    "6\t下雨\t低温\t正常\t是\t否\n",
    "10\t下雨\t中温\t正常\t否\t是\n",
    "14\t下雨\t中温\t高\t是\t否\n",
    "3\t阴天\t高温\t高\t否\t是\n",
    "7\t阴天\t低温\t正常\t是\t是\n",
    "12\t阴天\t中温\t高\t是\t是\n",
    "13\t阴天\t高温\t正常\t否\t是\n",
    "\n",
    "'''"
   ]
  },
  {
   "cell_type": "code",
   "execution_count": 2,
   "id": "28de740d",
   "metadata": {},
   "outputs": [
    {
     "data": {
      "text/plain": [
       "0.9402859586706309"
      ]
     },
     "execution_count": 2,
     "metadata": {},
     "output_type": "execute_result"
    }
   ],
   "source": [
    "'''\n",
    "\t类别\t\t\n",
    "\t否\t是\t总计\n",
    "计数项:类别\t5\t9\t14\n",
    "\n",
    "'''\n",
    "\n",
    "H_D_play = -5/14*math.log(5/14,2)-9/14*math.log(9/14,2)\n",
    "H_D_play"
   ]
  },
  {
   "cell_type": "code",
   "execution_count": 3,
   "id": "cc012226",
   "metadata": {},
   "outputs": [
    {
     "name": "stdout",
     "output_type": "stream",
     "text": [
      "0.9709505944546686\n",
      "-0.0\n",
      "0.9709505944546686\n",
      "0.6935361388961918\n",
      "gain(D,天气)= 0.2467498197744391\n"
     ]
    }
   ],
   "source": [
    "#1.天气\n",
    "'''计数项:类别\t类别\t\t\n",
    "天气\t否\t是\t总计\n",
    "晴天\t3\t2\t5\n",
    "下雨\t2\t3\t5\n",
    "阴天\t\t4\t4\n",
    "总计\t5\t9\t14\n",
    "'''\n",
    "H_sunny = -3/5*math.log(3/5,2)-2/5*math.log(2/5,2)\n",
    "H_shady = -4/4*math.log(4/4,2)\n",
    "H_rainy = -3/5*math.log(3/5,2)-2/5*math.log(2/5,2)\n",
    "H_weather = 5/14*H_sunny+4/14*H_shady+5/14*H_rainy\n",
    "print(H_sunny)\n",
    "print(H_shady)\n",
    "print(H_rainy)\n",
    "print(H_weather)\n",
    "print(\"gain(D,天气)=\",H_D_play-H_weather)"
   ]
  },
  {
   "cell_type": "code",
   "execution_count": 4,
   "id": "513e58ab",
   "metadata": {},
   "outputs": [
    {
     "name": "stdout",
     "output_type": "stream",
     "text": [
      "0.8112781244591328\n",
      "1.0\n",
      "0.9182958340544896\n",
      "0.9110633930116763\n",
      "gain(D,温度)= 0.029222565658954647\n"
     ]
    }
   ],
   "source": [
    "#1.温度\n",
    "'''计数项:类别\t类别\t\t\n",
    "温度\t否\t是\t总计\n",
    "低温\t1\t3\t4\n",
    "高温\t2\t2\t4\n",
    "中温\t2\t4\t6\n",
    "总计\t5\t9\t14\n",
    "'''\n",
    "H_low =-1/4*math.log(1/4,2)-3/4*math.log(3/4,2) \n",
    "H_high = -2/4*math.log(2/4,2)-2/4*math.log(2/4,2) \n",
    "H_medium=-2/6*math.log(2/6,2)-4/6*math.log(4/6,2) \n",
    "H_humi=4/14*H_low+4/14*H_high+6/14*H_medium\n",
    "print(H_low)\n",
    "print(H_high)\n",
    "print(H_medium)\n",
    "print(H_humi)\n",
    "print(\"gain(D,温度)=\",H_D_play-H_humi)"
   ]
  },
  {
   "cell_type": "code",
   "execution_count": 5,
   "id": "0606fd91",
   "metadata": {},
   "outputs": [
    {
     "name": "stdout",
     "output_type": "stream",
     "text": [
      "0.9852281360342516\n",
      "0.5916727785823275\n",
      "0.7884504573082896\n",
      "gain(D,humi)= 0.15183550136234136\n"
     ]
    }
   ],
   "source": [
    "#1.湿度\n",
    "'''计数项:类别\t类别\t\t\n",
    "湿度\t否\t是\t总计\n",
    "高\t4\t3\t7\n",
    "正常\t1\t6\t7\n",
    "总计\t5\t9\t14\n",
    "'''\n",
    "H_hi = -4/7*math.log(4/7,2)-3/7*math.log(3/7,2)\n",
    "H_norm = -1/7*math.log(1/7,2)-6/7*math.log(6/7,2)\n",
    "H_humi = 7/14*H_hi+7/14*H_norm\n",
    "print(H_hi)\n",
    "print(H_norm)\n",
    "print(H_humi)\n",
    "print(\"gain(D,humi)=\",H_D_play-H_humi)"
   ]
  },
  {
   "cell_type": "code",
   "execution_count": 6,
   "id": "5d94da2a",
   "metadata": {},
   "outputs": [
    {
     "name": "stdout",
     "output_type": "stream",
     "text": [
      "1.0\n",
      "0.8112781244591328\n",
      "0.8921589282623617\n",
      "gain(D,windy)= 0.04812703040826927\n"
     ]
    }
   ],
   "source": [
    "#1.有风\n",
    "'''计数项:类别\t类别\t\t\n",
    "有风\t否\t是\t总计\n",
    "否\t2\t6\t8\n",
    "是\t3\t3\t6\n",
    "总计\t5\t9\t14\n",
    "'''\n",
    "H_n = -2/8*math.log(2/8,2)-6/8*math.log(6/8,2)\n",
    "H_y = -3/6*math.log(3/6,2)-3/6*math.log(3/6,2)\n",
    "H_windy = 8/14*H_n+6/14*H_y\n",
    "print(H_y)\n",
    "print(H_n)\n",
    "print(H_windy)\n",
    "print('gain(D,windy)=',H_D_play-H_windy)"
   ]
  },
  {
   "cell_type": "code",
   "execution_count": 7,
   "id": "74a16c30",
   "metadata": {},
   "outputs": [
    {
     "data": {
      "text/plain": [
       "0.9709505944546686"
      ]
     },
     "execution_count": 7,
     "metadata": {},
     "output_type": "execute_result"
    }
   ],
   "source": [
    "#2. 晴天-H(D1)\n",
    "'''\n",
    "数据：\n",
    "日期口\t天气\t温度\t湿度\t有风\t类别\n",
    "9\t晴天\t低温\t正常\t否\t是\n",
    "2\t晴天\t高温\t高\t是\t否\n",
    "1\t晴天\t高温\t高\t否\t否\n",
    "11\t晴天\t中温\t正常\t是\t是\n",
    "8\t晴天\t中温\t高\t否\t否\n",
    "\n",
    "统计：\n",
    "计数项:类别\t类别\t\t\n",
    "天气\t否\t是\t总计\n",
    "晴天\t3\t2\t5\n",
    "总计\t3\t2\t5\n",
    "\n",
    "'''\n",
    "H_D1_play = -3/5*math.log(3/5,2)-2/5*math.log(2/5,2)\n",
    "H_D1_play"
   ]
  },
  {
   "cell_type": "code",
   "execution_count": 8,
   "id": "28e9eadd",
   "metadata": {},
   "outputs": [
    {
     "name": "stdout",
     "output_type": "stream",
     "text": [
      "-0.0\n",
      "-0.0\n",
      "1.0\n",
      "0.4\n",
      "gain(D1,温度)= 0.5709505944546686\n"
     ]
    }
   ],
   "source": [
    "#2.晴天-温度\n",
    "'''计数项:类别\t类别\t\t\n",
    "温度\t否\t是\t总计\n",
    "低温\t\t1\t1\n",
    "高温\t2\t\t2\n",
    "中温\t1\t1\t2\n",
    "总计\t3\t2\t5\n",
    "'''\n",
    "H_low_2 =-1/1*math.log(1/1,2)\n",
    "H_high_2 = -2/2*math.log(2/2,2)\n",
    "H_medium_2=-1/2*math.log(1/2,2)-1/2*math.log(1/2,2) \n",
    "H_temp_2=1/5*H_low_2+2/5*H_high_2+2/5*H_medium_2\n",
    "print(H_low_2)\n",
    "print(H_high_2)\n",
    "print(H_medium_2)\n",
    "print(H_temp_2)\n",
    "print(\"gain(D1,温度)=\",H_D1_play-H_temp_2)\n"
   ]
  },
  {
   "cell_type": "code",
   "execution_count": 9,
   "id": "4f43db7b",
   "metadata": {},
   "outputs": [
    {
     "name": "stdout",
     "output_type": "stream",
     "text": [
      "-0.0\n",
      "gain(D1,humi)= 0.9709505944546686\n"
     ]
    }
   ],
   "source": [
    "#2. 晴天-湿度\n",
    "'''计数项:类别\t类别\t\t\n",
    "湿度\t否\t是\t总计\n",
    "高\t3\t\t3\n",
    "正常\t\t2\t2\n",
    "总计\t3\t2\t5\n",
    "'''\n",
    "H_hi_2 = -3/3*math.log(3/3,2)\n",
    "H_norm_2 = -2/2*math.log(2/2,2)\n",
    "H_humi_2 = 3/5*H_hi_2+2/5*H_norm_2\n",
    "print(H_humi_2)\n",
    "print(\"gain(D1,humi)=\",H_D1_play-H_humi_2)\n"
   ]
  },
  {
   "cell_type": "code",
   "execution_count": 10,
   "id": "cc7ca94d",
   "metadata": {},
   "outputs": [
    {
     "name": "stdout",
     "output_type": "stream",
     "text": [
      "0.9182958340544896\n",
      "1.0\n",
      "0.9509775004326937\n",
      "gain(D,windy)= 0.01997309402197489\n"
     ]
    }
   ],
   "source": [
    "#2. 晴天-有风\n",
    "'''计数项:类别\t类别\t\t\n",
    "有风\t否\t是\t总计\n",
    "否\t2\t1\t3\n",
    "是\t1\t1\t2\n",
    "总计\t3\t2\t5\n",
    "'''\n",
    "H_n_2 = -2/3*math.log(2/3,2)-1/3*math.log(1/3,2)\n",
    "H_y_2 = -1/2*math.log(1/2,2)-1/2*math.log(1/2,2)\n",
    "H_windy_2 = 3/5*H_n_2+2/5*H_y_2\n",
    "print(H_n_2)\n",
    "print(H_y_2)\n",
    "print(H_windy_2)\n",
    "print('gain(D,windy)=',H_D1_play-H_windy_2)"
   ]
  },
  {
   "cell_type": "code",
   "execution_count": 11,
   "id": "da87bd8a",
   "metadata": {},
   "outputs": [
    {
     "data": {
      "text/plain": [
       "0.9709505944546686"
      ]
     },
     "execution_count": 11,
     "metadata": {},
     "output_type": "execute_result"
    }
   ],
   "source": [
    "#3. 下雨-H(D2)\n",
    "'''\n",
    "数据：\n",
    "\n",
    "日期口\t天气\t温度\t湿度\t有风\t类别\n",
    "4\t下雨\t中温\t高\t否\t是\n",
    "5\t下雨\t低温\t正常\t否\t是\n",
    "10\t下雨\t中温\t正常\t否\t是\n",
    "6\t下雨\t低温\t正常\t是\t否\n",
    "14\t下雨\t中温\t高\t是\t否\n",
    "\n",
    "统计：\n",
    "\n",
    "计数项:类别\t类别\t\t\n",
    "天气\t否\t是\t总计\n",
    "下雨\t2\t3\t5\n",
    "总计\t2\t3\t5\n",
    "\n",
    "'''\n",
    "H_D2_play = -3/5*math.log(3/5,2)-2/5*math.log(2/5,2)\n",
    "H_D2_play"
   ]
  },
  {
   "cell_type": "code",
   "execution_count": 12,
   "id": "b290572b",
   "metadata": {},
   "outputs": [
    {
     "name": "stdout",
     "output_type": "stream",
     "text": [
      "1.0\n",
      "0.9182958340544896\n",
      "0.9509775004326937\n",
      "gain(D2,温度)= 0.01997309402197489\n"
     ]
    }
   ],
   "source": [
    "#3.下雨-温度\n",
    "'''\n",
    "计数项:类别\t类别\t\t\n",
    "温度\t否\t是\t总计\n",
    "低温\t1\t1\t2\n",
    "中温\t1\t2\t3\n",
    "总计\t2\t3\t5\n",
    "\n",
    "'''\n",
    "H_low_3 =-1/2*math.log(1/2,2)-1/2*math.log(1/2,2)\n",
    "\n",
    "H_medium_3=-1/3*math.log(1/3,2)-2/3*math.log(2/3,2) \n",
    "H_temp_3=2/5*H_low_3+3/5*H_medium_3\n",
    "print(H_low_3)\n",
    "print(H_medium_3)\n",
    "print(H_temp_3)\n",
    "print(\"gain(D2,温度)=\",H_D2_play-H_temp_3)"
   ]
  },
  {
   "cell_type": "code",
   "execution_count": 13,
   "id": "e5a6104b",
   "metadata": {},
   "outputs": [
    {
     "name": "stdout",
     "output_type": "stream",
     "text": [
      "1.0\n",
      "0.9182958340544896\n",
      "0.9509775004326937\n",
      "gain(D2,humi)= 0.01997309402197489\n"
     ]
    }
   ],
   "source": [
    "#3. 下雨-湿度\n",
    "'''\n",
    "计数项:类别\t类别\t\t\n",
    "湿度\t否\t是\t总计\n",
    "高\t1\t1\t2\n",
    "正常\t1\t2\t3\n",
    "总计\t2\t3\t5\n",
    "\n",
    "'''\n",
    "H_hi_3 = -1/2*math.log(1/2,2)-1/2*math.log(1/2,2)\n",
    "H_norm_3 = -1/3*math.log(1/3,2)-2/3*math.log(2/3,2)\n",
    "H_humi_3 = 2/5*H_hi_3+3/5*H_norm_3\n",
    "print(H_hi_3)\n",
    "print(H_norm_3)\n",
    "print(H_humi_3)\n",
    "print(\"gain(D2,humi)=\",H_D2_play-H_humi_3)"
   ]
  },
  {
   "cell_type": "code",
   "execution_count": 14,
   "id": "82fa0adc",
   "metadata": {},
   "outputs": [
    {
     "name": "stdout",
     "output_type": "stream",
     "text": [
      "-0.0\n",
      "gain(D2,windy)= 0.9709505944546686\n"
     ]
    }
   ],
   "source": [
    "#3. 下雨-有风\n",
    "'''\n",
    "计数项:类别\t类别\t\t\n",
    "有风\t否\t是\t总计\n",
    "否\t\t3\t3\n",
    "是\t2\t\t2\n",
    "总计\t2\t3\t5\n",
    "\n",
    "'''\n",
    "H_y_3 = -2/2*math.log(2/2,2)\n",
    "H_n_3 = -3/3*math.log(3/3,2)\n",
    "H_windy_3 = 2/5*H_y_3+3/5*H_n_3\n",
    "print(H_windy_3)\n",
    "print('gain(D2,windy)=',H_D2_play-H_windy_3)"
   ]
  },
  {
   "cell_type": "code",
   "execution_count": 15,
   "id": "6ee98948",
   "metadata": {},
   "outputs": [
    {
     "name": "stdout",
     "output_type": "stream",
     "text": [
      "    日期  天气  温度  湿度 有风 类别\n",
      "0    1  晴天  高温   高  否  否\n",
      "1    2  晴天  高温   高  是  否\n",
      "2    8  晴天  中温   高  否  否\n",
      "3    9  晴天  低温  正常  否  是\n",
      "4   11  晴天  中温  正常  是  是\n",
      "5    4  下雨  中温   高  否  是\n",
      "6    5  下雨  低温  正常  否  是\n",
      "7    6  下雨  低温  正常  是  否\n",
      "8   10  下雨  中温  正常  否  是\n",
      "9   14  下雨  中温   高  是  否\n",
      "10   3  阴天  高温   高  否  是\n",
      "11   7  阴天  低温  正常  是  是\n",
      "12  12  阴天  中温   高  是  是\n",
      "13  13  阴天  高温  正常  否  是\n"
     ]
    }
   ],
   "source": [
    "import pandas as pd\n",
    "import numpy as np\n",
    "data = pd.read_csv('weather.csv',encoding='gb18030')#文件中读取中文的编码格式\n",
    "print(data)"
   ]
  },
  {
   "cell_type": "code",
   "execution_count": 16,
   "id": "c7f59045",
   "metadata": {},
   "outputs": [
    {
     "name": "stdout",
     "output_type": "stream",
     "text": [
      "<class 'pandas.core.frame.DataFrame'>\n",
      "RangeIndex: 14 entries, 0 to 13\n",
      "Data columns (total 6 columns):\n",
      " #   Column  Non-Null Count  Dtype \n",
      "---  ------  --------------  ----- \n",
      " 0   日期      14 non-null     int64 \n",
      " 1   天气      14 non-null     object\n",
      " 2   温度      14 non-null     object\n",
      " 3   湿度      14 non-null     object\n",
      " 4   有风      14 non-null     object\n",
      " 5   类别      14 non-null     object\n",
      "dtypes: int64(1), object(5)\n",
      "memory usage: 800.0+ bytes\n",
      "None\n"
     ]
    }
   ],
   "source": [
    "print(data.info())"
   ]
  },
  {
   "cell_type": "code",
   "execution_count": 24,
   "id": "101ef060",
   "metadata": {},
   "outputs": [
    {
     "name": "stdout",
     "output_type": "stream",
     "text": [
      "    天气  温度  湿度 有风\n",
      "0   晴天  高温   高  否\n",
      "1   晴天  高温   高  是\n",
      "2   晴天  中温   高  否\n",
      "3   晴天  低温  正常  否\n",
      "4   晴天  中温  正常  是\n",
      "5   下雨  中温   高  否\n",
      "6   下雨  低温  正常  否\n",
      "7   下雨  低温  正常  是\n",
      "8   下雨  中温  正常  否\n",
      "9   下雨  中温   高  是\n",
      "10  阴天  高温   高  否\n",
      "11  阴天  低温  正常  是\n",
      "12  阴天  中温   高  是\n",
      "13  阴天  高温  正常  否\n"
     ]
    },
    {
     "data": {
      "text/html": [
       "<div>\n",
       "<style scoped>\n",
       "    .dataframe tbody tr th:only-of-type {\n",
       "        vertical-align: middle;\n",
       "    }\n",
       "\n",
       "    .dataframe tbody tr th {\n",
       "        vertical-align: top;\n",
       "    }\n",
       "\n",
       "    .dataframe thead th {\n",
       "        text-align: right;\n",
       "    }\n",
       "</style>\n",
       "<table border=\"1\" class=\"dataframe\">\n",
       "  <thead>\n",
       "    <tr style=\"text-align: right;\">\n",
       "      <th></th>\n",
       "      <th>天气_下雨</th>\n",
       "      <th>天气_晴天</th>\n",
       "      <th>天气_阴天</th>\n",
       "      <th>温度_中温</th>\n",
       "      <th>温度_低温</th>\n",
       "      <th>温度_高温</th>\n",
       "      <th>湿度_正常</th>\n",
       "      <th>湿度_高</th>\n",
       "      <th>有风_否</th>\n",
       "      <th>有风_是</th>\n",
       "    </tr>\n",
       "  </thead>\n",
       "  <tbody>\n",
       "    <tr>\n",
       "      <th>0</th>\n",
       "      <td>0</td>\n",
       "      <td>1</td>\n",
       "      <td>0</td>\n",
       "      <td>0</td>\n",
       "      <td>0</td>\n",
       "      <td>1</td>\n",
       "      <td>0</td>\n",
       "      <td>1</td>\n",
       "      <td>1</td>\n",
       "      <td>0</td>\n",
       "    </tr>\n",
       "    <tr>\n",
       "      <th>1</th>\n",
       "      <td>0</td>\n",
       "      <td>1</td>\n",
       "      <td>0</td>\n",
       "      <td>0</td>\n",
       "      <td>0</td>\n",
       "      <td>1</td>\n",
       "      <td>0</td>\n",
       "      <td>1</td>\n",
       "      <td>0</td>\n",
       "      <td>1</td>\n",
       "    </tr>\n",
       "    <tr>\n",
       "      <th>2</th>\n",
       "      <td>0</td>\n",
       "      <td>1</td>\n",
       "      <td>0</td>\n",
       "      <td>1</td>\n",
       "      <td>0</td>\n",
       "      <td>0</td>\n",
       "      <td>0</td>\n",
       "      <td>1</td>\n",
       "      <td>1</td>\n",
       "      <td>0</td>\n",
       "    </tr>\n",
       "    <tr>\n",
       "      <th>3</th>\n",
       "      <td>0</td>\n",
       "      <td>1</td>\n",
       "      <td>0</td>\n",
       "      <td>0</td>\n",
       "      <td>1</td>\n",
       "      <td>0</td>\n",
       "      <td>1</td>\n",
       "      <td>0</td>\n",
       "      <td>1</td>\n",
       "      <td>0</td>\n",
       "    </tr>\n",
       "    <tr>\n",
       "      <th>4</th>\n",
       "      <td>0</td>\n",
       "      <td>1</td>\n",
       "      <td>0</td>\n",
       "      <td>1</td>\n",
       "      <td>0</td>\n",
       "      <td>0</td>\n",
       "      <td>1</td>\n",
       "      <td>0</td>\n",
       "      <td>0</td>\n",
       "      <td>1</td>\n",
       "    </tr>\n",
       "    <tr>\n",
       "      <th>5</th>\n",
       "      <td>1</td>\n",
       "      <td>0</td>\n",
       "      <td>0</td>\n",
       "      <td>1</td>\n",
       "      <td>0</td>\n",
       "      <td>0</td>\n",
       "      <td>0</td>\n",
       "      <td>1</td>\n",
       "      <td>1</td>\n",
       "      <td>0</td>\n",
       "    </tr>\n",
       "    <tr>\n",
       "      <th>6</th>\n",
       "      <td>1</td>\n",
       "      <td>0</td>\n",
       "      <td>0</td>\n",
       "      <td>0</td>\n",
       "      <td>1</td>\n",
       "      <td>0</td>\n",
       "      <td>1</td>\n",
       "      <td>0</td>\n",
       "      <td>1</td>\n",
       "      <td>0</td>\n",
       "    </tr>\n",
       "    <tr>\n",
       "      <th>7</th>\n",
       "      <td>1</td>\n",
       "      <td>0</td>\n",
       "      <td>0</td>\n",
       "      <td>0</td>\n",
       "      <td>1</td>\n",
       "      <td>0</td>\n",
       "      <td>1</td>\n",
       "      <td>0</td>\n",
       "      <td>0</td>\n",
       "      <td>1</td>\n",
       "    </tr>\n",
       "    <tr>\n",
       "      <th>8</th>\n",
       "      <td>1</td>\n",
       "      <td>0</td>\n",
       "      <td>0</td>\n",
       "      <td>1</td>\n",
       "      <td>0</td>\n",
       "      <td>0</td>\n",
       "      <td>1</td>\n",
       "      <td>0</td>\n",
       "      <td>1</td>\n",
       "      <td>0</td>\n",
       "    </tr>\n",
       "    <tr>\n",
       "      <th>9</th>\n",
       "      <td>1</td>\n",
       "      <td>0</td>\n",
       "      <td>0</td>\n",
       "      <td>1</td>\n",
       "      <td>0</td>\n",
       "      <td>0</td>\n",
       "      <td>0</td>\n",
       "      <td>1</td>\n",
       "      <td>0</td>\n",
       "      <td>1</td>\n",
       "    </tr>\n",
       "    <tr>\n",
       "      <th>10</th>\n",
       "      <td>0</td>\n",
       "      <td>0</td>\n",
       "      <td>1</td>\n",
       "      <td>0</td>\n",
       "      <td>0</td>\n",
       "      <td>1</td>\n",
       "      <td>0</td>\n",
       "      <td>1</td>\n",
       "      <td>1</td>\n",
       "      <td>0</td>\n",
       "    </tr>\n",
       "    <tr>\n",
       "      <th>11</th>\n",
       "      <td>0</td>\n",
       "      <td>0</td>\n",
       "      <td>1</td>\n",
       "      <td>0</td>\n",
       "      <td>1</td>\n",
       "      <td>0</td>\n",
       "      <td>1</td>\n",
       "      <td>0</td>\n",
       "      <td>0</td>\n",
       "      <td>1</td>\n",
       "    </tr>\n",
       "    <tr>\n",
       "      <th>12</th>\n",
       "      <td>0</td>\n",
       "      <td>0</td>\n",
       "      <td>1</td>\n",
       "      <td>1</td>\n",
       "      <td>0</td>\n",
       "      <td>0</td>\n",
       "      <td>0</td>\n",
       "      <td>1</td>\n",
       "      <td>0</td>\n",
       "      <td>1</td>\n",
       "    </tr>\n",
       "    <tr>\n",
       "      <th>13</th>\n",
       "      <td>0</td>\n",
       "      <td>0</td>\n",
       "      <td>1</td>\n",
       "      <td>0</td>\n",
       "      <td>0</td>\n",
       "      <td>1</td>\n",
       "      <td>1</td>\n",
       "      <td>0</td>\n",
       "      <td>1</td>\n",
       "      <td>0</td>\n",
       "    </tr>\n",
       "  </tbody>\n",
       "</table>\n",
       "</div>"
      ],
      "text/plain": [
       "    天气_下雨  天气_晴天  天气_阴天  温度_中温  温度_低温  温度_高温  湿度_正常  湿度_高  有风_否  有风_是\n",
       "0       0      1      0      0      0      1      0     1     1     0\n",
       "1       0      1      0      0      0      1      0     1     0     1\n",
       "2       0      1      0      1      0      0      0     1     1     0\n",
       "3       0      1      0      0      1      0      1     0     1     0\n",
       "4       0      1      0      1      0      0      1     0     0     1\n",
       "5       1      0      0      1      0      0      0     1     1     0\n",
       "6       1      0      0      0      1      0      1     0     1     0\n",
       "7       1      0      0      0      1      0      1     0     0     1\n",
       "8       1      0      0      1      0      0      1     0     1     0\n",
       "9       1      0      0      1      0      0      0     1     0     1\n",
       "10      0      0      1      0      0      1      0     1     1     0\n",
       "11      0      0      1      0      1      0      1     0     0     1\n",
       "12      0      0      1      1      0      0      0     1     0     1\n",
       "13      0      0      1      0      0      1      1     0     1     0"
      ]
     },
     "execution_count": 24,
     "metadata": {},
     "output_type": "execute_result"
    }
   ],
   "source": [
    "X = data.loc[:, ['天气','温度','湿度','有风']]\n",
    "print(X)\n",
    "X1 = pd.get_dummies(X[['天气','温度','湿度','有风']], drop_first=False)\n",
    "X1"
   ]
  },
  {
   "cell_type": "code",
   "execution_count": 19,
   "id": "a6ef19aa",
   "metadata": {},
   "outputs": [
    {
     "name": "stdout",
     "output_type": "stream",
     "text": [
      "0     否\n",
      "1     否\n",
      "2     否\n",
      "3     是\n",
      "4     是\n",
      "5     是\n",
      "6     是\n",
      "7     否\n",
      "8     是\n",
      "9     否\n",
      "10    是\n",
      "11    是\n",
      "12    是\n",
      "13    是\n",
      "Name: 类别, dtype: object\n"
     ]
    }
   ],
   "source": [
    "y = data.loc[:,'类别']\n",
    "print(y)"
   ]
  },
  {
   "cell_type": "code",
   "execution_count": 20,
   "id": "30dad0ab",
   "metadata": {},
   "outputs": [
    {
     "data": {
      "text/plain": [
       "DecisionTreeClassifier(criterion='entropy')"
      ]
     },
     "execution_count": 20,
     "metadata": {},
     "output_type": "execute_result"
    }
   ],
   "source": [
    "from sklearn import tree\n",
    "dc_tree = tree.DecisionTreeClassifier(criterion='entropy')\n",
    "dc_tree.fit(X1, y)"
   ]
  },
  {
   "cell_type": "code",
   "execution_count": 23,
   "id": "af67c810",
   "metadata": {},
   "outputs": [
    {
     "name": "stderr",
     "output_type": "stream",
     "text": [
      "c:\\Users\\73915\\.conda\\envs\\py38\\lib\\site-packages\\sklearn\\utils\\deprecation.py:87: FutureWarning: Function get_feature_names is deprecated; get_feature_names is deprecated in 1.0 and will be removed in 1.2. Please use get_feature_names_out instead.\n",
      "  warnings.warn(msg, category=FutureWarning)\n"
     ]
    },
    {
     "data": {
      "text/html": [
       "<div>\n",
       "<style scoped>\n",
       "    .dataframe tbody tr th:only-of-type {\n",
       "        vertical-align: middle;\n",
       "    }\n",
       "\n",
       "    .dataframe tbody tr th {\n",
       "        vertical-align: top;\n",
       "    }\n",
       "\n",
       "    .dataframe thead th {\n",
       "        text-align: right;\n",
       "    }\n",
       "</style>\n",
       "<table border=\"1\" class=\"dataframe\">\n",
       "  <thead>\n",
       "    <tr style=\"text-align: right;\">\n",
       "      <th></th>\n",
       "      <th>天气_下雨</th>\n",
       "      <th>天气_晴天</th>\n",
       "      <th>天气_阴天</th>\n",
       "      <th>温度_中温</th>\n",
       "      <th>温度_低温</th>\n",
       "      <th>温度_高温</th>\n",
       "      <th>湿度_正常</th>\n",
       "      <th>湿度_高</th>\n",
       "      <th>有风_否</th>\n",
       "      <th>有风_是</th>\n",
       "    </tr>\n",
       "  </thead>\n",
       "  <tbody>\n",
       "    <tr>\n",
       "      <th>0</th>\n",
       "      <td>0.0</td>\n",
       "      <td>1.0</td>\n",
       "      <td>0.0</td>\n",
       "      <td>0.0</td>\n",
       "      <td>0.0</td>\n",
       "      <td>1.0</td>\n",
       "      <td>0.0</td>\n",
       "      <td>1.0</td>\n",
       "      <td>1.0</td>\n",
       "      <td>0.0</td>\n",
       "    </tr>\n",
       "    <tr>\n",
       "      <th>1</th>\n",
       "      <td>0.0</td>\n",
       "      <td>1.0</td>\n",
       "      <td>0.0</td>\n",
       "      <td>0.0</td>\n",
       "      <td>0.0</td>\n",
       "      <td>1.0</td>\n",
       "      <td>0.0</td>\n",
       "      <td>1.0</td>\n",
       "      <td>0.0</td>\n",
       "      <td>1.0</td>\n",
       "    </tr>\n",
       "    <tr>\n",
       "      <th>2</th>\n",
       "      <td>0.0</td>\n",
       "      <td>1.0</td>\n",
       "      <td>0.0</td>\n",
       "      <td>1.0</td>\n",
       "      <td>0.0</td>\n",
       "      <td>0.0</td>\n",
       "      <td>0.0</td>\n",
       "      <td>1.0</td>\n",
       "      <td>1.0</td>\n",
       "      <td>0.0</td>\n",
       "    </tr>\n",
       "    <tr>\n",
       "      <th>3</th>\n",
       "      <td>0.0</td>\n",
       "      <td>1.0</td>\n",
       "      <td>0.0</td>\n",
       "      <td>0.0</td>\n",
       "      <td>1.0</td>\n",
       "      <td>0.0</td>\n",
       "      <td>1.0</td>\n",
       "      <td>0.0</td>\n",
       "      <td>1.0</td>\n",
       "      <td>0.0</td>\n",
       "    </tr>\n",
       "    <tr>\n",
       "      <th>4</th>\n",
       "      <td>0.0</td>\n",
       "      <td>1.0</td>\n",
       "      <td>0.0</td>\n",
       "      <td>1.0</td>\n",
       "      <td>0.0</td>\n",
       "      <td>0.0</td>\n",
       "      <td>1.0</td>\n",
       "      <td>0.0</td>\n",
       "      <td>0.0</td>\n",
       "      <td>1.0</td>\n",
       "    </tr>\n",
       "  </tbody>\n",
       "</table>\n",
       "</div>"
      ],
      "text/plain": [
       "   天气_下雨  天气_晴天  天气_阴天  温度_中温  温度_低温  温度_高温  湿度_正常  湿度_高  有风_否  有风_是\n",
       "0    0.0    1.0    0.0    0.0    0.0    1.0    0.0   1.0   1.0   0.0\n",
       "1    0.0    1.0    0.0    0.0    0.0    1.0    0.0   1.0   0.0   1.0\n",
       "2    0.0    1.0    0.0    1.0    0.0    0.0    0.0   1.0   1.0   0.0\n",
       "3    0.0    1.0    0.0    0.0    1.0    0.0    1.0   0.0   1.0   0.0\n",
       "4    0.0    1.0    0.0    1.0    0.0    0.0    1.0   0.0   0.0   1.0"
      ]
     },
     "execution_count": 23,
     "metadata": {},
     "output_type": "execute_result"
    }
   ],
   "source": [
    "# encoders\n",
    "from sklearn.preprocessing import OneHotEncoder\n",
    "\n",
    "ohe = OneHotEncoder()\n",
    "\n",
    "ohe.fit(X)\n",
    "X_train_ohe = ohe.transform(X).toarray()\n",
    "\n",
    "# Creating this DataFrame is not necessary its only to show the result of the ohe\n",
    "ohe_df = pd.DataFrame(X_train_ohe, columns=ohe.get_feature_names(X.columns))\n",
    "\n",
    "ohe_df.head()\n"
   ]
  },
  {
   "cell_type": "code",
   "execution_count": 22,
   "id": "f48b1863",
   "metadata": {},
   "outputs": [
    {
     "data": {
      "text/plain": [
       "[Text(516.6666666666667, 693.0, 'X[2] <= 0.5\\nentropy = 0.94\\nsamples = 14\\nvalue = [5, 9]'),\n",
       " Text(430.55555555555554, 539.0, 'X[7] <= 0.5\\nentropy = 1.0\\nsamples = 10\\nvalue = [5, 5]'),\n",
       " Text(258.33333333333337, 385.0, 'X[8] <= 0.5\\nentropy = 0.722\\nsamples = 5\\nvalue = [1, 4]'),\n",
       " Text(172.22222222222223, 231.0, 'X[3] <= 0.5\\nentropy = 1.0\\nsamples = 2\\nvalue = [1, 1]'),\n",
       " Text(86.11111111111111, 77.0, 'entropy = 0.0\\nsamples = 1\\nvalue = [1, 0]'),\n",
       " Text(258.33333333333337, 77.0, 'entropy = 0.0\\nsamples = 1\\nvalue = [0, 1]'),\n",
       " Text(344.44444444444446, 231.0, 'entropy = 0.0\\nsamples = 3\\nvalue = [0, 3]'),\n",
       " Text(602.7777777777778, 385.0, 'X[1] <= 0.5\\nentropy = 0.722\\nsamples = 5\\nvalue = [4, 1]'),\n",
       " Text(516.6666666666667, 231.0, 'X[8] <= 0.5\\nentropy = 1.0\\nsamples = 2\\nvalue = [1, 1]'),\n",
       " Text(430.55555555555554, 77.0, 'entropy = 0.0\\nsamples = 1\\nvalue = [1, 0]'),\n",
       " Text(602.7777777777778, 77.0, 'entropy = 0.0\\nsamples = 1\\nvalue = [0, 1]'),\n",
       " Text(688.8888888888889, 231.0, 'entropy = 0.0\\nsamples = 3\\nvalue = [3, 0]'),\n",
       " Text(602.7777777777778, 539.0, 'entropy = 0.0\\nsamples = 4\\nvalue = [0, 4]')]"
      ]
     },
     "execution_count": 22,
     "metadata": {},
     "output_type": "execute_result"
    },
    {
     "data": {
      "image/png": "[encoded data removed]",
      "text/plain": [
       "<Figure size 1000x1000 with 1 Axes>"
      ]
     },
     "metadata": {},
     "output_type": "display_data"
    }
   ],
   "source": [
    "%matplotlib inline\n",
    "from matplotlib import pyplot as plt\n",
    "fig = plt.figure(figsize=(10, 10))\n",
    "tree.plot_tree(dc_tree)"
   ]
  },
  {
   "cell_type": "code",
   "execution_count": null,
   "id": "7716e338",
   "metadata": {},
   "outputs": [],
   "source": []
  }
 ],
 "metadata": {
  "kernelspec": {
   "display_name": "Python 3",
   "language": "python",
   "name": "python3"
  },
  "language_info": {
   "codemirror_mode": {
    "name": "ipython",
    "version": 3
   },
   "file_extension": ".py",
   "mimetype": "text/x-python",
   "name": "python",
   "nbconvert_exporter": "python",
   "pygments_lexer": "ipython3",
   "version": "3.8.13"
  }
 },
 "nbformat": 4,
 "nbformat_minor": 5
}
