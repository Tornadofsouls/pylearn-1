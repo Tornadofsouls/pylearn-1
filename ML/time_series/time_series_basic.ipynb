{
 "cells": [
  {
   "attachments": {},
   "cell_type": "markdown",
   "metadata": {},
   "source": [
    "# tutorial\n",
    "* ARIMA 模型介绍（自兴人工智能教育）： https://www.bilibili.com/video/BV1F441187xt/?spm_id_from=333.337.search-card.all.click&vd_source=4f540ce91ea1993e85a6220114f4548e\n",
    "* https://otexts.com/fppcn/wn.html\n",
    "* "
   ]
  }
 ],
 "metadata": {
  "language_info": {
   "name": "python"
  },
  "orig_nbformat": 4
 },
 "nbformat": 4,
 "nbformat_minor": 2
}
