{
 "cells": [
  {
   "cell_type": "code",
   "execution_count": 2,
   "id": "a087af05",
   "metadata": {},
   "outputs": [],
   "source": [
    "import pandas as pd\n",
    "import keras\n",
    "# from keras.models import Sequential\n",
    "# from keras.layers import Dense\n",
    "from sklearn.model_selection import train_test_split\n",
    "import matplotlib.pyplot as plt\n",
    "from sklearn.metrics import accuracy_score\n",
    "import tensorflow as tf\n",
    "from tensorflow.keras.models import Sequential\n",
    "from tensorflow.keras.layers import Flatten\n",
    "from tensorflow.keras.layers import Dense\n",
    "from tensorflow.keras.layers import Activation\n",
    "import numpy as np"
   ]
  },
  {
   "cell_type": "code",
   "execution_count": 3,
   "id": "602b4483",
   "metadata": {},
   "outputs": [
    {
     "data": {
      "text/plain": [
       "(399, 3)"
      ]
     },
     "execution_count": 3,
     "metadata": {},
     "output_type": "execute_result"
    }
   ],
   "source": [
    "#加载数据\n",
    "data = pd.read_csv('datanew.csv')\n",
    "data.shape"
   ]
  },
  {
   "cell_type": "code",
   "execution_count": 4,
   "id": "d25077d4",
   "metadata": {},
   "outputs": [
    {
     "name": "stdout",
     "output_type": "stream",
     "text": [
      "(399, 2)\n",
      "<class 'pandas.core.frame.DataFrame'>\n",
      "(399,)\n"
     ]
    }
   ],
   "source": [
    "#定义X，y\n",
    "X = data.drop(['y'],axis=1)\n",
    "y = data.loc[:,'y']\n",
    "print(X.shape)\n",
    "print(type(X))\n",
    "print(y.shape)"
   ]
  },
  {
   "cell_type": "code",
   "execution_count": 4,
   "id": "e1a5ad99",
   "metadata": {},
   "outputs": [
    {
     "name": "stderr",
     "output_type": "stream",
     "text": [
      "E:\\anaconda3\\envs\\python36\\lib\\site-packages\\ipykernel_launcher.py:9: UserWarning: Matplotlib is currently using module://ipykernel.pylab.backend_inline, which is a non-GUI backend, so cannot show the figure.\n",
      "  if __name__ == '__main__':\n"
     ]
    },
    {
     "data": {
      "image/png": "[encoded data removed]",
      "text/plain": [
       "<Figure size 360x360 with 1 Axes>"
      ]
     },
     "metadata": {
      "needs_background": "light"
     },
     "output_type": "display_data"
    }
   ],
   "source": [
    "#数据可视化\n",
    "\n",
    "fig1 = plt.figure(figsize=(5,5))\n",
    "passed = plt.scatter(X.loc[:,'x1'][y==1],X.loc[:,'x2'][y==1])\n",
    "failed = plt.scatter(X.loc[:,'x1'][y==0],X.loc[:,'x2'][y==0])\n",
    "# plt.legend((passed,failed),('passed','failed'))\n",
    "plt.xlabel('x1')\n",
    "plt.ylabel('x2')\n",
    "plt.title('raw data')\n",
    "fig1.show()"
   ]
  },
  {
   "cell_type": "code",
   "execution_count": 5,
   "id": "51577488",
   "metadata": {},
   "outputs": [],
   "source": [
    "X_train,X_test,y_train,y_test = train_test_split(X,y,test_size=0.33,random_state=10)"
   ]
  },
  {
   "cell_type": "code",
   "execution_count": 6,
   "id": "a71f0f10",
   "metadata": {},
   "outputs": [
    {
     "data": {
      "text/plain": [
       "(267, 2)"
      ]
     },
     "execution_count": 6,
     "metadata": {},
     "output_type": "execute_result"
    }
   ],
   "source": [
    "X_train.shape"
   ]
  },
  {
   "cell_type": "code",
   "execution_count": 7,
   "id": "57228cb1",
   "metadata": {},
   "outputs": [
    {
     "name": "stdout",
     "output_type": "stream",
     "text": [
      "Model: \"sequential\"\n",
      "_________________________________________________________________\n",
      " Layer (type)                Output Shape              Param #   \n",
      "=================================================================\n",
      " dense (Dense)               (None, 20)                60        \n",
      "                                                                 \n",
      " dense_1 (Dense)             (None, 1)                 21        \n",
      "                                                                 \n",
      "=================================================================\n",
      "Total params: 81\n",
      "Trainable params: 81\n",
      "Non-trainable params: 0\n",
      "_________________________________________________________________\n"
     ]
    }
   ],
   "source": [
    "mlp = Sequential()\n",
    "mlp.add(Dense(units=20,input_dim=2,activation='sigmoid'))\n",
    "mlp.add(Dense(units=1,activation='sigmoid'))\n",
    "mlp.summary()"
   ]
  },
  {
   "cell_type": "code",
   "execution_count": 8,
   "id": "304a41d8",
   "metadata": {},
   "outputs": [],
   "source": [
    "#配置模型训练参数\n",
    "import tensorflow as tf\n",
    "mlp.compile(optimizer='adam', loss='binary_crossentropy', metrics=[\"accuracy\"])"
   ]
  },
  {
   "cell_type": "code",
   "execution_count": null,
   "id": "c201a047",
   "metadata": {},
   "outputs": [],
   "source": [
    "#模型训练\n",
    "mlp.fit(X_train, y_train, epochs=3000)"
   ]
  },
  {
   "cell_type": "code",
   "execution_count": 23,
   "id": "461fbfd8",
   "metadata": {},
   "outputs": [
    {
     "name": "stdout",
     "output_type": "stream",
     "text": [
      "9/9 [==============================] - 0s 2ms/step - loss: 0.1109 - accuracy: 0.9625\n",
      "[0.1108836680650711, 0.9625468254089355]\n"
     ]
    }
   ],
   "source": [
    "#预测\n",
    "# y_train_predict1 = mlp.predict(X_train)\n",
    "# y_train_predict1 = np.where(y_train_predict1 > 0.5, 1, 0)\n",
    "# classes_y = np.argmax(y_train_predict1,axis=1)\n",
    "loss_and_metrics = mlp.evaluate(X_train, y_train)\n",
    "print(loss_and_metrics)\n",
    "# print(y_train_predict1)\n"
   ]
  },
  {
   "cell_type": "code",
   "execution_count": null,
   "id": "836059a6",
   "metadata": {},
   "outputs": [],
   "source": [
    "import numpy as np\n",
    "y_train_predict = mlp.predict(X_train)\n",
    "y_train_class = np.where(y_train_predict > 0.5, 1, 0)\n",
    "# print(y_train_class)\n",
    "print(y_train_class)\n"
   ]
  },
  {
   "cell_type": "code",
   "execution_count": null,
   "id": "5bb45ad3",
   "metadata": {},
   "outputs": [],
   "source": [
    "print(y_train)"
   ]
  },
  {
   "cell_type": "code",
   "execution_count": 22,
   "id": "6d2f6211",
   "metadata": {},
   "outputs": [
    {
     "name": "stdout",
     "output_type": "stream",
     "text": [
      "(267,) (267,)\n"
     ]
    }
   ],
   "source": [
    "from sklearn.metrics import classification_report\n",
    "report = classification_report(y_train, y_train_class.flatten())\n",
    "print(y_train.shape, y_train_class.flatten().shape)"
   ]
  },
  {
   "cell_type": "code",
   "execution_count": 21,
   "id": "18036a16",
   "metadata": {},
   "outputs": [
    {
     "name": "stdout",
     "output_type": "stream",
     "text": [
      "              precision    recall  f1-score   support\n",
      "\n",
      "           0       0.97      0.96      0.97       146\n",
      "           1       0.95      0.97      0.96       121\n",
      "\n",
      "    accuracy                           0.96       267\n",
      "   macro avg       0.96      0.96      0.96       267\n",
      "weighted avg       0.96      0.96      0.96       267\n",
      "\n"
     ]
    }
   ],
   "source": [
    "print(report)"
   ]
  },
  {
   "cell_type": "code",
   "execution_count": 15,
   "id": "9a6e8444",
   "metadata": {},
   "outputs": [],
   "source": [
    "# y_test_predict = mlp.predict(X_test)\n",
    "# y_test_predict = np.where(y_test_predict>0.5, 1,0)\n",
    "# loss_and_metrics_test = mlp.evaluate(X_test, y_test_predict)\n",
    "# print(loss_and_metrics_test)"
   ]
  },
  {
   "cell_type": "code",
   "execution_count": null,
   "id": "b3d128f3",
   "metadata": {},
   "outputs": [],
   "source": []
  },
  {
   "cell_type": "code",
   "execution_count": null,
   "id": "20290293",
   "metadata": {},
   "outputs": [],
   "source": []
  }
 ],
 "metadata": {
  "kernelspec": {
   "display_name": "Python 3",
   "language": "python",
   "name": "python3"
  },
  "language_info": {
   "codemirror_mode": {
    "name": "ipython",
    "version": 3
   },
   "file_extension": ".py",
   "mimetype": "text/x-python",
   "name": "python",
   "nbconvert_exporter": "python",
   "pygments_lexer": "ipython3",
   "version": "3.8.13"
  }
 },
 "nbformat": 4,
 "nbformat_minor": 5
}
