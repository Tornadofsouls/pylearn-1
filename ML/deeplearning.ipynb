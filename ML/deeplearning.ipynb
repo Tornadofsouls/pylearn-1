{
 "cells": [
  {
   "attachments": {},
   "cell_type": "markdown",
   "metadata": {},
   "source": [
    "# tutorials and books\n",
    "\n",
    "* [动手深度学习](https://zh-v2.d2l.ai/chapter_convolutional-modern/alexnet.html)，对应[视频](https://app6ca5octe2206.pc.xiaoe-tech.com/p/t_pc/course_pc_detail/column/p_604c9350e4b05a6195bf92e2?product_id=p_604c9350e4b05a6195bf92e2)\n",
    "  * 包含pytorch，paddle，tensorflow 源代码对照讲解。李沐大神\n",
    "* "
   ]
  },
  {
   "cell_type": "markdown",
   "metadata": {},
   "source": []
  }
 ],
 "metadata": {
  "kernelspec": {
   "display_name": "py38",
   "language": "python",
   "name": "python3"
  },
  "language_info": {
   "name": "python",
   "version": "3.8.13"
  },
  "orig_nbformat": 4,
  "vscode": {
   "interpreter": {
    "hash": "fe22768e9524fdef0bd7ed00acfac1a320cf250cfc5d425f429f4b9beb1077b3"
   }
  }
 },
 "nbformat": 4,
 "nbformat_minor": 2
}
