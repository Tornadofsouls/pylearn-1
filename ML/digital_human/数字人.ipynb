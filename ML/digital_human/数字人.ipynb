{
 "cells": [
  {
   "attachments": {},
   "cell_type": "markdown",
   "metadata": {},
   "source": [
    "# 开源项目\n",
    "\n",
    "## Video retalking\n",
    "* https://github.com/OpenTalker/video-retalking\n",
    "\n",
    "## Fay\n",
    "* https://github.com/TheRamU/Fay\n",
    "* https://www.toutiao.com/article/7228148056112366119/?log_from=edcaae1176527_1683192042943"
   ]
  },
  {
   "attachments": {},
   "cell_type": "markdown",
   "metadata": {},
   "source": []
  }
 ],
 "metadata": {
  "language_info": {
   "name": "python"
  },
  "orig_nbformat": 4
 },
 "nbformat": 4,
 "nbformat_minor": 2
}
