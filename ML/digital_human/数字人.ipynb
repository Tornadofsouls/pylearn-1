{
 "cells": [
  {
   "attachments": {},
   "cell_type": "markdown",
   "metadata": {},
   "source": [
    "# 开源项目\n",
    "\n",
    "## Video retalking\n",
    "* https://github.com/OpenTalker/video-retalking\n",
    "\n",
    "## Fay\n",
    "* https://github.com/TheRamU/Fay\n",
    "* https://www.toutiao.com/article/7228148056112366119/?log_from=edcaae1176527_1683192042943\n",
    "\n",
    "## open-chat-video-editor\n",
    "* https://github.com/SCUTlihaoyu/open-chat-video-editor\n",
    "* short video automatic generation tool\n",
    "* examples: https://mp.weixin.qq.com/s/cmGS6H1EGOxjiEZtuk0qvQ"
   ]
  },
  {
   "cell_type": "code",
   "execution_count": 6,
   "metadata": {},
   "outputs": [
    {
     "name": "stdout",
     "output_type": "stream",
     "text": [
      "test 函数，耗时：2.011068344116211秒\n"
     ]
    }
   ],
   "source": [
    "import time\n",
    "import logging\n",
    "\n",
    "logger = logging.getLogger()\n",
    "logger.setLevel(logging.DEBUG)\n",
    "\n",
    "def get_time(f):\n",
    "\n",
    "    def inner(*arg,**kwarg):\n",
    "        s_time = time.time()\n",
    "        res = f(*arg,**kwarg)\n",
    "        e_time = time.time()\n",
    "        print('{} 函数，耗时：{}秒'.format(f.__name__, (e_time - s_time)))\n",
    "        logger.debug('{} 函数，耗时：{}秒'.format(f.__name__, (e_time - s_time)))\n",
    "        return res\n",
    "    return inner\n",
    "\n",
    "@get_time\n",
    "def test():\n",
    "    time.sleep(2)  # 模拟运行2s\n",
    "\n",
    "test()\n",
    "\n",
    "# 输出：\n",
    "# 耗时：2.000781536102295秒"
   ]
  },
  {
   "cell_type": "code",
   "execution_count": null,
   "metadata": {},
   "outputs": [],
   "source": []
  }
 ],
 "metadata": {
  "kernelspec": {
   "display_name": "py38",
   "language": "python",
   "name": "python3"
  },
  "language_info": {
   "codemirror_mode": {
    "name": "ipython",
    "version": 3
   },
   "file_extension": ".py",
   "mimetype": "text/x-python",
   "name": "python",
   "nbconvert_exporter": "python",
   "pygments_lexer": "ipython3",
   "version": "3.8.13"
  },
  "orig_nbformat": 4
 },
 "nbformat": 4,
 "nbformat_minor": 2
}
