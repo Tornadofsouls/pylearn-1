{
 "cells": [
  {
   "cell_type": "markdown",
   "metadata": {},
   "source": [
    "# 文件系统相关操作\n",
    "\n",
    "## pathlib\n",
    "* The pathlib module was introduced in Python 3.4\n",
    "* 比string 类型path 能提供更灵活功能\n",
    "* cheat sheet: https://github.com/chris1610/pbpython/blob/master/extras/Pathlib-Cheatsheet.pdf\n",
    "\n",
    "\n",
    "## shutil\n",
    "* 文件夹操作\n"
   ]
  },
  {
   "cell_type": "markdown",
   "metadata": {},
   "source": [
    "### pathlib  创建文件夹，如果不存在\n"
   ]
  },
  {
   "cell_type": "code",
   "execution_count": 4,
   "metadata": {},
   "outputs": [],
   "source": [
    "from pathlib import Path\n",
    "import pathlib\n",
    "\n",
    "save_dir = \"./test_dir\"\n",
    "Path(save_dir).mkdir(parents=True, exist_ok=True)\n"
   ]
  },
  {
   "cell_type": "code",
   "execution_count": 11,
   "metadata": {},
   "outputs": [
    {
     "name": "stdout",
     "output_type": "stream",
     "text": [
      "/mnt/c/code/learn/pylearn/pybasic\n",
      "/home/jeffye\n",
      "/home/jeffye/python/scripts/test.py\n"
     ]
    }
   ],
   "source": [
    "### get current directory\n",
    "\n",
    "print(Path.cwd())\n",
    "print(Path.home())\n",
    "\n",
    "print(pathlib.Path.home().joinpath('python', 'scripts', 'test.py'))"
   ]
  },
  {
   "cell_type": "markdown",
   "metadata": {},
   "source": [
    "# useful functions\n",
    "* .read_text(): open the path in text mode and return the contents as a string.\n",
    "* .read_bytes(): open the path in binary/bytes mode and return the contents as a bytestring.\n",
    "* .write_text(): open the path and write string data to it.\n",
    "* .write_bytes(): open the path in binary/bytes mode and write data to it.\n",
    "* .resolve() method will find the full path. "
   ]
  },
  {
   "cell_type": "code",
   "execution_count": 15,
   "metadata": {},
   "outputs": [
    {
     "name": "stdout",
     "output_type": "stream",
     "text": [
      "## title\n",
      "full text this is a test file.\n",
      "## title\n",
      "True\n"
     ]
    }
   ],
   "source": [
    "# Reading and Writing Files\n",
    "\n",
    "path = pathlib.Path.cwd() / 'test.txt'\n",
    "with open(path, mode='r') as fid:\n",
    "    headers = [line.strip() for line in fid if line.startswith('#')]\n",
    "print('\\n'.join(headers))\n",
    "\n",
    "print('full text', path.read_text())\n",
    "\n",
    "print(path.resolve().parent == pathlib.Path.cwd())"
   ]
  },
  {
   "cell_type": "markdown",
   "metadata": {},
   "source": [
    "* .name: the file name without any directory\n",
    "* .parent: the directory containing the file, or the parent directory if path is a directory\n",
    "* .stem: the file name without the suffix\n",
    "* .suffix: the file extension\n",
    "* .anchor: the part of the path before the directories"
   ]
  },
  {
   "cell_type": "code",
   "execution_count": 18,
   "metadata": {},
   "outputs": [
    {
     "name": "stdout",
     "output_type": "stream",
     "text": [
      "path /mnt/c/code/learn/pylearn/pybasic/test.txt\n",
      "stem test\n",
      "suffix .txt\n",
      "parent /mnt/c/code/learn/pylearn/pybasic\n",
      "parent of parent /mnt/c/code/learn/pylearn\n",
      "anchor /\n"
     ]
    }
   ],
   "source": [
    "print('path', path)\n",
    "print('stem', path.stem)\n",
    "print('suffix', path.suffix)\n",
    "print('parent', path.parent)\n",
    "print('parent of parent', path.parent.parent)\n",
    "print('anchor', path.anchor)"
   ]
  },
  {
   "cell_type": "code",
   "execution_count": 26,
   "metadata": {},
   "outputs": [],
   "source": [
    "# move or replace file\n",
    "\n",
    "path.with_suffix('.py')\n",
    "path.replace(path.with_suffix('.md')) # 改后缀\n",
    "path.with_suffix('.md').replace(path.with_suffix('.txt'))"
   ]
  },
  {
   "cell_type": "code",
   "execution_count": 5,
   "metadata": {},
   "outputs": [
    {
     "name": "stdout",
     "output_type": "stream",
     "text": [
      "+ /mnt/d/code/learn/pylearn/pybasic\n",
      "    + .ipynb_checkpoints\n",
      "        + profile-checkpoint.ipynb\n",
      "        + yaml config-checkpoint.ipynb\n",
      "        + 基本操作实例-checkpoint.ipynb\n",
      "    + profile.ipynb\n",
      "    + profile_test.out\n",
      "    + profile_test.py\n",
      "    + test.txt\n",
      "    + test_dir\n",
      "    + yaml config.ipynb\n",
      "    + 基本操作实例.ipynb\n"
     ]
    }
   ],
   "source": [
    "# Display a Directory Tree\n",
    "\n",
    "def tree(directory):\n",
    "    print(f'+ {directory}')\n",
    "    for path in sorted(directory.rglob('*')):\n",
    "        depth = len(path.relative_to(directory).parts)\n",
    "        spacer = '    ' * depth\n",
    "        print(f'{spacer}+ {path.name}')\n",
    "\n",
    "tree(pathlib.Path.cwd())"
   ]
  },
  {
   "cell_type": "markdown",
   "metadata": {},
   "source": [
    "## Find the Last Modified File\n"
   ]
  },
  {
   "cell_type": "code",
   "execution_count": 38,
   "metadata": {},
   "outputs": [
    {
     "name": "stdout",
     "output_type": "stream",
     "text": [
      "2021-10-10 00:16:20.399517 /mnt/c/code/learn/pylearn/pybasic/基本操作实例.ipynb\n",
      "[PosixPath('/home/jeffye/.astropy'), PosixPath('/home/jeffye/.bashrc'), PosixPath('/home/jeffye/.bash_aliases'), PosixPath('/home/jeffye/.bash_history'), PosixPath('/home/jeffye/.bash_logout'), PosixPath('/home/jeffye/.byobu'), PosixPath('/home/jeffye/.cache'), PosixPath('/home/jeffye/.cheat'), PosixPath('/home/jeffye/.condarc'), PosixPath('/home/jeffye/.config'), PosixPath('/home/jeffye/.inputrc'), PosixPath('/home/jeffye/.ipynb_checkpoints'), PosixPath('/home/jeffye/.ipython'), PosixPath('/home/jeffye/.jupyter'), PosixPath('/home/jeffye/.landscape'), PosixPath('/home/jeffye/.local'), PosixPath('/home/jeffye/.motd_shown'), PosixPath('/home/jeffye/.pip'), PosixPath('/home/jeffye/.profile'), PosixPath('/home/jeffye/.python_history'), PosixPath('/home/jeffye/.ssh'), PosixPath('/home/jeffye/.sudo_as_admin_successful'), PosixPath('/home/jeffye/.viminfo'), PosixPath('/home/jeffye/.wget-hsts'), PosixPath('/home/jeffye/aqznh@192.168.2.185'), PosixPath('/home/jeffye/mount.sh'), PosixPath('/home/jeffye/train46.sh'), PosixPath('/home/jeffye/Untitled.ipynb')]\n"
     ]
    }
   ],
   "source": [
    "from datetime import datetime\n",
    "\n",
    "directory = pathlib.Path.cwd()\n",
    "\n",
    "time, file_path = max((f.stat().st_mtime, f) for f in directory.iterdir())\n",
    "print(datetime.fromtimestamp(time), file_path)\n",
    "\n",
    "\n",
    "directory = pathlib.Path.home()\n",
    "\n",
    "file_list = list(directory.glob('*.*'))\n",
    "print(file_list)"
   ]
  },
  {
   "cell_type": "markdown",
   "metadata": {},
   "source": [
    "## Create a Unique File Name"
   ]
  },
  {
   "cell_type": "code",
   "execution_count": 41,
   "metadata": {},
   "outputs": [
    {
     "name": "stdout",
     "output_type": "stream",
     "text": [
      "/mnt/c/code/learn/pylearn/pybasic/test001.txt\n"
     ]
    }
   ],
   "source": [
    "\n",
    "\n",
    "def unique_path(directory, name_pattern):\n",
    "    counter = 0\n",
    "    while True:\n",
    "        counter += 1\n",
    "        path = directory / name_pattern.format(counter)\n",
    "        if not path.exists():\n",
    "            return path\n",
    "\n",
    "path = unique_path(pathlib.Path.cwd(), 'test{:03d}.txt')\n",
    "print(path)"
   ]
  },
  {
   "cell_type": "markdown",
   "metadata": {},
   "source": [
    "## dir exist and then glob with multiple extensions"
   ]
  },
  {
   "cell_type": "code",
   "execution_count": 15,
   "metadata": {},
   "outputs": [
    {
     "name": "stdout",
     "output_type": "stream",
     "text": [
      "13 [PosixPath('/mnt/d/code/image/hedian-demo/data/test/220425/10_20220423184855509278_seq1387.png'), PosixPath('/mnt/d/code/image/hedian-demo/data/test/220425/12_20220423184937333633_seq1675.png'), PosixPath('/mnt/d/code/image/hedian-demo/data/test/220425/12_20220423184937729933_seq1689.png'), PosixPath('/mnt/d/code/image/hedian-demo/data/test/220425/15_20220423185025918203_seq2188.png'), PosixPath('/mnt/d/code/image/hedian-demo/data/test/220425/18_20220423185112230272_seq2561.png'), PosixPath('/mnt/d/code/image/hedian-demo/data/test/220425/1_20220423184640035090_seq0.png'), PosixPath('/mnt/d/code/image/hedian-demo/data/test/220425/1_20220423184640073726_seq1_rtmp.png'), PosixPath('/mnt/d/code/image/hedian-demo/data/test/220425/2_20220423184657550659_seq260_rtmp.png'), PosixPath('/mnt/d/code/image/hedian-demo/data/test/220425/2_20220423184701886412_seq412.png'), PosixPath('/mnt/d/code/image/hedian-demo/data/test/220425/6_20220423184800381243_seq831.png'), PosixPath('/mnt/d/code/image/hedian-demo/data/test/220425/7_20220423184820109570_seq1070.png'), PosixPath('/mnt/d/code/image/hedian-demo/data/test/220425/8_20220423184831678779_seq1101_rtmp.png'), PosixPath('/mnt/d/code/image/hedian-demo/data/test/220425/9_20220423184848900031_seq1212.png')]\n"
     ]
    }
   ],
   "source": [
    "input_path = Path(\"/mnt/d/code/image/hedian-demo/data/test/220425\")\n",
    "file_list = []\n",
    "if input_path.exists():\n",
    "    if input_path.is_dir():\n",
    "        # for a in input_path.glob(\"*\"):\n",
    "        #     print(a)\n",
    "        file_list = [p.resolve() for p in input_path.glob(\"*\") if\n",
    "                 p.suffix in {\".png\", \".jpg\", \".JPG\", \".PNG\"}]\n",
    "        print(len(file_list), file_list)\n",
    "    else:\n",
    "        print(p)\n",
    "# PosixPath as str: str(p.resolve())"
   ]
  },
  {
   "cell_type": "markdown",
   "metadata": {},
   "source": [
    "# shutil"
   ]
  },
  {
   "cell_type": "code",
   "execution_count": null,
   "metadata": {},
   "outputs": [],
   "source": [
    "# move all .txt file to achive fold\n",
    "\n",
    "import glob\n",
    "import os\n",
    "import shutil\n",
    "\n",
    "for file_name in glob.glob('*.txt'): # return a list of \n",
    "    new_path = os.path.join('archive', file_name)\n",
    "    shutil.move(file_name, new_path)"
   ]
  },
  {
   "cell_type": "markdown",
   "metadata": {},
   "source": [
    "# collections Counter"
   ]
  },
  {
   "cell_type": "code",
   "execution_count": 29,
   "metadata": {},
   "outputs": [
    {
     "name": "stdout",
     "output_type": "stream",
     "text": [
      "Counter({'': 2, '.txt': 1, '.ipynb': 1})\n",
      "漂亮 Counter({'.txt': 1})\n"
     ]
    }
   ],
   "source": [
    "# counting files\n",
    "\n",
    "import collections\n",
    "\n",
    "print(collections.Counter(p.suffix for p in pathlib.Path.cwd().iterdir()))\n",
    "\n",
    "print('漂亮', collections.Counter(p.suffix for p in pathlib.Path.cwd().glob('*.t*')))"
   ]
  }
 ],
 "metadata": {
  "kernelspec": {
   "display_name": "Python 3 (ipykernel)",
   "language": "python",
   "name": "python3"
  },
  "language_info": {
   "codemirror_mode": {
    "name": "ipython",
    "version": 3
   },
   "file_extension": ".py",
   "mimetype": "text/x-python",
   "name": "python",
   "nbconvert_exporter": "python",
   "pygments_lexer": "ipython3",
   "version": "3.8.13"
  },
  "widgets": {
   "application/vnd.jupyter.widget-state+json": {
    "state": {},
    "version_major": 2,
    "version_minor": 0
   }
  }
 },
 "nbformat": 4,
 "nbformat_minor": 4
}
