{
 "cells": [
  {
   "cell_type": "code",
   "execution_count": null,
   "metadata": {},
   "outputs": [],
   "source": [
    "## paddle_speech: how to finetune\n",
    "\n",
    "* 训练启动类： class U2Trainer(Trainer)： paddlespeech/s2t/training/trainer.py\n",
    "* 训练基类： paddlespeech/s2t/training/trainer.py:  def before_train(self): from_scratch = self.resume_or_scratch() \n",
    "    * before_train 中控制resume 或者从头开始训练\n",
    "* def resume_or_scratch(self)： If ``args.checkpoint_path`` is not None, load the checkpoint, else resume training.\n"
   ]
  }
 ],
 "metadata": {
  "language_info": {
   "name": "python"
  },
  "orig_nbformat": 4
 },
 "nbformat": 4,
 "nbformat_minor": 2
}
