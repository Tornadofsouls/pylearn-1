{
 "cells": [
  {
   "attachments": {},
   "cell_type": "markdown",
   "metadata": {},
   "source": [
    "# python 神仙技巧合计\n",
    "\n",
    "## dataclass \n",
    "* https://mp.weixin.qq.com/s/_vUaFFW15Af20tTipU9ENQ\n",
    "\n",
    "\n",
    "## defaultdict\n",
    "\n",
    "## click\n",
    "* command line: RQAlpha参考, yelib 参考\n",
    "\n",
    "## \n",
    "\n"
   ]
  },
  {
   "attachments": {},
   "cell_type": "markdown",
   "metadata": {},
   "source": [
    "# 其它诸神\n",
    "\n",
    "## .inputrc\n",
    "\n",
    "## git bash\n",
    "\n",
    "## byobu\n",
    "\n",
    "## "
   ]
  }
 ],
 "metadata": {
  "language_info": {
   "name": "python"
  },
  "orig_nbformat": 4
 },
 "nbformat": 4,
 "nbformat_minor": 2
}
