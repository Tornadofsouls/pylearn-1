{
 "cells": [
  {
   "attachments": {},
   "cell_type": "markdown",
   "metadata": {},
   "source": [
    "# tutorials\n",
    "\n",
    "* https://www.perfcode.com/p/pyside6-window.html\n",
    "* https://maicss.gitbook.io/pyqt-chinese-tutoral/pyqt6/index\n",
    "* \n",
    "\n",
    "## trader engine\n",
    "\n",
    "* D:\\code\\quant\\vnpy_all\\vnpy\\vnpy\\trader\\engine.py"
   ]
  },
  {
   "cell_type": "code",
   "execution_count": null,
   "metadata": {},
   "outputs": [],
   "source": [
    "import PySide6.QtCore\n",
    "print(PySide6.__version__)\n",
    "print(PySide6.QtCore.__version__)"
   ]
  },
  {
   "cell_type": "code",
   "execution_count": 1,
   "metadata": {},
   "outputs": [
    {
     "ename": "SystemExit",
     "evalue": "0",
     "output_type": "error",
     "traceback": [
      "An exception has occurred, use %tb to see the full traceback.\n",
      "\u001b[1;31mSystemExit\u001b[0m\u001b[1;31m:\u001b[0m 0\n"
     ]
    },
    {
     "name": "stderr",
     "output_type": "stream",
     "text": [
      "c:\\Users\\73915\\.conda\\envs\\py10\\lib\\site-packages\\IPython\\core\\interactiveshell.py:3441: UserWarning: To exit: use 'exit', 'quit', or Ctrl-D.\n",
      "  warn(\"To exit: use 'exit', 'quit', or Ctrl-D.\", stacklevel=1)\n"
     ]
    }
   ],
   "source": [
    "import sys\n",
    "from PySide6 import QtCore, QtWidgets, QtGui\n",
    "\n",
    "class MyWidget(QtWidgets.QWidget):\n",
    "    def __init__(self):\n",
    "        super().__init__()\n",
    "\n",
    "        self.button = QtWidgets.QPushButton(\"点这里\")\n",
    "\n",
    "        self.layout = QtWidgets.QVBoxLayout(self)\n",
    "        self.layout.addWidget(self.button)\n",
    "\n",
    "        self.button.clicked.connect(self.showMessage)\n",
    "\n",
    "    @QtCore.Slot()\n",
    "    def showMessage(self):\n",
    "        msgBox = QtWidgets.QMessageBox()\n",
    "        msgBox.setText(\"Hello world\")\n",
    "        msgBox.setStandardButtons(QtWidgets.QMessageBox.Ok)\n",
    "        ret = msgBox.exec()\n",
    "\n",
    "if __name__ == \"__main__\":\n",
    "    app = QtWidgets.QApplication([])\n",
    "\n",
    "    widget = MyWidget()\n",
    "    widget.resize(300, 200)\n",
    "    widget.show()\n",
    "\n",
    "    sys.exit(app.exec())"
   ]
  },
  {
   "cell_type": "code",
   "execution_count": null,
   "metadata": {},
   "outputs": [],
   "source": []
  }
 ],
 "metadata": {
  "kernelspec": {
   "display_name": "py10",
   "language": "python",
   "name": "python3"
  },
  "language_info": {
   "codemirror_mode": {
    "name": "ipython",
    "version": 3
   },
   "file_extension": ".py",
   "mimetype": "text/x-python",
   "name": "python",
   "nbconvert_exporter": "python",
   "pygments_lexer": "ipython3",
   "version": "3.10.8"
  },
  "orig_nbformat": 4,
  "vscode": {
   "interpreter": {
    "hash": "781db6a66b6c44ff23ffd41dfe3b5a60747ebcda3cb0e641efc8ffffadcaa83f"
   }
  }
 },
 "nbformat": 4,
 "nbformat_minor": 2
}
