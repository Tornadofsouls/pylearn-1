{
 "cells": [
  {
   "cell_type": "markdown",
   "metadata": {},
   "source": [
    "# cProfile\n",
    "\n",
    "Python自带了几个性能分析的模块：profile、cProfile和hotshot，使用方法基本都差不多，无非模块是纯Python还是用C写的。cProfile效率更高"
   ]
  },
  {
   "cell_type": "code",
   "execution_count": 4,
   "metadata": {},
   "outputs": [],
   "source": [
    "# run profile\n",
    "!python -m cProfile -o profile_test.out profile_test.py"
   ]
  },
  {
   "cell_type": "code",
   "execution_count": 6,
   "metadata": {},
   "outputs": [
    {
     "name": "stdout",
     "output_type": "stream",
     "text": [
      "Mon Oct 25 15:38:34 2021    profile_test.out\r\n",
      "\r\n",
      "         6 function calls in 10.031 seconds\r\n",
      "\r\n",
      "   Random listing order was used\r\n",
      "\r\n",
      "   ncalls  tottime  percall  cumtime  percall filename:lineno(function)\r\n",
      "        1    0.000    0.000    0.000    0.000 {method 'disable' of '_lsprof.Profiler' objects}\r\n",
      "        1    0.000    0.000   10.001   10.001 profile_test.py:6(func2)\r\n",
      "        1    0.031    0.031    0.031    0.031 profile_test.py:2(func1)\r\n",
      "        1    0.000    0.000   10.031   10.031 profile_test.py:1(<module>)\r\n",
      "        1   10.001   10.001   10.001   10.001 {built-in method time.sleep}\r\n",
      "        1    0.000    0.000   10.031   10.031 {built-in method builtins.exec}\r\n",
      "\r\n",
      "\r\n"
     ]
    }
   ],
   "source": [
    "!python -c \"import pstats; p=pstats.Stats('profile_test.out'); p.print_stats()\""
   ]
  },
  {
   "cell_type": "code",
   "execution_count": 8,
   "metadata": {},
   "outputs": [
    {
     "name": "stdout",
     "output_type": "stream",
     "text": [
      "Mon Oct 25 15:38:34 2021    profile_test.out\r\n",
      "\r\n",
      "         6 function calls in 10.031 seconds\r\n",
      "\r\n",
      "   Ordered by: internal time\r\n",
      "\r\n",
      "   ncalls  tottime  percall  cumtime  percall filename:lineno(function)\r\n",
      "        1   10.001   10.001   10.001   10.001 {built-in method time.sleep}\r\n",
      "        1    0.031    0.031    0.031    0.031 profile_test.py:2(func1)\r\n",
      "        1    0.000    0.000   10.001   10.001 profile_test.py:6(func2)\r\n",
      "        1    0.000    0.000   10.031   10.031 profile_test.py:1(<module>)\r\n",
      "        1    0.000    0.000   10.031   10.031 {built-in method builtins.exec}\r\n",
      "        1    0.000    0.000    0.000    0.000 {method 'disable' of '_lsprof.Profiler' objects}\r\n",
      "\r\n",
      "\r\n"
     ]
    }
   ],
   "source": [
    "# 可以设置排序方式，例如以花费时间多少排序\n",
    "!python -c \"import pstats; p=pstats.Stats('profile_test.out'); p.sort_stats('time').print_stats()\""
   ]
  },
  {
   "cell_type": "markdown",
   "metadata": {},
   "source": [
    "# sort_stats支持以下参数：\n",
    "* calls, cumulative, file, line, module, name, nfl, pcalls, stdname, time"
   ]
  },
  {
   "cell_type": "code",
   "execution_count": null,
   "metadata": {},
   "outputs": [],
   "source": []
  }
 ],
 "metadata": {
  "kernelspec": {
   "display_name": "Python 3",
   "language": "python",
   "name": "python3"
  },
  "language_info": {
   "codemirror_mode": {
    "name": "ipython",
    "version": 3
   },
   "file_extension": ".py",
   "mimetype": "text/x-python",
   "name": "python",
   "nbconvert_exporter": "python",
   "pygments_lexer": "ipython3",
   "version": "3.7.0"
  }
 },
 "nbformat": 4,
 "nbformat_minor": 2
}
