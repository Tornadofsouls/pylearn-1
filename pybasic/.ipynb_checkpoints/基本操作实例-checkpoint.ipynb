{
 "cells": [
  {
   "cell_type": "markdown",
   "metadata": {},
   "source": [
    "# 文件系统相关操作\n",
    "\n",
    "## pathlib\n",
    "* The pathlib module was introduced in Python 3.4\n",
    "* 比string 类型path 能提供更灵活功能\n",
    "* cheat sheet: https://github.com/chris1610/pbpython/blob/master/extras/Pathlib-Cheatsheet.pdf\n",
    "\n",
    "\n",
    "## shutil\n",
    "* 文件夹操作\n"
   ]
  },
  {
   "cell_type": "markdown",
   "metadata": {},
   "source": [
    "### pathlib  创建文件夹，如果不存在\n"
   ]
  },
  {
   "cell_type": "code",
   "execution_count": 4,
   "metadata": {},
   "outputs": [],
   "source": [
    "from pathlib import Path\n",
    "import pathlib\n",
    "\n",
    "save_dir = \"./test_dir\"\n",
    "Path(save_dir).mkdir(parents=True, exist_ok=True)\n"
   ]
  },
  {
   "cell_type": "code",
   "execution_count": 11,
   "metadata": {},
   "outputs": [
    {
     "name": "stdout",
     "output_type": "stream",
     "text": [
      "/mnt/c/code/learn/pylearn/pybasic\n",
      "/home/jeffye\n",
      "/home/jeffye/python/scripts/test.py\n"
     ]
    }
   ],
   "source": [
    "### get current directory\n",
    "\n",
    "print(Path.cwd())\n",
    "print(Path.home())\n",
    "\n",
    "print(pathlib.Path.home().joinpath('python', 'scripts', 'test.py'))"
   ]
  },
  {
   "cell_type": "markdown",
   "metadata": {},
   "source": [
    "# useful functions\n",
    "* .read_text(): open the path in text mode and return the contents as a string.\n",
    "* .read_bytes(): open the path in binary/bytes mode and return the contents as a bytestring.\n",
    "* .write_text(): open the path and write string data to it.\n",
    "* .write_bytes(): open the path in binary/bytes mode and write data to it.\n",
    "* .resolve() method will find the full path. "
   ]
  },
  {
   "cell_type": "code",
   "execution_count": 15,
   "metadata": {},
   "outputs": [
    {
     "name": "stdout",
     "output_type": "stream",
     "text": [
      "## title\n",
      "full text this is a test file.\n",
      "## title\n",
      "True\n"
     ]
    }
   ],
   "source": [
    "# Reading and Writing Files\n",
    "\n",
    "path = pathlib.Path.cwd() / 'test.txt'\n",
    "with open(path, mode='r') as fid:\n",
    "    headers = [line.strip() for line in fid if line.startswith('#')]\n",
    "print('\\n'.join(headers))\n",
    "\n",
    "print('full text', path.read_text())\n",
    "\n",
    "print(path.resolve().parent == pathlib.Path.cwd())"
   ]
  },
  {
   "cell_type": "markdown",
   "metadata": {},
   "source": [
    "* .name: the file name without any directory\n",
    "* .parent: the directory containing the file, or the parent directory if path is a directory\n",
    "* .stem: the file name without the suffix\n",
    "* .suffix: the file extension\n",
    "* .anchor: the part of the path before the directories"
   ]
  },
  {
   "cell_type": "code",
   "execution_count": 18,
   "metadata": {},
   "outputs": [
    {
     "name": "stdout",
     "output_type": "stream",
     "text": [
      "path /mnt/c/code/learn/pylearn/pybasic/test.txt\n",
      "stem test\n",
      "suffix .txt\n",
      "parent /mnt/c/code/learn/pylearn/pybasic\n",
      "parent of parent /mnt/c/code/learn/pylearn\n",
      "anchor /\n"
     ]
    }
   ],
   "source": [
    "print('path', path)\n",
    "print('stem', path.stem)\n",
    "print('suffix', path.suffix)\n",
    "print('parent', path.parent)\n",
    "print('parent of parent', path.parent.parent)\n",
    "print('anchor', path.anchor)"
   ]
  },
  {
   "cell_type": "code",
   "execution_count": 26,
   "metadata": {},
   "outputs": [],
   "source": [
    "# move or replace file\n",
    "\n",
    "path.with_suffix('.py')\n",
    "path.replace(path.with_suffix('.md')) # 改后缀\n",
    "path.with_suffix('.md').replace(path.with_suffix('.txt'))"
   ]
  },
  {
   "cell_type": "code",
   "execution_count": 5,
   "metadata": {},
   "outputs": [
    {
     "name": "stdout",
     "output_type": "stream",
     "text": [
      "+ /mnt/d/code/learn/pylearn/pybasic\n",
      "    + .ipynb_checkpoints\n",
      "        + profile-checkpoint.ipynb\n",
      "        + yaml config-checkpoint.ipynb\n",
      "        + 基本操作实例-checkpoint.ipynb\n",
      "    + profile.ipynb\n",
      "    + profile_test.out\n",
      "    + profile_test.py\n",
      "    + test.txt\n",
      "    + test_dir\n",
      "    + yaml config.ipynb\n",
      "    + 基本操作实例.ipynb\n"
     ]
    }
   ],
   "source": [
    "# Display a Directory Tree\n",
    "\n",
    "def tree(directory):\n",
    "    print(f'+ {directory}')\n",
    "    for path in sorted(directory.rglob('*')):\n",
    "        depth = len(path.relative_to(directory).parts)\n",
    "        spacer = '    ' * depth\n",
    "        print(f'{spacer}+ {path.name}')\n",
    "\n",
    "tree(pathlib.Path.cwd())"
   ]
  },
  {
   "cell_type": "markdown",
   "metadata": {},
   "source": [
    "## Find the Last Modified File\n"
   ]
  },
  {
   "cell_type": "code",
   "execution_count": 38,
   "metadata": {},
   "outputs": [
    {
     "name": "stdout",
     "output_type": "stream",
     "text": [
      "2021-10-10 00:16:20.399517 /mnt/c/code/learn/pylearn/pybasic/基本操作实例.ipynb\n",
      "[PosixPath('/home/jeffye/.astropy'), PosixPath('/home/jeffye/.bashrc'), PosixPath('/home/jeffye/.bash_aliases'), PosixPath('/home/jeffye/.bash_history'), PosixPath('/home/jeffye/.bash_logout'), PosixPath('/home/jeffye/.byobu'), PosixPath('/home/jeffye/.cache'), PosixPath('/home/jeffye/.cheat'), PosixPath('/home/jeffye/.condarc'), PosixPath('/home/jeffye/.config'), PosixPath('/home/jeffye/.inputrc'), PosixPath('/home/jeffye/.ipynb_checkpoints'), PosixPath('/home/jeffye/.ipython'), PosixPath('/home/jeffye/.jupyter'), PosixPath('/home/jeffye/.landscape'), PosixPath('/home/jeffye/.local'), PosixPath('/home/jeffye/.motd_shown'), PosixPath('/home/jeffye/.pip'), PosixPath('/home/jeffye/.profile'), PosixPath('/home/jeffye/.python_history'), PosixPath('/home/jeffye/.ssh'), PosixPath('/home/jeffye/.sudo_as_admin_successful'), PosixPath('/home/jeffye/.viminfo'), PosixPath('/home/jeffye/.wget-hsts'), PosixPath('/home/jeffye/aqznh@192.168.2.185'), PosixPath('/home/jeffye/mount.sh'), PosixPath('/home/jeffye/train46.sh'), PosixPath('/home/jeffye/Untitled.ipynb')]\n"
     ]
    }
   ],
   "source": [
    "from datetime import datetime\n",
    "\n",
    "directory = pathlib.Path.cwd()\n",
    "\n",
    "time, file_path = max((f.stat().st_mtime, f) for f in directory.iterdir())\n",
    "print(datetime.fromtimestamp(time), file_path)\n",
    "\n",
    "\n",
    "directory = pathlib.Path.home()\n",
    "\n",
    "file_list = list(directory.glob('*.*'))\n",
    "print(file_list)"
   ]
  },
  {
   "cell_type": "markdown",
   "metadata": {},
   "source": [
    "## Create a Unique File Name"
   ]
  },
  {
   "cell_type": "code",
   "execution_count": 41,
   "metadata": {},
   "outputs": [
    {
     "name": "stdout",
     "output_type": "stream",
     "text": [
      "/mnt/c/code/learn/pylearn/pybasic/test001.txt\n"
     ]
    }
   ],
   "source": [
    "\n",
    "\n",
    "def unique_path(directory, name_pattern):\n",
    "    counter = 0\n",
    "    while True:\n",
    "        counter += 1\n",
    "        path = directory / name_pattern.format(counter)\n",
    "        if not path.exists():\n",
    "            return path\n",
    "\n",
    "path = unique_path(pathlib.Path.cwd(), 'test{:03d}.txt')\n",
    "print(path)"
   ]
  },
  {
   "cell_type": "markdown",
   "metadata": {},
   "source": [
    "## dir exist and then glob with multiple extensions"
   ]
  },
  {
   "cell_type": "code",
   "execution_count": 7,
   "metadata": {},
   "outputs": [
    {
     "ename": "KeyboardInterrupt",
     "evalue": "",
     "output_type": "error",
     "traceback": [
      "\u001b[0;31m---------------------------------------------------------------------------\u001b[0m",
      "\u001b[0;31mOSError\u001b[0m                                   Traceback (most recent call last)",
      "File \u001b[0;32m~/anaconda3/envs/py38/lib/python3.8/pathlib.py:347\u001b[0m, in \u001b[0;36m_PosixFlavour.resolve.<locals>._resolve\u001b[0;34m(path, rest)\u001b[0m\n\u001b[1;32m    346\u001b[0m \u001b[38;5;28;01mtry\u001b[39;00m:\n\u001b[0;32m--> 347\u001b[0m     target \u001b[38;5;241m=\u001b[39m \u001b[43maccessor\u001b[49m\u001b[38;5;241;43m.\u001b[39;49m\u001b[43mreadlink\u001b[49m\u001b[43m(\u001b[49m\u001b[43mnewpath\u001b[49m\u001b[43m)\u001b[49m\n\u001b[1;32m    348\u001b[0m \u001b[38;5;28;01mexcept\u001b[39;00m \u001b[38;5;167;01mOSError\u001b[39;00m \u001b[38;5;28;01mas\u001b[39;00m e:\n",
      "File \u001b[0;32m~/anaconda3/envs/py38/lib/python3.8/pathlib.py:452\u001b[0m, in \u001b[0;36m_NormalAccessor.readlink\u001b[0;34m(self, path)\u001b[0m\n\u001b[1;32m    451\u001b[0m \u001b[38;5;28;01mdef\u001b[39;00m \u001b[38;5;21mreadlink\u001b[39m(\u001b[38;5;28mself\u001b[39m, path):\n\u001b[0;32m--> 452\u001b[0m     \u001b[38;5;28;01mreturn\u001b[39;00m \u001b[43mos\u001b[49m\u001b[38;5;241;43m.\u001b[39;49m\u001b[43mreadlink\u001b[49m\u001b[43m(\u001b[49m\u001b[43mpath\u001b[49m\u001b[43m)\u001b[49m\n",
      "\u001b[0;31mOSError\u001b[0m: [Errno 22] Invalid argument: '/mnt/d/code/image/hedian-demo/data/test/toannotate/20220217132634'",
      "\nDuring handling of the above exception, another exception occurred:\n",
      "\u001b[0;31mKeyboardInterrupt\u001b[0m                         Traceback (most recent call last)",
      "Input \u001b[0;32mIn [7]\u001b[0m, in \u001b[0;36m<cell line: 3>\u001b[0;34m()\u001b[0m\n\u001b[1;32m      3\u001b[0m \u001b[38;5;28;01mif\u001b[39;00m input_path\u001b[38;5;241m.\u001b[39mexists():\n\u001b[1;32m      4\u001b[0m     \u001b[38;5;28;01mif\u001b[39;00m input_path\u001b[38;5;241m.\u001b[39mis_dir():\n\u001b[0;32m----> 5\u001b[0m         file_list \u001b[38;5;241m=\u001b[39m [p\u001b[38;5;241m.\u001b[39mresolve() \u001b[38;5;28;01mfor\u001b[39;00m p \u001b[38;5;129;01min\u001b[39;00m input_path\u001b[38;5;241m.\u001b[39mglob(\u001b[38;5;124m\"\u001b[39m\u001b[38;5;124m**/*\u001b[39m\u001b[38;5;124m\"\u001b[39m) \u001b[38;5;28;01mif\u001b[39;00m\n\u001b[1;32m      6\u001b[0m                  p\u001b[38;5;241m.\u001b[39msuffix \u001b[38;5;129;01min\u001b[39;00m {\u001b[38;5;124m\"\u001b[39m\u001b[38;5;124m.png\u001b[39m\u001b[38;5;124m\"\u001b[39m, \u001b[38;5;124m\"\u001b[39m\u001b[38;5;124m.jpg\u001b[39m\u001b[38;5;124m\"\u001b[39m, \u001b[38;5;124m\"\u001b[39m\u001b[38;5;124m.JPG\u001b[39m\u001b[38;5;124m\"\u001b[39m, \u001b[38;5;124m\"\u001b[39m\u001b[38;5;124m.PNG\u001b[39m\u001b[38;5;124m\"\u001b[39m}]\n\u001b[1;32m      7\u001b[0m         \u001b[38;5;28mprint\u001b[39m(file_list)\n\u001b[1;32m      8\u001b[0m     \u001b[38;5;28;01melse\u001b[39;00m:\n",
      "Input \u001b[0;32mIn [7]\u001b[0m, in \u001b[0;36m<listcomp>\u001b[0;34m(.0)\u001b[0m\n\u001b[1;32m      3\u001b[0m \u001b[38;5;28;01mif\u001b[39;00m input_path\u001b[38;5;241m.\u001b[39mexists():\n\u001b[1;32m      4\u001b[0m     \u001b[38;5;28;01mif\u001b[39;00m input_path\u001b[38;5;241m.\u001b[39mis_dir():\n\u001b[0;32m----> 5\u001b[0m         file_list \u001b[38;5;241m=\u001b[39m [\u001b[43mp\u001b[49m\u001b[38;5;241;43m.\u001b[39;49m\u001b[43mresolve\u001b[49m\u001b[43m(\u001b[49m\u001b[43m)\u001b[49m \u001b[38;5;28;01mfor\u001b[39;00m p \u001b[38;5;129;01min\u001b[39;00m input_path\u001b[38;5;241m.\u001b[39mglob(\u001b[38;5;124m\"\u001b[39m\u001b[38;5;124m**/*\u001b[39m\u001b[38;5;124m\"\u001b[39m) \u001b[38;5;28;01mif\u001b[39;00m\n\u001b[1;32m      6\u001b[0m                  p\u001b[38;5;241m.\u001b[39msuffix \u001b[38;5;129;01min\u001b[39;00m {\u001b[38;5;124m\"\u001b[39m\u001b[38;5;124m.png\u001b[39m\u001b[38;5;124m\"\u001b[39m, \u001b[38;5;124m\"\u001b[39m\u001b[38;5;124m.jpg\u001b[39m\u001b[38;5;124m\"\u001b[39m, \u001b[38;5;124m\"\u001b[39m\u001b[38;5;124m.JPG\u001b[39m\u001b[38;5;124m\"\u001b[39m, \u001b[38;5;124m\"\u001b[39m\u001b[38;5;124m.PNG\u001b[39m\u001b[38;5;124m\"\u001b[39m}]\n\u001b[1;32m      7\u001b[0m         \u001b[38;5;28mprint\u001b[39m(file_list)\n\u001b[1;32m      8\u001b[0m     \u001b[38;5;28;01melse\u001b[39;00m:\n",
      "File \u001b[0;32m~/anaconda3/envs/py38/lib/python3.8/pathlib.py:1181\u001b[0m, in \u001b[0;36mPath.resolve\u001b[0;34m(self, strict)\u001b[0m\n\u001b[1;32m   1179\u001b[0m \u001b[38;5;28;01mif\u001b[39;00m \u001b[38;5;28mself\u001b[39m\u001b[38;5;241m.\u001b[39m_closed:\n\u001b[1;32m   1180\u001b[0m     \u001b[38;5;28mself\u001b[39m\u001b[38;5;241m.\u001b[39m_raise_closed()\n\u001b[0;32m-> 1181\u001b[0m s \u001b[38;5;241m=\u001b[39m \u001b[38;5;28;43mself\u001b[39;49m\u001b[38;5;241;43m.\u001b[39;49m\u001b[43m_flavour\u001b[49m\u001b[38;5;241;43m.\u001b[39;49m\u001b[43mresolve\u001b[49m\u001b[43m(\u001b[49m\u001b[38;5;28;43mself\u001b[39;49m\u001b[43m,\u001b[49m\u001b[43m \u001b[49m\u001b[43mstrict\u001b[49m\u001b[38;5;241;43m=\u001b[39;49m\u001b[43mstrict\u001b[49m\u001b[43m)\u001b[49m\n\u001b[1;32m   1182\u001b[0m \u001b[38;5;28;01mif\u001b[39;00m s \u001b[38;5;129;01mis\u001b[39;00m \u001b[38;5;28;01mNone\u001b[39;00m:\n\u001b[1;32m   1183\u001b[0m     \u001b[38;5;66;03m# No symlink resolution => for consistency, raise an error if\u001b[39;00m\n\u001b[1;32m   1184\u001b[0m     \u001b[38;5;66;03m# the path doesn't exist or is forbidden\u001b[39;00m\n\u001b[1;32m   1185\u001b[0m     \u001b[38;5;28mself\u001b[39m\u001b[38;5;241m.\u001b[39mstat()\n",
      "File \u001b[0;32m~/anaconda3/envs/py38/lib/python3.8/pathlib.py:363\u001b[0m, in \u001b[0;36m_PosixFlavour.resolve\u001b[0;34m(self, path, strict)\u001b[0m\n\u001b[1;32m    360\u001b[0m \u001b[38;5;66;03m# NOTE: according to POSIX, getcwd() cannot contain path components\u001b[39;00m\n\u001b[1;32m    361\u001b[0m \u001b[38;5;66;03m# which are symlinks.\u001b[39;00m\n\u001b[1;32m    362\u001b[0m base \u001b[38;5;241m=\u001b[39m \u001b[38;5;124m'\u001b[39m\u001b[38;5;124m'\u001b[39m \u001b[38;5;28;01mif\u001b[39;00m path\u001b[38;5;241m.\u001b[39mis_absolute() \u001b[38;5;28;01melse\u001b[39;00m os\u001b[38;5;241m.\u001b[39mgetcwd()\n\u001b[0;32m--> 363\u001b[0m \u001b[38;5;28;01mreturn\u001b[39;00m \u001b[43m_resolve\u001b[49m\u001b[43m(\u001b[49m\u001b[43mbase\u001b[49m\u001b[43m,\u001b[49m\u001b[43m \u001b[49m\u001b[38;5;28;43mstr\u001b[39;49m\u001b[43m(\u001b[49m\u001b[43mpath\u001b[49m\u001b[43m)\u001b[49m\u001b[43m)\u001b[49m \u001b[38;5;129;01mor\u001b[39;00m sep\n",
      "File \u001b[0;32m~/anaconda3/envs/py38/lib/python3.8/pathlib.py:347\u001b[0m, in \u001b[0;36m_PosixFlavour.resolve.<locals>._resolve\u001b[0;34m(path, rest)\u001b[0m\n\u001b[1;32m    345\u001b[0m \u001b[38;5;66;03m# Resolve the symbolic link\u001b[39;00m\n\u001b[1;32m    346\u001b[0m \u001b[38;5;28;01mtry\u001b[39;00m:\n\u001b[0;32m--> 347\u001b[0m     target \u001b[38;5;241m=\u001b[39m \u001b[43maccessor\u001b[49m\u001b[38;5;241;43m.\u001b[39;49m\u001b[43mreadlink\u001b[49m\u001b[43m(\u001b[49m\u001b[43mnewpath\u001b[49m\u001b[43m)\u001b[49m\n\u001b[1;32m    348\u001b[0m \u001b[38;5;28;01mexcept\u001b[39;00m \u001b[38;5;167;01mOSError\u001b[39;00m \u001b[38;5;28;01mas\u001b[39;00m e:\n\u001b[1;32m    349\u001b[0m     \u001b[38;5;28;01mif\u001b[39;00m e\u001b[38;5;241m.\u001b[39merrno \u001b[38;5;241m!=\u001b[39m EINVAL \u001b[38;5;129;01mand\u001b[39;00m strict:\n",
      "\u001b[0;31mKeyboardInterrupt\u001b[0m: "
     ]
    }
   ],
   "source": [
    "input_path = Path(\"/mnt/d/code/image/hedian-demo/data/test\")\n",
    "file_list = []\n",
    "if input_path.exists():\n",
    "    if input_path.is_dir():\n",
    "        # file_list = [p.resolve() for p in input_path.glob(\"**/*\") if\n",
    "        #          p.suffix in {\".png\", \".jpg\", \".JPG\", \".PNG\"}]\n",
    "        print(file_list)\n",
    "    else:\n",
    "        print(p)"
   ]
  },
  {
   "cell_type": "markdown",
   "metadata": {},
   "source": [
    "# shutil"
   ]
  },
  {
   "cell_type": "code",
   "execution_count": null,
   "metadata": {},
   "outputs": [],
   "source": [
    "# move all .txt file to achive fold\n",
    "\n",
    "import glob\n",
    "import os\n",
    "import shutil\n",
    "\n",
    "for file_name in glob.glob('*.txt'): # return a list of \n",
    "    new_path = os.path.join('archive', file_name)\n",
    "    shutil.move(file_name, new_path)"
   ]
  },
  {
   "cell_type": "markdown",
   "metadata": {},
   "source": [
    "# collections Counter"
   ]
  },
  {
   "cell_type": "code",
   "execution_count": 29,
   "metadata": {},
   "outputs": [
    {
     "name": "stdout",
     "output_type": "stream",
     "text": [
      "Counter({'': 2, '.txt': 1, '.ipynb': 1})\n",
      "漂亮 Counter({'.txt': 1})\n"
     ]
    }
   ],
   "source": [
    "# counting files\n",
    "\n",
    "import collections\n",
    "\n",
    "print(collections.Counter(p.suffix for p in pathlib.Path.cwd().iterdir()))\n",
    "\n",
    "print('漂亮', collections.Counter(p.suffix for p in pathlib.Path.cwd().glob('*.t*')))"
   ]
  }
 ],
 "metadata": {
  "kernelspec": {
   "display_name": "Python 3 (ipykernel)",
   "language": "python",
   "name": "python3"
  },
  "language_info": {
   "codemirror_mode": {
    "name": "ipython",
    "version": 3
   },
   "file_extension": ".py",
   "mimetype": "text/x-python",
   "name": "python",
   "nbconvert_exporter": "python",
   "pygments_lexer": "ipython3",
   "version": "3.8.13"
  },
  "widgets": {
   "application/vnd.jupyter.widget-state+json": {
    "state": {},
    "version_major": 2,
    "version_minor": 0
   }
  }
 },
 "nbformat": 4,
 "nbformat_minor": 4
}
