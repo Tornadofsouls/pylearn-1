{
 "cells": [
  {
   "cell_type": "markdown",
   "id": "f47f3c98-3242-4e34-a125-09713adf3bfd",
   "metadata": {},
   "source": [
    "# Call dialogflow with python api\n",
    "## precondition\n",
    "you have to download your json key, and ***export GOOGLE_APPLICATION_CREDENTIALS=\"/mnt/d/code/sabala/weather-e6aad-0371e7c946bc.json\"***\n"
   ]
  },
  {
   "cell_type": "code",
   "execution_count": null,
   "id": "5e6be2bd-5be3-456d-b3b4-7677e2abc8ea",
   "metadata": {},
   "outputs": [],
   "source": [
    "import uuid\n",
    "\n",
    "# [START dialogflow_detect_intent_text]\n",
    "def detect_intent_texts(project_id, session_id, texts, language_code):\n",
    "    \"\"\"Returns the result of detect intent with texts as inputs.\n",
    "\n",
    "    Using the same `session_id` between requests allows continuation\n",
    "    of the conversation.\"\"\"\n",
    "    from google.cloud import dialogflow\n",
    "\n",
    "    session_client = dialogflow.SessionsClient()\n",
    "\n",
    "    session = session_client.session_path(project_id, session_id)\n",
    "    print(\"Session path: {}\\n\".format(session))\n",
    "\n",
    "    for text in texts:\n",
    "        text_input = dialogflow.TextInput(text=text, language_code=language_code)\n",
    "\n",
    "        query_input = dialogflow.QueryInput(text=text_input)\n",
    "\n",
    "        response = session_client.detect_intent(\n",
    "            request={\"session\": session, \"query_input\": query_input}\n",
    "        )   \n",
    "\n",
    "        return response\n"
   ]
  },
  {
   "cell_type": "code",
   "execution_count": null,
   "id": "44f070d2-43b4-4f2b-95ca-a4fb036a2291",
   "metadata": {},
   "outputs": [],
   "source": [
    "import os\n",
    "os.environ[\"GOOGLE_APPLICATION_CREDENTIALS\"] =\"/mnt/d/code/sabala/weather-e6aad-0371e7c946bc.json\"\n",
    "\n",
    "project_id = \"weather-e6aad\"\n",
    "session_id = str(uuid.uuid4())\n",
    "texts = [\"Me toque uma música\", \"toca nos 80\"][1:]\n",
    "language_code = \"en-US\"\n",
    "response = detect_intent_texts(\n",
    "        project_id, session_id, texts, language_code\n",
    ")"
   ]
  },
  {
   "cell_type": "code",
   "execution_count": null,
   "id": "f0cc1bf6-a312-4fd5-a2bb-850bf3161fb1",
   "metadata": {},
   "outputs": [],
   "source": [
    "print(\"=\" * 20)\n",
    "print(\"Query text: {}\".format(response.query_result.query_text))\n",
    "print(\n",
    "    \"Detected intent: {} (confidence: {})\\n\".format(\n",
    "        response.query_result.intent.display_name,\n",
    "        response.query_result.intent_detection_confidence,\n",
    "    )\n",
    ")\n",
    "print(\"Fulfillment text: {}\\n\".format(response.query_result.fulfillment_text))\n",
    "print(\"Fulfillment Full: \\n{}\\n\".format(response))\n",
    "print(type(response))"
   ]
  },
  {
   "cell_type": "code",
   "execution_count": null,
   "id": "7f5ad7ed-5685-4994-b984-5c5d00cabfc7",
   "metadata": {},
   "outputs": [],
   "source": [
    "print( [(_, type(_)) for _ in dir(response) if not _.startswith(\"_\")] )\n",
    "print(type(response.query_result))"
   ]
  },
  {
   "cell_type": "markdown",
   "id": "fad09e3b-e6e8-4112-8ac0-c3ebc06351a5",
   "metadata": {},
   "source": [
    "# Webhook handle\n",
    "* https://github.com/googleapis/python-dialogflow/blob/HEAD/samples/snippets/webhook.py"
   ]
  },
  {
   "cell_type": "code",
   "execution_count": null,
   "id": "a640193d-c00d-4de5-b3e9-f951fa0e5a5b",
   "metadata": {},
   "outputs": [],
   "source": [
    "# TODO: change the default Entry Point text to handleWebhook\n",
    "\n",
    "def handleWebhook(request):\n",
    "\n",
    "    req = request.get_json()\n",
    "\n",
    "    responseText = \"\"\n",
    "    intent = req[\"queryResult\"][\"intent\"][\"displayName\"]\n",
    "\n",
    "    if intent == \"Default Welcome Intent\":\n",
    "        responseText = \"Hello from a GCF Webhook\"\n",
    "    elif intent == \"get-agent-name\":\n",
    "        responseText = \"My name is Flowhook\"\n",
    "    else:\n",
    "        responseText = f\"There are no fulfillment responses defined for Intent {intent}\"\n",
    "\n",
    "    # You can also use the google.cloud.dialogflowcx_v3.types.WebhookRequest protos instead of manually writing the json object\n",
    "    res = {\"fulfillmentMessages\": [{\"text\": {\"text\": [responseText]}}]}\n",
    "\n",
    "    return res"
   ]
  },
  {
   "cell_type": "code",
   "execution_count": null,
   "id": "58d3c88a-5476-407d-b787-d5fbb42de0e7",
   "metadata": {},
   "outputs": [],
   "source": [
    "handleWebhook(response)"
   ]
  },
  {
   "cell_type": "code",
   "execution_count": 1,
   "id": "438c3fc8-904e-4b7f-a73e-458cbe66d33d",
   "metadata": {},
   "outputs": [
    {
     "name": "stdout",
     "output_type": "stream",
     "text": [
      "2\n"
     ]
    }
   ],
   "source": []
  },
  {
   "cell_type": "code",
   "execution_count": 2,
   "id": "adffea1a-7fb4-426b-b22a-06dcffad5fa2",
   "metadata": {},
   "outputs": [
    {
     "name": "stdout",
     "output_type": "stream",
     "text": [
      "0\n"
     ]
    }
   ],
   "source": [
    "print(torch.cuda.current_device())"
   ]
  },
  {
   "cell_type": "code",
   "execution_count": null,
   "id": "80387ee9-98d5-4e91-990d-60c79d50ed93",
   "metadata": {},
   "outputs": [],
   "source": []
  }
 ],
 "metadata": {
  "kernelspec": {
   "display_name": "Python [conda env:py38] *",
   "language": "python",
   "name": "conda-env-py38-py"
  },
  "language_info": {
   "codemirror_mode": {
    "name": "ipython",
    "version": 3
   },
   "file_extension": ".py",
   "mimetype": "text/x-python",
   "name": "python",
   "nbconvert_exporter": "python",
   "pygments_lexer": "ipython3",
   "version": "3.8.13"
  },
  "widgets": {
   "application/vnd.jupyter.widget-state+json": {
    "state": {},
    "version_major": 2,
    "version_minor": 0
   }
  }
 },
 "nbformat": 4,
 "nbformat_minor": 5
}
