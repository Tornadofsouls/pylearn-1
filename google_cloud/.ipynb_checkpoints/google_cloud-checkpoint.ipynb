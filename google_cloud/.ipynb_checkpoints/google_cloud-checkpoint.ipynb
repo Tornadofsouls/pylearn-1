{
 "cells": [
  {
   "cell_type": "markdown",
   "id": "f47f3c98-3242-4e34-a125-09713adf3bfd",
   "metadata": {},
   "source": [
    "# Call dialogflow with python api\n",
    "## precondition\n",
    "you have to download your json key, and ***export GOOGLE_APPLICATION_CREDENTIALS=\"/mnt/d/code/sabala/weather-e6aad-0371e7c946bc.json\"***\n"
   ]
  },
  {
   "cell_type": "code",
   "execution_count": 1,
   "id": "5e6be2bd-5be3-456d-b3b4-7677e2abc8ea",
   "metadata": {},
   "outputs": [],
   "source": [
    "import uuid\n",
    "\n",
    "# [START dialogflow_detect_intent_text]\n",
    "def detect_intent_texts(project_id, session_id, texts, language_code):\n",
    "    \"\"\"Returns the result of detect intent with texts as inputs.\n",
    "\n",
    "    Using the same `session_id` between requests allows continuation\n",
    "    of the conversation.\"\"\"\n",
    "    from google.cloud import dialogflow\n",
    "\n",
    "    session_client = dialogflow.SessionsClient()\n",
    "\n",
    "    session = session_client.session_path(project_id, session_id)\n",
    "    print(\"Session path: {}\\n\".format(session))\n",
    "\n",
    "    for text in texts:\n",
    "        text_input = dialogflow.TextInput(text=text, language_code=language_code)\n",
    "\n",
    "        query_input = dialogflow.QueryInput(text=text_input)\n",
    "\n",
    "        response = session_client.detect_intent(\n",
    "            request={\"session\": session, \"query_input\": query_input}\n",
    "        )   \n",
    "\n",
    "        return response\n"
   ]
  },
  {
   "cell_type": "code",
   "execution_count": 24,
   "id": "44f070d2-43b4-4f2b-95ca-a4fb036a2291",
   "metadata": {},
   "outputs": [
    {
     "name": "stdout",
     "output_type": "stream",
     "text": [
      "Session path: projects/weather-e6aad/agent/sessions/fac911cd-31aa-43b6-b843-c3bac557dd83\n",
      "\n"
     ]
    }
   ],
   "source": [
    "import os\n",
    "os.environ[\"GOOGLE_APPLICATION_CREDENTIALS\"] =\"/mnt/d/code/sabala/weather-e6aad-0371e7c946bc.json\"\n",
    "\n",
    "project_id = \"weather-e6aad\"\n",
    "session_id = str(uuid.uuid4())\n",
    "texts = [\"Me toque uma música\", \"toca nos 80\"][1:]\n",
    "language_code = \"en-US\"\n",
    "response = detect_intent_texts(\n",
    "        project_id, session_id, texts, language_code\n",
    ")"
   ]
  },
  {
   "cell_type": "code",
   "execution_count": 25,
   "id": "f0cc1bf6-a312-4fd5-a2bb-850bf3161fb1",
   "metadata": {},
   "outputs": [
    {
     "name": "stdout",
     "output_type": "stream",
     "text": [
      "====================\n",
      "Query text: toca nos 80\n",
      "Detected intent: PlayMusic (confidence: 0.6023122668266296)\n",
      "\n",
      "Fulfillment text: Agora tocando Anos 80, \n",
      "\n",
      "Fulfillment Full: \n",
      "response_id: \"4a67807d-b1a3-4616-8f52-e93690906353-74fe87bc\"\n",
      "query_result {\n",
      "  query_text: \"toca nos 80\"\n",
      "  parameters {\n",
      "    fields {\n",
      "      key: \"artist\"\n",
      "      value {\n",
      "        string_value: \"\"\n",
      "      }\n",
      "    }\n",
      "    fields {\n",
      "      key: \"genre\"\n",
      "      value {\n",
      "        string_value: \"\"\n",
      "      }\n",
      "    }\n",
      "    fields {\n",
      "      key: \"title\"\n",
      "      value {\n",
      "        string_value: \"nos 80\"\n",
      "      }\n",
      "    }\n",
      "  }\n",
      "  all_required_params_present: true\n",
      "  fulfillment_text: \"Agora tocando Anos 80, \"\n",
      "  fulfillment_messages {\n",
      "    text {\n",
      "      text: \"Agora tocando Anos 80, \"\n",
      "    }\n",
      "  }\n",
      "  webhook_payload {\n",
      "    fields {\n",
      "      key: \"google\"\n",
      "      value {\n",
      "        struct_value {\n",
      "          fields {\n",
      "            key: \"expectUserResponse\"\n",
      "            value {\n",
      "              bool_value: true\n",
      "            }\n",
      "          }\n",
      "          fields {\n",
      "            key: \"richResponse\"\n",
      "            value {\n",
      "              struct_value {\n",
      "                fields {\n",
      "                  key: \"items\"\n",
      "                  value {\n",
      "                    list_value {\n",
      "                      values {\n",
      "                        struct_value {\n",
      "                          fields {\n",
      "                            key: \"simpleResponse\"\n",
      "                            value {\n",
      "                              struct_value {\n",
      "                                fields {\n",
      "                                  key: \"displayText\"\n",
      "                                  value {\n",
      "                                    string_value: \"Agora tocando Anos 80, \"\n",
      "                                  }\n",
      "                                }\n",
      "                                fields {\n",
      "                                  key: \"textToSpeech\"\n",
      "                                  value {\n",
      "                                    string_value: \"Agora tocando Anos 80, \"\n",
      "                                  }\n",
      "                                }\n",
      "                              }\n",
      "                            }\n",
      "                          }\n",
      "                        }\n",
      "                      }\n",
      "                    }\n",
      "                  }\n",
      "                }\n",
      "              }\n",
      "            }\n",
      "          }\n",
      "        }\n",
      "      }\n",
      "    }\n",
      "    fields {\n",
      "      key: \"picoai\"\n",
      "      value {\n",
      "        struct_value {\n",
      "          fields {\n",
      "            key: \"message\"\n",
      "            value {\n",
      "              string_value: \"{\\\"playCommand\\\": \\\"PLAY\\\", \\\"currentTrack\\\": {\\\"title\\\": \\\"Anos 80\\\", \\\"artist\\\": \\\"\\\", \\\"album\\\": \\\"\\\", \\\"playUrl\\\": \\\"https://stream.vagalume.fm/hls/1507663468882713/aac.m3u8\\\"}, \\\"playlist\\\": [{\\\"title\\\": \\\"Anos 80\\\", \\\"artist\\\": \\\"\\\", \\\"album\\\": \\\"\\\", \\\"playUrl\\\": \\\"https://stream.vagalume.fm/hls/1507663468882713/aac.m3u8\\\"}], \\\"outputText\\\": \\\"Agora tocando Anos 80, \\\", \\\"success\\\": true}\"\n",
      "            }\n",
      "          }\n",
      "        }\n",
      "      }\n",
      "    }\n",
      "  }\n",
      "  intent {\n",
      "    name: \"projects/weather-e6aad/agent/intents/4bde314e-8feb-4ad1-b1fc-3fe451a7b431\"\n",
      "    display_name: \"PlayMusic\"\n",
      "    end_interaction: true\n",
      "  }\n",
      "  intent_detection_confidence: 0.6023122668266296\n",
      "  diagnostic_info {\n",
      "    fields {\n",
      "      key: \"end_conversation\"\n",
      "      value {\n",
      "        bool_value: true\n",
      "      }\n",
      "    }\n",
      "    fields {\n",
      "      key: \"webhook_latency_ms\"\n",
      "      value {\n",
      "        number_value: 456.0\n",
      "      }\n",
      "    }\n",
      "  }\n",
      "  language_code: \"pt-br\"\n",
      "}\n",
      "webhook_status {\n",
      "  message: \"Webhook execution successful\"\n",
      "}\n",
      "\n",
      "\n",
      "<class 'google.cloud.dialogflow_v2.types.session.DetectIntentResponse'>\n"
     ]
    }
   ],
   "source": [
    "print(\"=\" * 20)\n",
    "print(\"Query text: {}\".format(response.query_result.query_text))\n",
    "print(\n",
    "    \"Detected intent: {} (confidence: {})\\n\".format(\n",
    "        response.query_result.intent.display_name,\n",
    "        response.query_result.intent_detection_confidence,\n",
    "    )\n",
    ")\n",
    "print(\"Fulfillment text: {}\\n\".format(response.query_result.fulfillment_text))\n",
    "print(\"Fulfillment Full: \\n{}\\n\".format(response))\n",
    "print(type(response))"
   ]
  },
  {
   "cell_type": "code",
   "execution_count": 21,
   "id": "7f5ad7ed-5685-4994-b984-5c5d00cabfc7",
   "metadata": {},
   "outputs": [
    {
     "name": "stdout",
     "output_type": "stream",
     "text": [
      "[('output_audio', <class 'str'>), ('output_audio_config', <class 'str'>), ('query_result', <class 'str'>), ('response_id', <class 'str'>), ('webhook_status', <class 'str'>)]\n",
      "<class 'google.cloud.dialogflow_v2.types.session.QueryResult'>\n"
     ]
    }
   ],
   "source": [
    "print( [(_, type(_)) for _ in dir(response) if not _.startswith(\"_\")] )\n",
    "print(type(response.query_result))"
   ]
  },
  {
   "cell_type": "markdown",
   "id": "fad09e3b-e6e8-4112-8ac0-c3ebc06351a5",
   "metadata": {},
   "source": [
    "# Webhook handle\n",
    "* https://github.com/googleapis/python-dialogflow/blob/HEAD/samples/snippets/webhook.py"
   ]
  },
  {
   "cell_type": "code",
   "execution_count": 26,
   "id": "a640193d-c00d-4de5-b3e9-f951fa0e5a5b",
   "metadata": {},
   "outputs": [],
   "source": [
    "# TODO: change the default Entry Point text to handleWebhook\n",
    "\n",
    "def handleWebhook(request):\n",
    "\n",
    "    req = request.get_json()\n",
    "\n",
    "    responseText = \"\"\n",
    "    intent = req[\"queryResult\"][\"intent\"][\"displayName\"]\n",
    "\n",
    "    if intent == \"Default Welcome Intent\":\n",
    "        responseText = \"Hello from a GCF Webhook\"\n",
    "    elif intent == \"get-agent-name\":\n",
    "        responseText = \"My name is Flowhook\"\n",
    "    else:\n",
    "        responseText = f\"There are no fulfillment responses defined for Intent {intent}\"\n",
    "\n",
    "    # You can also use the google.cloud.dialogflowcx_v3.types.WebhookRequest protos instead of manually writing the json object\n",
    "    res = {\"fulfillmentMessages\": [{\"text\": {\"text\": [responseText]}}]}\n",
    "\n",
    "    return res"
   ]
  },
  {
   "cell_type": "code",
   "execution_count": 27,
   "id": "58d3c88a-5476-407d-b787-d5fbb42de0e7",
   "metadata": {},
   "outputs": [
    {
     "ename": "AttributeError",
     "evalue": "Unknown field for DetectIntentResponse: get_json",
     "output_type": "error",
     "traceback": [
      "\u001b[0;31m---------------------------------------------------------------------------\u001b[0m",
      "\u001b[0;31mAttributeError\u001b[0m                            Traceback (most recent call last)",
      "Input \u001b[0;32mIn [27]\u001b[0m, in \u001b[0;36m<cell line: 1>\u001b[0;34m()\u001b[0m\n\u001b[0;32m----> 1\u001b[0m \u001b[43mhandleWebhook\u001b[49m\u001b[43m(\u001b[49m\u001b[43mresponse\u001b[49m\u001b[43m)\u001b[49m\n",
      "Input \u001b[0;32mIn [26]\u001b[0m, in \u001b[0;36mhandleWebhook\u001b[0;34m(request)\u001b[0m\n\u001b[1;32m      3\u001b[0m \u001b[38;5;28;01mdef\u001b[39;00m \u001b[38;5;21mhandleWebhook\u001b[39m(request):\n\u001b[0;32m----> 5\u001b[0m     req \u001b[38;5;241m=\u001b[39m \u001b[43mrequest\u001b[49m\u001b[38;5;241;43m.\u001b[39;49m\u001b[43mget_json\u001b[49m()\n\u001b[1;32m      7\u001b[0m     responseText \u001b[38;5;241m=\u001b[39m \u001b[38;5;124m\"\u001b[39m\u001b[38;5;124m\"\u001b[39m\n\u001b[1;32m      8\u001b[0m     intent \u001b[38;5;241m=\u001b[39m req[\u001b[38;5;124m\"\u001b[39m\u001b[38;5;124mqueryResult\u001b[39m\u001b[38;5;124m\"\u001b[39m][\u001b[38;5;124m\"\u001b[39m\u001b[38;5;124mintent\u001b[39m\u001b[38;5;124m\"\u001b[39m][\u001b[38;5;124m\"\u001b[39m\u001b[38;5;124mdisplayName\u001b[39m\u001b[38;5;124m\"\u001b[39m]\n",
      "File \u001b[0;32m~/anaconda3/envs/py38/lib/python3.8/site-packages/proto/message.py:707\u001b[0m, in \u001b[0;36mMessage.__getattr__\u001b[0;34m(self, key)\u001b[0m\n\u001b[1;32m    705\u001b[0m (key, pb_type) \u001b[38;5;241m=\u001b[39m \u001b[38;5;28mself\u001b[39m\u001b[38;5;241m.\u001b[39m_get_pb_type_from_key(key)\n\u001b[1;32m    706\u001b[0m \u001b[38;5;28;01mif\u001b[39;00m pb_type \u001b[38;5;129;01mis\u001b[39;00m \u001b[38;5;28;01mNone\u001b[39;00m:\n\u001b[0;32m--> 707\u001b[0m     \u001b[38;5;28;01mraise\u001b[39;00m \u001b[38;5;167;01mAttributeError\u001b[39;00m(\n\u001b[1;32m    708\u001b[0m         \u001b[38;5;124m\"\u001b[39m\u001b[38;5;124mUnknown field for \u001b[39m\u001b[38;5;132;01m{}\u001b[39;00m\u001b[38;5;124m: \u001b[39m\u001b[38;5;132;01m{}\u001b[39;00m\u001b[38;5;124m\"\u001b[39m\u001b[38;5;241m.\u001b[39mformat(\u001b[38;5;28mself\u001b[39m\u001b[38;5;241m.\u001b[39m\u001b[38;5;18m__class__\u001b[39m\u001b[38;5;241m.\u001b[39m\u001b[38;5;18m__name__\u001b[39m, key)\n\u001b[1;32m    709\u001b[0m     )\n\u001b[1;32m    710\u001b[0m pb_value \u001b[38;5;241m=\u001b[39m \u001b[38;5;28mgetattr\u001b[39m(\u001b[38;5;28mself\u001b[39m\u001b[38;5;241m.\u001b[39m_pb, key)\n\u001b[1;32m    711\u001b[0m marshal \u001b[38;5;241m=\u001b[39m \u001b[38;5;28mself\u001b[39m\u001b[38;5;241m.\u001b[39m_meta\u001b[38;5;241m.\u001b[39mmarshal\n",
      "\u001b[0;31mAttributeError\u001b[0m: Unknown field for DetectIntentResponse: get_json"
     ]
    }
   ],
   "source": [
    "handleWebhook(response)"
   ]
  },
  {
   "cell_type": "code",
   "execution_count": null,
   "id": "438c3fc8-904e-4b7f-a73e-458cbe66d33d",
   "metadata": {},
   "outputs": [],
   "source": []
  }
 ],
 "metadata": {
  "kernelspec": {
   "display_name": "Python [conda env:py38] *",
   "language": "python",
   "name": "conda-env-py38-py"
  },
  "language_info": {
   "codemirror_mode": {
    "name": "ipython",
    "version": 3
   },
   "file_extension": ".py",
   "mimetype": "text/x-python",
   "name": "python",
   "nbconvert_exporter": "python",
   "pygments_lexer": "ipython3",
   "version": "3.8.13"
  },
  "widgets": {
   "application/vnd.jupyter.widget-state+json": {
    "state": {},
    "version_major": 2,
    "version_minor": 0
   }
  }
 },
 "nbformat": 4,
 "nbformat_minor": 5
}
