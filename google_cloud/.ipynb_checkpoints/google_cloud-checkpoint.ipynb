{
 "cells": [
  {
   "cell_type": "markdown",
   "id": "f47f3c98-3242-4e34-a125-09713adf3bfd",
   "metadata": {},
   "source": [
    "# Call dialogflow with python api\n",
    "## precondition\n",
    "you have to download your json key, and ***export GOOGLE_APPLICATION_CREDENTIALS=\"/mnt/d/code/sabala/weather-e6aad-0371e7c946bc.json\"***\n"
   ]
  },
  {
   "cell_type": "code",
   "execution_count": 20,
   "id": "04e787b2-db51-4474-82b7-1173512bc5cf",
   "metadata": {},
   "outputs": [
    {
     "name": "stdout",
     "output_type": "stream",
     "text": [
      "--2022-05-08 16:49:25--  http://www.google.com/\n",
      "Connecting to 172.26.64.1:7890... connected.\n",
      "Proxy request sent, awaiting response... 200 OK\n",
      "Length: unspecified [text/html]\n",
      "Saving to: ‘index.html’\n",
      "\n",
      "index.html              [ <=>                ]  15.91K  --.-KB/s    in 0.03s   \n",
      "\n",
      "2022-05-08 16:49:25 (605 KB/s) - ‘index.html’ saved [16288]\n",
      "\n"
     ]
    }
   ],
   "source": [
    "# check firewall\n",
    "!rm index.html*\n",
    "!wget www.google.com"
   ]
  },
  {
   "cell_type": "code",
   "execution_count": 21,
   "id": "5e6be2bd-5be3-456d-b3b4-7677e2abc8ea",
   "metadata": {},
   "outputs": [],
   "source": [
    "import uuid\n",
    "from google.cloud import dialogflow\n",
    "\n",
    "# session format: 'projects/*/locations/*/agent/environments/*/users/*/sessions/*'.\n",
    "def get_session(project_id, session_id, env=None):\n",
    "    \"\"\"\n",
    "    Using the same `session_id` between requests allows continuation\n",
    "    of the conversation.\n",
    "    :return: session is a str\n",
    "    \"\"\"\n",
    "    if env is None:\n",
    "        session_client = dialogflow.SessionsClient()\n",
    "        session = session_client.session_path(project_id, session_id)\n",
    "        return session\n",
    "    else:\n",
    "        assert isinstance(env, str)\n",
    "        return f\"projects/{project_id}/agent/environments/{env}/sessions/{session_id}\"\n",
    "    \n",
    "\n",
    "# [START dialogflow_detect_intent_text]\n",
    "def detect_intent_texts(project_id, session_id, text, language_code, env=None):\n",
    "    \"\"\"Returns the result of detect intent with texts as inputs.\n",
    "\n",
    "    Using the same `session_id` between requests allows continuation\n",
    "    of the conversation.\"\"\"\n",
    "    session= get_session(project_id, session_id, env=env)\n",
    "    print(\"Session path: {}\\n\".format(session))\n",
    "\n",
    "    text_input = dialogflow.TextInput(text=text, language_code=language_code)\n",
    "    query_input = dialogflow.QueryInput(text=text_input)\n",
    "\n",
    "    response = session_client.detect_intent(\n",
    "        request={\"session\": session, \"query_input\": query_input}\n",
    "    )   \n",
    "\n",
    "    return response\n"
   ]
  },
  {
   "cell_type": "code",
   "execution_count": 22,
   "id": "bf6fe133-d588-4233-b047-95861a2d440e",
   "metadata": {},
   "outputs": [],
   "source": [
    "# set credentials, this is a must\n",
    "\n",
    "import os\n",
    "os.environ[\"GOOGLE_APPLICATION_CREDENTIALS\"] =\"/mnt/d/code/sabala/mega-sabala-9ibe-940e7527ac9b.json\""
   ]
  },
  {
   "cell_type": "markdown",
   "id": "510a5918-b2d3-4247-87f0-db5ab6a93ae6",
   "metadata": {
    "tags": []
   },
   "source": [
    "## examples of making session url"
   ]
  },
  {
   "cell_type": "code",
   "execution_count": 24,
   "id": "7c5d2903-0edd-4ff5-b6e8-030c4cc90855",
   "metadata": {},
   "outputs": [
    {
     "data": {
      "text/plain": [
       "'projects/sabala-348110/agent/environments/new/sessions/4ae77438-4c3e-4685-ac7a-5c29a6ae2111'"
      ]
     },
     "execution_count": 24,
     "metadata": {},
     "output_type": "execute_result"
    }
   ],
   "source": [
    "from google.cloud import dialogflow\n",
    "\n",
    "project_id = \"sabala-348110\"\n",
    "\n",
    "session_id = str(uuid.uuid4())\n",
    "# texts = [\"Me toque uma música\", \"toca nos 80\", \"Tocar música clássica\", \"parar música\"][-1:]\n",
    "language_code = \"en-US\"\n",
    "\n",
    "session = get_session(project_id, session_id, env='new')\n",
    "session\n"
   ]
  },
  {
   "cell_type": "markdown",
   "id": "d8e049c7-b0c8-4d3b-80d8-eab7e9137b33",
   "metadata": {
    "jp-MarkdownHeadingCollapsed": true,
    "tags": []
   },
   "source": [
    "# visit Mega Agent and print"
   ]
  },
  {
   "cell_type": "code",
   "execution_count": 17,
   "id": "44f070d2-43b4-4f2b-95ca-a4fb036a2291",
   "metadata": {},
   "outputs": [
    {
     "name": "stdout",
     "output_type": "stream",
     "text": [
      "Session path: projects/mega-sabala-9ibe/agent/sessions/c2b07a76-4533-4181-b6a3-2e16b034f294\n",
      "\n"
     ]
    }
   ],
   "source": [
    "project_id = \"mega-sabala-9ibe\"\n",
    "\n",
    "session_id = str(uuid.uuid4())\n",
    "texts = [\"how's the weather today\", \"Você pode me dizer a maneira mais fácil de ganhar dinheiro?\"]\n",
    "texts = [\"parar música\"]\n",
    "language_code = \"pt-BR\"\n",
    "response = detect_intent_texts(\n",
    "        project_id, session_id, texts, language_code\n",
    ")"
   ]
  },
  {
   "cell_type": "code",
   "execution_count": 20,
   "id": "f0cc1bf6-a312-4fd5-a2bb-850bf3161fb1",
   "metadata": {},
   "outputs": [
    {
     "name": "stdout",
     "output_type": "stream",
     "text": [
      "====================\n",
      "Query text: how's the weather today\n",
      "Detected intent: Currency_ConversionA (confidence: 0.6612323522567749)\n",
      "\n",
      "Fulfillment text: Desculpe, não posso atualizar as taxas de câmbio no momento.\n",
      "\n",
      "Fulfillment Full: \n",
      "response_id: \"bd75e32e-6e5c-4818-9df6-61dbadd65faa-74fe87bc\"\n",
      "query_result {\n",
      "  query_text: \"how\\'s the weather today\"\n",
      "  parameters {\n",
      "    fields {\n",
      "      key: \"amount\"\n",
      "      value {\n",
      "        string_value: \"\"\n",
      "      }\n",
      "    }\n",
      "    fields {\n",
      "      key: \"currency1\"\n",
      "      value {\n",
      "        string_value: \"D\\303\\263lar de Singapura\"\n",
      "      }\n",
      "    }\n",
      "  }\n",
      "  all_required_params_present: true\n",
      "  fulfillment_text: \"Desculpe, n\\303\\243o posso atualizar as taxas de c\\303\\242mbio no momento.\"\n",
      "  fulfillment_messages {\n",
      "    text {\n",
      "      text: \"Desculpe, n\\303\\243o posso atualizar as taxas de c\\303\\242mbio no momento.\"\n",
      "    }\n",
      "  }\n",
      "  webhook_payload {\n",
      "    fields {\n",
      "      key: \"google\"\n",
      "      value {\n",
      "        struct_value {\n",
      "          fields {\n",
      "            key: \"expectUserResponse\"\n",
      "            value {\n",
      "              bool_value: true\n",
      "            }\n",
      "          }\n",
      "          fields {\n",
      "            key: \"richResponse\"\n",
      "            value {\n",
      "              struct_value {\n",
      "                fields {\n",
      "                  key: \"items\"\n",
      "                  value {\n",
      "                    list_value {\n",
      "                      values {\n",
      "                        struct_value {\n",
      "                          fields {\n",
      "                            key: \"simpleResponse\"\n",
      "                            value {\n",
      "                              struct_value {\n",
      "                                fields {\n",
      "                                  key: \"displayText\"\n",
      "                                  value {\n",
      "                                    string_value: \"Desculpe, n\\303\\243o posso atualizar as taxas de c\\303\\242mbio no momento.\"\n",
      "                                  }\n",
      "                                }\n",
      "                                fields {\n",
      "                                  key: \"textToSpeech\"\n",
      "                                  value {\n",
      "                                    string_value: \"Desculpe, n\\303\\243o posso atualizar as taxas de c\\303\\242mbio no momento.\"\n",
      "                                  }\n",
      "                                }\n",
      "                              }\n",
      "                            }\n",
      "                          }\n",
      "                        }\n",
      "                      }\n",
      "                    }\n",
      "                  }\n",
      "                }\n",
      "              }\n",
      "            }\n",
      "          }\n",
      "        }\n",
      "      }\n",
      "    }\n",
      "    fields {\n",
      "      key: \"picoai\"\n",
      "      value {\n",
      "        struct_value {\n",
      "          fields {\n",
      "            key: \"message\"\n",
      "            value {\n",
      "              string_value: \"{\\\"outputText\\\": \\\"Desculpe, n\\\\u00e3o posso atualizar as taxas de c\\\\u00e2mbio no momento.\\\", \\\"success\\\": false}\"\n",
      "            }\n",
      "          }\n",
      "        }\n",
      "      }\n",
      "    }\n",
      "  }\n",
      "  output_contexts {\n",
      "    name: \"projects/mega-sabala-9ibe/agent/sessions/3c33f732-f9e4-4472-9fbe-a940cf566e74/contexts/__mega_agent_context__\"\n",
      "    lifespan_count: 2147483647\n",
      "    parameters {\n",
      "      fields {\n",
      "        key: \"__most_recent_agent_ids__\"\n",
      "        value {\n",
      "          list_value {\n",
      "            values {\n",
      "              string_value: \"4e05f70d-db24-4a56-8aff-d764e59245b2\"\n",
      "            }\n",
      "          }\n",
      "        }\n",
      "      }\n",
      "    }\n",
      "  }\n",
      "  intent {\n",
      "    name: \"projects/others-sabala-eonj/agent/intents/0d4eea6e-e39d-4cc0-acc3-aded385559ff\"\n",
      "    display_name: \"Currency_ConversionA\"\n",
      "    end_interaction: true\n",
      "  }\n",
      "  intent_detection_confidence: 0.6612323522567749\n",
      "  diagnostic_info {\n",
      "    fields {\n",
      "      key: \"end_conversation\"\n",
      "      value {\n",
      "        bool_value: true\n",
      "      }\n",
      "    }\n",
      "    fields {\n",
      "      key: \"webhook_latency_ms\"\n",
      "      value {\n",
      "        number_value: 426.0\n",
      "      }\n",
      "    }\n",
      "  }\n",
      "  language_code: \"pt-br\"\n",
      "}\n",
      "webhook_status {\n",
      "  message: \"Webhook execution successful\"\n",
      "}\n",
      "\n",
      "\n",
      "<class 'google.cloud.dialogflow_v2.types.session.DetectIntentResponse'>\n"
     ]
    }
   ],
   "source": [
    "response.output_audio = \"None\"\n",
    "print(\"=\" * 20)\n",
    "print(\"Query text: {}\".format(response.query_result.query_text))\n",
    "print(\n",
    "    \"Detected intent: {} (confidence: {})\\n\".format(\n",
    "        response.query_result.intent.display_name,\n",
    "        response.query_result.intent_detection_confidence,\n",
    "    )\n",
    ")\n",
    "print(\"Fulfillment text: {}\\n\".format(response.query_result.fulfillment_text))\n",
    "print(\"Fulfillment Full: \\n{}\\n\".format(response))\n",
    "print(type(response))"
   ]
  },
  {
   "cell_type": "markdown",
   "id": "4640b96d-f6a9-422f-8f3e-7e8f95a8ff19",
   "metadata": {},
   "source": [
    "# visit media/Music Agent"
   ]
  },
  {
   "cell_type": "markdown",
   "id": "3a61a169-a068-4671-9827-9d6cbc2f19f5",
   "metadata": {},
   "source": [
    "## visit the default one: draft"
   ]
  },
  {
   "cell_type": "code",
   "execution_count": 25,
   "id": "d28cf6d9-3f2f-4947-a638-db5e859d0a84",
   "metadata": {},
   "outputs": [
    {
     "name": "stdout",
     "output_type": "stream",
     "text": [
      "Session path: projects/sabala-348110/agent/sessions/2a3537a5-0a0f-4892-95a8-1758396c0862\n",
      "\n"
     ]
    }
   ],
   "source": [
    "project_id = \"sabala-348110\"\n",
    "\n",
    "session_id = str(uuid.uuid4())\n",
    "texts = [\"Me toque uma música\", \"toca nos 80\", \"Tocar música clássica\", \"parar música\"]\n",
    "language_code = \"en-US\"\n",
    "response = detect_intent_texts(\n",
    "        project_id, session_id, texts[-1], language_code\n",
    ")"
   ]
  },
  {
   "cell_type": "code",
   "execution_count": 26,
   "id": "7f5ad7ed-5685-4994-b984-5c5d00cabfc7",
   "metadata": {},
   "outputs": [
    {
     "name": "stdout",
     "output_type": "stream",
     "text": [
      "[('output_audio', <class 'str'>), ('output_audio_config', <class 'str'>), ('query_result', <class 'str'>), ('response_id', <class 'str'>), ('webhook_status', <class 'str'>)]\n",
      "name: \"projects/sabala-348110/agent/intents/4bde314e-8feb-4ad1-b1fc-3fe451a7b431\"\n",
      "display_name: \"PlayMusic\"\n",
      "end_interaction: true\n",
      "\n"
     ]
    }
   ],
   "source": [
    "print( [(_, type(_)) for _ in dir(response) if not _.startswith(\"_\")] )\n",
    "response.output_audio = \"None\"\n",
    "print(response.query_result.intent)"
   ]
  },
  {
   "cell_type": "markdown",
   "id": "7de427c7-f766-40f1-b945-f2c64ee56e38",
   "metadata": {},
   "source": [
    "## visit active version in a specified environment"
   ]
  },
  {
   "cell_type": "code",
   "execution_count": 27,
   "id": "74fe31b1-ba35-4e21-a61b-f2d7b9bee7d1",
   "metadata": {},
   "outputs": [
    {
     "name": "stdout",
     "output_type": "stream",
     "text": [
      "Session path: projects/sabala-348110/agent/environments/new/sessions/2a3537a5-0a0f-4892-95a8-1758396c0862\n",
      "\n"
     ]
    }
   ],
   "source": [
    "response = detect_intent_texts(\n",
    "        project_id, session_id, texts[-1], language_code, env='new'\n",
    ")"
   ]
  },
  {
   "cell_type": "markdown",
   "id": "fad09e3b-e6e8-4112-8ac0-c3ebc06351a5",
   "metadata": {},
   "source": [
    "# Webhook handle\n",
    "* https://github.com/googleapis/python-dialogflow/blob/HEAD/samples/snippets/webhook.py"
   ]
  },
  {
   "cell_type": "code",
   "execution_count": null,
   "id": "a640193d-c00d-4de5-b3e9-f951fa0e5a5b",
   "metadata": {},
   "outputs": [],
   "source": [
    "# TODO: change the default Entry Point text to handleWebhook\n",
    "\n",
    "def handleWebhook(request):\n",
    "\n",
    "    req = request.get_json()\n",
    "\n",
    "    responseText = \"\"\n",
    "    intent = req[\"queryResult\"][\"intent\"][\"displayName\"]\n",
    "\n",
    "    if intent == \"Default Welcome Intent\":\n",
    "        responseText = \"Hello from a GCF Webhook\"\n",
    "    elif intent == \"get-agent-name\":\n",
    "        responseText = \"My name is Flowhook\"\n",
    "    else:\n",
    "        responseText = f\"There are no fulfillment responses defined for Intent {intent}\"\n",
    "\n",
    "    # You can also use the google.cloud.dialogflowcx_v3.types.WebhookRequest protos instead of manually writing the json object\n",
    "    res = {\"fulfillmentMessages\": [{\"text\": {\"text\": [responseText]}}]}\n",
    "\n",
    "    return res"
   ]
  },
  {
   "cell_type": "code",
   "execution_count": null,
   "id": "58d3c88a-5476-407d-b787-d5fbb42de0e7",
   "metadata": {},
   "outputs": [],
   "source": [
    "handleWebhook(response)"
   ]
  },
  {
   "cell_type": "code",
   "execution_count": null,
   "id": "80387ee9-98d5-4e91-990d-60c79d50ed93",
   "metadata": {},
   "outputs": [],
   "source": []
  }
 ],
 "metadata": {
  "kernelspec": {
   "display_name": "Python [conda env:py38] *",
   "language": "python",
   "name": "conda-env-py38-py"
  },
  "language_info": {
   "codemirror_mode": {
    "name": "ipython",
    "version": 3
   },
   "file_extension": ".py",
   "mimetype": "text/x-python",
   "name": "python",
   "nbconvert_exporter": "python",
   "pygments_lexer": "ipython3",
   "version": "3.8.13"
  },
  "toc-autonumbering": true,
  "widgets": {
   "application/vnd.jupyter.widget-state+json": {
    "state": {},
    "version_major": 2,
    "version_minor": 0
   }
  }
 },
 "nbformat": 4,
 "nbformat_minor": 5
}
