{
 "cells": [
  {
   "cell_type": "markdown",
   "metadata": {},
   "source": [
    "# Parlai\n",
    "\n",
    "* ParlAI: A Dialog Research Software Platform\n",
    "* from facebook, put \n",
    "\n",
    "## docs\n",
    "\n",
    "* https://www.parl.ai/docs/\n",
    "* https://parl.ai/projects/bb3/  -- blended skill bots 运行\n"
   ]
  }
 ],
 "metadata": {
  "language_info": {
   "name": "python"
  },
  "orig_nbformat": 4
 },
 "nbformat": 4,
 "nbformat_minor": 2
}
