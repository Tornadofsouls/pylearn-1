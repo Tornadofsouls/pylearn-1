{
 "cells": [
  {
   "cell_type": "markdown",
   "metadata": {},
   "source": [
    "# NLP 中文库介绍记录\n",
    "## py之zhon\n"
   ]
  },
  {
   "cell_type": "markdown",
   "metadata": {},
   "source": [
    "## zhon库的简介\n",
    "\n",
    "### 主要功能\n",
    "\n",
    "* 中日韩文字和部首\n",
    "* 中文标点符号\n",
    "* 汉语句子规则表达模式\n",
    "* **拼音**元音、辅音、小写、大写和标点符号\n",
    "* 拼音音节、单词和句子规则表达模式\n",
    "* 注音文字\n",
    "* 注音音节规则表达模式\n",
    "* CC-CEDICT字符\n",
    "\n",
    "## 安装\n",
    "* pip install zhon"
   ]
  },
  {
   "cell_type": "code",
   "execution_count": 13,
   "metadata": {},
   "outputs": [
    {
     "name": "stdout",
     "output_type": "stream",
     "text": [
      "['我', '打', '破', '了', '一', '个', '盘', '子']\n",
      "['Yuàn', 'zi', 'lǐ', 'tíng', 'zhe', 'yí', 'liàng', 'chē']\n",
      "['Yuànzi', 'lǐ', 'tíngzhe', 'yí', 'liàng', 'chē']\n",
      "['我打破了一个盘子。']\n",
      "我打破了一个盘子I broke a plate\n"
     ]
    }
   ],
   "source": [
    "from zhon import hanzi, pinyin\n",
    "import re, string\n",
    "\n",
    "# 在字符串中查找CJK字符：\n",
    "print(re.findall('[%s]' % hanzi.characters, 'I broke a plate: 我打破了一个盘子.'))\n",
    "\n",
    "\n",
    "# 验证拼音音节、单词或句子：\n",
    "print(re.findall(pinyin.syllable, 'Yuànzi lǐ tíngzhe yí liàng chē.', re.I))\n",
    "\n",
    "print(re.findall(pinyin.word, 'Yuànzi lǐ tíngzhe yí liàng chē.', re.I))\n",
    "\n",
    "# 分句\n",
    "print(re.findall(hanzi.sentence, '我打破了一个盘子。I broke a plate.', re.I))\n",
    "\n",
    "# 去标点\n",
    "s = '我打破了一个盘子。I broke a plate.'\n",
    "s = re.sub(f'[{hanzi.punctuation}{string.punctuation}]', \"\", s)\n",
    "print(s)"
   ]
  },
  {
   "cell_type": "code",
   "execution_count": null,
   "metadata": {},
   "outputs": [],
   "source": []
  }
 ],
 "metadata": {
  "kernelspec": {
   "display_name": "Python 3.8.13 ('py38')",
   "language": "python",
   "name": "python3"
  },
  "language_info": {
   "codemirror_mode": {
    "name": "ipython",
    "version": 3
   },
   "file_extension": ".py",
   "mimetype": "text/x-python",
   "name": "python",
   "nbconvert_exporter": "python",
   "pygments_lexer": "ipython3",
   "version": "3.8.13"
  },
  "vscode": {
   "interpreter": {
    "hash": "67f4027c7030b010d964bcecab45732ca129fbf42fed140ec1ae6d06ef81ce73"
   }
  }
 },
 "nbformat": 4,
 "nbformat_minor": 4
}
