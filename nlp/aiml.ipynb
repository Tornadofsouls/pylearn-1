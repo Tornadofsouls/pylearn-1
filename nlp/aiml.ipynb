{
 "cells": [
  {
   "cell_type": "markdown",
   "metadata": {},
   "source": [
    "# aiml: \n",
    "\n",
    "* AIML stands for Artificial Intelligence Modelling Language.\n",
    "*  AIML is an XML based markup language meant to create artificial intelligent applications. AIML makes it possible to create human interfaces while keeping the implementation simple to program, easy to understand and highly maintainable. This tutorial will teach you the basics of AIML. All the basic components of AIML with suitable examples have been discussed in this tutorial.\n",
    "* https://www.tutorialspoint.com/aiml\n",
    "* AliceBot is a very famous rule-based chatbot created by aiml. \n",
    "* python implementation: https://github.com/paulovn/python-aiml\n",
    "* Facebook's ParlAI also use it: https://github.com/facebookresearch/ParlAI/tree/main/parlai/agents/alice\n",
    "\n",
    "## external resources\n",
    "\n",
    "* https://github.com/roltel/v3nu5\n"
   ]
  },
  {
   "cell_type": "markdown",
   "metadata": {},
   "source": []
  }
 ],
 "metadata": {
  "language_info": {
   "name": "python"
  },
  "orig_nbformat": 4
 },
 "nbformat": 4,
 "nbformat_minor": 2
}
