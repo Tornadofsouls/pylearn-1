{
 "cells": [
  {
   "cell_type": "code",
   "execution_count": 2,
   "metadata": {},
   "outputs": [
    {
     "name": "stderr",
     "output_type": "stream",
     "text": [
      "2022-11-14 22:58:44.234 | DEBUG    | pycorrector.detector:_initialize_detector:89 - Loaded language model: /home/jeffye/.pycorrector/datasets/zh_giga.no_cna_cmn.prune01244.klm\n"
     ]
    },
    {
     "name": "stdout",
     "output_type": "stream",
     "text": [
      "少先队员应该为老人让座 [('因该', '应该', 4, 6), ('坐', '座', 10, 11)]\n"
     ]
    }
   ],
   "source": [
    "import pycorrector\n",
    "\n",
    "corrected_sent, detail = pycorrector.correct('少先队员因该为老人让坐')\n",
    "print(corrected_sent, detail)"
   ]
  },
  {
   "cell_type": "code",
   "execution_count": 3,
   "metadata": {},
   "outputs": [
    {
     "name": "stdout",
     "output_type": "stream",
     "text": [
      "少先队员应该为老人让座 [('因该', '应该', 4, 6), ('坐', '座', 10, 11)]\n",
      "真麻烦你了。希望你们好好的跳无 => 真麻烦你了。希望你们好好的跳舞 [('无', '舞', 14, 15)]\n",
      "机七学习是人工智能领遇最能体现智能的一个分知 => 机器学习是人工智能领域最能体现智能的一个分知 [('机七', '机器', 0, 2), ('领遇', '领域', 9, 11)]\n",
      "一只小鱼船浮在平净的河面上 => 一只小鱼船浮在平静的河面上 [('平净', '平静', 7, 9)]\n",
      "我的家乡是有明的渔米之乡 => 我的家乡是有名的渔米之乡 [('有明', '有名', 5, 7)]\n",
      "这场比赛我甘败下风 => 这场比赛我甘拜下风 [('甘败下风', '甘拜下风', 5, 9)]\n",
      "这家伙还蛮格尽职守的 => 这家伙还蛮恪尽职守的 [('蛮格', '蛮恪', 4, 6), ('格尽职守', '恪尽职守', 5, 9)]\n",
      "报应接中迩来 => 报应接踵而来 [('接中迩来', '接踵而来', 2, 6)]\n"
     ]
    }
   ],
   "source": [
    "corrected_sent, detail = pycorrector.correct('少先队员因该为老人让坐')\n",
    "print(corrected_sent, detail)\n",
    "\n",
    "error_sentences = [\n",
    "    '真麻烦你了。希望你们好好的跳无',\n",
    "    '机七学习是人工智能领遇最能体现智能的一个分知',\n",
    "    '一只小鱼船浮在平净的河面上',\n",
    "    '我的家乡是有明的渔米之乡',\n",
    "    '这场比赛我甘败下风',\n",
    "    '这家伙还蛮格尽职守的',\n",
    "    '报应接中迩来',  # 接踵而来\n",
    "]\n",
    "for line in error_sentences:\n",
    "    correct_sent, err = pycorrector.correct(line)\n",
    "    print(\"{} => {} {}\".format(line, correct_sent, err))\n"
   ]
  },
  {
   "cell_type": "code",
   "execution_count": null,
   "metadata": {},
   "outputs": [],
   "source": []
  }
 ],
 "metadata": {
  "kernelspec": {
   "display_name": "Python 3.8.5 ('base')",
   "language": "python",
   "name": "python3"
  },
  "language_info": {
   "codemirror_mode": {
    "name": "ipython",
    "version": 3
   },
   "file_extension": ".py",
   "mimetype": "text/x-python",
   "name": "python",
   "nbconvert_exporter": "python",
   "pygments_lexer": "ipython3",
   "version": "3.8.5"
  },
  "orig_nbformat": 4,
  "vscode": {
   "interpreter": {
    "hash": "5d76abebb651b803d7523773c2538185af67bbe68e12b1f9d8b8e0e281792ff9"
   }
  }
 },
 "nbformat": 4,
 "nbformat_minor": 2
}
